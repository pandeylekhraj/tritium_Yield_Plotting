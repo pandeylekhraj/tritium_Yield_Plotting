{
 "cells": [
  {
   "cell_type": "code",
   "execution_count": 3,
   "id": "8c9ba256",
   "metadata": {},
   "outputs": [],
   "source": [
    "import sys\n",
    "sys.path.append('../python/')"
   ]
  },
  {
   "cell_type": "code",
   "execution_count": 9,
   "id": "3d04ba1b",
   "metadata": {},
   "outputs": [],
   "source": [
    "def binned_statistic_qt(x, y, v=None, statistic='density', edges=None):\n",
    "    '''\n",
    "    Computed statistics inlike scipy's binned_statistic_2d, but for QT's, and assuming np.nan-friendly stats\n",
    "    \n",
    "    Parameters\n",
    "    ----------\n",
    "    x, y : the 2 arrays of new data to compute the histogram from\n",
    "    v : array of values to compute statistic over. Needs to match \n",
    "        x and y\n",
    "    edges : x and y edges of the Quad Tree, expanded as\n",
    "        xmin,xmax,ymin,ymax = edges\n",
    "    statistic : string or callable, optional\n",
    "        The statistic to compute (default value is 'density')\n",
    "        \n",
    "        The following statistics are available:\n",
    "            * 'density' : compute the count of points within each bin, then\n",
    "                divide by the area of the bin in (x,y) space. This is useful\n",
    "                for making a histogram-like plot from the quad tree.\n",
    "            * 'mean' : compute the mean of values for points within each bin.\n",
    "                Empty bins will be represented by NaN. \n",
    "            * 'median' : compute the median of values for points within each\n",
    "                bin. Empty bins will be represented by NaN. \n",
    "            * 'count' : compute the count of points within each bin.  This is\n",
    "                identical to an unweighted histogram.  `v` array is not\n",
    "                referenced. \n",
    "            * 'sum' : compute the sum of values for points within each bin. \n",
    "            * 'std' : compute the standard deviation within each bin.\n",
    "                Empty bins will be represented by NaN.\n",
    "            * 'min' : compute the minimum of values for points within each bin.\n",
    "                Empty bins will be represented by NaN.\n",
    "            * 'max' : compute the maximum of values for point within each bin.\n",
    "                Empty bins will be represented by NaN.\n",
    "            * function : a user-defined function which takes a 1D array of\n",
    "                values, and outputs a single numerical statistic. This function\n",
    "                will be called on the values in each bin. \n",
    "\n",
    "    Returns\n",
    "    -------\n",
    "    statistic : computed statistic within each bin\n",
    "    '''\n",
    "    \n",
    "    #edges must be defined from QT... or we need to run QT to get them\n",
    "    xmin,xmax,ymin,ymax = edges\n",
    "    \n",
    "    # check that statistic is callable\n",
    "    known_stats = ['mean', 'median', 'count', 'sum', 'std', 'min', 'max', 'density']\n",
    "    if not callable(statistic) and statistic not in known_stats:\n",
    "        raise ValueError(f'invalid statistic {statistic!r}')\n",
    "   \n",
    "    result = np.zeros_like(xmin, dtype=np.float64)\n",
    "\n",
    "    if statistic == 'density':\n",
    "        for k in range(len(xmin)):\n",
    "            result[k] = np.sum((x >= xmin[k]) & (x < xmax[k]) & (y >= ymin[k]) & (y < ymax[k]))\n",
    "        result = result / ((ymax - ymin) * (xmax - xmin)) / result.sum()\n",
    "        \n",
    "    elif statistic == 'count':\n",
    "        for k in range(len(xmin)):\n",
    "            result[k] = np.sum((x >= xmin[k]) & (x < xmax[k]) & (y >= ymin[k]) & (y < ymax[k]))\n",
    "            \n",
    "    elif statistic == 'sum':\n",
    "        for k in range(len(xmin)):\n",
    "            b = (x >= xmin[k]) & (x < xmax[k]) & (y >= ymin[k]) & (y < ymax[k])\n",
    "            result[k] = np.nansum(v[b])\n",
    "            \n",
    "    elif statistic in {'mean', np.mean, np.nanmean}:\n",
    "        result.fill(np.nan)\n",
    "        for k in range(len(xmin)):\n",
    "            b = (x >= xmin[k]) & (x < xmax[k]) & (y >= ymin[k]) & (y < ymax[k])\n",
    "            result[k] = np.nanmean(v[b])\n",
    "            \n",
    "    elif statistic in {'median', np.median, np.nanmedian}:\n",
    "        result.fill(np.nan)\n",
    "        for k in range(len(xmin)):\n",
    "            b = (x >= xmin[k]) & (x < xmax[k]) & (y >= ymin[k]) & (y < ymax[k])\n",
    "            result[k] = np.nanmedian(v[b])\n",
    "    elif statistic in {'min', np.min, np.nanmin}:\n",
    "        result.fill(np.nan)\n",
    "        for k in range(len(xmin)):\n",
    "            b = (x >= xmin[k]) & (x < xmax[k]) & (y >= ymin[k]) & (y < ymax[k])\n",
    "            result[k] = np.nanmin(v[b])\n",
    "    elif statistic in {'max', np.max, np.nanmax}:\n",
    "        result.fill(np.nan)\n",
    "        for k in range(len(xmin)):\n",
    "            b = (x >= xmin[k]) & (x < xmax[k]) & (y >= ymin[k]) & (y < ymax[k])\n",
    "            result[k] = np.nanmax(v[b])\n",
    "    elif statistic in {'std', np.std, np.nanstd}:\n",
    "        result.fill(np.nan)\n",
    "        for k in range(len(xmin)):\n",
    "            b = (x >= xmin[k]) & (x < xmax[k]) & (y >= ymin[k]) & (y < ymax[k])\n",
    "            result[k] = np.nanstd(v[b])\n",
    "\n",
    "    # need to test callable statistic returns something that fits in result\n",
    "    elif callable(statistic):\n",
    "        for k in range(len(xmin)):\n",
    "            b = (x >= xmin[k]) & (x < xmax[k]) & (y >= ymin[k]) & (y < ymax[k])\n",
    "            result[k] = statistic(v[b])\n",
    "        \n",
    "    return result"
   ]
  },
  {
   "cell_type": "code",
   "execution_count": 16,
   "id": "5f0608ac",
   "metadata": {},
   "outputs": [
    {
     "ename": "TypeError",
     "evalue": "object of type 'numpy.float64' has no len()",
     "output_type": "error",
     "traceback": [
      "\u001b[1;31m---------------------------------------------------------------------------\u001b[0m",
      "\u001b[1;31mTypeError\u001b[0m                                 Traceback (most recent call last)",
      "Cell \u001b[1;32mIn[16], line 9\u001b[0m\n\u001b[0;32m      6\u001b[0m edges \u001b[38;5;241m=\u001b[39m [np\u001b[38;5;241m.\u001b[39mmin(x), np\u001b[38;5;241m.\u001b[39mmax(x), np\u001b[38;5;241m.\u001b[39mmin(y), np\u001b[38;5;241m.\u001b[39mmax(y)]\n\u001b[0;32m      8\u001b[0m \u001b[38;5;66;03m# Call the function with the defined edges\u001b[39;00m\n\u001b[1;32m----> 9\u001b[0m result \u001b[38;5;241m=\u001b[39m binned_statistic_qt(x, y, v\u001b[38;5;241m=\u001b[39m\u001b[38;5;28;01mNone\u001b[39;00m, statistic\u001b[38;5;241m=\u001b[39m\u001b[38;5;124m'\u001b[39m\u001b[38;5;124mcount\u001b[39m\u001b[38;5;124m'\u001b[39m, edges\u001b[38;5;241m=\u001b[39medges)\n",
      "Cell \u001b[1;32mIn[14], line 8\u001b[0m, in \u001b[0;36mbinned_statistic_qt\u001b[1;34m(x, y, v, statistic, edges)\u001b[0m\n\u001b[0;32m      5\u001b[0m \u001b[38;5;28;01mif\u001b[39;00m \u001b[38;5;129;01mnot\u001b[39;00m \u001b[38;5;28mcallable\u001b[39m(statistic) \u001b[38;5;129;01mand\u001b[39;00m statistic \u001b[38;5;129;01mnot\u001b[39;00m \u001b[38;5;129;01min\u001b[39;00m known_stats:\n\u001b[0;32m      6\u001b[0m     \u001b[38;5;28;01mraise\u001b[39;00m \u001b[38;5;167;01mValueError\u001b[39;00m(\u001b[38;5;124mf\u001b[39m\u001b[38;5;124m'\u001b[39m\u001b[38;5;124minvalid statistic \u001b[39m\u001b[38;5;132;01m{\u001b[39;00mstatistic\u001b[38;5;132;01m!r}\u001b[39;00m\u001b[38;5;124m'\u001b[39m)\n\u001b[1;32m----> 8\u001b[0m result \u001b[38;5;241m=\u001b[39m np\u001b[38;5;241m.\u001b[39mfull(\u001b[38;5;28mlen\u001b[39m(xmin), np\u001b[38;5;241m.\u001b[39mnan, dtype\u001b[38;5;241m=\u001b[39mnp\u001b[38;5;241m.\u001b[39mfloat64)  \u001b[38;5;66;03m# NaN-filled for unfilled bins\u001b[39;00m\n\u001b[0;32m     10\u001b[0m \u001b[38;5;66;03m# Calculate statistics based on type\u001b[39;00m\n\u001b[0;32m     11\u001b[0m \u001b[38;5;28;01mif\u001b[39;00m statistic \u001b[38;5;241m==\u001b[39m \u001b[38;5;124m'\u001b[39m\u001b[38;5;124mdensity\u001b[39m\u001b[38;5;124m'\u001b[39m:\n",
      "\u001b[1;31mTypeError\u001b[0m: object of type 'numpy.float64' has no len()"
     ]
    }
   ],
   "source": [
    "np.random.seed(42)\n",
    "x = np.random.normal(loc=25, scale=5, size=1000)\n",
    "np.random.seed(39)\n",
    "y = np.random.normal(loc=30, scale=5, size=1000)\n",
    "# Define sample edge values for testing\n",
    "edges = [np.min(x), np.max(x), np.min(y), np.max(y)]\n",
    "\n",
    "# Call the function with the defined edges\n",
    "result = binned_statistic_qt(x, y, v=None, statistic='count', edges=edges)"
   ]
  },
  {
   "cell_type": "code",
   "execution_count": 14,
   "id": "346b0323",
   "metadata": {},
   "outputs": [],
   "source": [
    "def binned_statistic_qt(x, y, v=None, statistic='density', edges=None):\n",
    "    xmin, xmax, ymin, ymax = edges\n",
    "    known_stats = ['mean', 'median', 'count', 'sum', 'std', 'min', 'max', 'density']\n",
    "    \n",
    "    if not callable(statistic) and statistic not in known_stats:\n",
    "        raise ValueError(f'invalid statistic {statistic!r}')\n",
    "   \n",
    "    result = np.full(len(xmin), np.nan, dtype=np.float64)  # NaN-filled for unfilled bins\n",
    "\n",
    "    # Calculate statistics based on type\n",
    "    if statistic == 'density':\n",
    "        for k in range(len(xmin)):\n",
    "            result[k] = np.sum((x >= xmin[k]) & (x < xmax[k]) & (y >= ymin[k]) & (y < ymax[k]))\n",
    "        result = result / ((ymax - ymin) * (xmax - xmin)) / result.sum()\n",
    "        \n",
    "    elif statistic == 'count':\n",
    "        for k in range(len(xmin)):\n",
    "            result[k] = np.sum((x >= xmin[k]) & (x < xmax[k]) & (y >= ymin[k]) & (y < ymax[k]))\n",
    "            \n",
    "    elif statistic == 'sum':\n",
    "        for k in range(len(xmin)):\n",
    "            b = (x >= xmin[k]) & (x < xmax[k]) & (y >= ymin[k]) & (y < ymax[k])\n",
    "            result[k] = np.nansum(v[b])\n",
    "            \n",
    "    elif statistic in {'mean', np.mean, np.nanmean}:\n",
    "        for k in range(len(xmin)):\n",
    "            b = (x >= xmin[k]) & (x < xmax[k]) & (y >= ymin[k]) & (y < ymax[k])\n",
    "            result[k] = np.nanmean(v[b])\n",
    "            \n",
    "    elif statistic in {'median', np.median, np.nanmedian}:\n",
    "        for k in range(len(xmin)):\n",
    "            b = (x >= xmin[k]) & (x < xmax[k]) & (y >= ymin[k]) & (y < ymax[k])\n",
    "            result[k] = np.nanmedian(v[b])\n",
    "\n",
    "    elif statistic in {'min', np.min, np.nanmin}:\n",
    "        for k in range(len(xmin)):\n",
    "            b = (x >= xmin[k]) & (x < xmax[k]) & (y >= ymin[k]) & (y < ymax[k])\n",
    "            result[k] = np.nanmin(v[b])\n",
    "\n",
    "    elif statistic in {'max', np.max, np.nanmax}:\n",
    "        for k in range(len(xmin)):\n",
    "            b = (x >= xmin[k]) & (x < xmax[k]) & (y >= ymin[k]) & (y < ymax[k])\n",
    "            result[k] = np.nanmax(v[b])\n",
    "\n",
    "    elif statistic in {'std', np.std, np.nanstd}:\n",
    "        for k in range(len(xmin)):\n",
    "            b = (x >= xmin[k]) & (x < xmax[k]) & (y >= ymin[k]) & (y < ymax[k])\n",
    "            result[k] = np.nanstd(v[b])\n",
    "\n",
    "    elif callable(statistic):\n",
    "        for k in range(len(xmin)):\n",
    "            b = (x >= xmin[k]) & (x < xmax[k]) & (y >= ymin[k]) & (y < ymax[k])\n",
    "            result[k] = statistic(v[b])\n",
    "\n",
    "    # Filter to keep only min and max counts\n",
    "    min_val, max_val = np.nanmin(result), np.nanmax(result)\n",
    "    filtered_result = np.array([r if (r == min_val or r == max_val) else np.nan for r in result])\n",
    "\n",
    "    return filtered_result\n"
   ]
  },
  {
   "cell_type": "code",
   "execution_count": 19,
   "id": "c3ac8ada",
   "metadata": {},
   "outputs": [
    {
     "name": "stdout",
     "output_type": "stream",
     "text": [
      "Counts: [ 2.  4.  7. 23. 11. 12. 18. 25. 11. 23.  8.  7.  5. 11.  8. 14. 17.  7.\n",
      " 11.  5.  9. 28.  4.  4. 29.  7. 10. 10.  8. 25. 14. 19. 20. 21. 20. 11.\n",
      " 19.  9.  6. 26.  4. 19. 14. 19. 22. 17. 12. 27.  2.  9. 25. 25.  9. 11.\n",
      " 30. 16. 24. 29. 19.  7. 24.  2. 27. 22. 10.  9. 26.  4.  7.  1.]\n",
      "X min edges: [ 3.01547523  3.01547523  6.00073218  6.00073218  3.01547523  3.01547523\n",
      "  6.00073218  6.00073218  8.98598914  8.98598914 11.97124609 11.97124609\n",
      " 11.97124609 13.46387456 13.46387456  8.98598914  8.98598914 11.97124609\n",
      " 11.97124609 13.46387456 13.46387456 11.97124609  3.01547523  3.01547523\n",
      "  6.00073218  6.00073218  6.00073218  7.49336066  7.49336066  3.01547523\n",
      "  8.98598914  8.98598914 11.97124609 11.97124609  8.98598914  8.98598914\n",
      " 11.97124609 11.97124609 14.95650304 14.95650304 17.94175999 17.94175999\n",
      " 14.95650304 14.95650304 17.94175999 17.94175999 20.92701694 20.92701694\n",
      " 23.91227389 23.91227389 20.92701694 20.92701694 23.91227389 23.91227389\n",
      " 14.95650304 14.95650304 17.94175999 17.94175999 14.95650304 14.95650304\n",
      " 17.94175999 17.94175999 20.92701694 20.92701694 23.91227389 23.91227389\n",
      " 20.92701694 20.92701694 23.91227389 23.91227389]\n",
      "X max edges: [ 6.00073218  6.00073218  8.98598914  8.98598914  6.00073218  6.00073218\n",
      "  8.98598914  8.98598914 11.97124609 11.97124609 14.95650304 13.46387456\n",
      " 13.46387456 14.95650304 14.95650304 11.97124609 11.97124609 13.46387456\n",
      " 13.46387456 14.95650304 14.95650304 14.95650304  6.00073218  6.00073218\n",
      "  8.98598914  7.49336066  7.49336066  8.98598914  8.98598914  8.98598914\n",
      " 11.97124609 11.97124609 14.95650304 14.95650304 11.97124609 11.97124609\n",
      " 14.95650304 14.95650304 17.94175999 17.94175999 20.92701694 20.92701694\n",
      " 17.94175999 17.94175999 20.92701694 20.92701694 23.91227389 23.91227389\n",
      " 26.89753084 26.89753084 23.91227389 23.91227389 26.89753084 26.89753084\n",
      " 17.94175999 17.94175999 20.92701694 20.92701694 17.94175999 17.94175999\n",
      " 20.92701694 20.92701694 23.91227389 23.91227389 26.89753084 26.89753084\n",
      " 23.91227389 23.91227389 26.89753084 26.89753084]\n",
      "Y min edges: [ 3.00363563  6.00174692  3.00363563  6.00174692  8.99985822 11.99796952\n",
      "  8.99985822 11.99796952  3.00363563  6.00174692  3.00363563  6.00174692\n",
      "  7.50080257  6.00174692  7.50080257  8.99985822 11.99796952  8.99985822\n",
      " 10.49891387  8.99985822 10.49891387 11.99796952 14.99608081 17.99419211\n",
      " 14.99608081 17.99419211 19.49324776 17.99419211 19.49324776 20.99230341\n",
      " 14.99608081 17.99419211 14.99608081 17.99419211 20.99230341 23.9904147\n",
      " 20.99230341 23.9904147   3.00363563  6.00174692  3.00363563  6.00174692\n",
      "  8.99985822 11.99796952  8.99985822 11.99796952  3.00363563  6.00174692\n",
      "  3.00363563  6.00174692  8.99985822 11.99796952  8.99985822 11.99796952\n",
      " 14.99608081 17.99419211 14.99608081 17.99419211 20.99230341 23.9904147\n",
      " 20.99230341 23.9904147  14.99608081 17.99419211 14.99608081 17.99419211\n",
      " 20.99230341 23.9904147  20.99230341 23.9904147 ]\n",
      "Y max edges: [ 6.00174692  8.99985822  6.00174692  8.99985822 11.99796952 14.99608081\n",
      " 11.99796952 14.99608081  6.00174692  8.99985822  6.00174692  7.50080257\n",
      "  8.99985822  7.50080257  8.99985822 11.99796952 14.99608081 10.49891387\n",
      " 11.99796952 10.49891387 11.99796952 14.99608081 17.99419211 20.99230341\n",
      " 17.99419211 19.49324776 20.99230341 19.49324776 20.99230341 26.988526\n",
      " 17.99419211 20.99230341 17.99419211 20.99230341 23.9904147  26.988526\n",
      " 23.9904147  26.988526    6.00174692  8.99985822  6.00174692  8.99985822\n",
      " 11.99796952 14.99608081 11.99796952 14.99608081  6.00174692  8.99985822\n",
      "  6.00174692  8.99985822 11.99796952 14.99608081 11.99796952 14.99608081\n",
      " 17.99419211 20.99230341 17.99419211 20.99230341 23.9904147  26.988526\n",
      " 23.9904147  26.988526   17.99419211 20.99230341 17.99419211 20.99230341\n",
      " 23.9904147  26.988526   23.9904147  26.988526  ]\n"
     ]
    }
   ],
   "source": [
    "import numpy as np\n",
    "\n",
    "def adaptive_qthist(x, y, N=5, min_count=1, max_count=50, density=False):\n",
    "    '''\n",
    "    Adaptive QuadTree histogram with dynamic binning control based on minimum and\n",
    "    maximum count constraints.\n",
    "\n",
    "    Parameters\n",
    "    ----------\n",
    "    x, y : arrays\n",
    "        Input data arrays.\n",
    "    N : int, optional, default = 5\n",
    "        The number of maximum divisions (levels) to compute the QuadTree.\n",
    "    min_count : int, optional, default = 1\n",
    "        Minimum threshold for counts within a bin.\n",
    "    max_count : int, optional, default = 50\n",
    "        Maximum threshold for counts within a bin.\n",
    "    density : bool, optional, default = True\n",
    "        If True, returns counts per area; otherwise, returns raw counts.\n",
    "\n",
    "    Returns\n",
    "    -------\n",
    "    num, xmin, xmax, ymin, ymax : arrays\n",
    "        Array of counts/densities and bin edges.\n",
    "    '''\n",
    "\n",
    "    num = []\n",
    "    xmin = []\n",
    "    xmax = []\n",
    "    ymin = []\n",
    "    ymax = []\n",
    "\n",
    "    # Define the initial region with a small buffer.\n",
    "    x_range = [np.nanmin(x), np.nanmax(x)]\n",
    "    y_range = [np.nanmin(y), np.nanmax(y)]\n",
    "    buffer_x = (x_range[1] - x_range[0]) * 0.1\n",
    "    buffer_y = (y_range[1] - y_range[0]) * 0.1\n",
    "    x_range = [x_range[0] - buffer_x, x_range[1] + buffer_x]\n",
    "    y_range = [y_range[0] - buffer_y, y_range[1] + buffer_y]\n",
    "\n",
    "    def divide_and_count(x_range, y_range, level=1):\n",
    "        ''' Recursive function to divide regions and count points '''\n",
    "        if level > N:\n",
    "            return\n",
    "\n",
    "        # Create 2x2 bins for the current region\n",
    "        bins_x = np.linspace(x_range[0], x_range[1], 3)\n",
    "        bins_y = np.linspace(y_range[0], y_range[1], 3)\n",
    "        H, xedges, yedges = np.histogram2d(x, y, bins=[bins_x, bins_y])\n",
    "\n",
    "        for i in range(2):\n",
    "            for j in range(2):\n",
    "                count = H[i, j]\n",
    "                x_min, x_max = xedges[i], xedges[i + 1]\n",
    "                y_min, y_max = yedges[j], yedges[j + 1]\n",
    "\n",
    "                # Check if bin count is within the threshold\n",
    "                if count >= min_count and count <= max_count:\n",
    "                    # If within the threshold, add to the results\n",
    "                    num.append(count)\n",
    "                    xmin.append(x_min)\n",
    "                    xmax.append(x_max)\n",
    "                    ymin.append(y_min)\n",
    "                    ymax.append(y_max)\n",
    "                elif count > max_count:\n",
    "                    # If count exceeds max_count, subdivide further\n",
    "                    divide_and_count([x_min, x_max], [y_min, y_max], level + 1)\n",
    "                else:\n",
    "                    # If count is below min_count, keep as zero or small bin\n",
    "                    num.append(count)\n",
    "                    xmin.append(x_min)\n",
    "                    xmax.append(x_max)\n",
    "                    ymin.append(y_min)\n",
    "                    ymax.append(y_max)\n",
    "\n",
    "    # Start the adaptive QuadTree division\n",
    "    divide_and_count(x_range, y_range)\n",
    "\n",
    "    # Convert lists to numpy arrays\n",
    "    num = np.array(num)\n",
    "    xmin = np.array(xmin)\n",
    "    xmax = np.array(xmax)\n",
    "    ymin = np.array(ymin)\n",
    "    ymax = np.array(ymax)\n",
    "\n",
    "#     if density:\n",
    "#         bin_areas = (xmax - xmin) * (ymax - ymin)\n",
    "#         num = num / bin_areas / num.sum()\n",
    "\n",
    "    return num, xmin, xmax, ymin, ymax\n",
    "\n",
    "# Example usage\n",
    "np.random.seed(42)\n",
    "x = np.random.uniform(25, 5, 1000)\n",
    "np.random.seed(39)\n",
    "y = np.random.uniform(25, 5, 1000)\n",
    "num, xmin, xmax, ymin, ymax = adaptive_qthist(x, y, N=5, min_count=2, max_count=30, density=True)\n",
    "\n",
    "# Print example output\n",
    "print(\"Counts:\", num)\n",
    "print(\"X min edges:\", xmin)\n",
    "print(\"X max edges:\", xmax)\n",
    "print(\"Y min edges:\", ymin)\n",
    "print(\"Y max edges:\", ymax)\n"
   ]
  },
  {
   "cell_type": "code",
   "execution_count": 21,
   "id": "ea3cefcc",
   "metadata": {},
   "outputs": [
    {
     "data": {
      "application/vnd.plotly.v1+json": {
       "config": {
        "plotlyServerURL": "https://plot.ly"
       },
       "data": [
        {
         "colorbar": {
          "title": {
           "text": "Bin Counts"
          }
         },
         "colorscale": [
          [
           0,
           "yellow"
          ],
          [
           0.25,
           "blue"
          ],
          [
           0.5,
           "white"
          ],
          [
           1,
           "red"
          ]
         ],
         "showscale": true,
         "type": "heatmap",
         "x": [
          8.793663299654636,
          10.567163007335584,
          12.340662715016533,
          14.114162422697481,
          15.88766213037843,
          17.66116183805938,
          19.434661545740326,
          21.208161253421274,
          22.98166096110222,
          24.75516066878317,
          26.52866037646412,
          28.30216008414507,
          30.075659791826016,
          31.849159499506964,
          33.622659207187915,
          35.39615891486886,
          37.16965862254981,
          38.94315833023076,
          40.71665803791171,
          42.490157745592654,
          44.26365745327361
         ],
         "y": [
          9.726833005975958,
          11.321340832335672,
          12.915848658695385,
          14.510356485055098,
          16.10486431141481,
          17.699372137774525,
          19.29387996413424,
          20.88838779049395,
          22.482895616853668,
          24.077403443213377,
          25.671911269573094,
          27.266419095932807,
          28.86092692229252,
          30.455434748652234,
          32.04994257501195,
          33.64445040137166,
          35.23895822773137,
          36.83346605409109,
          38.4279738804508,
          40.02248170681051,
          41.616989533170226
         ],
         "z": [
          [
           0,
           0,
           0,
           0,
           0,
           0,
           0,
           0,
           0,
           0,
           0,
           1,
           0,
           0,
           0,
           0,
           0,
           0,
           0,
           0
          ],
          [
           0,
           0,
           0,
           0,
           0,
           0,
           0,
           0,
           0,
           0,
           0,
           2,
           0,
           0,
           0,
           0,
           1,
           0,
           0,
           0
          ],
          [
           0,
           0,
           0,
           0,
           0,
           0,
           0,
           2,
           1,
           2,
           0,
           0,
           0,
           0,
           0,
           0,
           0,
           0,
           0,
           0
          ],
          [
           0,
           0,
           0,
           0,
           0,
           1,
           2,
           1,
           2,
           3,
           3,
           2,
           1,
           1,
           0,
           1,
           0,
           0,
           0,
           0
          ],
          [
           0,
           0,
           0,
           0,
           2,
           1,
           1,
           5,
           2,
           7,
           3,
           8,
           4,
           1,
           0,
           0,
           0,
           0,
           0,
           0
          ],
          [
           0,
           1,
           1,
           0,
           3,
           7,
           8,
           7,
           7,
           8,
           1,
           5,
           8,
           3,
           1,
           1,
           1,
           0,
           0,
           0
          ],
          [
           0,
           0,
           2,
           4,
           4,
           8,
           8,
           9,
           13,
           11,
           10,
           8,
           7,
           5,
           2,
           1,
           1,
           0,
           1,
           0
          ],
          [
           0,
           0,
           1,
           2,
           3,
           6,
           14,
           14,
           11,
           20,
           11,
           19,
           13,
           11,
           2,
           4,
           2,
           0,
           0,
           1
          ],
          [
           0,
           1,
           2,
           1,
           2,
           6,
           12,
           11,
           8,
           13,
           20,
           8,
           16,
           8,
           4,
           2,
           2,
           2,
           0,
           0
          ],
          [
           1,
           1,
           5,
           6,
           4,
           15,
           8,
           15,
           14,
           19,
           13,
           13,
           12,
           15,
           8,
           3,
           2,
           0,
           0,
           0
          ],
          [
           0,
           1,
           0,
           4,
           3,
           10,
           13,
           10,
           15,
           17,
           16,
           12,
           11,
           7,
           8,
           5,
           1,
           0,
           1,
           0
          ],
          [
           0,
           2,
           0,
           1,
           3,
           4,
           5,
           12,
           11,
           15,
           8,
           15,
           7,
           4,
           1,
           1,
           1,
           1,
           1,
           0
          ],
          [
           1,
           0,
           0,
           0,
           0,
           3,
           3,
           11,
           4,
           13,
           6,
           4,
           4,
           4,
           3,
           1,
           1,
           2,
           0,
           0
          ],
          [
           0,
           0,
           0,
           2,
           2,
           5,
           2,
           3,
           7,
           7,
           6,
           2,
           2,
           2,
           2,
           1,
           1,
           0,
           0,
           0
          ],
          [
           0,
           1,
           1,
           0,
           1,
           0,
           2,
           5,
           3,
           2,
           4,
           4,
           2,
           0,
           1,
           1,
           0,
           0,
           0,
           0
          ],
          [
           0,
           1,
           1,
           0,
           1,
           0,
           2,
           0,
           0,
           1,
           3,
           0,
           1,
           0,
           1,
           0,
           0,
           0,
           0,
           0
          ],
          [
           0,
           0,
           0,
           0,
           0,
           1,
           0,
           3,
           0,
           1,
           0,
           0,
           2,
           0,
           0,
           0,
           0,
           1,
           0,
           0
          ],
          [
           0,
           0,
           0,
           0,
           0,
           0,
           1,
           0,
           0,
           0,
           0,
           0,
           0,
           0,
           0,
           0,
           0,
           0,
           0,
           0
          ],
          [
           0,
           0,
           0,
           0,
           0,
           0,
           0,
           0,
           0,
           0,
           0,
           0,
           0,
           0,
           0,
           0,
           0,
           0,
           0,
           0
          ],
          [
           0,
           0,
           0,
           0,
           0,
           0,
           0,
           0,
           0,
           1,
           0,
           0,
           0,
           0,
           0,
           0,
           0,
           0,
           0,
           0
          ]
         ]
        }
       ],
       "layout": {
        "template": {
         "data": {
          "bar": [
           {
            "error_x": {
             "color": "#2a3f5f"
            },
            "error_y": {
             "color": "#2a3f5f"
            },
            "marker": {
             "line": {
              "color": "#E5ECF6",
              "width": 0.5
             },
             "pattern": {
              "fillmode": "overlay",
              "size": 10,
              "solidity": 0.2
             }
            },
            "type": "bar"
           }
          ],
          "barpolar": [
           {
            "marker": {
             "line": {
              "color": "#E5ECF6",
              "width": 0.5
             },
             "pattern": {
              "fillmode": "overlay",
              "size": 10,
              "solidity": 0.2
             }
            },
            "type": "barpolar"
           }
          ],
          "carpet": [
           {
            "aaxis": {
             "endlinecolor": "#2a3f5f",
             "gridcolor": "white",
             "linecolor": "white",
             "minorgridcolor": "white",
             "startlinecolor": "#2a3f5f"
            },
            "baxis": {
             "endlinecolor": "#2a3f5f",
             "gridcolor": "white",
             "linecolor": "white",
             "minorgridcolor": "white",
             "startlinecolor": "#2a3f5f"
            },
            "type": "carpet"
           }
          ],
          "choropleth": [
           {
            "colorbar": {
             "outlinewidth": 0,
             "ticks": ""
            },
            "type": "choropleth"
           }
          ],
          "contour": [
           {
            "colorbar": {
             "outlinewidth": 0,
             "ticks": ""
            },
            "colorscale": [
             [
              0,
              "#0d0887"
             ],
             [
              0.1111111111111111,
              "#46039f"
             ],
             [
              0.2222222222222222,
              "#7201a8"
             ],
             [
              0.3333333333333333,
              "#9c179e"
             ],
             [
              0.4444444444444444,
              "#bd3786"
             ],
             [
              0.5555555555555556,
              "#d8576b"
             ],
             [
              0.6666666666666666,
              "#ed7953"
             ],
             [
              0.7777777777777778,
              "#fb9f3a"
             ],
             [
              0.8888888888888888,
              "#fdca26"
             ],
             [
              1,
              "#f0f921"
             ]
            ],
            "type": "contour"
           }
          ],
          "contourcarpet": [
           {
            "colorbar": {
             "outlinewidth": 0,
             "ticks": ""
            },
            "type": "contourcarpet"
           }
          ],
          "heatmap": [
           {
            "colorbar": {
             "outlinewidth": 0,
             "ticks": ""
            },
            "colorscale": [
             [
              0,
              "#0d0887"
             ],
             [
              0.1111111111111111,
              "#46039f"
             ],
             [
              0.2222222222222222,
              "#7201a8"
             ],
             [
              0.3333333333333333,
              "#9c179e"
             ],
             [
              0.4444444444444444,
              "#bd3786"
             ],
             [
              0.5555555555555556,
              "#d8576b"
             ],
             [
              0.6666666666666666,
              "#ed7953"
             ],
             [
              0.7777777777777778,
              "#fb9f3a"
             ],
             [
              0.8888888888888888,
              "#fdca26"
             ],
             [
              1,
              "#f0f921"
             ]
            ],
            "type": "heatmap"
           }
          ],
          "heatmapgl": [
           {
            "colorbar": {
             "outlinewidth": 0,
             "ticks": ""
            },
            "colorscale": [
             [
              0,
              "#0d0887"
             ],
             [
              0.1111111111111111,
              "#46039f"
             ],
             [
              0.2222222222222222,
              "#7201a8"
             ],
             [
              0.3333333333333333,
              "#9c179e"
             ],
             [
              0.4444444444444444,
              "#bd3786"
             ],
             [
              0.5555555555555556,
              "#d8576b"
             ],
             [
              0.6666666666666666,
              "#ed7953"
             ],
             [
              0.7777777777777778,
              "#fb9f3a"
             ],
             [
              0.8888888888888888,
              "#fdca26"
             ],
             [
              1,
              "#f0f921"
             ]
            ],
            "type": "heatmapgl"
           }
          ],
          "histogram": [
           {
            "marker": {
             "pattern": {
              "fillmode": "overlay",
              "size": 10,
              "solidity": 0.2
             }
            },
            "type": "histogram"
           }
          ],
          "histogram2d": [
           {
            "colorbar": {
             "outlinewidth": 0,
             "ticks": ""
            },
            "colorscale": [
             [
              0,
              "#0d0887"
             ],
             [
              0.1111111111111111,
              "#46039f"
             ],
             [
              0.2222222222222222,
              "#7201a8"
             ],
             [
              0.3333333333333333,
              "#9c179e"
             ],
             [
              0.4444444444444444,
              "#bd3786"
             ],
             [
              0.5555555555555556,
              "#d8576b"
             ],
             [
              0.6666666666666666,
              "#ed7953"
             ],
             [
              0.7777777777777778,
              "#fb9f3a"
             ],
             [
              0.8888888888888888,
              "#fdca26"
             ],
             [
              1,
              "#f0f921"
             ]
            ],
            "type": "histogram2d"
           }
          ],
          "histogram2dcontour": [
           {
            "colorbar": {
             "outlinewidth": 0,
             "ticks": ""
            },
            "colorscale": [
             [
              0,
              "#0d0887"
             ],
             [
              0.1111111111111111,
              "#46039f"
             ],
             [
              0.2222222222222222,
              "#7201a8"
             ],
             [
              0.3333333333333333,
              "#9c179e"
             ],
             [
              0.4444444444444444,
              "#bd3786"
             ],
             [
              0.5555555555555556,
              "#d8576b"
             ],
             [
              0.6666666666666666,
              "#ed7953"
             ],
             [
              0.7777777777777778,
              "#fb9f3a"
             ],
             [
              0.8888888888888888,
              "#fdca26"
             ],
             [
              1,
              "#f0f921"
             ]
            ],
            "type": "histogram2dcontour"
           }
          ],
          "mesh3d": [
           {
            "colorbar": {
             "outlinewidth": 0,
             "ticks": ""
            },
            "type": "mesh3d"
           }
          ],
          "parcoords": [
           {
            "line": {
             "colorbar": {
              "outlinewidth": 0,
              "ticks": ""
             }
            },
            "type": "parcoords"
           }
          ],
          "pie": [
           {
            "automargin": true,
            "type": "pie"
           }
          ],
          "scatter": [
           {
            "fillpattern": {
             "fillmode": "overlay",
             "size": 10,
             "solidity": 0.2
            },
            "type": "scatter"
           }
          ],
          "scatter3d": [
           {
            "line": {
             "colorbar": {
              "outlinewidth": 0,
              "ticks": ""
             }
            },
            "marker": {
             "colorbar": {
              "outlinewidth": 0,
              "ticks": ""
             }
            },
            "type": "scatter3d"
           }
          ],
          "scattercarpet": [
           {
            "marker": {
             "colorbar": {
              "outlinewidth": 0,
              "ticks": ""
             }
            },
            "type": "scattercarpet"
           }
          ],
          "scattergeo": [
           {
            "marker": {
             "colorbar": {
              "outlinewidth": 0,
              "ticks": ""
             }
            },
            "type": "scattergeo"
           }
          ],
          "scattergl": [
           {
            "marker": {
             "colorbar": {
              "outlinewidth": 0,
              "ticks": ""
             }
            },
            "type": "scattergl"
           }
          ],
          "scattermapbox": [
           {
            "marker": {
             "colorbar": {
              "outlinewidth": 0,
              "ticks": ""
             }
            },
            "type": "scattermapbox"
           }
          ],
          "scatterpolar": [
           {
            "marker": {
             "colorbar": {
              "outlinewidth": 0,
              "ticks": ""
             }
            },
            "type": "scatterpolar"
           }
          ],
          "scatterpolargl": [
           {
            "marker": {
             "colorbar": {
              "outlinewidth": 0,
              "ticks": ""
             }
            },
            "type": "scatterpolargl"
           }
          ],
          "scatterternary": [
           {
            "marker": {
             "colorbar": {
              "outlinewidth": 0,
              "ticks": ""
             }
            },
            "type": "scatterternary"
           }
          ],
          "surface": [
           {
            "colorbar": {
             "outlinewidth": 0,
             "ticks": ""
            },
            "colorscale": [
             [
              0,
              "#0d0887"
             ],
             [
              0.1111111111111111,
              "#46039f"
             ],
             [
              0.2222222222222222,
              "#7201a8"
             ],
             [
              0.3333333333333333,
              "#9c179e"
             ],
             [
              0.4444444444444444,
              "#bd3786"
             ],
             [
              0.5555555555555556,
              "#d8576b"
             ],
             [
              0.6666666666666666,
              "#ed7953"
             ],
             [
              0.7777777777777778,
              "#fb9f3a"
             ],
             [
              0.8888888888888888,
              "#fdca26"
             ],
             [
              1,
              "#f0f921"
             ]
            ],
            "type": "surface"
           }
          ],
          "table": [
           {
            "cells": {
             "fill": {
              "color": "#EBF0F8"
             },
             "line": {
              "color": "white"
             }
            },
            "header": {
             "fill": {
              "color": "#C8D4E3"
             },
             "line": {
              "color": "white"
             }
            },
            "type": "table"
           }
          ]
         },
         "layout": {
          "annotationdefaults": {
           "arrowcolor": "#2a3f5f",
           "arrowhead": 0,
           "arrowwidth": 1
          },
          "autotypenumbers": "strict",
          "coloraxis": {
           "colorbar": {
            "outlinewidth": 0,
            "ticks": ""
           }
          },
          "colorscale": {
           "diverging": [
            [
             0,
             "#8e0152"
            ],
            [
             0.1,
             "#c51b7d"
            ],
            [
             0.2,
             "#de77ae"
            ],
            [
             0.3,
             "#f1b6da"
            ],
            [
             0.4,
             "#fde0ef"
            ],
            [
             0.5,
             "#f7f7f7"
            ],
            [
             0.6,
             "#e6f5d0"
            ],
            [
             0.7,
             "#b8e186"
            ],
            [
             0.8,
             "#7fbc41"
            ],
            [
             0.9,
             "#4d9221"
            ],
            [
             1,
             "#276419"
            ]
           ],
           "sequential": [
            [
             0,
             "#0d0887"
            ],
            [
             0.1111111111111111,
             "#46039f"
            ],
            [
             0.2222222222222222,
             "#7201a8"
            ],
            [
             0.3333333333333333,
             "#9c179e"
            ],
            [
             0.4444444444444444,
             "#bd3786"
            ],
            [
             0.5555555555555556,
             "#d8576b"
            ],
            [
             0.6666666666666666,
             "#ed7953"
            ],
            [
             0.7777777777777778,
             "#fb9f3a"
            ],
            [
             0.8888888888888888,
             "#fdca26"
            ],
            [
             1,
             "#f0f921"
            ]
           ],
           "sequentialminus": [
            [
             0,
             "#0d0887"
            ],
            [
             0.1111111111111111,
             "#46039f"
            ],
            [
             0.2222222222222222,
             "#7201a8"
            ],
            [
             0.3333333333333333,
             "#9c179e"
            ],
            [
             0.4444444444444444,
             "#bd3786"
            ],
            [
             0.5555555555555556,
             "#d8576b"
            ],
            [
             0.6666666666666666,
             "#ed7953"
            ],
            [
             0.7777777777777778,
             "#fb9f3a"
            ],
            [
             0.8888888888888888,
             "#fdca26"
            ],
            [
             1,
             "#f0f921"
            ]
           ]
          },
          "colorway": [
           "#636efa",
           "#EF553B",
           "#00cc96",
           "#ab63fa",
           "#FFA15A",
           "#19d3f3",
           "#FF6692",
           "#B6E880",
           "#FF97FF",
           "#FECB52"
          ],
          "font": {
           "color": "#2a3f5f"
          },
          "geo": {
           "bgcolor": "white",
           "lakecolor": "white",
           "landcolor": "#E5ECF6",
           "showlakes": true,
           "showland": true,
           "subunitcolor": "white"
          },
          "hoverlabel": {
           "align": "left"
          },
          "hovermode": "closest",
          "mapbox": {
           "style": "light"
          },
          "paper_bgcolor": "white",
          "plot_bgcolor": "#E5ECF6",
          "polar": {
           "angularaxis": {
            "gridcolor": "white",
            "linecolor": "white",
            "ticks": ""
           },
           "bgcolor": "#E5ECF6",
           "radialaxis": {
            "gridcolor": "white",
            "linecolor": "white",
            "ticks": ""
           }
          },
          "scene": {
           "xaxis": {
            "backgroundcolor": "#E5ECF6",
            "gridcolor": "white",
            "gridwidth": 2,
            "linecolor": "white",
            "showbackground": true,
            "ticks": "",
            "zerolinecolor": "white"
           },
           "yaxis": {
            "backgroundcolor": "#E5ECF6",
            "gridcolor": "white",
            "gridwidth": 2,
            "linecolor": "white",
            "showbackground": true,
            "ticks": "",
            "zerolinecolor": "white"
           },
           "zaxis": {
            "backgroundcolor": "#E5ECF6",
            "gridcolor": "white",
            "gridwidth": 2,
            "linecolor": "white",
            "showbackground": true,
            "ticks": "",
            "zerolinecolor": "white"
           }
          },
          "shapedefaults": {
           "line": {
            "color": "#2a3f5f"
           }
          },
          "ternary": {
           "aaxis": {
            "gridcolor": "white",
            "linecolor": "white",
            "ticks": ""
           },
           "baxis": {
            "gridcolor": "white",
            "linecolor": "white",
            "ticks": ""
           },
           "bgcolor": "#E5ECF6",
           "caxis": {
            "gridcolor": "white",
            "linecolor": "white",
            "ticks": ""
           }
          },
          "title": {
           "x": 0.05
          },
          "xaxis": {
           "automargin": true,
           "gridcolor": "white",
           "linecolor": "white",
           "ticks": "",
           "title": {
            "standoff": 15
           },
           "zerolinecolor": "white",
           "zerolinewidth": 2
          },
          "yaxis": {
           "automargin": true,
           "gridcolor": "white",
           "linecolor": "white",
           "ticks": "",
           "title": {
            "standoff": 15
           },
           "zerolinecolor": "white",
           "zerolinewidth": 2
          }
         }
        },
        "title": {
         "text": "Binned Data with Custom Color Coding"
        },
        "xaxis": {
         "title": {
          "text": "X-axis"
         }
        },
        "yaxis": {
         "title": {
          "text": "Y-axis"
         }
        }
       }
      },
      "text/html": [
       "<div>                            <div id=\"5cf04e16-0d4d-4c0d-9356-9cddbe909b80\" class=\"plotly-graph-div\" style=\"height:525px; width:100%;\"></div>            <script type=\"text/javascript\">                require([\"plotly\"], function(Plotly) {                    window.PLOTLYENV=window.PLOTLYENV || {};                                    if (document.getElementById(\"5cf04e16-0d4d-4c0d-9356-9cddbe909b80\")) {                    Plotly.newPlot(                        \"5cf04e16-0d4d-4c0d-9356-9cddbe909b80\",                        [{\"colorbar\":{\"title\":{\"text\":\"Bin Counts\"}},\"colorscale\":[[0,\"yellow\"],[0.25,\"blue\"],[0.5,\"white\"],[1,\"red\"]],\"showscale\":true,\"x\":[8.793663299654636,10.567163007335584,12.340662715016533,14.114162422697481,15.88766213037843,17.66116183805938,19.434661545740326,21.208161253421274,22.98166096110222,24.75516066878317,26.52866037646412,28.30216008414507,30.075659791826016,31.849159499506964,33.622659207187915,35.39615891486886,37.16965862254981,38.94315833023076,40.71665803791171,42.490157745592654,44.26365745327361],\"y\":[9.726833005975958,11.321340832335672,12.915848658695385,14.510356485055098,16.10486431141481,17.699372137774525,19.29387996413424,20.88838779049395,22.482895616853668,24.077403443213377,25.671911269573094,27.266419095932807,28.86092692229252,30.455434748652234,32.04994257501195,33.64445040137166,35.23895822773137,36.83346605409109,38.4279738804508,40.02248170681051,41.616989533170226],\"z\":[[0.0,0.0,0.0,0.0,0.0,0.0,0.0,0.0,0.0,0.0,0.0,1.0,0.0,0.0,0.0,0.0,0.0,0.0,0.0,0.0],[0.0,0.0,0.0,0.0,0.0,0.0,0.0,0.0,0.0,0.0,0.0,2.0,0.0,0.0,0.0,0.0,1.0,0.0,0.0,0.0],[0.0,0.0,0.0,0.0,0.0,0.0,0.0,2.0,1.0,2.0,0.0,0.0,0.0,0.0,0.0,0.0,0.0,0.0,0.0,0.0],[0.0,0.0,0.0,0.0,0.0,1.0,2.0,1.0,2.0,3.0,3.0,2.0,1.0,1.0,0.0,1.0,0.0,0.0,0.0,0.0],[0.0,0.0,0.0,0.0,2.0,1.0,1.0,5.0,2.0,7.0,3.0,8.0,4.0,1.0,0.0,0.0,0.0,0.0,0.0,0.0],[0.0,1.0,1.0,0.0,3.0,7.0,8.0,7.0,7.0,8.0,1.0,5.0,8.0,3.0,1.0,1.0,1.0,0.0,0.0,0.0],[0.0,0.0,2.0,4.0,4.0,8.0,8.0,9.0,13.0,11.0,10.0,8.0,7.0,5.0,2.0,1.0,1.0,0.0,1.0,0.0],[0.0,0.0,1.0,2.0,3.0,6.0,14.0,14.0,11.0,20.0,11.0,19.0,13.0,11.0,2.0,4.0,2.0,0.0,0.0,1.0],[0.0,1.0,2.0,1.0,2.0,6.0,12.0,11.0,8.0,13.0,20.0,8.0,16.0,8.0,4.0,2.0,2.0,2.0,0.0,0.0],[1.0,1.0,5.0,6.0,4.0,15.0,8.0,15.0,14.0,19.0,13.0,13.0,12.0,15.0,8.0,3.0,2.0,0.0,0.0,0.0],[0.0,1.0,0.0,4.0,3.0,10.0,13.0,10.0,15.0,17.0,16.0,12.0,11.0,7.0,8.0,5.0,1.0,0.0,1.0,0.0],[0.0,2.0,0.0,1.0,3.0,4.0,5.0,12.0,11.0,15.0,8.0,15.0,7.0,4.0,1.0,1.0,1.0,1.0,1.0,0.0],[1.0,0.0,0.0,0.0,0.0,3.0,3.0,11.0,4.0,13.0,6.0,4.0,4.0,4.0,3.0,1.0,1.0,2.0,0.0,0.0],[0.0,0.0,0.0,2.0,2.0,5.0,2.0,3.0,7.0,7.0,6.0,2.0,2.0,2.0,2.0,1.0,1.0,0.0,0.0,0.0],[0.0,1.0,1.0,0.0,1.0,0.0,2.0,5.0,3.0,2.0,4.0,4.0,2.0,0.0,1.0,1.0,0.0,0.0,0.0,0.0],[0.0,1.0,1.0,0.0,1.0,0.0,2.0,0.0,0.0,1.0,3.0,0.0,1.0,0.0,1.0,0.0,0.0,0.0,0.0,0.0],[0.0,0.0,0.0,0.0,0.0,1.0,0.0,3.0,0.0,1.0,0.0,0.0,2.0,0.0,0.0,0.0,0.0,1.0,0.0,0.0],[0.0,0.0,0.0,0.0,0.0,0.0,1.0,0.0,0.0,0.0,0.0,0.0,0.0,0.0,0.0,0.0,0.0,0.0,0.0,0.0],[0.0,0.0,0.0,0.0,0.0,0.0,0.0,0.0,0.0,0.0,0.0,0.0,0.0,0.0,0.0,0.0,0.0,0.0,0.0,0.0],[0.0,0.0,0.0,0.0,0.0,0.0,0.0,0.0,0.0,1.0,0.0,0.0,0.0,0.0,0.0,0.0,0.0,0.0,0.0,0.0]],\"type\":\"heatmap\"}],                        {\"template\":{\"data\":{\"histogram2dcontour\":[{\"type\":\"histogram2dcontour\",\"colorbar\":{\"outlinewidth\":0,\"ticks\":\"\"},\"colorscale\":[[0.0,\"#0d0887\"],[0.1111111111111111,\"#46039f\"],[0.2222222222222222,\"#7201a8\"],[0.3333333333333333,\"#9c179e\"],[0.4444444444444444,\"#bd3786\"],[0.5555555555555556,\"#d8576b\"],[0.6666666666666666,\"#ed7953\"],[0.7777777777777778,\"#fb9f3a\"],[0.8888888888888888,\"#fdca26\"],[1.0,\"#f0f921\"]]}],\"choropleth\":[{\"type\":\"choropleth\",\"colorbar\":{\"outlinewidth\":0,\"ticks\":\"\"}}],\"histogram2d\":[{\"type\":\"histogram2d\",\"colorbar\":{\"outlinewidth\":0,\"ticks\":\"\"},\"colorscale\":[[0.0,\"#0d0887\"],[0.1111111111111111,\"#46039f\"],[0.2222222222222222,\"#7201a8\"],[0.3333333333333333,\"#9c179e\"],[0.4444444444444444,\"#bd3786\"],[0.5555555555555556,\"#d8576b\"],[0.6666666666666666,\"#ed7953\"],[0.7777777777777778,\"#fb9f3a\"],[0.8888888888888888,\"#fdca26\"],[1.0,\"#f0f921\"]]}],\"heatmap\":[{\"type\":\"heatmap\",\"colorbar\":{\"outlinewidth\":0,\"ticks\":\"\"},\"colorscale\":[[0.0,\"#0d0887\"],[0.1111111111111111,\"#46039f\"],[0.2222222222222222,\"#7201a8\"],[0.3333333333333333,\"#9c179e\"],[0.4444444444444444,\"#bd3786\"],[0.5555555555555556,\"#d8576b\"],[0.6666666666666666,\"#ed7953\"],[0.7777777777777778,\"#fb9f3a\"],[0.8888888888888888,\"#fdca26\"],[1.0,\"#f0f921\"]]}],\"heatmapgl\":[{\"type\":\"heatmapgl\",\"colorbar\":{\"outlinewidth\":0,\"ticks\":\"\"},\"colorscale\":[[0.0,\"#0d0887\"],[0.1111111111111111,\"#46039f\"],[0.2222222222222222,\"#7201a8\"],[0.3333333333333333,\"#9c179e\"],[0.4444444444444444,\"#bd3786\"],[0.5555555555555556,\"#d8576b\"],[0.6666666666666666,\"#ed7953\"],[0.7777777777777778,\"#fb9f3a\"],[0.8888888888888888,\"#fdca26\"],[1.0,\"#f0f921\"]]}],\"contourcarpet\":[{\"type\":\"contourcarpet\",\"colorbar\":{\"outlinewidth\":0,\"ticks\":\"\"}}],\"contour\":[{\"type\":\"contour\",\"colorbar\":{\"outlinewidth\":0,\"ticks\":\"\"},\"colorscale\":[[0.0,\"#0d0887\"],[0.1111111111111111,\"#46039f\"],[0.2222222222222222,\"#7201a8\"],[0.3333333333333333,\"#9c179e\"],[0.4444444444444444,\"#bd3786\"],[0.5555555555555556,\"#d8576b\"],[0.6666666666666666,\"#ed7953\"],[0.7777777777777778,\"#fb9f3a\"],[0.8888888888888888,\"#fdca26\"],[1.0,\"#f0f921\"]]}],\"surface\":[{\"type\":\"surface\",\"colorbar\":{\"outlinewidth\":0,\"ticks\":\"\"},\"colorscale\":[[0.0,\"#0d0887\"],[0.1111111111111111,\"#46039f\"],[0.2222222222222222,\"#7201a8\"],[0.3333333333333333,\"#9c179e\"],[0.4444444444444444,\"#bd3786\"],[0.5555555555555556,\"#d8576b\"],[0.6666666666666666,\"#ed7953\"],[0.7777777777777778,\"#fb9f3a\"],[0.8888888888888888,\"#fdca26\"],[1.0,\"#f0f921\"]]}],\"mesh3d\":[{\"type\":\"mesh3d\",\"colorbar\":{\"outlinewidth\":0,\"ticks\":\"\"}}],\"scatter\":[{\"fillpattern\":{\"fillmode\":\"overlay\",\"size\":10,\"solidity\":0.2},\"type\":\"scatter\"}],\"parcoords\":[{\"type\":\"parcoords\",\"line\":{\"colorbar\":{\"outlinewidth\":0,\"ticks\":\"\"}}}],\"scatterpolargl\":[{\"type\":\"scatterpolargl\",\"marker\":{\"colorbar\":{\"outlinewidth\":0,\"ticks\":\"\"}}}],\"bar\":[{\"error_x\":{\"color\":\"#2a3f5f\"},\"error_y\":{\"color\":\"#2a3f5f\"},\"marker\":{\"line\":{\"color\":\"#E5ECF6\",\"width\":0.5},\"pattern\":{\"fillmode\":\"overlay\",\"size\":10,\"solidity\":0.2}},\"type\":\"bar\"}],\"scattergeo\":[{\"type\":\"scattergeo\",\"marker\":{\"colorbar\":{\"outlinewidth\":0,\"ticks\":\"\"}}}],\"scatterpolar\":[{\"type\":\"scatterpolar\",\"marker\":{\"colorbar\":{\"outlinewidth\":0,\"ticks\":\"\"}}}],\"histogram\":[{\"marker\":{\"pattern\":{\"fillmode\":\"overlay\",\"size\":10,\"solidity\":0.2}},\"type\":\"histogram\"}],\"scattergl\":[{\"type\":\"scattergl\",\"marker\":{\"colorbar\":{\"outlinewidth\":0,\"ticks\":\"\"}}}],\"scatter3d\":[{\"type\":\"scatter3d\",\"line\":{\"colorbar\":{\"outlinewidth\":0,\"ticks\":\"\"}},\"marker\":{\"colorbar\":{\"outlinewidth\":0,\"ticks\":\"\"}}}],\"scattermapbox\":[{\"type\":\"scattermapbox\",\"marker\":{\"colorbar\":{\"outlinewidth\":0,\"ticks\":\"\"}}}],\"scatterternary\":[{\"type\":\"scatterternary\",\"marker\":{\"colorbar\":{\"outlinewidth\":0,\"ticks\":\"\"}}}],\"scattercarpet\":[{\"type\":\"scattercarpet\",\"marker\":{\"colorbar\":{\"outlinewidth\":0,\"ticks\":\"\"}}}],\"carpet\":[{\"aaxis\":{\"endlinecolor\":\"#2a3f5f\",\"gridcolor\":\"white\",\"linecolor\":\"white\",\"minorgridcolor\":\"white\",\"startlinecolor\":\"#2a3f5f\"},\"baxis\":{\"endlinecolor\":\"#2a3f5f\",\"gridcolor\":\"white\",\"linecolor\":\"white\",\"minorgridcolor\":\"white\",\"startlinecolor\":\"#2a3f5f\"},\"type\":\"carpet\"}],\"table\":[{\"cells\":{\"fill\":{\"color\":\"#EBF0F8\"},\"line\":{\"color\":\"white\"}},\"header\":{\"fill\":{\"color\":\"#C8D4E3\"},\"line\":{\"color\":\"white\"}},\"type\":\"table\"}],\"barpolar\":[{\"marker\":{\"line\":{\"color\":\"#E5ECF6\",\"width\":0.5},\"pattern\":{\"fillmode\":\"overlay\",\"size\":10,\"solidity\":0.2}},\"type\":\"barpolar\"}],\"pie\":[{\"automargin\":true,\"type\":\"pie\"}]},\"layout\":{\"autotypenumbers\":\"strict\",\"colorway\":[\"#636efa\",\"#EF553B\",\"#00cc96\",\"#ab63fa\",\"#FFA15A\",\"#19d3f3\",\"#FF6692\",\"#B6E880\",\"#FF97FF\",\"#FECB52\"],\"font\":{\"color\":\"#2a3f5f\"},\"hovermode\":\"closest\",\"hoverlabel\":{\"align\":\"left\"},\"paper_bgcolor\":\"white\",\"plot_bgcolor\":\"#E5ECF6\",\"polar\":{\"bgcolor\":\"#E5ECF6\",\"angularaxis\":{\"gridcolor\":\"white\",\"linecolor\":\"white\",\"ticks\":\"\"},\"radialaxis\":{\"gridcolor\":\"white\",\"linecolor\":\"white\",\"ticks\":\"\"}},\"ternary\":{\"bgcolor\":\"#E5ECF6\",\"aaxis\":{\"gridcolor\":\"white\",\"linecolor\":\"white\",\"ticks\":\"\"},\"baxis\":{\"gridcolor\":\"white\",\"linecolor\":\"white\",\"ticks\":\"\"},\"caxis\":{\"gridcolor\":\"white\",\"linecolor\":\"white\",\"ticks\":\"\"}},\"coloraxis\":{\"colorbar\":{\"outlinewidth\":0,\"ticks\":\"\"}},\"colorscale\":{\"sequential\":[[0.0,\"#0d0887\"],[0.1111111111111111,\"#46039f\"],[0.2222222222222222,\"#7201a8\"],[0.3333333333333333,\"#9c179e\"],[0.4444444444444444,\"#bd3786\"],[0.5555555555555556,\"#d8576b\"],[0.6666666666666666,\"#ed7953\"],[0.7777777777777778,\"#fb9f3a\"],[0.8888888888888888,\"#fdca26\"],[1.0,\"#f0f921\"]],\"sequentialminus\":[[0.0,\"#0d0887\"],[0.1111111111111111,\"#46039f\"],[0.2222222222222222,\"#7201a8\"],[0.3333333333333333,\"#9c179e\"],[0.4444444444444444,\"#bd3786\"],[0.5555555555555556,\"#d8576b\"],[0.6666666666666666,\"#ed7953\"],[0.7777777777777778,\"#fb9f3a\"],[0.8888888888888888,\"#fdca26\"],[1.0,\"#f0f921\"]],\"diverging\":[[0,\"#8e0152\"],[0.1,\"#c51b7d\"],[0.2,\"#de77ae\"],[0.3,\"#f1b6da\"],[0.4,\"#fde0ef\"],[0.5,\"#f7f7f7\"],[0.6,\"#e6f5d0\"],[0.7,\"#b8e186\"],[0.8,\"#7fbc41\"],[0.9,\"#4d9221\"],[1,\"#276419\"]]},\"xaxis\":{\"gridcolor\":\"white\",\"linecolor\":\"white\",\"ticks\":\"\",\"title\":{\"standoff\":15},\"zerolinecolor\":\"white\",\"automargin\":true,\"zerolinewidth\":2},\"yaxis\":{\"gridcolor\":\"white\",\"linecolor\":\"white\",\"ticks\":\"\",\"title\":{\"standoff\":15},\"zerolinecolor\":\"white\",\"automargin\":true,\"zerolinewidth\":2},\"scene\":{\"xaxis\":{\"backgroundcolor\":\"#E5ECF6\",\"gridcolor\":\"white\",\"linecolor\":\"white\",\"showbackground\":true,\"ticks\":\"\",\"zerolinecolor\":\"white\",\"gridwidth\":2},\"yaxis\":{\"backgroundcolor\":\"#E5ECF6\",\"gridcolor\":\"white\",\"linecolor\":\"white\",\"showbackground\":true,\"ticks\":\"\",\"zerolinecolor\":\"white\",\"gridwidth\":2},\"zaxis\":{\"backgroundcolor\":\"#E5ECF6\",\"gridcolor\":\"white\",\"linecolor\":\"white\",\"showbackground\":true,\"ticks\":\"\",\"zerolinecolor\":\"white\",\"gridwidth\":2}},\"shapedefaults\":{\"line\":{\"color\":\"#2a3f5f\"}},\"annotationdefaults\":{\"arrowcolor\":\"#2a3f5f\",\"arrowhead\":0,\"arrowwidth\":1},\"geo\":{\"bgcolor\":\"white\",\"landcolor\":\"#E5ECF6\",\"subunitcolor\":\"white\",\"showland\":true,\"showlakes\":true,\"lakecolor\":\"white\"},\"title\":{\"x\":0.05},\"mapbox\":{\"style\":\"light\"}}},\"title\":{\"text\":\"Binned Data with Custom Color Coding\"},\"xaxis\":{\"title\":{\"text\":\"X-axis\"}},\"yaxis\":{\"title\":{\"text\":\"Y-axis\"}}},                        {\"responsive\": true}                    ).then(function(){\n",
       "                            \n",
       "var gd = document.getElementById('5cf04e16-0d4d-4c0d-9356-9cddbe909b80');\n",
       "var x = new MutationObserver(function (mutations, observer) {{\n",
       "        var display = window.getComputedStyle(gd).display;\n",
       "        if (!display || display === 'none') {{\n",
       "            console.log([gd, 'removed!']);\n",
       "            Plotly.purge(gd);\n",
       "            observer.disconnect();\n",
       "        }}\n",
       "}});\n",
       "\n",
       "// Listen for the removal of the full notebook cells\n",
       "var notebookContainer = gd.closest('#notebook-container');\n",
       "if (notebookContainer) {{\n",
       "    x.observe(notebookContainer, {childList: true});\n",
       "}}\n",
       "\n",
       "// Listen for the clearing of the current output cell\n",
       "var outputEl = gd.closest('.output');\n",
       "if (outputEl) {{\n",
       "    x.observe(outputEl, {childList: true});\n",
       "}}\n",
       "\n",
       "                        })                };                });            </script>        </div>"
      ]
     },
     "metadata": {},
     "output_type": "display_data"
    }
   ],
   "source": [
    "import numpy as np\n",
    "import plotly.graph_objects as go\n",
    "import plotly.io as pio\n",
    "\n",
    "# Generate example data for demonstration\n",
    "np.random.seed(42)\n",
    "x = np.random.normal(25, 5, 1000)\n",
    "np.random.seed(39)\n",
    "y = np.random.normal(25, 5, 1000)\n",
    "\n",
    "# Define minimum and maximum counts for color coding\n",
    "min_count = 10\n",
    "max_count = 30\n",
    "\n",
    "# Set up bins and compute histogram\n",
    "bins = 20\n",
    "H, xedges, yedges = np.histogram2d(x, y, bins=bins)\n",
    "\n",
    "# Define color mapping based on bin counts\n",
    "color_map = np.zeros_like(H, dtype='<U6')  # Initialize empty color map array\n",
    "\n",
    "# Apply color coding conditions\n",
    "color_map[H == 0] = 'yellow'       # Zero count bins\n",
    "color_map[(H > 0) & (H < min_count)] = 'blue'   # Counts lower than min_count but greater than zero\n",
    "color_map[(H >= min_count) & (H <= max_count)] = 'white'  # Counts within the acceptable range\n",
    "color_map[H > max_count] = 'red'   # Counts higher than max_count\n",
    "\n",
    "# Set up the Plotly heatmap plot\n",
    "fig = go.Figure()\n",
    "\n",
    "# Add the heatmap with the custom color scale\n",
    "fig.add_trace(go.Heatmap(\n",
    "    z=H,\n",
    "    x=xedges,\n",
    "    y=yedges,\n",
    "    colorscale=[\n",
    "        [0, 'yellow'],  # Yellow for zero counts\n",
    "        [0.25, 'blue'], # Blue for low counts\n",
    "        [0.5, 'white'], # White for acceptable counts\n",
    "        [1, 'red']      # Red for high counts\n",
    "    ],\n",
    "    showscale=True,  # Show color scale for reference\n",
    "    colorbar=dict(title=\"Bin Counts\")\n",
    "))\n",
    "\n",
    "# Configure layout\n",
    "fig.update_layout(\n",
    "    title=\"Binned Data with Custom Color Coding\",\n",
    "    xaxis_title=\"X-axis\",\n",
    "    yaxis_title=\"Y-axis\"\n",
    ")\n",
    "\n",
    "# Display the plot in an adaptive environment\n",
    "pio.show(fig)\n"
   ]
  },
  {
   "cell_type": "code",
   "execution_count": 28,
   "id": "1a19c312",
   "metadata": {},
   "outputs": [
    {
     "name": "stdout",
     "output_type": "stream",
     "text": [
      "Counts: [ 2.  4.  7. 23. 11. 12. 18. 25. 11. 23.  8.  7.  5. 11.  8. 14. 17.  7.\n",
      " 11.  5.  9. 28.  4.  4. 29.  7. 10. 10.  8. 25. 14. 19. 20. 21. 20. 11.\n",
      " 19.  9.  6. 26.  4. 19. 14. 19. 22. 17. 12. 27.  2.  9. 25. 25.  9. 11.\n",
      " 30. 16. 24. 29. 19.  7. 24.  2. 27. 22. 10.  9. 26.  4.  7.  1.]\n",
      "X min edges: [ 3.01547523  3.01547523  6.00073218  6.00073218  3.01547523  3.01547523\n",
      "  6.00073218  6.00073218  8.98598914  8.98598914 11.97124609 11.97124609\n",
      " 11.97124609 13.46387456 13.46387456  8.98598914  8.98598914 11.97124609\n",
      " 11.97124609 13.46387456 13.46387456 11.97124609  3.01547523  3.01547523\n",
      "  6.00073218  6.00073218  6.00073218  7.49336066  7.49336066  3.01547523\n",
      "  8.98598914  8.98598914 11.97124609 11.97124609  8.98598914  8.98598914\n",
      " 11.97124609 11.97124609 14.95650304 14.95650304 17.94175999 17.94175999\n",
      " 14.95650304 14.95650304 17.94175999 17.94175999 20.92701694 20.92701694\n",
      " 23.91227389 23.91227389 20.92701694 20.92701694 23.91227389 23.91227389\n",
      " 14.95650304 14.95650304 17.94175999 17.94175999 14.95650304 14.95650304\n",
      " 17.94175999 17.94175999 20.92701694 20.92701694 23.91227389 23.91227389\n",
      " 20.92701694 20.92701694 23.91227389 23.91227389]\n",
      "X max edges: [ 6.00073218  6.00073218  8.98598914  8.98598914  6.00073218  6.00073218\n",
      "  8.98598914  8.98598914 11.97124609 11.97124609 14.95650304 13.46387456\n",
      " 13.46387456 14.95650304 14.95650304 11.97124609 11.97124609 13.46387456\n",
      " 13.46387456 14.95650304 14.95650304 14.95650304  6.00073218  6.00073218\n",
      "  8.98598914  7.49336066  7.49336066  8.98598914  8.98598914  8.98598914\n",
      " 11.97124609 11.97124609 14.95650304 14.95650304 11.97124609 11.97124609\n",
      " 14.95650304 14.95650304 17.94175999 17.94175999 20.92701694 20.92701694\n",
      " 17.94175999 17.94175999 20.92701694 20.92701694 23.91227389 23.91227389\n",
      " 26.89753084 26.89753084 23.91227389 23.91227389 26.89753084 26.89753084\n",
      " 17.94175999 17.94175999 20.92701694 20.92701694 17.94175999 17.94175999\n",
      " 20.92701694 20.92701694 23.91227389 23.91227389 26.89753084 26.89753084\n",
      " 23.91227389 23.91227389 26.89753084 26.89753084]\n",
      "Y min edges: [ 3.00363563  6.00174692  3.00363563  6.00174692  8.99985822 11.99796952\n",
      "  8.99985822 11.99796952  3.00363563  6.00174692  3.00363563  6.00174692\n",
      "  7.50080257  6.00174692  7.50080257  8.99985822 11.99796952  8.99985822\n",
      " 10.49891387  8.99985822 10.49891387 11.99796952 14.99608081 17.99419211\n",
      " 14.99608081 17.99419211 19.49324776 17.99419211 19.49324776 20.99230341\n",
      " 14.99608081 17.99419211 14.99608081 17.99419211 20.99230341 23.9904147\n",
      " 20.99230341 23.9904147   3.00363563  6.00174692  3.00363563  6.00174692\n",
      "  8.99985822 11.99796952  8.99985822 11.99796952  3.00363563  6.00174692\n",
      "  3.00363563  6.00174692  8.99985822 11.99796952  8.99985822 11.99796952\n",
      " 14.99608081 17.99419211 14.99608081 17.99419211 20.99230341 23.9904147\n",
      " 20.99230341 23.9904147  14.99608081 17.99419211 14.99608081 17.99419211\n",
      " 20.99230341 23.9904147  20.99230341 23.9904147 ]\n",
      "Y max edges: [ 6.00174692  8.99985822  6.00174692  8.99985822 11.99796952 14.99608081\n",
      " 11.99796952 14.99608081  6.00174692  8.99985822  6.00174692  7.50080257\n",
      "  8.99985822  7.50080257  8.99985822 11.99796952 14.99608081 10.49891387\n",
      " 11.99796952 10.49891387 11.99796952 14.99608081 17.99419211 20.99230341\n",
      " 17.99419211 19.49324776 20.99230341 19.49324776 20.99230341 26.988526\n",
      " 17.99419211 20.99230341 17.99419211 20.99230341 23.9904147  26.988526\n",
      " 23.9904147  26.988526    6.00174692  8.99985822  6.00174692  8.99985822\n",
      " 11.99796952 14.99608081 11.99796952 14.99608081  6.00174692  8.99985822\n",
      "  6.00174692  8.99985822 11.99796952 14.99608081 11.99796952 14.99608081\n",
      " 17.99419211 20.99230341 17.99419211 20.99230341 23.9904147  26.988526\n",
      " 23.9904147  26.988526   17.99419211 20.99230341 17.99419211 20.99230341\n",
      " 23.9904147  26.988526   23.9904147  26.988526  ]\n"
     ]
    }
   ],
   "source": [
    "import numpy as np\n",
    "\n",
    "def adaptive_qthist(x, y, N=5, min_count=15, max_count=35, density=False):\n",
    "    '''\n",
    "    Adaptive QuadTree histogram with dynamic binning control based on minimum and\n",
    "    maximum count constraints.\n",
    "\n",
    "    Parameters\n",
    "    ----------\n",
    "    x, y : arrays\n",
    "        Input data arrays.\n",
    "    N : int, optional, default = 5\n",
    "        The number of maximum divisions (levels) to compute the QuadTree.\n",
    "    min_count : int, optional, default = 1\n",
    "        Minimum threshold for counts within a bin.\n",
    "    max_count : int, optional, default = 50\n",
    "        Maximum threshold for counts within a bin.\n",
    "    density : bool, optional, default = True\n",
    "        If True, returns counts per area; otherwise, returns raw counts.\n",
    "\n",
    "    Returns\n",
    "    -------\n",
    "    num, xmin, xmax, ymin, ymax : arrays\n",
    "        Array of counts/densities and bin edges.\n",
    "    '''\n",
    "\n",
    "    num = []\n",
    "    xmin = []\n",
    "    xmax = []\n",
    "    ymin = []\n",
    "    ymax = []\n",
    "\n",
    "    # Define the initial region with a small buffer.\n",
    "    x_range = [np.nanmin(x), np.nanmax(x)]\n",
    "    y_range = [np.nanmin(y), np.nanmax(y)]\n",
    "    buffer_x = (x_range[1] - x_range[0]) * 0.1\n",
    "    buffer_y = (y_range[1] - y_range[0]) * 0.1\n",
    "    x_range = [x_range[0] - buffer_x, x_range[1] + buffer_x]\n",
    "    y_range = [y_range[0] - buffer_y, y_range[1] + buffer_y]\n",
    "\n",
    "    def divide_and_count(x_range, y_range, level=1):\n",
    "        ''' Recursive function to divide regions and count points '''\n",
    "        if level > N:\n",
    "            return\n",
    "\n",
    "        # Create 2x2 bins for the current region\n",
    "        bins_x = np.linspace(x_range[0], x_range[1], 3)\n",
    "        bins_y = np.linspace(y_range[0], y_range[1], 3)\n",
    "        H, xedges, yedges = np.histogram2d(x, y, bins=[bins_x, bins_y])\n",
    "\n",
    "        for i in range(2):\n",
    "            for j in range(2):\n",
    "                count = H[i, j]\n",
    "                x_min, x_max = xedges[i], xedges[i + 1]\n",
    "                y_min, y_max = yedges[j], yedges[j + 1]\n",
    "\n",
    "                if count >= min_count and count <= max_count:\n",
    "                    # If count is within the threshold, add to results\n",
    "                    num.append(count)\n",
    "                    xmin.append(x_min)\n",
    "                    xmax.append(x_max)\n",
    "                    ymin.append(y_min)\n",
    "                    ymax.append(y_max)\n",
    "                elif count > max_count:\n",
    "                    # If count exceeds max_count, subdivide further\n",
    "                    divide_and_count([x_min, x_max], [y_min, y_max], level + 1)\n",
    "                elif count >= min_count:\n",
    "                    # If count is above min_count but below max_count, try merging with neighbors\n",
    "                    merged_count = count\n",
    "                    merged_xmin = x_min\n",
    "                    merged_xmax = x_max\n",
    "                    merged_ymin = y_min\n",
    "                    merged_ymax = y_max\n",
    "\n",
    "                    # Attempt to merge with neighboring bins if they also meet criteria\n",
    "                    if i < 1:  # Merge horizontally with next bin\n",
    "                        merged_count += H[i + 1, j]\n",
    "                        merged_xmax = xedges[i + 2]\n",
    "                    if j < 1:  # Merge vertically with next bin\n",
    "                        merged_count += H[i, j + 1]\n",
    "                        merged_ymax = yedges[j + 2]\n",
    "\n",
    "                    # Add merged bin if it meets the threshold\n",
    "                    if merged_count <= max_count + min_count:\n",
    "                        num.append(merged_count)\n",
    "                        xmin.append(merged_xmin)\n",
    "                        xmax.append(merged_xmax)\n",
    "                        ymin.append(merged_ymin)\n",
    "                        ymax.append(merged_ymax)\n",
    "                    else:\n",
    "                        # If unable to merge within thresholds, treat as a separate bin\n",
    "                        num.append(count)\n",
    "                        xmin.append(x_min)\n",
    "                        xmax.append(x_max)\n",
    "                        ymin.append(y_min)\n",
    "                        ymax.append(y_max)\n",
    "                else:\n",
    "                    # If count is below min_count but not zero, add as is\n",
    "                    num.append(count)\n",
    "                    xmin.append(x_min)\n",
    "                    xmax.append(x_max)\n",
    "                    ymin.append(y_min)\n",
    "                    ymax.append(y_max)\n",
    "\n",
    "    # Start the adaptive QuadTree division\n",
    "    divide_and_count(x_range, y_range)\n",
    "\n",
    "    # Convert lists to numpy arrays\n",
    "    num = np.array(num)\n",
    "    xmin = np.array(xmin)\n",
    "    xmax = np.array(xmax)\n",
    "    ymin = np.array(ymin)\n",
    "    ymax = np.array(ymax)\n",
    "\n",
    "#     if density:\n",
    "#         bin_areas = (xmax - xmin) * (ymax - ymin)\n",
    "#         num = num / bin_areas  # Convert counts to density if needed\n",
    "\n",
    "    return num, xmin, xmax, ymin, ymax\n",
    "\n",
    "# Example usage\n",
    "np.random.seed(42)\n",
    "x = np.random.uniform(25, 5, 1000)\n",
    "np.random.seed(39)\n",
    "y = np.random.uniform(25, 5, 1000)\n",
    "num, xmin, xmax, ymin, ymax = adaptive_qthist(x, y, N=5, min_count=20, max_count=30, density=True)\n",
    "\n",
    "# Print example output\n",
    "print(\"Counts:\", num)\n",
    "print(\"X min edges:\", xmin)\n",
    "print(\"X max edges:\", xmax)\n",
    "print(\"Y min edges:\", ymin)\n",
    "print(\"Y max edges:\", ymax)\n"
   ]
  },
  {
   "cell_type": "code",
   "execution_count": 30,
   "id": "23d2c2e8",
   "metadata": {},
   "outputs": [
    {
     "data": {
      "application/vnd.plotly.v1+json": {
       "config": {
        "plotlyServerURL": "https://plot.ly"
       },
       "data": [
        {
         "colorbar": {
          "title": {
           "text": "Bin Counts"
          }
         },
         "colorscale": [
          [
           0,
           "yellow"
          ],
          [
           0.25,
           "blue"
          ],
          [
           0.5,
           "white"
          ],
          [
           1,
           "red"
          ]
         ],
         "showscale": true,
         "type": "heatmap",
         "x": [
          2.985256950844583,
          2.985256950844583,
          2.985256950844583,
          2.985256950844583,
          2.985256950844583,
          2.985256950844583,
          2.985256950844583,
          2.985256950844583,
          2.985256950844583,
          2.985256950844583,
          2.985256950844583,
          1.4926284754222916,
          1.4926284754222916,
          1.4926284754222916,
          1.4926284754222916,
          2.985256950844583,
          2.985256950844583,
          1.4926284754222916,
          1.4926284754222916,
          1.4926284754222916,
          1.4926284754222916,
          2.985256950844583,
          2.985256950844583,
          2.985256950844583,
          2.985256950844583,
          1.4926284754222916,
          1.4926284754222916,
          1.4926284754222916,
          1.4926284754222916,
          5.970513901689166,
          2.985256950844583,
          2.985256950844583,
          2.985256950844583,
          2.985256950844583,
          2.985256950844583,
          2.985256950844583,
          2.985256950844583,
          2.985256950844583,
          2.985256950844583,
          2.985256950844583,
          2.985256950844583,
          2.985256950844583,
          2.985256950844583,
          2.985256950844583,
          2.985256950844583,
          2.985256950844583,
          2.985256950844583,
          2.985256950844583,
          2.985256950844583,
          2.985256950844583,
          2.985256950844583,
          2.985256950844583,
          2.985256950844583,
          2.985256950844583,
          2.985256950844583,
          2.985256950844583,
          2.985256950844583,
          2.985256950844583,
          2.985256950844583,
          2.985256950844583,
          2.985256950844583,
          2.985256950844583,
          2.985256950844583,
          2.985256950844583,
          2.985256950844583,
          2.985256950844583,
          2.985256950844583,
          2.985256950844583,
          2.985256950844583,
          2.985256950844583
         ],
         "y": [
          2.99811129686626,
          2.9981112968662593,
          2.99811129686626,
          2.9981112968662593,
          2.998111296866261,
          2.998111296866261,
          2.998111296866261,
          2.998111296866261,
          2.99811129686626,
          2.9981112968662593,
          2.99811129686626,
          1.4990556484331297,
          1.4990556484331297,
          1.4990556484331297,
          1.4990556484331297,
          2.998111296866261,
          2.998111296866261,
          1.4990556484331314,
          1.4990556484331297,
          1.4990556484331314,
          1.4990556484331297,
          2.998111296866261,
          2.9981112968662593,
          2.998111296866263,
          2.9981112968662593,
          1.4990556484331314,
          1.4990556484331314,
          1.4990556484331314,
          1.4990556484331314,
          5.996222593732522,
          2.9981112968662593,
          2.998111296866263,
          2.9981112968662593,
          2.998111296866263,
          2.998111296866263,
          2.9981112968662593,
          2.998111296866263,
          2.9981112968662593,
          2.99811129686626,
          2.9981112968662593,
          2.99811129686626,
          2.9981112968662593,
          2.998111296866261,
          2.998111296866261,
          2.998111296866261,
          2.998111296866261,
          2.99811129686626,
          2.9981112968662593,
          2.99811129686626,
          2.9981112968662593,
          2.998111296866261,
          2.998111296866261,
          2.998111296866261,
          2.998111296866261,
          2.9981112968662593,
          2.998111296866263,
          2.9981112968662593,
          2.998111296866263,
          2.998111296866263,
          2.9981112968662593,
          2.998111296866263,
          2.9981112968662593,
          2.9981112968662593,
          2.998111296866263,
          2.9981112968662593,
          2.998111296866263,
          2.998111296866263,
          2.9981112968662593,
          2.998111296866263,
          2.9981112968662593
         ],
         "z": [
          2,
          4,
          7,
          23,
          11,
          12,
          18,
          25,
          11,
          23,
          8,
          7,
          5,
          11,
          8,
          14,
          17,
          7,
          11,
          5,
          9,
          28,
          4,
          4,
          29,
          7,
          10,
          10,
          8,
          25,
          14,
          19,
          20,
          21,
          20,
          11,
          19,
          9,
          6,
          26,
          4,
          19,
          14,
          19,
          22,
          17,
          12,
          27,
          2,
          9,
          25,
          25,
          9,
          11,
          30,
          16,
          24,
          29,
          19,
          7,
          24,
          2,
          27,
          22,
          10,
          9,
          26,
          4,
          7,
          1
         ]
        }
       ],
       "layout": {
        "template": {
         "data": {
          "bar": [
           {
            "error_x": {
             "color": "#2a3f5f"
            },
            "error_y": {
             "color": "#2a3f5f"
            },
            "marker": {
             "line": {
              "color": "#E5ECF6",
              "width": 0.5
             },
             "pattern": {
              "fillmode": "overlay",
              "size": 10,
              "solidity": 0.2
             }
            },
            "type": "bar"
           }
          ],
          "barpolar": [
           {
            "marker": {
             "line": {
              "color": "#E5ECF6",
              "width": 0.5
             },
             "pattern": {
              "fillmode": "overlay",
              "size": 10,
              "solidity": 0.2
             }
            },
            "type": "barpolar"
           }
          ],
          "carpet": [
           {
            "aaxis": {
             "endlinecolor": "#2a3f5f",
             "gridcolor": "white",
             "linecolor": "white",
             "minorgridcolor": "white",
             "startlinecolor": "#2a3f5f"
            },
            "baxis": {
             "endlinecolor": "#2a3f5f",
             "gridcolor": "white",
             "linecolor": "white",
             "minorgridcolor": "white",
             "startlinecolor": "#2a3f5f"
            },
            "type": "carpet"
           }
          ],
          "choropleth": [
           {
            "colorbar": {
             "outlinewidth": 0,
             "ticks": ""
            },
            "type": "choropleth"
           }
          ],
          "contour": [
           {
            "colorbar": {
             "outlinewidth": 0,
             "ticks": ""
            },
            "colorscale": [
             [
              0,
              "#0d0887"
             ],
             [
              0.1111111111111111,
              "#46039f"
             ],
             [
              0.2222222222222222,
              "#7201a8"
             ],
             [
              0.3333333333333333,
              "#9c179e"
             ],
             [
              0.4444444444444444,
              "#bd3786"
             ],
             [
              0.5555555555555556,
              "#d8576b"
             ],
             [
              0.6666666666666666,
              "#ed7953"
             ],
             [
              0.7777777777777778,
              "#fb9f3a"
             ],
             [
              0.8888888888888888,
              "#fdca26"
             ],
             [
              1,
              "#f0f921"
             ]
            ],
            "type": "contour"
           }
          ],
          "contourcarpet": [
           {
            "colorbar": {
             "outlinewidth": 0,
             "ticks": ""
            },
            "type": "contourcarpet"
           }
          ],
          "heatmap": [
           {
            "colorbar": {
             "outlinewidth": 0,
             "ticks": ""
            },
            "colorscale": [
             [
              0,
              "#0d0887"
             ],
             [
              0.1111111111111111,
              "#46039f"
             ],
             [
              0.2222222222222222,
              "#7201a8"
             ],
             [
              0.3333333333333333,
              "#9c179e"
             ],
             [
              0.4444444444444444,
              "#bd3786"
             ],
             [
              0.5555555555555556,
              "#d8576b"
             ],
             [
              0.6666666666666666,
              "#ed7953"
             ],
             [
              0.7777777777777778,
              "#fb9f3a"
             ],
             [
              0.8888888888888888,
              "#fdca26"
             ],
             [
              1,
              "#f0f921"
             ]
            ],
            "type": "heatmap"
           }
          ],
          "heatmapgl": [
           {
            "colorbar": {
             "outlinewidth": 0,
             "ticks": ""
            },
            "colorscale": [
             [
              0,
              "#0d0887"
             ],
             [
              0.1111111111111111,
              "#46039f"
             ],
             [
              0.2222222222222222,
              "#7201a8"
             ],
             [
              0.3333333333333333,
              "#9c179e"
             ],
             [
              0.4444444444444444,
              "#bd3786"
             ],
             [
              0.5555555555555556,
              "#d8576b"
             ],
             [
              0.6666666666666666,
              "#ed7953"
             ],
             [
              0.7777777777777778,
              "#fb9f3a"
             ],
             [
              0.8888888888888888,
              "#fdca26"
             ],
             [
              1,
              "#f0f921"
             ]
            ],
            "type": "heatmapgl"
           }
          ],
          "histogram": [
           {
            "marker": {
             "pattern": {
              "fillmode": "overlay",
              "size": 10,
              "solidity": 0.2
             }
            },
            "type": "histogram"
           }
          ],
          "histogram2d": [
           {
            "colorbar": {
             "outlinewidth": 0,
             "ticks": ""
            },
            "colorscale": [
             [
              0,
              "#0d0887"
             ],
             [
              0.1111111111111111,
              "#46039f"
             ],
             [
              0.2222222222222222,
              "#7201a8"
             ],
             [
              0.3333333333333333,
              "#9c179e"
             ],
             [
              0.4444444444444444,
              "#bd3786"
             ],
             [
              0.5555555555555556,
              "#d8576b"
             ],
             [
              0.6666666666666666,
              "#ed7953"
             ],
             [
              0.7777777777777778,
              "#fb9f3a"
             ],
             [
              0.8888888888888888,
              "#fdca26"
             ],
             [
              1,
              "#f0f921"
             ]
            ],
            "type": "histogram2d"
           }
          ],
          "histogram2dcontour": [
           {
            "colorbar": {
             "outlinewidth": 0,
             "ticks": ""
            },
            "colorscale": [
             [
              0,
              "#0d0887"
             ],
             [
              0.1111111111111111,
              "#46039f"
             ],
             [
              0.2222222222222222,
              "#7201a8"
             ],
             [
              0.3333333333333333,
              "#9c179e"
             ],
             [
              0.4444444444444444,
              "#bd3786"
             ],
             [
              0.5555555555555556,
              "#d8576b"
             ],
             [
              0.6666666666666666,
              "#ed7953"
             ],
             [
              0.7777777777777778,
              "#fb9f3a"
             ],
             [
              0.8888888888888888,
              "#fdca26"
             ],
             [
              1,
              "#f0f921"
             ]
            ],
            "type": "histogram2dcontour"
           }
          ],
          "mesh3d": [
           {
            "colorbar": {
             "outlinewidth": 0,
             "ticks": ""
            },
            "type": "mesh3d"
           }
          ],
          "parcoords": [
           {
            "line": {
             "colorbar": {
              "outlinewidth": 0,
              "ticks": ""
             }
            },
            "type": "parcoords"
           }
          ],
          "pie": [
           {
            "automargin": true,
            "type": "pie"
           }
          ],
          "scatter": [
           {
            "fillpattern": {
             "fillmode": "overlay",
             "size": 10,
             "solidity": 0.2
            },
            "type": "scatter"
           }
          ],
          "scatter3d": [
           {
            "line": {
             "colorbar": {
              "outlinewidth": 0,
              "ticks": ""
             }
            },
            "marker": {
             "colorbar": {
              "outlinewidth": 0,
              "ticks": ""
             }
            },
            "type": "scatter3d"
           }
          ],
          "scattercarpet": [
           {
            "marker": {
             "colorbar": {
              "outlinewidth": 0,
              "ticks": ""
             }
            },
            "type": "scattercarpet"
           }
          ],
          "scattergeo": [
           {
            "marker": {
             "colorbar": {
              "outlinewidth": 0,
              "ticks": ""
             }
            },
            "type": "scattergeo"
           }
          ],
          "scattergl": [
           {
            "marker": {
             "colorbar": {
              "outlinewidth": 0,
              "ticks": ""
             }
            },
            "type": "scattergl"
           }
          ],
          "scattermapbox": [
           {
            "marker": {
             "colorbar": {
              "outlinewidth": 0,
              "ticks": ""
             }
            },
            "type": "scattermapbox"
           }
          ],
          "scatterpolar": [
           {
            "marker": {
             "colorbar": {
              "outlinewidth": 0,
              "ticks": ""
             }
            },
            "type": "scatterpolar"
           }
          ],
          "scatterpolargl": [
           {
            "marker": {
             "colorbar": {
              "outlinewidth": 0,
              "ticks": ""
             }
            },
            "type": "scatterpolargl"
           }
          ],
          "scatterternary": [
           {
            "marker": {
             "colorbar": {
              "outlinewidth": 0,
              "ticks": ""
             }
            },
            "type": "scatterternary"
           }
          ],
          "surface": [
           {
            "colorbar": {
             "outlinewidth": 0,
             "ticks": ""
            },
            "colorscale": [
             [
              0,
              "#0d0887"
             ],
             [
              0.1111111111111111,
              "#46039f"
             ],
             [
              0.2222222222222222,
              "#7201a8"
             ],
             [
              0.3333333333333333,
              "#9c179e"
             ],
             [
              0.4444444444444444,
              "#bd3786"
             ],
             [
              0.5555555555555556,
              "#d8576b"
             ],
             [
              0.6666666666666666,
              "#ed7953"
             ],
             [
              0.7777777777777778,
              "#fb9f3a"
             ],
             [
              0.8888888888888888,
              "#fdca26"
             ],
             [
              1,
              "#f0f921"
             ]
            ],
            "type": "surface"
           }
          ],
          "table": [
           {
            "cells": {
             "fill": {
              "color": "#EBF0F8"
             },
             "line": {
              "color": "white"
             }
            },
            "header": {
             "fill": {
              "color": "#C8D4E3"
             },
             "line": {
              "color": "white"
             }
            },
            "type": "table"
           }
          ]
         },
         "layout": {
          "annotationdefaults": {
           "arrowcolor": "#2a3f5f",
           "arrowhead": 0,
           "arrowwidth": 1
          },
          "autotypenumbers": "strict",
          "coloraxis": {
           "colorbar": {
            "outlinewidth": 0,
            "ticks": ""
           }
          },
          "colorscale": {
           "diverging": [
            [
             0,
             "#8e0152"
            ],
            [
             0.1,
             "#c51b7d"
            ],
            [
             0.2,
             "#de77ae"
            ],
            [
             0.3,
             "#f1b6da"
            ],
            [
             0.4,
             "#fde0ef"
            ],
            [
             0.5,
             "#f7f7f7"
            ],
            [
             0.6,
             "#e6f5d0"
            ],
            [
             0.7,
             "#b8e186"
            ],
            [
             0.8,
             "#7fbc41"
            ],
            [
             0.9,
             "#4d9221"
            ],
            [
             1,
             "#276419"
            ]
           ],
           "sequential": [
            [
             0,
             "#0d0887"
            ],
            [
             0.1111111111111111,
             "#46039f"
            ],
            [
             0.2222222222222222,
             "#7201a8"
            ],
            [
             0.3333333333333333,
             "#9c179e"
            ],
            [
             0.4444444444444444,
             "#bd3786"
            ],
            [
             0.5555555555555556,
             "#d8576b"
            ],
            [
             0.6666666666666666,
             "#ed7953"
            ],
            [
             0.7777777777777778,
             "#fb9f3a"
            ],
            [
             0.8888888888888888,
             "#fdca26"
            ],
            [
             1,
             "#f0f921"
            ]
           ],
           "sequentialminus": [
            [
             0,
             "#0d0887"
            ],
            [
             0.1111111111111111,
             "#46039f"
            ],
            [
             0.2222222222222222,
             "#7201a8"
            ],
            [
             0.3333333333333333,
             "#9c179e"
            ],
            [
             0.4444444444444444,
             "#bd3786"
            ],
            [
             0.5555555555555556,
             "#d8576b"
            ],
            [
             0.6666666666666666,
             "#ed7953"
            ],
            [
             0.7777777777777778,
             "#fb9f3a"
            ],
            [
             0.8888888888888888,
             "#fdca26"
            ],
            [
             1,
             "#f0f921"
            ]
           ]
          },
          "colorway": [
           "#636efa",
           "#EF553B",
           "#00cc96",
           "#ab63fa",
           "#FFA15A",
           "#19d3f3",
           "#FF6692",
           "#B6E880",
           "#FF97FF",
           "#FECB52"
          ],
          "font": {
           "color": "#2a3f5f"
          },
          "geo": {
           "bgcolor": "white",
           "lakecolor": "white",
           "landcolor": "#E5ECF6",
           "showlakes": true,
           "showland": true,
           "subunitcolor": "white"
          },
          "hoverlabel": {
           "align": "left"
          },
          "hovermode": "closest",
          "mapbox": {
           "style": "light"
          },
          "paper_bgcolor": "white",
          "plot_bgcolor": "#E5ECF6",
          "polar": {
           "angularaxis": {
            "gridcolor": "white",
            "linecolor": "white",
            "ticks": ""
           },
           "bgcolor": "#E5ECF6",
           "radialaxis": {
            "gridcolor": "white",
            "linecolor": "white",
            "ticks": ""
           }
          },
          "scene": {
           "xaxis": {
            "backgroundcolor": "#E5ECF6",
            "gridcolor": "white",
            "gridwidth": 2,
            "linecolor": "white",
            "showbackground": true,
            "ticks": "",
            "zerolinecolor": "white"
           },
           "yaxis": {
            "backgroundcolor": "#E5ECF6",
            "gridcolor": "white",
            "gridwidth": 2,
            "linecolor": "white",
            "showbackground": true,
            "ticks": "",
            "zerolinecolor": "white"
           },
           "zaxis": {
            "backgroundcolor": "#E5ECF6",
            "gridcolor": "white",
            "gridwidth": 2,
            "linecolor": "white",
            "showbackground": true,
            "ticks": "",
            "zerolinecolor": "white"
           }
          },
          "shapedefaults": {
           "line": {
            "color": "#2a3f5f"
           }
          },
          "ternary": {
           "aaxis": {
            "gridcolor": "white",
            "linecolor": "white",
            "ticks": ""
           },
           "baxis": {
            "gridcolor": "white",
            "linecolor": "white",
            "ticks": ""
           },
           "bgcolor": "#E5ECF6",
           "caxis": {
            "gridcolor": "white",
            "linecolor": "white",
            "ticks": ""
           }
          },
          "title": {
           "x": 0.05
          },
          "xaxis": {
           "automargin": true,
           "gridcolor": "white",
           "linecolor": "white",
           "ticks": "",
           "title": {
            "standoff": 15
           },
           "zerolinecolor": "white",
           "zerolinewidth": 2
          },
          "yaxis": {
           "automargin": true,
           "gridcolor": "white",
           "linecolor": "white",
           "ticks": "",
           "title": {
            "standoff": 15
           },
           "zerolinecolor": "white",
           "zerolinewidth": 2
          }
         }
        },
        "title": {
         "text": "Binned Data with Custom Color Coding"
        },
        "xaxis": {
         "title": {
          "text": "X-axis"
         }
        },
        "yaxis": {
         "title": {
          "text": "Y-axis"
         }
        }
       }
      },
      "text/html": [
       "<div>                            <div id=\"ac70c1a6-0a3b-49e0-bc85-2ad1cb9fd9d0\" class=\"plotly-graph-div\" style=\"height:525px; width:100%;\"></div>            <script type=\"text/javascript\">                require([\"plotly\"], function(Plotly) {                    window.PLOTLYENV=window.PLOTLYENV || {};                                    if (document.getElementById(\"ac70c1a6-0a3b-49e0-bc85-2ad1cb9fd9d0\")) {                    Plotly.newPlot(                        \"ac70c1a6-0a3b-49e0-bc85-2ad1cb9fd9d0\",                        [{\"colorbar\":{\"title\":{\"text\":\"Bin Counts\"}},\"colorscale\":[[0,\"yellow\"],[0.25,\"blue\"],[0.5,\"white\"],[1,\"red\"]],\"showscale\":true,\"x\":[2.985256950844583,2.985256950844583,2.985256950844583,2.985256950844583,2.985256950844583,2.985256950844583,2.985256950844583,2.985256950844583,2.985256950844583,2.985256950844583,2.985256950844583,1.4926284754222916,1.4926284754222916,1.4926284754222916,1.4926284754222916,2.985256950844583,2.985256950844583,1.4926284754222916,1.4926284754222916,1.4926284754222916,1.4926284754222916,2.985256950844583,2.985256950844583,2.985256950844583,2.985256950844583,1.4926284754222916,1.4926284754222916,1.4926284754222916,1.4926284754222916,5.970513901689166,2.985256950844583,2.985256950844583,2.985256950844583,2.985256950844583,2.985256950844583,2.985256950844583,2.985256950844583,2.985256950844583,2.985256950844583,2.985256950844583,2.985256950844583,2.985256950844583,2.985256950844583,2.985256950844583,2.985256950844583,2.985256950844583,2.985256950844583,2.985256950844583,2.985256950844583,2.985256950844583,2.985256950844583,2.985256950844583,2.985256950844583,2.985256950844583,2.985256950844583,2.985256950844583,2.985256950844583,2.985256950844583,2.985256950844583,2.985256950844583,2.985256950844583,2.985256950844583,2.985256950844583,2.985256950844583,2.985256950844583,2.985256950844583,2.985256950844583,2.985256950844583,2.985256950844583,2.985256950844583],\"y\":[2.99811129686626,2.9981112968662593,2.99811129686626,2.9981112968662593,2.998111296866261,2.998111296866261,2.998111296866261,2.998111296866261,2.99811129686626,2.9981112968662593,2.99811129686626,1.4990556484331297,1.4990556484331297,1.4990556484331297,1.4990556484331297,2.998111296866261,2.998111296866261,1.4990556484331314,1.4990556484331297,1.4990556484331314,1.4990556484331297,2.998111296866261,2.9981112968662593,2.998111296866263,2.9981112968662593,1.4990556484331314,1.4990556484331314,1.4990556484331314,1.4990556484331314,5.996222593732522,2.9981112968662593,2.998111296866263,2.9981112968662593,2.998111296866263,2.998111296866263,2.9981112968662593,2.998111296866263,2.9981112968662593,2.99811129686626,2.9981112968662593,2.99811129686626,2.9981112968662593,2.998111296866261,2.998111296866261,2.998111296866261,2.998111296866261,2.99811129686626,2.9981112968662593,2.99811129686626,2.9981112968662593,2.998111296866261,2.998111296866261,2.998111296866261,2.998111296866261,2.9981112968662593,2.998111296866263,2.9981112968662593,2.998111296866263,2.998111296866263,2.9981112968662593,2.998111296866263,2.9981112968662593,2.9981112968662593,2.998111296866263,2.9981112968662593,2.998111296866263,2.998111296866263,2.9981112968662593,2.998111296866263,2.9981112968662593],\"z\":[2.0,4.0,7.0,23.0,11.0,12.0,18.0,25.0,11.0,23.0,8.0,7.0,5.0,11.0,8.0,14.0,17.0,7.0,11.0,5.0,9.0,28.0,4.0,4.0,29.0,7.0,10.0,10.0,8.0,25.0,14.0,19.0,20.0,21.0,20.0,11.0,19.0,9.0,6.0,26.0,4.0,19.0,14.0,19.0,22.0,17.0,12.0,27.0,2.0,9.0,25.0,25.0,9.0,11.0,30.0,16.0,24.0,29.0,19.0,7.0,24.0,2.0,27.0,22.0,10.0,9.0,26.0,4.0,7.0,1.0],\"type\":\"heatmap\"}],                        {\"template\":{\"data\":{\"histogram2dcontour\":[{\"type\":\"histogram2dcontour\",\"colorbar\":{\"outlinewidth\":0,\"ticks\":\"\"},\"colorscale\":[[0.0,\"#0d0887\"],[0.1111111111111111,\"#46039f\"],[0.2222222222222222,\"#7201a8\"],[0.3333333333333333,\"#9c179e\"],[0.4444444444444444,\"#bd3786\"],[0.5555555555555556,\"#d8576b\"],[0.6666666666666666,\"#ed7953\"],[0.7777777777777778,\"#fb9f3a\"],[0.8888888888888888,\"#fdca26\"],[1.0,\"#f0f921\"]]}],\"choropleth\":[{\"type\":\"choropleth\",\"colorbar\":{\"outlinewidth\":0,\"ticks\":\"\"}}],\"histogram2d\":[{\"type\":\"histogram2d\",\"colorbar\":{\"outlinewidth\":0,\"ticks\":\"\"},\"colorscale\":[[0.0,\"#0d0887\"],[0.1111111111111111,\"#46039f\"],[0.2222222222222222,\"#7201a8\"],[0.3333333333333333,\"#9c179e\"],[0.4444444444444444,\"#bd3786\"],[0.5555555555555556,\"#d8576b\"],[0.6666666666666666,\"#ed7953\"],[0.7777777777777778,\"#fb9f3a\"],[0.8888888888888888,\"#fdca26\"],[1.0,\"#f0f921\"]]}],\"heatmap\":[{\"type\":\"heatmap\",\"colorbar\":{\"outlinewidth\":0,\"ticks\":\"\"},\"colorscale\":[[0.0,\"#0d0887\"],[0.1111111111111111,\"#46039f\"],[0.2222222222222222,\"#7201a8\"],[0.3333333333333333,\"#9c179e\"],[0.4444444444444444,\"#bd3786\"],[0.5555555555555556,\"#d8576b\"],[0.6666666666666666,\"#ed7953\"],[0.7777777777777778,\"#fb9f3a\"],[0.8888888888888888,\"#fdca26\"],[1.0,\"#f0f921\"]]}],\"heatmapgl\":[{\"type\":\"heatmapgl\",\"colorbar\":{\"outlinewidth\":0,\"ticks\":\"\"},\"colorscale\":[[0.0,\"#0d0887\"],[0.1111111111111111,\"#46039f\"],[0.2222222222222222,\"#7201a8\"],[0.3333333333333333,\"#9c179e\"],[0.4444444444444444,\"#bd3786\"],[0.5555555555555556,\"#d8576b\"],[0.6666666666666666,\"#ed7953\"],[0.7777777777777778,\"#fb9f3a\"],[0.8888888888888888,\"#fdca26\"],[1.0,\"#f0f921\"]]}],\"contourcarpet\":[{\"type\":\"contourcarpet\",\"colorbar\":{\"outlinewidth\":0,\"ticks\":\"\"}}],\"contour\":[{\"type\":\"contour\",\"colorbar\":{\"outlinewidth\":0,\"ticks\":\"\"},\"colorscale\":[[0.0,\"#0d0887\"],[0.1111111111111111,\"#46039f\"],[0.2222222222222222,\"#7201a8\"],[0.3333333333333333,\"#9c179e\"],[0.4444444444444444,\"#bd3786\"],[0.5555555555555556,\"#d8576b\"],[0.6666666666666666,\"#ed7953\"],[0.7777777777777778,\"#fb9f3a\"],[0.8888888888888888,\"#fdca26\"],[1.0,\"#f0f921\"]]}],\"surface\":[{\"type\":\"surface\",\"colorbar\":{\"outlinewidth\":0,\"ticks\":\"\"},\"colorscale\":[[0.0,\"#0d0887\"],[0.1111111111111111,\"#46039f\"],[0.2222222222222222,\"#7201a8\"],[0.3333333333333333,\"#9c179e\"],[0.4444444444444444,\"#bd3786\"],[0.5555555555555556,\"#d8576b\"],[0.6666666666666666,\"#ed7953\"],[0.7777777777777778,\"#fb9f3a\"],[0.8888888888888888,\"#fdca26\"],[1.0,\"#f0f921\"]]}],\"mesh3d\":[{\"type\":\"mesh3d\",\"colorbar\":{\"outlinewidth\":0,\"ticks\":\"\"}}],\"scatter\":[{\"fillpattern\":{\"fillmode\":\"overlay\",\"size\":10,\"solidity\":0.2},\"type\":\"scatter\"}],\"parcoords\":[{\"type\":\"parcoords\",\"line\":{\"colorbar\":{\"outlinewidth\":0,\"ticks\":\"\"}}}],\"scatterpolargl\":[{\"type\":\"scatterpolargl\",\"marker\":{\"colorbar\":{\"outlinewidth\":0,\"ticks\":\"\"}}}],\"bar\":[{\"error_x\":{\"color\":\"#2a3f5f\"},\"error_y\":{\"color\":\"#2a3f5f\"},\"marker\":{\"line\":{\"color\":\"#E5ECF6\",\"width\":0.5},\"pattern\":{\"fillmode\":\"overlay\",\"size\":10,\"solidity\":0.2}},\"type\":\"bar\"}],\"scattergeo\":[{\"type\":\"scattergeo\",\"marker\":{\"colorbar\":{\"outlinewidth\":0,\"ticks\":\"\"}}}],\"scatterpolar\":[{\"type\":\"scatterpolar\",\"marker\":{\"colorbar\":{\"outlinewidth\":0,\"ticks\":\"\"}}}],\"histogram\":[{\"marker\":{\"pattern\":{\"fillmode\":\"overlay\",\"size\":10,\"solidity\":0.2}},\"type\":\"histogram\"}],\"scattergl\":[{\"type\":\"scattergl\",\"marker\":{\"colorbar\":{\"outlinewidth\":0,\"ticks\":\"\"}}}],\"scatter3d\":[{\"type\":\"scatter3d\",\"line\":{\"colorbar\":{\"outlinewidth\":0,\"ticks\":\"\"}},\"marker\":{\"colorbar\":{\"outlinewidth\":0,\"ticks\":\"\"}}}],\"scattermapbox\":[{\"type\":\"scattermapbox\",\"marker\":{\"colorbar\":{\"outlinewidth\":0,\"ticks\":\"\"}}}],\"scatterternary\":[{\"type\":\"scatterternary\",\"marker\":{\"colorbar\":{\"outlinewidth\":0,\"ticks\":\"\"}}}],\"scattercarpet\":[{\"type\":\"scattercarpet\",\"marker\":{\"colorbar\":{\"outlinewidth\":0,\"ticks\":\"\"}}}],\"carpet\":[{\"aaxis\":{\"endlinecolor\":\"#2a3f5f\",\"gridcolor\":\"white\",\"linecolor\":\"white\",\"minorgridcolor\":\"white\",\"startlinecolor\":\"#2a3f5f\"},\"baxis\":{\"endlinecolor\":\"#2a3f5f\",\"gridcolor\":\"white\",\"linecolor\":\"white\",\"minorgridcolor\":\"white\",\"startlinecolor\":\"#2a3f5f\"},\"type\":\"carpet\"}],\"table\":[{\"cells\":{\"fill\":{\"color\":\"#EBF0F8\"},\"line\":{\"color\":\"white\"}},\"header\":{\"fill\":{\"color\":\"#C8D4E3\"},\"line\":{\"color\":\"white\"}},\"type\":\"table\"}],\"barpolar\":[{\"marker\":{\"line\":{\"color\":\"#E5ECF6\",\"width\":0.5},\"pattern\":{\"fillmode\":\"overlay\",\"size\":10,\"solidity\":0.2}},\"type\":\"barpolar\"}],\"pie\":[{\"automargin\":true,\"type\":\"pie\"}]},\"layout\":{\"autotypenumbers\":\"strict\",\"colorway\":[\"#636efa\",\"#EF553B\",\"#00cc96\",\"#ab63fa\",\"#FFA15A\",\"#19d3f3\",\"#FF6692\",\"#B6E880\",\"#FF97FF\",\"#FECB52\"],\"font\":{\"color\":\"#2a3f5f\"},\"hovermode\":\"closest\",\"hoverlabel\":{\"align\":\"left\"},\"paper_bgcolor\":\"white\",\"plot_bgcolor\":\"#E5ECF6\",\"polar\":{\"bgcolor\":\"#E5ECF6\",\"angularaxis\":{\"gridcolor\":\"white\",\"linecolor\":\"white\",\"ticks\":\"\"},\"radialaxis\":{\"gridcolor\":\"white\",\"linecolor\":\"white\",\"ticks\":\"\"}},\"ternary\":{\"bgcolor\":\"#E5ECF6\",\"aaxis\":{\"gridcolor\":\"white\",\"linecolor\":\"white\",\"ticks\":\"\"},\"baxis\":{\"gridcolor\":\"white\",\"linecolor\":\"white\",\"ticks\":\"\"},\"caxis\":{\"gridcolor\":\"white\",\"linecolor\":\"white\",\"ticks\":\"\"}},\"coloraxis\":{\"colorbar\":{\"outlinewidth\":0,\"ticks\":\"\"}},\"colorscale\":{\"sequential\":[[0.0,\"#0d0887\"],[0.1111111111111111,\"#46039f\"],[0.2222222222222222,\"#7201a8\"],[0.3333333333333333,\"#9c179e\"],[0.4444444444444444,\"#bd3786\"],[0.5555555555555556,\"#d8576b\"],[0.6666666666666666,\"#ed7953\"],[0.7777777777777778,\"#fb9f3a\"],[0.8888888888888888,\"#fdca26\"],[1.0,\"#f0f921\"]],\"sequentialminus\":[[0.0,\"#0d0887\"],[0.1111111111111111,\"#46039f\"],[0.2222222222222222,\"#7201a8\"],[0.3333333333333333,\"#9c179e\"],[0.4444444444444444,\"#bd3786\"],[0.5555555555555556,\"#d8576b\"],[0.6666666666666666,\"#ed7953\"],[0.7777777777777778,\"#fb9f3a\"],[0.8888888888888888,\"#fdca26\"],[1.0,\"#f0f921\"]],\"diverging\":[[0,\"#8e0152\"],[0.1,\"#c51b7d\"],[0.2,\"#de77ae\"],[0.3,\"#f1b6da\"],[0.4,\"#fde0ef\"],[0.5,\"#f7f7f7\"],[0.6,\"#e6f5d0\"],[0.7,\"#b8e186\"],[0.8,\"#7fbc41\"],[0.9,\"#4d9221\"],[1,\"#276419\"]]},\"xaxis\":{\"gridcolor\":\"white\",\"linecolor\":\"white\",\"ticks\":\"\",\"title\":{\"standoff\":15},\"zerolinecolor\":\"white\",\"automargin\":true,\"zerolinewidth\":2},\"yaxis\":{\"gridcolor\":\"white\",\"linecolor\":\"white\",\"ticks\":\"\",\"title\":{\"standoff\":15},\"zerolinecolor\":\"white\",\"automargin\":true,\"zerolinewidth\":2},\"scene\":{\"xaxis\":{\"backgroundcolor\":\"#E5ECF6\",\"gridcolor\":\"white\",\"linecolor\":\"white\",\"showbackground\":true,\"ticks\":\"\",\"zerolinecolor\":\"white\",\"gridwidth\":2},\"yaxis\":{\"backgroundcolor\":\"#E5ECF6\",\"gridcolor\":\"white\",\"linecolor\":\"white\",\"showbackground\":true,\"ticks\":\"\",\"zerolinecolor\":\"white\",\"gridwidth\":2},\"zaxis\":{\"backgroundcolor\":\"#E5ECF6\",\"gridcolor\":\"white\",\"linecolor\":\"white\",\"showbackground\":true,\"ticks\":\"\",\"zerolinecolor\":\"white\",\"gridwidth\":2}},\"shapedefaults\":{\"line\":{\"color\":\"#2a3f5f\"}},\"annotationdefaults\":{\"arrowcolor\":\"#2a3f5f\",\"arrowhead\":0,\"arrowwidth\":1},\"geo\":{\"bgcolor\":\"white\",\"landcolor\":\"#E5ECF6\",\"subunitcolor\":\"white\",\"showland\":true,\"showlakes\":true,\"lakecolor\":\"white\"},\"title\":{\"x\":0.05},\"mapbox\":{\"style\":\"light\"}}},\"title\":{\"text\":\"Binned Data with Custom Color Coding\"},\"xaxis\":{\"title\":{\"text\":\"X-axis\"}},\"yaxis\":{\"title\":{\"text\":\"Y-axis\"}}},                        {\"responsive\": true}                    ).then(function(){\n",
       "                            \n",
       "var gd = document.getElementById('ac70c1a6-0a3b-49e0-bc85-2ad1cb9fd9d0');\n",
       "var x = new MutationObserver(function (mutations, observer) {{\n",
       "        var display = window.getComputedStyle(gd).display;\n",
       "        if (!display || display === 'none') {{\n",
       "            console.log([gd, 'removed!']);\n",
       "            Plotly.purge(gd);\n",
       "            observer.disconnect();\n",
       "        }}\n",
       "}});\n",
       "\n",
       "// Listen for the removal of the full notebook cells\n",
       "var notebookContainer = gd.closest('#notebook-container');\n",
       "if (notebookContainer) {{\n",
       "    x.observe(notebookContainer, {childList: true});\n",
       "}}\n",
       "\n",
       "// Listen for the clearing of the current output cell\n",
       "var outputEl = gd.closest('.output');\n",
       "if (outputEl) {{\n",
       "    x.observe(outputEl, {childList: true});\n",
       "}}\n",
       "\n",
       "                        })                };                });            </script>        </div>"
      ]
     },
     "metadata": {},
     "output_type": "display_data"
    }
   ],
   "source": [
    "fig = go.Figure()\n",
    "#xmin, xmax, ymin, ymax\n",
    "# Add the heatmap with the custom color scale\n",
    "fig.add_trace(go.Heatmap(\n",
    "    z=num,\n",
    "    x=xmax-xmin,\n",
    "    y=ymax-ymin,\n",
    "    colorscale=[\n",
    "        [0, 'yellow'],  # Yellow for zero counts\n",
    "        [0.25, 'blue'], # Blue for low counts\n",
    "        [0.5, 'white'], # White for acceptable counts\n",
    "        [1, 'red']      # Red for high counts\n",
    "    ],\n",
    "    showscale=True,  # Show color scale for reference\n",
    "    colorbar=dict(title=\"Bin Counts\")\n",
    "))\n",
    "\n",
    "# Configure layout\n",
    "fig.update_layout(\n",
    "    title=\"Binned Data with Custom Color Coding\",\n",
    "    xaxis_title=\"X-axis\",\n",
    "    yaxis_title=\"Y-axis\"\n",
    ")\n",
    "\n",
    "# Display the plot in an adaptive environment\n",
    "pio.show(fig)\n"
   ]
  },
  {
   "cell_type": "code",
   "execution_count": 36,
   "id": "0c0b3c9d",
   "metadata": {},
   "outputs": [
    {
     "name": "stdout",
     "output_type": "stream",
     "text": [
      "Counts: [30.  0.  0. 19. 21. 31. 28. 21. 23. 32. 35.  0. 22. 27. 19. 28.  0. 20.\n",
      " 31. 23. 34. 50. 21. 29. 46. 48. 32. 34. 40. 35. 29. 26. 39. 40. 28. 27.\n",
      " 36.  0.  0. 25. 30. 20. 21. 27.  0. 23. 33.  0.  0. 25. 25. 20. 37. 22.\n",
      " 20. 20. 28. 22. 32. 38. 39. 45. 30. 31. 35. 47. 27. 20. 52. 51. 33. 34.\n",
      " 53. 41. 27. 28. 37. 38. 26. 23. 42. 48. 28. 20. 52. 44. 26. 33. 44.  0.\n",
      "  0. 24. 17. 32.  0. 26. 23. 29. 20. 43. 31. 31. 37. 29. 35. 20. 35. 51.\n",
      " 32. 32. 46. 39. 24. 26. 40.  0. 26. 32. 29. 36.  0. 24. 26. 15. 28. 52.\n",
      " 23. 29. 56. 41. 27. 24. 48. 20. 36. 37. 21. 22. 29. 35. 21. 48. 31. 33.\n",
      " 39. 35. 31. 27. 38. 40. 31. 27. 36. 41. 27. 25. 39. 38. 24. 27. 32. 46.\n",
      " 28. 27. 48. 42. 26. 31. 46. 36. 24. 25. 34. 21. 35. 25. 52. 40. 30. 27.\n",
      " 35. 43. 28. 30. 40. 37. 21. 28. 40. 44. 30. 28. 45. 33. 23. 26. 34. 50.\n",
      " 33. 32. 53. 34. 25. 22. 35.  0.  0. 26. 45.  0.  0. 29. 28. 22. 23. 35.\n",
      " 25. 42. 34. 21. 43. 23. 20. 50. 46. 28. 30. 20. 47. 28. 34. 48. 39. 25.\n",
      " 28. 37. 34. 25. 20. 20. 20. 31. 39. 43. 42. 27. 25. 44.  0.  0. 24. 21.\n",
      " 28. 29. 32. 25. 20. 40. 25. 25. 37. 33. 37. 26. 20. 33. 33. 25. 38. 38.\n",
      " 38. 31. 22. 25. 29. 29. 20. 25. 19.  0. 30.  0. 35. 38. 30. 20. 43. 30.\n",
      " 25. 46. 37. 23. 26. 44. 45. 28. 28. 46. 33. 25. 20. 33. 37. 27. 22. 39.\n",
      " 45. 31. 32. 44. 53. 22. 31. 49. 34. 22. 28. 40. 41. 28. 29. 40. 36. 24.\n",
      " 24. 36. 49. 32. 31. 51. 28. 30. 20. 30. 40. 25. 30. 36. 22. 40. 35. 47.\n",
      " 32. 31. 21. 38. 37. 22. 26. 38. 36. 24. 22. 38. 42. 26. 31. 37. 33. 21.\n",
      " 20. 44. 37. 22. 20. 32.  0. 32. 20. 28. 20.  0. 50. 28. 22. 50. 53. 20.\n",
      " 33. 52. 46. 29. 30. 50. 39. 27. 23. 38. 31. 25. 27. 22.  0. 28. 24. 24.\n",
      " 24.  0.  0. 26.  0. 21. 33. 28. 35. 51. 28. 23. 54. 38. 25. 26. 36. 42.\n",
      " 28. 32. 36. 47. 30. 32. 46.  0. 27. 20. 23. 40.  0. 29. 23. 28. 37. 32.\n",
      " 23. 27. 32. 38. 23. 29. 37. 41. 28. 24. 41. 41. 28. 29. 44. 43. 27. 31.\n",
      " 41. 42. 28. 31. 37. 41. 30. 22. 46. 37. 24. 27. 29. 50. 30. 20. 55. 47.\n",
      " 31. 29. 47. 37. 23. 26. 36. 45. 29. 30. 43. 43. 25. 29. 46. 42. 33. 24.\n",
      " 45. 24. 34. 34. 33. 39. 29. 26. 42. 35. 20. 25. 42. 42. 28. 30. 27. 28.\n",
      " 21. 45. 29. 42. 30. 25. 38.  0. 25. 21. 18. 31.  0. 28. 23. 22. 35. 44.\n",
      " 31. 27. 49. 45. 33. 30. 38. 40. 25. 26. 42. 48. 28. 20. 23. 24. 31. 22.\n",
      " 21. 21. 34. 27. 21. 25.  0.  0. 50. 26. 24. 51. 38. 24. 24. 40. 32. 32.\n",
      " 23. 39. 47. 31. 29. 44. 43. 20. 23. 47. 55. 30. 25. 22. 20. 22. 37. 51.\n",
      " 44. 20. 24. 52. 26. 24. 20. 23. 36. 31. 23. 19.  0.  0. 30. 25. 44. 31.\n",
      " 30.  0.  0. 42. 29. 25. 44. 56. 33. 23. 54. 55. 20. 35. 50. 54. 34. 20.\n",
      " 50. 27. 29. 29. 38. 36. 21. 26. 40. 35. 25. 21. 41. 37. 25. 22. 21. 46.\n",
      " 33. 28. 37. 44. 28. 33. 41. 38. 28. 25. 20. 36. 24. 25. 33. 54. 22. 32.\n",
      " 46. 41. 32. 25. 41. 53. 21. 32. 52. 42. 29. 27. 38. 59. 34. 25. 53. 37.\n",
      " 30. 20. 37. 24. 43. 40. 45. 49. 21. 28. 43. 32. 15. 26.  0.  0. 37. 22.\n",
      " 31. 22.  0. 48. 20. 28. 47. 44. 27. 29. 42. 25. 38. 37. 44. 40. 32. 25.\n",
      " 35. 26.  0. 39. 20. 37. 26.  0. 34. 25. 22. 32. 41. 28. 30. 34. 43. 24.\n",
      " 32. 47. 44. 24. 20. 43. 39. 32. 24. 37. 47. 28. 34. 20. 48. 27. 21. 48.\n",
      " 42. 24. 28. 48. 28. 22. 23. 19. 43. 35. 24. 29.  0.  0. 32. 27. 20. 21.\n",
      " 27. 26. 19. 25.  0.  0. 47. 34. 30. 40. 34. 25. 20. 37. 42. 29. 28. 40.\n",
      " 45. 28. 31. 47. 33. 20. 25. 28.  0. 28. 20. 21. 25.  0. 30. 30.  0. 22.\n",
      " 37. 31. 23. 24.  0.  0. 20.]\n",
      "X min edges: [ 3.00623446  3.00623446  3.00623446  4.50579352  4.50579352  5.25557304\n",
      "  5.25557304  4.50579352  4.50579352  5.25557304  5.25557304  6.00535257\n",
      "  6.00535257  6.00535257  6.7551321   6.7551321   7.50491163  7.50491163\n",
      "  7.50491163  8.25469116  8.25469116  6.00535257  6.00535257  6.7551321\n",
      "  6.7551321   6.00535257  6.00535257  6.7551321   6.7551321   7.50491163\n",
      "  7.50491163  8.25469116  8.25469116  7.50491163  7.50491163  8.25469116\n",
      "  8.25469116  3.00623446  3.00623446  4.50579352  4.50579352  5.25557304\n",
      "  5.25557304  4.50579352  4.50579352  5.25557304  5.25557304  3.00623446\n",
      "  3.00623446  4.50579352  4.50579352  5.25557304  5.25557304  4.50579352\n",
      "  4.50579352  5.25557304  5.25557304  6.00535257  6.00535257  6.7551321\n",
      "  6.7551321   6.00535257  6.00535257  6.7551321   6.7551321   7.50491163\n",
      "  7.50491163  8.25469116  8.25469116  7.50491163  7.50491163  8.25469116\n",
      "  8.25469116  6.00535257  6.00535257  6.7551321   6.7551321   6.00535257\n",
      "  6.00535257  6.7551321   6.7551321   7.50491163  7.50491163  8.25469116\n",
      "  8.25469116  7.50491163  7.50491163  8.25469116  8.25469116  9.00447069\n",
      "  9.00447069  9.00447069  9.75425022  9.75425022 10.50402975 10.50402975\n",
      " 10.50402975 11.25380928 11.25380928  9.00447069  9.00447069  9.75425022\n",
      "  9.75425022  9.00447069  9.00447069  9.75425022  9.75425022 10.50402975\n",
      " 10.50402975 11.25380928 11.25380928 10.50402975 10.50402975 11.25380928\n",
      " 11.25380928 12.0035888  12.0035888  12.0035888  12.75336833 12.75336833\n",
      " 13.50314786 13.50314786 13.50314786 14.25292739 14.25292739 12.0035888\n",
      " 12.0035888  12.75336833 12.75336833 12.0035888  12.0035888  12.75336833\n",
      " 12.75336833 13.50314786 13.50314786 14.25292739 14.25292739 13.50314786\n",
      " 13.50314786 14.25292739 14.25292739  9.00447069  9.00447069  9.75425022\n",
      "  9.75425022  9.00447069  9.00447069  9.75425022  9.75425022 10.50402975\n",
      " 10.50402975 11.25380928 11.25380928 10.50402975 10.50402975 11.25380928\n",
      " 11.25380928  9.00447069  9.00447069  9.75425022  9.75425022  9.00447069\n",
      "  9.00447069  9.75425022  9.75425022 10.50402975 10.50402975 11.25380928\n",
      " 11.25380928 10.50402975 10.50402975 11.25380928 11.25380928 12.0035888\n",
      " 12.0035888  12.75336833 12.75336833 12.0035888  12.0035888  12.75336833\n",
      " 12.75336833 13.50314786 13.50314786 14.25292739 14.25292739 13.50314786\n",
      " 13.50314786 14.25292739 14.25292739 12.0035888  12.0035888  12.75336833\n",
      " 12.75336833 12.0035888  12.0035888  12.75336833 12.75336833 13.50314786\n",
      " 13.50314786 14.25292739 14.25292739 13.50314786 13.50314786 14.25292739\n",
      " 14.25292739  3.00623446  3.00623446  4.50579352  4.50579352  3.00623446\n",
      "  3.00623446  4.50579352  4.50579352  4.50579352  5.25557304  5.25557304\n",
      "  6.00535257  6.00535257  6.7551321   6.7551321   6.00535257  6.00535257\n",
      "  6.7551321   6.7551321   7.50491163  7.50491163  8.25469116  8.25469116\n",
      "  7.50491163  7.50491163  8.25469116  8.25469116  6.00535257  6.00535257\n",
      "  6.7551321   6.7551321   6.00535257  6.00535257  6.7551321   6.7551321\n",
      "  7.50491163  7.50491163  8.25469116  8.25469116  7.50491163  7.50491163\n",
      "  8.25469116  8.25469116  3.00623446  3.00623446  4.50579352  4.50579352\n",
      "  5.25557304  5.25557304  4.50579352  4.50579352  5.25557304  5.25557304\n",
      "  3.00623446  6.00535257  6.00535257  6.7551321   6.7551321   6.00535257\n",
      "  6.00535257  6.7551321   6.7551321   7.50491163  7.50491163  8.25469116\n",
      "  8.25469116  7.50491163  7.50491163  8.25469116  8.25469116  6.00535257\n",
      "  6.00535257  6.7551321   6.7551321   6.00535257  7.50491163  7.50491163\n",
      "  9.00447069  9.00447069  9.75425022  9.75425022  9.00447069  9.00447069\n",
      "  9.75425022  9.75425022 10.50402975 10.50402975 11.25380928 11.25380928\n",
      " 10.50402975 10.50402975 11.25380928 11.25380928  9.00447069  9.00447069\n",
      "  9.75425022  9.75425022  9.00447069  9.00447069  9.75425022  9.75425022\n",
      " 10.50402975 10.50402975 11.25380928 11.25380928 10.50402975 10.50402975\n",
      " 11.25380928 11.25380928 12.0035888  12.0035888  12.75336833 12.75336833\n",
      " 12.0035888  12.0035888  12.75336833 12.75336833 13.50314786 13.50314786\n",
      " 14.25292739 14.25292739 13.50314786 13.50314786 14.25292739 14.25292739\n",
      " 12.0035888  12.0035888  12.75336833 12.75336833 12.0035888  12.0035888\n",
      " 12.75336833 12.75336833 13.50314786 13.50314786 14.25292739 14.25292739\n",
      " 13.50314786 13.50314786 14.25292739 14.25292739  9.00447069  9.00447069\n",
      "  9.75425022  9.75425022  9.00447069  9.00447069  9.75425022  9.75425022\n",
      " 10.50402975 10.50402975 11.25380928 11.25380928 10.50402975 10.50402975\n",
      " 11.25380928 11.25380928  9.00447069  9.00447069  9.75425022  9.75425022\n",
      "  9.00447069 10.50402975 10.50402975 11.25380928 11.25380928 10.50402975\n",
      " 12.0035888  12.0035888  12.75336833 12.75336833 12.0035888  12.0035888\n",
      " 12.75336833 12.75336833 13.50314786 13.50314786 14.25292739 14.25292739\n",
      " 13.50314786 13.50314786 14.25292739 14.25292739 12.0035888  12.0035888\n",
      " 12.75336833 12.75336833 12.0035888  13.50314786 13.50314786 14.25292739\n",
      " 14.25292739 13.50314786 15.00270692 15.00270692 16.50226598 16.50226598\n",
      " 16.50226598 17.25204551 17.25204551 15.00270692 15.00270692 15.75248645\n",
      " 15.75248645 15.00270692 15.00270692 15.75248645 15.75248645 16.50226598\n",
      " 16.50226598 17.25204551 17.25204551 16.50226598 16.50226598 17.25204551\n",
      " 17.25204551 18.00182504 18.00182504 18.00182504 18.75160456 18.75160456\n",
      " 19.50138409 19.50138409 19.50138409 20.25116362 20.25116362 18.00182504\n",
      " 18.00182504 18.75160456 18.75160456 18.00182504 18.00182504 18.75160456\n",
      " 18.75160456 19.50138409 19.50138409 20.25116362 20.25116362 19.50138409\n",
      " 19.50138409 20.25116362 20.25116362 15.00270692 15.00270692 15.75248645\n",
      " 15.75248645 15.00270692 15.00270692 15.75248645 15.75248645 16.50226598\n",
      " 16.50226598 17.25204551 17.25204551 16.50226598 16.50226598 17.25204551\n",
      " 17.25204551 15.00270692 15.00270692 15.75248645 15.75248645 15.00270692\n",
      " 15.00270692 15.75248645 15.75248645 16.50226598 16.50226598 17.25204551\n",
      " 17.25204551 16.50226598 16.50226598 17.25204551 17.25204551 18.00182504\n",
      " 18.00182504 18.75160456 18.75160456 18.00182504 18.00182504 18.75160456\n",
      " 18.75160456 19.50138409 19.50138409 20.25116362 20.25116362 19.50138409\n",
      " 19.50138409 20.25116362 20.25116362 18.00182504 18.00182504 18.75160456\n",
      " 18.75160456 18.00182504 18.00182504 18.75160456 18.75160456 19.50138409\n",
      " 19.50138409 20.25116362 20.25116362 19.50138409 19.50138409 20.25116362\n",
      " 20.25116362 21.00094315 21.00094315 21.00094315 21.75072268 21.75072268\n",
      " 22.50050221 22.50050221 22.50050221 23.25028174 23.25028174 21.00094315\n",
      " 21.00094315 21.75072268 21.75072268 21.00094315 21.00094315 21.75072268\n",
      " 21.75072268 22.50050221 22.50050221 23.25028174 23.25028174 22.50050221\n",
      " 22.50050221 23.25028174 23.25028174 24.00006127 24.00006127 24.00006127\n",
      " 24.7498408  24.7498408  24.00006127 24.00006127 24.7498408  24.7498408\n",
      " 25.49962032 25.49962032 21.00094315 21.00094315 21.75072268 21.75072268\n",
      " 21.00094315 21.00094315 21.75072268 21.75072268 22.50050221 22.50050221\n",
      " 23.25028174 23.25028174 22.50050221 22.50050221 23.25028174 23.25028174\n",
      " 21.00094315 21.00094315 21.75072268 21.75072268 21.00094315 21.00094315\n",
      " 21.75072268 21.75072268 22.50050221 22.50050221 23.25028174 23.25028174\n",
      " 22.50050221 22.50050221 23.25028174 23.25028174 24.00006127 24.00006127\n",
      " 24.7498408  24.7498408  24.00006127 24.00006127 24.7498408  24.7498408\n",
      " 25.49962032 25.49962032 24.00006127 24.00006127 24.00006127 24.7498408\n",
      " 24.7498408  25.49962032 25.49962032 15.00270692 15.00270692 15.75248645\n",
      " 15.75248645 15.00270692 15.00270692 15.75248645 15.75248645 16.50226598\n",
      " 16.50226598 17.25204551 17.25204551 16.50226598 16.50226598 17.25204551\n",
      " 17.25204551 15.00270692 15.00270692 15.75248645 15.75248645 15.00270692\n",
      " 15.00270692 15.75248645 15.75248645 16.50226598 16.50226598 17.25204551\n",
      " 17.25204551 16.50226598 16.50226598 17.25204551 17.25204551 18.00182504\n",
      " 18.00182504 18.75160456 18.75160456 18.00182504 18.00182504 18.75160456\n",
      " 18.75160456 19.50138409 19.50138409 20.25116362 20.25116362 19.50138409\n",
      " 19.50138409 20.25116362 20.25116362 18.00182504 18.00182504 18.75160456\n",
      " 18.75160456 18.00182504 18.00182504 18.75160456 18.75160456 19.50138409\n",
      " 19.50138409 20.25116362 20.25116362 19.50138409 19.50138409 20.25116362\n",
      " 20.25116362 15.00270692 15.00270692 15.75248645 15.75248645 15.00270692\n",
      " 15.00270692 15.75248645 15.75248645 16.50226598 16.50226598 17.25204551\n",
      " 17.25204551 16.50226598 16.50226598 17.25204551 17.25204551 15.00270692\n",
      " 15.00270692 15.75248645 15.75248645 15.00270692 16.50226598 16.50226598\n",
      " 17.25204551 17.25204551 16.50226598 18.00182504 18.00182504 18.75160456\n",
      " 18.75160456 18.00182504 18.00182504 18.75160456 18.75160456 19.50138409\n",
      " 19.50138409 20.25116362 20.25116362 19.50138409 19.50138409 20.25116362\n",
      " 20.25116362 18.00182504 18.00182504 19.50138409 19.50138409 20.25116362\n",
      " 20.25116362 19.50138409 21.00094315 21.00094315 21.75072268 21.75072268\n",
      " 21.00094315 21.00094315 21.75072268 21.75072268 22.50050221 22.50050221\n",
      " 23.25028174 23.25028174 22.50050221 22.50050221 23.25028174 23.25028174\n",
      " 21.00094315 21.00094315 21.75072268 21.75072268 21.00094315 21.00094315\n",
      " 21.75072268 21.75072268 22.50050221 22.50050221 23.25028174 23.25028174\n",
      " 22.50050221 22.50050221 23.25028174 23.25028174 24.00006127 24.00006127\n",
      " 24.7498408  24.7498408  24.00006127 24.00006127 24.7498408  24.7498408\n",
      " 25.49962032 25.49962032 24.00006127 24.00006127 24.7498408  24.7498408\n",
      " 24.00006127 24.00006127 24.7498408  24.7498408  25.49962032 25.49962032\n",
      " 21.00094315 21.00094315 21.75072268 21.75072268 21.00094315 21.00094315\n",
      " 21.75072268 21.75072268 22.50050221 22.50050221 23.25028174 23.25028174\n",
      " 22.50050221 22.50050221 23.25028174 23.25028174 21.00094315 21.00094315\n",
      " 21.75072268 21.75072268 21.00094315 22.50050221 22.50050221 23.25028174\n",
      " 23.25028174 22.50050221 24.00006127 24.00006127 24.7498408  24.7498408\n",
      " 24.00006127 24.00006127 24.7498408  24.7498408  25.49962032 25.49962032\n",
      " 24.00006127]\n",
      "X max edges: [ 6.00535257  4.50579352  4.50579352  6.00535257  6.00535257  5.25557304\n",
      "  5.25557304  6.00535257  6.00535257  5.25557304  5.25557304  7.50491163\n",
      "  7.50491163  7.50491163  6.7551321   6.7551321   9.00447069  9.00447069\n",
      "  9.00447069  8.25469116  8.25469116  7.50491163  6.7551321   6.7551321\n",
      "  6.7551321   7.50491163  6.7551321   6.7551321   6.7551321   9.00447069\n",
      "  9.00447069  8.25469116  8.25469116  9.00447069  8.25469116  8.25469116\n",
      "  8.25469116  4.50579352  4.50579352  6.00535257  6.00535257  5.25557304\n",
      "  6.00535257  6.00535257  5.25557304  6.00535257  6.00535257  4.50579352\n",
      "  4.50579352  6.00535257  6.00535257  5.25557304  5.25557304  6.00535257\n",
      "  6.00535257  5.25557304  5.25557304  6.7551321   6.7551321   6.7551321\n",
      "  6.7551321   7.50491163  6.7551321   6.7551321   6.7551321   9.00447069\n",
      "  8.25469116  9.00447069  8.25469116  9.00447069  8.25469116  8.25469116\n",
      "  8.25469116  7.50491163  6.7551321   6.7551321   6.7551321   7.50491163\n",
      "  6.7551321   6.7551321   6.7551321   9.00447069  8.25469116  9.00447069\n",
      "  8.25469116  9.00447069  8.25469116  8.25469116  8.25469116 10.50402975\n",
      "  9.75425022 10.50402975 10.50402975  9.75425022 12.0035888  12.0035888\n",
      " 11.25380928 11.25380928 12.0035888  10.50402975  9.75425022  9.75425022\n",
      "  9.75425022 10.50402975 10.50402975  9.75425022  9.75425022 12.0035888\n",
      " 11.25380928 11.25380928 11.25380928 12.0035888  11.25380928 11.25380928\n",
      " 11.25380928 13.50314786 13.50314786 13.50314786 12.75336833 12.75336833\n",
      " 15.00270692 15.00270692 15.00270692 14.25292739 14.25292739 13.50314786\n",
      " 12.75336833 12.75336833 12.75336833 13.50314786 12.75336833 12.75336833\n",
      " 12.75336833 14.25292739 14.25292739 14.25292739 15.00270692 14.25292739\n",
      " 14.25292739 14.25292739 15.00270692 10.50402975  9.75425022  9.75425022\n",
      "  9.75425022 10.50402975 10.50402975  9.75425022  9.75425022 12.0035888\n",
      " 11.25380928 11.25380928 11.25380928 12.0035888  11.25380928 11.25380928\n",
      " 11.25380928 10.50402975  9.75425022  9.75425022  9.75425022 10.50402975\n",
      "  9.75425022  9.75425022  9.75425022 12.0035888  11.25380928 11.25380928\n",
      " 11.25380928 12.0035888  11.25380928 11.25380928 11.25380928 12.75336833\n",
      " 12.75336833 13.50314786 12.75336833 13.50314786 12.75336833 12.75336833\n",
      " 12.75336833 15.00270692 14.25292739 14.25292739 14.25292739 15.00270692\n",
      " 14.25292739 14.25292739 14.25292739 13.50314786 12.75336833 12.75336833\n",
      " 12.75336833 13.50314786 12.75336833 12.75336833 12.75336833 15.00270692\n",
      " 14.25292739 14.25292739 14.25292739 15.00270692 14.25292739 14.25292739\n",
      " 14.25292739  4.50579352  4.50579352  6.00535257  6.00535257  4.50579352\n",
      "  4.50579352  6.00535257  6.00535257  6.00535257  5.25557304  5.25557304\n",
      "  6.7551321   6.7551321   6.7551321   7.50491163  7.50491163  6.7551321\n",
      "  7.50491163  6.7551321   9.00447069  8.25469116  8.25469116  9.00447069\n",
      "  9.00447069  8.25469116  8.25469116  8.25469116  7.50491163  6.7551321\n",
      "  6.7551321   6.7551321   7.50491163  6.7551321   6.7551321   7.50491163\n",
      "  8.25469116  8.25469116  8.25469116  8.25469116  9.00447069  8.25469116\n",
      "  8.25469116  8.25469116  4.50579352  4.50579352  6.00535257  6.00535257\n",
      "  5.25557304  5.25557304  6.00535257  6.00535257  6.00535257  5.25557304\n",
      "  6.00535257  7.50491163  7.50491163  6.7551321   6.7551321   7.50491163\n",
      "  6.7551321   6.7551321   6.7551321   8.25469116  8.25469116  8.25469116\n",
      "  8.25469116  9.00447069  8.25469116  8.25469116  8.25469116  7.50491163\n",
      "  7.50491163  6.7551321   6.7551321   7.50491163  9.00447069  9.00447069\n",
      " 10.50402975 10.50402975  9.75425022 10.50402975 10.50402975  9.75425022\n",
      "  9.75425022  9.75425022 12.0035888  11.25380928 11.25380928 11.25380928\n",
      " 12.0035888  11.25380928 11.25380928 11.25380928 10.50402975  9.75425022\n",
      "  9.75425022  9.75425022 10.50402975  9.75425022  9.75425022  9.75425022\n",
      " 12.0035888  11.25380928 11.25380928 11.25380928 12.0035888  11.25380928\n",
      " 11.25380928 11.25380928 13.50314786 12.75336833 12.75336833 12.75336833\n",
      " 13.50314786 12.75336833 12.75336833 12.75336833 15.00270692 14.25292739\n",
      " 14.25292739 14.25292739 15.00270692 14.25292739 14.25292739 14.25292739\n",
      " 13.50314786 13.50314786 12.75336833 12.75336833 13.50314786 12.75336833\n",
      " 12.75336833 12.75336833 14.25292739 14.25292739 14.25292739 14.25292739\n",
      " 15.00270692 15.00270692 14.25292739 14.25292739 10.50402975  9.75425022\n",
      "  9.75425022  9.75425022 10.50402975  9.75425022  9.75425022  9.75425022\n",
      " 12.0035888  11.25380928 11.25380928 11.25380928 12.0035888  11.25380928\n",
      " 11.25380928 11.25380928 10.50402975 10.50402975 10.50402975  9.75425022\n",
      " 10.50402975 12.0035888  12.0035888  11.25380928 11.25380928 12.0035888\n",
      " 13.50314786 12.75336833 13.50314786 12.75336833 13.50314786 12.75336833\n",
      " 12.75336833 12.75336833 15.00270692 14.25292739 14.25292739 14.25292739\n",
      " 15.00270692 14.25292739 14.25292739 14.25292739 13.50314786 13.50314786\n",
      " 12.75336833 12.75336833 13.50314786 15.00270692 15.00270692 14.25292739\n",
      " 14.25292739 15.00270692 16.50226598 16.50226598 18.00182504 18.00182504\n",
      " 18.00182504 17.25204551 17.25204551 16.50226598 15.75248645 16.50226598\n",
      " 15.75248645 16.50226598 15.75248645 15.75248645 15.75248645 18.00182504\n",
      " 17.25204551 17.25204551 17.25204551 18.00182504 17.25204551 17.25204551\n",
      " 17.25204551 19.50138409 19.50138409 18.75160456 18.75160456 18.75160456\n",
      " 21.00094315 21.00094315 20.25116362 20.25116362 20.25116362 19.50138409\n",
      " 18.75160456 18.75160456 18.75160456 19.50138409 18.75160456 18.75160456\n",
      " 18.75160456 21.00094315 20.25116362 20.25116362 20.25116362 21.00094315\n",
      " 20.25116362 20.25116362 20.25116362 16.50226598 15.75248645 15.75248645\n",
      " 15.75248645 16.50226598 15.75248645 15.75248645 15.75248645 18.00182504\n",
      " 17.25204551 17.25204551 17.25204551 18.00182504 17.25204551 17.25204551\n",
      " 17.25204551 16.50226598 15.75248645 16.50226598 15.75248645 16.50226598\n",
      " 15.75248645 15.75248645 15.75248645 18.00182504 17.25204551 17.25204551\n",
      " 17.25204551 18.00182504 17.25204551 17.25204551 17.25204551 19.50138409\n",
      " 18.75160456 18.75160456 18.75160456 19.50138409 18.75160456 18.75160456\n",
      " 18.75160456 20.25116362 20.25116362 20.25116362 20.25116362 21.00094315\n",
      " 20.25116362 20.25116362 20.25116362 19.50138409 18.75160456 18.75160456\n",
      " 18.75160456 19.50138409 18.75160456 18.75160456 19.50138409 21.00094315\n",
      " 20.25116362 20.25116362 21.00094315 21.00094315 20.25116362 20.25116362\n",
      " 20.25116362 22.50050221 22.50050221 21.75072268 21.75072268 21.75072268\n",
      " 24.00006127 24.00006127 23.25028174 23.25028174 23.25028174 22.50050221\n",
      " 21.75072268 21.75072268 21.75072268 22.50050221 21.75072268 21.75072268\n",
      " 21.75072268 24.00006127 23.25028174 23.25028174 23.25028174 24.00006127\n",
      " 23.25028174 24.00006127 24.00006127 26.99917938 25.49962032 24.7498408\n",
      " 24.7498408  24.7498408  25.49962032 24.7498408  24.7498408  24.7498408\n",
      " 26.99917938 26.99917938 22.50050221 21.75072268 22.50050221 21.75072268\n",
      " 22.50050221 21.75072268 21.75072268 21.75072268 24.00006127 24.00006127\n",
      " 23.25028174 23.25028174 24.00006127 23.25028174 23.25028174 23.25028174\n",
      " 22.50050221 21.75072268 21.75072268 21.75072268 22.50050221 21.75072268\n",
      " 22.50050221 22.50050221 23.25028174 23.25028174 23.25028174 23.25028174\n",
      " 24.00006127 23.25028174 23.25028174 23.25028174 25.49962032 25.49962032\n",
      " 24.7498408  24.7498408  25.49962032 24.7498408  24.7498408  24.7498408\n",
      " 26.99917938 26.99917938 25.49962032 24.7498408  24.7498408  24.7498408\n",
      " 24.7498408  26.99917938 26.99917938 16.50226598 15.75248645 15.75248645\n",
      " 15.75248645 16.50226598 15.75248645 16.50226598 15.75248645 18.00182504\n",
      " 17.25204551 17.25204551 17.25204551 18.00182504 17.25204551 18.00182504\n",
      " 17.25204551 16.50226598 16.50226598 15.75248645 15.75248645 16.50226598\n",
      " 15.75248645 15.75248645 15.75248645 18.00182504 17.25204551 17.25204551\n",
      " 17.25204551 18.00182504 17.25204551 17.25204551 18.00182504 19.50138409\n",
      " 18.75160456 18.75160456 18.75160456 19.50138409 18.75160456 18.75160456\n",
      " 18.75160456 21.00094315 20.25116362 20.25116362 21.00094315 21.00094315\n",
      " 20.25116362 20.25116362 20.25116362 19.50138409 18.75160456 18.75160456\n",
      " 18.75160456 19.50138409 18.75160456 18.75160456 18.75160456 21.00094315\n",
      " 20.25116362 20.25116362 20.25116362 21.00094315 20.25116362 20.25116362\n",
      " 20.25116362 16.50226598 15.75248645 16.50226598 15.75248645 16.50226598\n",
      " 15.75248645 15.75248645 15.75248645 17.25204551 17.25204551 17.25204551\n",
      " 17.25204551 18.00182504 17.25204551 17.25204551 17.25204551 16.50226598\n",
      " 15.75248645 15.75248645 16.50226598 16.50226598 18.00182504 17.25204551\n",
      " 17.25204551 17.25204551 18.00182504 19.50138409 18.75160456 18.75160456\n",
      " 18.75160456 19.50138409 18.75160456 18.75160456 18.75160456 20.25116362\n",
      " 20.25116362 20.25116362 20.25116362 21.00094315 20.25116362 20.25116362\n",
      " 20.25116362 19.50138409 19.50138409 21.00094315 20.25116362 20.25116362\n",
      " 20.25116362 21.00094315 22.50050221 21.75072268 21.75072268 21.75072268\n",
      " 22.50050221 21.75072268 21.75072268 21.75072268 24.00006127 23.25028174\n",
      " 23.25028174 23.25028174 24.00006127 23.25028174 24.00006127 23.25028174\n",
      " 22.50050221 21.75072268 21.75072268 21.75072268 22.50050221 21.75072268\n",
      " 21.75072268 22.50050221 24.00006127 23.25028174 24.00006127 23.25028174\n",
      " 24.00006127 23.25028174 23.25028174 23.25028174 25.49962032 24.7498408\n",
      " 24.7498408  24.7498408  25.49962032 24.7498408  24.7498408  24.7498408\n",
      " 26.99917938 26.99917938 25.49962032 24.7498408  24.7498408  24.7498408\n",
      " 25.49962032 24.7498408  24.7498408  24.7498408  26.99917938 26.99917938\n",
      " 22.50050221 21.75072268 21.75072268 21.75072268 22.50050221 21.75072268\n",
      " 21.75072268 21.75072268 24.00006127 23.25028174 23.25028174 23.25028174\n",
      " 24.00006127 23.25028174 23.25028174 23.25028174 22.50050221 21.75072268\n",
      " 21.75072268 21.75072268 22.50050221 24.00006127 24.00006127 23.25028174\n",
      " 23.25028174 24.00006127 24.7498408  24.7498408  25.49962032 24.7498408\n",
      " 25.49962032 24.7498408  24.7498408  24.7498408  26.99917938 26.99917938\n",
      " 26.99917938]\n",
      "Y min edges: [ 2.00054629  6.50036845  8.75027953  6.50036845  7.62532399  6.50036845\n",
      "  7.62532399  8.75027953  9.87523507  8.75027953  9.87523507  2.00054629\n",
      "  4.25045737  5.37541291  4.25045737  5.37541291  2.00054629  4.25045737\n",
      "  5.37541291  4.25045737  5.37541291  6.50036845  7.62532399  6.50036845\n",
      "  7.62532399  8.75027953  9.87523507  8.75027953  9.87523507  6.50036845\n",
      "  7.62532399  6.50036845  7.62532399  8.75027953  9.87523507  8.75027953\n",
      "  9.87523507 11.00019061 13.25010169 11.00019061 12.12514615 11.00019061\n",
      " 12.12514615 13.25010169 14.37505723 13.25010169 14.37505723 15.50001277\n",
      " 17.74992385 15.50001277 16.62496831 15.50001277 16.62496831 17.74992385\n",
      " 18.87487939 17.74992385 18.87487939 11.00019061 12.12514615 11.00019061\n",
      " 12.12514615 13.25010169 14.37505723 13.25010169 14.37505723 11.00019061\n",
      " 12.12514615 11.00019061 12.12514615 13.25010169 14.37505723 13.25010169\n",
      " 14.37505723 15.50001277 16.62496831 15.50001277 16.62496831 17.74992385\n",
      " 18.87487939 17.74992385 18.87487939 15.50001277 16.62496831 15.50001277\n",
      " 16.62496831 17.74992385 18.87487939 17.74992385 18.87487939  2.00054629\n",
      "  4.25045737  5.37541291  4.25045737  5.37541291  2.00054629  4.25045737\n",
      "  5.37541291  4.25045737  5.37541291  6.50036845  7.62532399  6.50036845\n",
      "  7.62532399  8.75027953  9.87523507  8.75027953  9.87523507  6.50036845\n",
      "  7.62532399  6.50036845  7.62532399  8.75027953  9.87523507  8.75027953\n",
      "  9.87523507  2.00054629  4.25045737  5.37541291  4.25045737  5.37541291\n",
      "  2.00054629  4.25045737  5.37541291  4.25045737  5.37541291  6.50036845\n",
      "  7.62532399  6.50036845  7.62532399  8.75027953  9.87523507  8.75027953\n",
      "  9.87523507  6.50036845  7.62532399  6.50036845  7.62532399  8.75027953\n",
      "  9.87523507  8.75027953  9.87523507 11.00019061 12.12514615 11.00019061\n",
      " 12.12514615 13.25010169 14.37505723 13.25010169 14.37505723 11.00019061\n",
      " 12.12514615 11.00019061 12.12514615 13.25010169 14.37505723 13.25010169\n",
      " 14.37505723 15.50001277 16.62496831 15.50001277 16.62496831 17.74992385\n",
      " 18.87487939 17.74992385 18.87487939 15.50001277 16.62496831 15.50001277\n",
      " 16.62496831 17.74992385 18.87487939 17.74992385 18.87487939 11.00019061\n",
      " 12.12514615 11.00019061 12.12514615 13.25010169 14.37505723 13.25010169\n",
      " 14.37505723 11.00019061 12.12514615 11.00019061 12.12514615 13.25010169\n",
      " 14.37505723 13.25010169 14.37505723 15.50001277 16.62496831 15.50001277\n",
      " 16.62496831 17.74992385 18.87487939 17.74992385 18.87487939 15.50001277\n",
      " 16.62496831 15.50001277 16.62496831 17.74992385 18.87487939 17.74992385\n",
      " 18.87487939 19.99983493 22.24974601 19.99983493 22.24974601 24.49965709\n",
      " 26.74956817 24.49965709 26.74956817 27.87452371 26.74956817 27.87452371\n",
      " 19.99983493 21.12479047 19.99983493 21.12479047 22.24974601 23.37470155\n",
      " 22.24974601 23.37470155 19.99983493 21.12479047 19.99983493 21.12479047\n",
      " 22.24974601 23.37470155 22.24974601 23.37470155 24.49965709 25.62461263\n",
      " 24.49965709 25.62461263 26.74956817 27.87452371 26.74956817 27.87452371\n",
      " 24.49965709 25.62461263 24.49965709 25.62461263 26.74956817 27.87452371\n",
      " 26.74956817 27.87452371 28.99947925 31.24939033 28.99947925 30.12443479\n",
      " 28.99947925 30.12443479 31.24939033 32.37434587 31.24939033 32.37434587\n",
      " 33.49930141 28.99947925 30.12443479 28.99947925 30.12443479 31.24939033\n",
      " 32.37434587 31.24939033 32.37434587 28.99947925 30.12443479 28.99947925\n",
      " 30.12443479 31.24939033 32.37434587 31.24939033 32.37434587 33.49930141\n",
      " 34.62425695 33.49930141 34.62425695 35.74921249 33.49930141 35.74921249\n",
      " 19.99983493 21.12479047 19.99983493 21.12479047 22.24974601 23.37470155\n",
      " 22.24974601 23.37470155 19.99983493 21.12479047 19.99983493 21.12479047\n",
      " 22.24974601 23.37470155 22.24974601 23.37470155 24.49965709 25.62461263\n",
      " 24.49965709 25.62461263 26.74956817 27.87452371 26.74956817 27.87452371\n",
      " 24.49965709 25.62461263 24.49965709 25.62461263 26.74956817 27.87452371\n",
      " 26.74956817 27.87452371 19.99983493 21.12479047 19.99983493 21.12479047\n",
      " 22.24974601 23.37470155 22.24974601 23.37470155 19.99983493 21.12479047\n",
      " 19.99983493 21.12479047 22.24974601 23.37470155 22.24974601 23.37470155\n",
      " 24.49965709 25.62461263 24.49965709 25.62461263 26.74956817 27.87452371\n",
      " 26.74956817 27.87452371 24.49965709 25.62461263 24.49965709 25.62461263\n",
      " 26.74956817 27.87452371 26.74956817 27.87452371 28.99947925 30.12443479\n",
      " 28.99947925 30.12443479 31.24939033 32.37434587 31.24939033 32.37434587\n",
      " 28.99947925 30.12443479 28.99947925 30.12443479 31.24939033 32.37434587\n",
      " 31.24939033 32.37434587 33.49930141 34.62425695 33.49930141 34.62425695\n",
      " 35.74921249 33.49930141 34.62425695 33.49930141 34.62425695 35.74921249\n",
      " 28.99947925 30.12443479 28.99947925 30.12443479 31.24939033 32.37434587\n",
      " 31.24939033 32.37434587 28.99947925 30.12443479 28.99947925 30.12443479\n",
      " 31.24939033 32.37434587 31.24939033 32.37434587 33.49930141 34.62425695\n",
      " 33.49930141 34.62425695 35.74921249 33.49930141 34.62425695 33.49930141\n",
      " 34.62425695 35.74921249  2.00054629  4.25045737  2.00054629  4.25045737\n",
      "  5.37541291  4.25045737  5.37541291  6.50036845  7.62532399  6.50036845\n",
      "  7.62532399  8.75027953  9.87523507  8.75027953  9.87523507  6.50036845\n",
      "  7.62532399  6.50036845  7.62532399  8.75027953  9.87523507  8.75027953\n",
      "  9.87523507  2.00054629  4.25045737  5.37541291  4.25045737  5.37541291\n",
      "  2.00054629  4.25045737  5.37541291  4.25045737  5.37541291  6.50036845\n",
      "  7.62532399  6.50036845  7.62532399  8.75027953  9.87523507  8.75027953\n",
      "  9.87523507  6.50036845  7.62532399  6.50036845  7.62532399  8.75027953\n",
      "  9.87523507  8.75027953  9.87523507 11.00019061 12.12514615 11.00019061\n",
      " 12.12514615 13.25010169 14.37505723 13.25010169 14.37505723 11.00019061\n",
      " 12.12514615 11.00019061 12.12514615 13.25010169 14.37505723 13.25010169\n",
      " 14.37505723 15.50001277 16.62496831 15.50001277 16.62496831 17.74992385\n",
      " 18.87487939 17.74992385 18.87487939 15.50001277 16.62496831 15.50001277\n",
      " 16.62496831 17.74992385 18.87487939 17.74992385 18.87487939 11.00019061\n",
      " 12.12514615 11.00019061 12.12514615 13.25010169 14.37505723 13.25010169\n",
      " 14.37505723 11.00019061 12.12514615 11.00019061 12.12514615 13.25010169\n",
      " 14.37505723 13.25010169 14.37505723 15.50001277 16.62496831 15.50001277\n",
      " 16.62496831 17.74992385 18.87487939 17.74992385 18.87487939 15.50001277\n",
      " 16.62496831 15.50001277 16.62496831 17.74992385 18.87487939 17.74992385\n",
      " 18.87487939  2.00054629  4.25045737  5.37541291  4.25045737  5.37541291\n",
      "  2.00054629  4.25045737  5.37541291  4.25045737  5.37541291  6.50036845\n",
      "  7.62532399  6.50036845  7.62532399  8.75027953  9.87523507  8.75027953\n",
      "  9.87523507  6.50036845  7.62532399  6.50036845  7.62532399  8.75027953\n",
      "  9.87523507  8.75027953  9.87523507  2.00054629  6.50036845  7.62532399\n",
      "  6.50036845  7.62532399  8.75027953  9.87523507  8.75027953  9.87523507\n",
      "  6.50036845  8.75027953 11.00019061 12.12514615 11.00019061 12.12514615\n",
      " 13.25010169 14.37505723 13.25010169 14.37505723 11.00019061 12.12514615\n",
      " 11.00019061 12.12514615 13.25010169 14.37505723 13.25010169 14.37505723\n",
      " 15.50001277 16.62496831 15.50001277 16.62496831 17.74992385 18.87487939\n",
      " 17.74992385 18.87487939 15.50001277 16.62496831 15.50001277 16.62496831\n",
      " 17.74992385 18.87487939 17.74992385 18.87487939 11.00019061 12.12514615\n",
      " 11.00019061 12.12514615 13.25010169 14.37505723 13.25010169 14.37505723\n",
      " 11.00019061 13.25010169 15.50001277 17.74992385 18.87487939 17.74992385\n",
      " 18.87487939 15.50001277 17.74992385 19.99983493 21.12479047 19.99983493\n",
      " 21.12479047 22.24974601 23.37470155 22.24974601 23.37470155 19.99983493\n",
      " 21.12479047 19.99983493 21.12479047 22.24974601 23.37470155 22.24974601\n",
      " 23.37470155 24.49965709 25.62461263 24.49965709 25.62461263 26.74956817\n",
      " 27.87452371 26.74956817 27.87452371 24.49965709 25.62461263 24.49965709\n",
      " 25.62461263 26.74956817 27.87452371 26.74956817 27.87452371 19.99983493\n",
      " 21.12479047 19.99983493 21.12479047 22.24974601 23.37470155 22.24974601\n",
      " 23.37470155 19.99983493 21.12479047 19.99983493 21.12479047 22.24974601\n",
      " 23.37470155 22.24974601 23.37470155 24.49965709 25.62461263 24.49965709\n",
      " 25.62461263 26.74956817 27.87452371 26.74956817 27.87452371 24.49965709\n",
      " 25.62461263 24.49965709 25.62461263 26.74956817 27.87452371 26.74956817\n",
      " 27.87452371 28.99947925 30.12443479 28.99947925 30.12443479 31.24939033\n",
      " 32.37434587 31.24939033 32.37434587 28.99947925 30.12443479 28.99947925\n",
      " 30.12443479 31.24939033 32.37434587 31.24939033 32.37434587 33.49930141\n",
      " 34.62425695 33.49930141 34.62425695 35.74921249 33.49930141 34.62425695\n",
      " 33.49930141 34.62425695 35.74921249 28.99947925 30.12443479 28.99947925\n",
      " 30.12443479 31.24939033 32.37434587 31.24939033 32.37434587 28.99947925\n",
      " 30.12443479 28.99947925 30.12443479 31.24939033 32.37434587 31.24939033\n",
      " 32.37434587 33.49930141 35.74921249 33.49930141 34.62425695 33.49930141\n",
      " 34.62425695 35.74921249 19.99983493 21.12479047 19.99983493 21.12479047\n",
      " 22.24974601 23.37470155 22.24974601 23.37470155 19.99983493 21.12479047\n",
      " 19.99983493 21.12479047 22.24974601 23.37470155 22.24974601 23.37470155\n",
      " 24.49965709 25.62461263 24.49965709 25.62461263 26.74956817 27.87452371\n",
      " 26.74956817 27.87452371 24.49965709 25.62461263 24.49965709 25.62461263\n",
      " 26.74956817 27.87452371 26.74956817 27.87452371 19.99983493 21.12479047\n",
      " 19.99983493 21.12479047 22.24974601 23.37470155 22.24974601 23.37470155\n",
      " 19.99983493 22.24974601 24.49965709 25.62461263 24.49965709 25.62461263\n",
      " 26.74956817 27.87452371 26.74956817 27.87452371 24.49965709 26.74956817\n",
      " 28.99947925 30.12443479 28.99947925 30.12443479 31.24939033 32.37434587\n",
      " 31.24939033 32.37434587 28.99947925 30.12443479 28.99947925 30.12443479\n",
      " 31.24939033 32.37434587 31.24939033 32.37434587 33.49930141 34.62425695\n",
      " 33.49930141 34.62425695 35.74921249 33.49930141 34.62425695 33.49930141\n",
      " 34.62425695 35.74921249 28.99947925 30.12443479 28.99947925 30.12443479\n",
      " 31.24939033 32.37434587 31.24939033 32.37434587 28.99947925 31.24939033\n",
      " 33.49930141]\n",
      "Y max edges: [ 6.50036845  8.75027953 11.00019061  8.75027953  7.62532399  8.75027953\n",
      "  7.62532399 11.00019061  9.87523507 11.00019061  9.87523507  4.25045737\n",
      "  6.50036845  5.37541291  6.50036845  5.37541291  4.25045737  6.50036845\n",
      "  5.37541291  6.50036845  5.37541291  8.75027953  8.75027953  7.62532399\n",
      "  7.62532399 11.00019061  9.87523507  9.87523507  9.87523507  8.75027953\n",
      "  7.62532399  7.62532399  7.62532399 11.00019061  9.87523507  9.87523507\n",
      "  9.87523507 13.25010169 15.50001277 13.25010169 12.12514615 12.12514615\n",
      " 13.25010169 14.37505723 15.50001277 14.37505723 14.37505723 17.74992385\n",
      " 19.99983493 17.74992385 16.62496831 16.62496831 16.62496831 19.99983493\n",
      " 18.87487939 18.87487939 18.87487939 12.12514615 12.12514615 12.12514615\n",
      " 12.12514615 15.50001277 14.37505723 14.37505723 14.37505723 13.25010169\n",
      " 12.12514615 12.12514615 12.12514615 15.50001277 14.37505723 14.37505723\n",
      " 14.37505723 17.74992385 16.62496831 16.62496831 16.62496831 19.99983493\n",
      " 18.87487939 18.87487939 18.87487939 17.74992385 16.62496831 16.62496831\n",
      " 16.62496831 19.99983493 18.87487939 18.87487939 18.87487939  4.25045737\n",
      "  5.37541291  6.50036845  6.50036845  5.37541291  4.25045737  6.50036845\n",
      "  5.37541291  6.50036845  6.50036845  8.75027953  7.62532399  7.62532399\n",
      "  7.62532399 11.00019061  9.87523507  9.87523507  9.87523507  8.75027953\n",
      "  7.62532399  7.62532399  7.62532399 11.00019061  9.87523507  9.87523507\n",
      "  9.87523507  4.25045737  6.50036845  5.37541291  6.50036845  5.37541291\n",
      "  4.25045737  6.50036845  5.37541291  6.50036845  5.37541291  8.75027953\n",
      "  8.75027953  7.62532399  7.62532399 11.00019061  9.87523507  9.87523507\n",
      "  9.87523507  7.62532399  7.62532399  7.62532399  8.75027953  9.87523507\n",
      "  9.87523507  9.87523507 11.00019061 13.25010169 12.12514615 12.12514615\n",
      " 12.12514615 15.50001277 14.37505723 14.37505723 14.37505723 13.25010169\n",
      " 12.12514615 12.12514615 12.12514615 15.50001277 14.37505723 14.37505723\n",
      " 14.37505723 17.74992385 16.62496831 16.62496831 16.62496831 19.99983493\n",
      " 18.87487939 18.87487939 18.87487939 17.74992385 16.62496831 16.62496831\n",
      " 16.62496831 19.99983493 18.87487939 18.87487939 18.87487939 12.12514615\n",
      " 12.12514615 12.12514615 12.12514615 15.50001277 14.37505723 14.37505723\n",
      " 14.37505723 13.25010169 12.12514615 12.12514615 12.12514615 15.50001277\n",
      " 14.37505723 14.37505723 14.37505723 17.74992385 16.62496831 16.62496831\n",
      " 16.62496831 19.99983493 18.87487939 18.87487939 18.87487939 17.74992385\n",
      " 16.62496831 16.62496831 16.62496831 19.99983493 18.87487939 18.87487939\n",
      " 18.87487939 22.24974601 24.49965709 22.24974601 22.24974601 26.74956817\n",
      " 28.99947925 26.74956817 28.99947925 27.87452371 27.87452371 27.87452371\n",
      " 21.12479047 21.12479047 21.12479047 22.24974601 24.49965709 23.37470155\n",
      " 23.37470155 23.37470155 22.24974601 21.12479047 21.12479047 22.24974601\n",
      " 24.49965709 23.37470155 23.37470155 23.37470155 26.74956817 25.62461263\n",
      " 25.62461263 25.62461263 28.99947925 27.87452371 27.87452371 28.99947925\n",
      " 25.62461263 25.62461263 25.62461263 25.62461263 28.99947925 27.87452371\n",
      " 27.87452371 27.87452371 31.24939033 33.49930141 31.24939033 30.12443479\n",
      " 31.24939033 30.12443479 33.49930141 32.37434587 32.37434587 32.37434587\n",
      " 37.99912357 31.24939033 30.12443479 31.24939033 30.12443479 33.49930141\n",
      " 32.37434587 33.49930141 32.37434587 30.12443479 30.12443479 30.12443479\n",
      " 30.12443479 33.49930141 32.37434587 33.49930141 32.37434587 35.74921249\n",
      " 34.62425695 34.62425695 34.62425695 37.99912357 35.74921249 37.99912357\n",
      " 22.24974601 21.12479047 21.12479047 22.24974601 24.49965709 23.37470155\n",
      " 23.37470155 23.37470155 22.24974601 21.12479047 21.12479047 21.12479047\n",
      " 24.49965709 23.37470155 23.37470155 23.37470155 26.74956817 25.62461263\n",
      " 25.62461263 25.62461263 28.99947925 27.87452371 27.87452371 27.87452371\n",
      " 26.74956817 25.62461263 25.62461263 25.62461263 28.99947925 28.99947925\n",
      " 27.87452371 27.87452371 22.24974601 21.12479047 22.24974601 21.12479047\n",
      " 24.49965709 23.37470155 23.37470155 23.37470155 22.24974601 21.12479047\n",
      " 21.12479047 21.12479047 24.49965709 23.37470155 23.37470155 23.37470155\n",
      " 26.74956817 25.62461263 25.62461263 25.62461263 28.99947925 27.87452371\n",
      " 27.87452371 27.87452371 25.62461263 25.62461263 25.62461263 25.62461263\n",
      " 28.99947925 27.87452371 27.87452371 27.87452371 31.24939033 30.12443479\n",
      " 30.12443479 30.12443479 33.49930141 32.37434587 32.37434587 32.37434587\n",
      " 31.24939033 30.12443479 30.12443479 30.12443479 33.49930141 32.37434587\n",
      " 32.37434587 32.37434587 35.74921249 34.62425695 34.62425695 34.62425695\n",
      " 37.99912357 35.74921249 34.62425695 34.62425695 34.62425695 37.99912357\n",
      " 31.24939033 30.12443479 30.12443479 30.12443479 33.49930141 33.49930141\n",
      " 32.37434587 32.37434587 31.24939033 30.12443479 30.12443479 30.12443479\n",
      " 33.49930141 32.37434587 32.37434587 32.37434587 35.74921249 34.62425695\n",
      " 34.62425695 34.62425695 37.99912357 35.74921249 34.62425695 34.62425695\n",
      " 34.62425695 37.99912357  4.25045737  6.50036845  4.25045737  6.50036845\n",
      "  5.37541291  6.50036845  5.37541291  8.75027953  7.62532399  7.62532399\n",
      "  7.62532399 11.00019061  9.87523507  9.87523507  9.87523507  8.75027953\n",
      "  7.62532399  7.62532399  7.62532399 11.00019061  9.87523507  9.87523507\n",
      "  9.87523507  4.25045737  6.50036845  6.50036845  6.50036845  5.37541291\n",
      "  4.25045737  6.50036845  5.37541291  6.50036845  5.37541291  8.75027953\n",
      "  7.62532399  8.75027953  7.62532399 11.00019061  9.87523507  9.87523507\n",
      "  9.87523507  8.75027953  7.62532399  7.62532399  7.62532399 11.00019061\n",
      "  9.87523507  9.87523507  9.87523507 13.25010169 12.12514615 12.12514615\n",
      " 12.12514615 15.50001277 14.37505723 14.37505723 14.37505723 13.25010169\n",
      " 12.12514615 12.12514615 12.12514615 15.50001277 14.37505723 14.37505723\n",
      " 14.37505723 17.74992385 16.62496831 16.62496831 16.62496831 19.99983493\n",
      " 18.87487939 18.87487939 18.87487939 17.74992385 16.62496831 16.62496831\n",
      " 16.62496831 19.99983493 18.87487939 18.87487939 18.87487939 13.25010169\n",
      " 12.12514615 12.12514615 12.12514615 15.50001277 14.37505723 14.37505723\n",
      " 14.37505723 12.12514615 12.12514615 12.12514615 12.12514615 15.50001277\n",
      " 14.37505723 14.37505723 14.37505723 17.74992385 16.62496831 16.62496831\n",
      " 16.62496831 19.99983493 18.87487939 18.87487939 19.99983493 17.74992385\n",
      " 16.62496831 17.74992385 17.74992385 19.99983493 18.87487939 18.87487939\n",
      " 18.87487939  4.25045737  6.50036845  5.37541291  6.50036845  5.37541291\n",
      "  4.25045737  6.50036845  5.37541291  6.50036845  5.37541291  8.75027953\n",
      "  7.62532399  7.62532399  7.62532399 11.00019061  9.87523507  9.87523507\n",
      "  9.87523507  8.75027953  7.62532399  7.62532399  7.62532399 11.00019061\n",
      "  9.87523507  9.87523507 11.00019061  6.50036845  8.75027953  7.62532399\n",
      "  7.62532399  7.62532399 11.00019061  9.87523507  9.87523507  9.87523507\n",
      "  8.75027953 11.00019061 13.25010169 12.12514615 12.12514615 12.12514615\n",
      " 15.50001277 14.37505723 14.37505723 14.37505723 13.25010169 12.12514615\n",
      " 12.12514615 12.12514615 15.50001277 14.37505723 14.37505723 14.37505723\n",
      " 17.74992385 17.74992385 16.62496831 16.62496831 19.99983493 18.87487939\n",
      " 18.87487939 19.99983493 16.62496831 17.74992385 16.62496831 16.62496831\n",
      " 19.99983493 19.99983493 18.87487939 18.87487939 13.25010169 12.12514615\n",
      " 13.25010169 12.12514615 15.50001277 14.37505723 14.37505723 14.37505723\n",
      " 13.25010169 15.50001277 17.74992385 18.87487939 18.87487939 18.87487939\n",
      " 18.87487939 17.74992385 19.99983493 22.24974601 21.12479047 21.12479047\n",
      " 21.12479047 24.49965709 23.37470155 23.37470155 23.37470155 22.24974601\n",
      " 22.24974601 21.12479047 21.12479047 24.49965709 23.37470155 23.37470155\n",
      " 23.37470155 26.74956817 25.62461263 26.74956817 25.62461263 28.99947925\n",
      " 27.87452371 27.87452371 27.87452371 26.74956817 25.62461263 25.62461263\n",
      " 25.62461263 28.99947925 27.87452371 27.87452371 28.99947925 22.24974601\n",
      " 21.12479047 21.12479047 21.12479047 24.49965709 23.37470155 23.37470155\n",
      " 23.37470155 22.24974601 21.12479047 21.12479047 22.24974601 24.49965709\n",
      " 23.37470155 23.37470155 23.37470155 26.74956817 26.74956817 25.62461263\n",
      " 25.62461263 28.99947925 27.87452371 27.87452371 27.87452371 26.74956817\n",
      " 26.74956817 25.62461263 25.62461263 28.99947925 27.87452371 27.87452371\n",
      " 27.87452371 31.24939033 30.12443479 30.12443479 30.12443479 33.49930141\n",
      " 32.37434587 32.37434587 32.37434587 30.12443479 30.12443479 30.12443479\n",
      " 30.12443479 33.49930141 33.49930141 32.37434587 32.37434587 35.74921249\n",
      " 34.62425695 34.62425695 35.74921249 37.99912357 35.74921249 34.62425695\n",
      " 34.62425695 34.62425695 37.99912357 31.24939033 31.24939033 30.12443479\n",
      " 30.12443479 33.49930141 32.37434587 32.37434587 32.37434587 30.12443479\n",
      " 30.12443479 30.12443479 30.12443479 33.49930141 32.37434587 32.37434587\n",
      " 32.37434587 35.74921249 37.99912357 35.74921249 34.62425695 34.62425695\n",
      " 34.62425695 37.99912357 22.24974601 21.12479047 21.12479047 21.12479047\n",
      " 24.49965709 23.37470155 23.37470155 23.37470155 22.24974601 21.12479047\n",
      " 21.12479047 21.12479047 24.49965709 23.37470155 23.37470155 23.37470155\n",
      " 26.74956817 25.62461263 25.62461263 25.62461263 28.99947925 27.87452371\n",
      " 27.87452371 28.99947925 26.74956817 25.62461263 25.62461263 25.62461263\n",
      " 28.99947925 27.87452371 27.87452371 27.87452371 22.24974601 21.12479047\n",
      " 22.24974601 21.12479047 24.49965709 23.37470155 23.37470155 23.37470155\n",
      " 22.24974601 24.49965709 26.74956817 25.62461263 25.62461263 25.62461263\n",
      " 28.99947925 27.87452371 28.99947925 27.87452371 26.74956817 28.99947925\n",
      " 31.24939033 30.12443479 30.12443479 30.12443479 33.49930141 32.37434587\n",
      " 32.37434587 32.37434587 31.24939033 30.12443479 30.12443479 30.12443479\n",
      " 33.49930141 32.37434587 32.37434587 32.37434587 35.74921249 34.62425695\n",
      " 34.62425695 34.62425695 37.99912357 35.74921249 34.62425695 34.62425695\n",
      " 34.62425695 37.99912357 31.24939033 30.12443479 30.12443479 31.24939033\n",
      " 33.49930141 32.37434587 32.37434587 32.37434587 31.24939033 33.49930141\n",
      " 37.99912357]\n"
     ]
    }
   ],
   "source": [
    "import numpy as np\n",
    "\n",
    "def adaptive_qthist(x, y, N=5, min_count=15, max_count=50, density=False):\n",
    "    '''\n",
    "    Adaptive QuadTree histogram with dynamic binning control based on minimum and\n",
    "    maximum count constraints.\n",
    "\n",
    "    Parameters\n",
    "    ----------\n",
    "    x, y : arrays\n",
    "        Input data arrays.\n",
    "    N : int, optional, default = 5\n",
    "        The maximum number of divisions (levels) to compute the QuadTree.\n",
    "    min_count : int, optional, default = 1\n",
    "        Minimum threshold for counts within a bin.\n",
    "    max_count : int, optional, default = 50\n",
    "        Maximum threshold for counts within a bin.\n",
    "    density : bool, optional, default = False\n",
    "        If True, returns counts per area; otherwise, returns raw counts.\n",
    "\n",
    "    Returns\n",
    "    -------\n",
    "    num, xmin, xmax, ymin, ymax : arrays\n",
    "        Array of counts/densities and bin edges.\n",
    "    '''\n",
    "\n",
    "    num = []\n",
    "    xmin = []\n",
    "    xmax = []\n",
    "    ymin = []\n",
    "    ymax = []\n",
    "\n",
    "    # Define the initial region with a small buffer.\n",
    "    x_range = [np.nanmin(x), np.nanmax(x)]\n",
    "    y_range = [np.nanmin(y), np.nanmax(y)]\n",
    "    buffer_x = (x_range[1] - x_range[0]) * 0.1\n",
    "    buffer_y = (y_range[1] - y_range[0]) * 0.1\n",
    "    x_range = [x_range[0] - buffer_x, x_range[1] + buffer_x]\n",
    "    y_range = [y_range[0] - buffer_y, y_range[1] + buffer_y]\n",
    "\n",
    "    def divide_and_count(x_range, y_range, level=1):\n",
    "        ''' Recursive function to divide regions and count points '''\n",
    "        if level > N:\n",
    "            return\n",
    "\n",
    "        # Create 2x2 bins for the current region\n",
    "        bins_x = np.linspace(x_range[0], x_range[1], 3)\n",
    "        bins_y = np.linspace(y_range[0], y_range[1], 3)\n",
    "        H, xedges, yedges = np.histogram2d(x, y, bins=[bins_x, bins_y])\n",
    "\n",
    "        for i in range(2):\n",
    "            for j in range(2):\n",
    "                count = H[i, j]\n",
    "                x_min, x_max = xedges[i], xedges[i + 1]\n",
    "                y_min, y_max = yedges[j], yedges[j + 1]\n",
    "\n",
    "                # Check if bin count is within the threshold\n",
    "                if min_count <= count <= max_count:\n",
    "                    # If within the threshold, add to the results\n",
    "                    num.append(count)\n",
    "                    xmin.append(x_min)\n",
    "                    xmax.append(x_max)\n",
    "                    ymin.append(y_min)\n",
    "                    ymax.append(y_max)\n",
    "                elif count > max_count:\n",
    "                    # If count exceeds max_count, subdivide further\n",
    "                    divide_and_count([x_min, x_max], [y_min, y_max], level + 1)\n",
    "                elif 0 < count < min_count:\n",
    "                    # Attempt to merge with neighboring bins if below min_count\n",
    "                    adjacent_count = count\n",
    "                    combined_x_min, combined_x_max = x_min, x_max\n",
    "                    combined_y_min, combined_y_max = y_min, y_max\n",
    "\n",
    "                    # Search horizontally and vertically to try merging\n",
    "                    for k in range(2):\n",
    "                        adj_count_x = H[k, j] if k != i else 0\n",
    "                        adj_count_y = H[i, k] if k != j else 0\n",
    "                        if adj_count_x > 0:\n",
    "                            adjacent_count += adj_count_x\n",
    "                            combined_x_max = xedges[k + 1]\n",
    "                        if adj_count_y > 0:\n",
    "                            adjacent_count += adj_count_y\n",
    "                            combined_y_max = yedges[k + 1]\n",
    "                        if adjacent_count >= min_count:\n",
    "                            break\n",
    "\n",
    "                    # Add the combined bin if the count meets min_count after merging\n",
    "                    num.append(adjacent_count)\n",
    "                    xmin.append(combined_x_min)\n",
    "                    xmax.append(combined_x_max)\n",
    "                    ymin.append(combined_y_min)\n",
    "                    ymax.append(combined_y_max)\n",
    "                else:\n",
    "                    # Count is zero or doesn't meet criteria - keep as zero bin\n",
    "                    num.append(count)\n",
    "                    xmin.append(x_min)\n",
    "                    xmax.append(x_max)\n",
    "                    ymin.append(y_min)\n",
    "                    ymax.append(y_max)\n",
    "\n",
    "    # Start the adaptive QuadTree division\n",
    "    divide_and_count(x_range, y_range)\n",
    "\n",
    "    # Convert lists to numpy arrays\n",
    "    num = np.array(num)\n",
    "    xmin = np.array(xmin)\n",
    "    xmax = np.array(xmax)\n",
    "    ymin = np.array(ymin)\n",
    "    ymax = np.array(ymax)\n",
    "\n",
    "#     # Normalize to density if required\n",
    "#     if density:\n",
    "#         bin_areas = (xmax - xmin) * (ymax - ymin)\n",
    "#         num = num / bin_areas / num.sum()\n",
    "\n",
    "    return num, xmin, xmax, ymin, ymax\n",
    "\n",
    "# Example usage\n",
    "np.random.seed(42)\n",
    "x = np.random.uniform(25, 5, 10000)\n",
    "np.random.seed(39)\n",
    "y = np.random.uniform(35, 5, 10000)\n",
    "num, xmin, xmax, ymin, ymax = adaptive_qthist(x, y, N=5, min_count=20, max_count=30, density=True)\n",
    "\n",
    "# Print example output\n",
    "print(\"Counts:\", num)\n",
    "print(\"X min edges:\", xmin)\n",
    "print(\"X max edges:\", xmax)\n",
    "print(\"Y min edges:\", ymin)\n",
    "print(\"Y max edges:\", ymax)\n"
   ]
  },
  {
   "cell_type": "code",
   "execution_count": 34,
   "id": "60f5c16e",
   "metadata": {},
   "outputs": [
    {
     "data": {
      "text/plain": [
       "(586, 586, 586, 586, 586)"
      ]
     },
     "execution_count": 34,
     "metadata": {},
     "output_type": "execute_result"
    }
   ],
   "source": [
    "len(num), len(xmin),len(xmax),len(ymin), len(ymax)"
   ]
  },
  {
   "cell_type": "code",
   "execution_count": 38,
   "id": "6811c10a",
   "metadata": {},
   "outputs": [
    {
     "data": {
      "application/vnd.plotly.v1+json": {
       "config": {
        "plotlyServerURL": "https://plot.ly"
       },
       "data": [],
       "layout": {
        "annotations": [
         {
          "font": {
           "color": "black",
           "size": 10
          },
          "showarrow": false,
          "text": "13",
          "x": 6.000732184558917,
          "y": 6.001746923646582
         },
         {
          "font": {
           "color": "black",
           "size": 10
          },
          "showarrow": false,
          "text": "29",
          "x": 6.000732184558917,
          "y": 6.001746923646582
         },
         {
          "font": {
           "color": "black",
           "size": 10
          },
          "showarrow": false,
          "text": "32",
          "x": 6.000732184558917,
          "y": 6.001746923646582
         },
         {
          "font": {
           "color": "black",
           "size": 10
          },
          "showarrow": false,
          "text": "23",
          "x": 7.493360659981208,
          "y": 7.500802572079712
         },
         {
          "font": {
           "color": "black",
           "size": 10
          },
          "showarrow": false,
          "text": "41",
          "x": 6.000732184558917,
          "y": 11.997969517379103
         },
         {
          "font": {
           "color": "black",
           "size": 10
          },
          "showarrow": false,
          "text": "23",
          "x": 4.508103709136625,
          "y": 11.997969517379103
         },
         {
          "font": {
           "color": "black",
           "size": 10
          },
          "showarrow": false,
          "text": "29",
          "x": 6.000732184558917,
          "y": 10.498913868945973
         },
         {
          "font": {
           "color": "black",
           "size": 10
          },
          "showarrow": false,
          "text": "25",
          "x": 7.493360659981208,
          "y": 13.497025165812232
         },
         {
          "font": {
           "color": "black",
           "size": 10
          },
          "showarrow": false,
          "text": "42",
          "x": 11.971246086248083,
          "y": 6.001746923646582
         },
         {
          "font": {
           "color": "black",
           "size": 10
          },
          "showarrow": false,
          "text": "23",
          "x": 10.478617610825792,
          "y": 7.500802572079712
         },
         {
          "font": {
           "color": "black",
           "size": 10
          },
          "showarrow": false,
          "text": "50",
          "x": 11.971246086248083,
          "y": 6.001746923646582
         },
         {
          "font": {
           "color": "black",
           "size": 10
          },
          "showarrow": false,
          "text": "23",
          "x": 13.463874561670375,
          "y": 7.500802572079712
         },
         {
          "font": {
           "color": "black",
           "size": 10
          },
          "showarrow": false,
          "text": "20",
          "x": 13.463874561670375,
          "y": 7.500802572079712
         },
         {
          "font": {
           "color": "black",
           "size": 10
          },
          "showarrow": false,
          "text": "26",
          "x": 13.463874561670375,
          "y": 7.500802572079712
         },
         {
          "font": {
           "color": "black",
           "size": 10
          },
          "showarrow": false,
          "text": "24",
          "x": 13.463874561670375,
          "y": 7.500802572079712
         },
         {
          "font": {
           "color": "black",
           "size": 10
          },
          "showarrow": false,
          "text": "63",
          "x": 11.971246086248083,
          "y": 11.997969517379103
         },
         {
          "font": {
           "color": "black",
           "size": 10
          },
          "showarrow": false,
          "text": "31",
          "x": 10.478617610825792,
          "y": 11.997969517379103
         },
         {
          "font": {
           "color": "black",
           "size": 10
          },
          "showarrow": false,
          "text": "23",
          "x": 13.463874561670375,
          "y": 10.498913868945973
         },
         {
          "font": {
           "color": "black",
           "size": 10
          },
          "showarrow": false,
          "text": "27",
          "x": 13.463874561670375,
          "y": 10.498913868945973
         },
         {
          "font": {
           "color": "black",
           "size": 10
          },
          "showarrow": false,
          "text": "21",
          "x": 13.463874561670375,
          "y": 10.498913868945973
         },
         {
          "font": {
           "color": "black",
           "size": 10
          },
          "showarrow": false,
          "text": "25",
          "x": 13.463874561670375,
          "y": 10.498913868945973
         },
         {
          "font": {
           "color": "black",
           "size": 10
          },
          "showarrow": false,
          "text": "28",
          "x": 13.463874561670375,
          "y": 13.497025165812232
         },
         {
          "font": {
           "color": "black",
           "size": 10
          },
          "showarrow": false,
          "text": "37",
          "x": 6.000732184558917,
          "y": 17.994192111111623
         },
         {
          "font": {
           "color": "black",
           "size": 10
          },
          "showarrow": false,
          "text": "43",
          "x": 6.000732184558917,
          "y": 17.994192111111623
         },
         {
          "font": {
           "color": "black",
           "size": 10
          },
          "showarrow": false,
          "text": "29",
          "x": 7.493360659981208,
          "y": 16.495136462678495
         },
         {
          "font": {
           "color": "black",
           "size": 10
          },
          "showarrow": false,
          "text": "27",
          "x": 7.493360659981208,
          "y": 19.493247759544754
         },
         {
          "font": {
           "color": "black",
           "size": 10
          },
          "showarrow": false,
          "text": "25",
          "x": 7.493360659981208,
          "y": 19.493247759544754
         },
         {
          "font": {
           "color": "black",
           "size": 10
          },
          "showarrow": false,
          "text": "25",
          "x": 7.493360659981208,
          "y": 19.493247759544754
         },
         {
          "font": {
           "color": "black",
           "size": 10
          },
          "showarrow": false,
          "text": "28",
          "x": 7.493360659981208,
          "y": 19.493247759544754
         },
         {
          "font": {
           "color": "black",
           "size": 10
          },
          "showarrow": false,
          "text": "25",
          "x": 6.000732184558917,
          "y": 23.99041470484415
         },
         {
          "font": {
           "color": "black",
           "size": 10
          },
          "showarrow": false,
          "text": "53",
          "x": 11.971246086248083,
          "y": 17.994192111111623
         },
         {
          "font": {
           "color": "black",
           "size": 10
          },
          "showarrow": false,
          "text": "33",
          "x": 10.478617610825792,
          "y": 17.994192111111623
         },
         {
          "font": {
           "color": "black",
           "size": 10
          },
          "showarrow": false,
          "text": "20",
          "x": 13.463874561670375,
          "y": 16.495136462678495
         },
         {
          "font": {
           "color": "black",
           "size": 10
          },
          "showarrow": false,
          "text": "21",
          "x": 13.463874561670375,
          "y": 19.493247759544754
         },
         {
          "font": {
           "color": "black",
           "size": 10
          },
          "showarrow": false,
          "text": "20",
          "x": 10.478617610825792,
          "y": 22.491359056411017
         },
         {
          "font": {
           "color": "black",
           "size": 10
          },
          "showarrow": false,
          "text": "31",
          "x": 10.478617610825792,
          "y": 23.99041470484415
         },
         {
          "font": {
           "color": "black",
           "size": 10
          },
          "showarrow": false,
          "text": "39",
          "x": 11.971246086248083,
          "y": 22.491359056411017
         },
         {
          "font": {
           "color": "black",
           "size": 10
          },
          "showarrow": false,
          "text": "39",
          "x": 11.971246086248083,
          "y": 23.99041470484415
         },
         {
          "font": {
           "color": "black",
           "size": 10
          },
          "showarrow": false,
          "text": "36",
          "x": 17.94175998793725,
          "y": 6.001746923646582
         },
         {
          "font": {
           "color": "black",
           "size": 10
          },
          "showarrow": false,
          "text": "26",
          "x": 16.44913151251496,
          "y": 7.500802572079712
         },
         {
          "font": {
           "color": "black",
           "size": 10
          },
          "showarrow": false,
          "text": "29",
          "x": 17.94175998793725,
          "y": 6.001746923646582
         },
         {
          "font": {
           "color": "black",
           "size": 10
          },
          "showarrow": false,
          "text": "49",
          "x": 17.94175998793725,
          "y": 6.001746923646582
         },
         {
          "font": {
           "color": "black",
           "size": 10
          },
          "showarrow": false,
          "text": "55",
          "x": 17.94175998793725,
          "y": 11.997969517379103
         },
         {
          "font": {
           "color": "black",
           "size": 10
          },
          "showarrow": false,
          "text": "33",
          "x": 16.44913151251496,
          "y": 11.997969517379103
         },
         {
          "font": {
           "color": "black",
           "size": 10
          },
          "showarrow": false,
          "text": "22",
          "x": 19.43438846335954,
          "y": 10.498913868945973
         },
         {
          "font": {
           "color": "black",
           "size": 10
          },
          "showarrow": false,
          "text": "58",
          "x": 17.94175998793725,
          "y": 11.997969517379103
         },
         {
          "font": {
           "color": "black",
           "size": 10
          },
          "showarrow": false,
          "text": "41",
          "x": 23.912273889626416,
          "y": 6.001746923646582
         },
         {
          "font": {
           "color": "black",
           "size": 10
          },
          "showarrow": false,
          "text": "27",
          "x": 22.419645414204126,
          "y": 7.500802572079712
         },
         {
          "font": {
           "color": "black",
           "size": 10
          },
          "showarrow": false,
          "text": "23",
          "x": 23.912273889626416,
          "y": 6.001746923646582
         },
         {
          "font": {
           "color": "black",
           "size": 10
          },
          "showarrow": false,
          "text": "38",
          "x": 23.912273889626416,
          "y": 6.001746923646582
         },
         {
          "font": {
           "color": "black",
           "size": 10
          },
          "showarrow": false,
          "text": "25",
          "x": 22.419645414204126,
          "y": 10.498913868945973
         },
         {
          "font": {
           "color": "black",
           "size": 10
          },
          "showarrow": false,
          "text": "25",
          "x": 22.419645414204126,
          "y": 13.497025165812232
         },
         {
          "font": {
           "color": "black",
           "size": 10
          },
          "showarrow": false,
          "text": "34",
          "x": 23.912273889626416,
          "y": 10.498913868945973
         },
         {
          "font": {
           "color": "black",
           "size": 10
          },
          "showarrow": false,
          "text": "45",
          "x": 23.912273889626416,
          "y": 11.997969517379103
         },
         {
          "font": {
           "color": "black",
           "size": 10
          },
          "showarrow": false,
          "text": "30",
          "x": 16.44913151251496,
          "y": 16.495136462678495
         },
         {
          "font": {
           "color": "black",
           "size": 10
          },
          "showarrow": false,
          "text": "46",
          "x": 16.44913151251496,
          "y": 17.994192111111623
         },
         {
          "font": {
           "color": "black",
           "size": 10
          },
          "showarrow": false,
          "text": "24",
          "x": 19.43438846335954,
          "y": 16.495136462678495
         },
         {
          "font": {
           "color": "black",
           "size": 10
          },
          "showarrow": false,
          "text": "29",
          "x": 19.43438846335954,
          "y": 19.493247759544754
         },
         {
          "font": {
           "color": "black",
           "size": 10
          },
          "showarrow": false,
          "text": "50",
          "x": 17.94175998793725,
          "y": 23.99041470484415
         },
         {
          "font": {
           "color": "black",
           "size": 10
          },
          "showarrow": false,
          "text": "26",
          "x": 16.44913151251496,
          "y": 23.99041470484415
         },
         {
          "font": {
           "color": "black",
           "size": 10
          },
          "showarrow": false,
          "text": "24",
          "x": 19.43438846335954,
          "y": 22.491359056411017
         },
         {
          "font": {
           "color": "black",
           "size": 10
          },
          "showarrow": false,
          "text": "33",
          "x": 17.94175998793725,
          "y": 23.99041470484415
         },
         {
          "font": {
           "color": "black",
           "size": 10
          },
          "showarrow": false,
          "text": "27",
          "x": 22.419645414204126,
          "y": 16.495136462678495
         },
         {
          "font": {
           "color": "black",
           "size": 10
          },
          "showarrow": false,
          "text": "22",
          "x": 22.419645414204126,
          "y": 19.493247759544754
         },
         {
          "font": {
           "color": "black",
           "size": 10
          },
          "showarrow": false,
          "text": "37",
          "x": 23.912273889626416,
          "y": 16.495136462678495
         },
         {
          "font": {
           "color": "black",
           "size": 10
          },
          "showarrow": false,
          "text": "41",
          "x": 23.912273889626416,
          "y": 17.994192111111623
         },
         {
          "font": {
           "color": "black",
           "size": 10
          },
          "showarrow": false,
          "text": "26",
          "x": 22.419645414204126,
          "y": 22.491359056411017
         },
         {
          "font": {
           "color": "black",
           "size": 10
          },
          "showarrow": false,
          "text": "30",
          "x": 22.419645414204126,
          "y": 23.99041470484415
         },
         {
          "font": {
           "color": "black",
           "size": 10
          },
          "showarrow": false,
          "text": "33",
          "x": 23.912273889626416,
          "y": 22.491359056411017
         },
         {
          "font": {
           "color": "black",
           "size": 10
          },
          "showarrow": false,
          "text": "12",
          "x": 23.912273889626416,
          "y": 23.99041470484415
         }
        ],
        "hovermode": "closest",
        "shapes": [
         {
          "fillcolor": "blue",
          "line": {
           "color": "black"
          },
          "opacity": 0.6,
          "type": "rect",
          "x0": 3.0154752337143336,
          "x1": 8.9859891354035,
          "y0": 3.003635626780322,
          "y1": 8.999858220512841
         },
         {
          "fillcolor": "white",
          "line": {
           "color": "black"
          },
          "opacity": 0.6,
          "type": "rect",
          "x0": 3.0154752337143336,
          "x1": 8.9859891354035,
          "y0": 6.001746923646582,
          "y1": 6.001746923646582
         },
         {
          "fillcolor": "red",
          "line": {
           "color": "black"
          },
          "opacity": 0.6,
          "type": "rect",
          "x0": 6.000732184558917,
          "x1": 6.000732184558917,
          "y0": 3.003635626780322,
          "y1": 8.999858220512841
         },
         {
          "fillcolor": "white",
          "line": {
           "color": "black"
          },
          "opacity": 0.6,
          "type": "rect",
          "x0": 6.000732184558917,
          "x1": 8.9859891354035,
          "y0": 6.001746923646582,
          "y1": 8.999858220512841
         },
         {
          "fillcolor": "red",
          "line": {
           "color": "black"
          },
          "opacity": 0.6,
          "type": "rect",
          "x0": 3.0154752337143336,
          "x1": 8.9859891354035,
          "y0": 8.999858220512841,
          "y1": 14.996080814245364
         },
         {
          "fillcolor": "white",
          "line": {
           "color": "black"
          },
          "opacity": 0.6,
          "type": "rect",
          "x0": 3.0154752337143336,
          "x1": 6.000732184558917,
          "y0": 11.997969517379103,
          "y1": 11.997969517379103
         },
         {
          "fillcolor": "white",
          "line": {
           "color": "black"
          },
          "opacity": 0.6,
          "type": "rect",
          "x0": 6.000732184558917,
          "x1": 6.000732184558917,
          "y0": 8.999858220512841,
          "y1": 11.997969517379103
         },
         {
          "fillcolor": "white",
          "line": {
           "color": "black"
          },
          "opacity": 0.6,
          "type": "rect",
          "x0": 6.000732184558917,
          "x1": 8.9859891354035,
          "y0": 11.997969517379103,
          "y1": 14.996080814245364
         },
         {
          "fillcolor": "red",
          "line": {
           "color": "black"
          },
          "opacity": 0.6,
          "type": "rect",
          "x0": 8.9859891354035,
          "x1": 14.956503037092666,
          "y0": 3.003635626780322,
          "y1": 8.999858220512841
         },
         {
          "fillcolor": "white",
          "line": {
           "color": "black"
          },
          "opacity": 0.6,
          "type": "rect",
          "x0": 8.9859891354035,
          "x1": 11.971246086248083,
          "y0": 6.001746923646582,
          "y1": 8.999858220512841
         },
         {
          "fillcolor": "red",
          "line": {
           "color": "black"
          },
          "opacity": 0.6,
          "type": "rect",
          "x0": 11.971246086248083,
          "x1": 11.971246086248083,
          "y0": 3.003635626780322,
          "y1": 8.999858220512841
         },
         {
          "fillcolor": "white",
          "line": {
           "color": "black"
          },
          "opacity": 0.6,
          "type": "rect",
          "x0": 11.971246086248083,
          "x1": 14.956503037092666,
          "y0": 6.001746923646582,
          "y1": 8.999858220512841
         },
         {
          "fillcolor": "white",
          "line": {
           "color": "black"
          },
          "opacity": 0.6,
          "type": "rect",
          "x0": 11.971246086248083,
          "x1": 14.956503037092666,
          "y0": 7.500802572079712,
          "y1": 7.500802572079712
         },
         {
          "fillcolor": "white",
          "line": {
           "color": "black"
          },
          "opacity": 0.6,
          "type": "rect",
          "x0": 13.463874561670375,
          "x1": 13.463874561670375,
          "y0": 6.001746923646582,
          "y1": 8.999858220512841
         },
         {
          "fillcolor": "white",
          "line": {
           "color": "black"
          },
          "opacity": 0.6,
          "type": "rect",
          "x0": 13.463874561670375,
          "x1": 13.463874561670375,
          "y0": 7.500802572079712,
          "y1": 7.500802572079712
         },
         {
          "fillcolor": "red",
          "line": {
           "color": "black"
          },
          "opacity": 0.6,
          "type": "rect",
          "x0": 8.9859891354035,
          "x1": 14.956503037092666,
          "y0": 8.999858220512841,
          "y1": 14.996080814245364
         },
         {
          "fillcolor": "red",
          "line": {
           "color": "black"
          },
          "opacity": 0.6,
          "type": "rect",
          "x0": 8.9859891354035,
          "x1": 11.971246086248083,
          "y0": 11.997969517379103,
          "y1": 11.997969517379103
         },
         {
          "fillcolor": "white",
          "line": {
           "color": "black"
          },
          "opacity": 0.6,
          "type": "rect",
          "x0": 11.971246086248083,
          "x1": 14.956503037092666,
          "y0": 8.999858220512841,
          "y1": 11.997969517379103
         },
         {
          "fillcolor": "white",
          "line": {
           "color": "black"
          },
          "opacity": 0.6,
          "type": "rect",
          "x0": 11.971246086248083,
          "x1": 14.956503037092666,
          "y0": 10.498913868945973,
          "y1": 10.498913868945973
         },
         {
          "fillcolor": "white",
          "line": {
           "color": "black"
          },
          "opacity": 0.6,
          "type": "rect",
          "x0": 13.463874561670375,
          "x1": 13.463874561670375,
          "y0": 8.999858220512841,
          "y1": 11.997969517379103
         },
         {
          "fillcolor": "white",
          "line": {
           "color": "black"
          },
          "opacity": 0.6,
          "type": "rect",
          "x0": 13.463874561670375,
          "x1": 13.463874561670375,
          "y0": 10.498913868945973,
          "y1": 10.498913868945973
         },
         {
          "fillcolor": "white",
          "line": {
           "color": "black"
          },
          "opacity": 0.6,
          "type": "rect",
          "x0": 11.971246086248083,
          "x1": 14.956503037092666,
          "y0": 11.997969517379103,
          "y1": 14.996080814245364
         },
         {
          "fillcolor": "red",
          "line": {
           "color": "black"
          },
          "opacity": 0.6,
          "type": "rect",
          "x0": 3.0154752337143336,
          "x1": 8.9859891354035,
          "y0": 14.996080814245364,
          "y1": 20.992303407977886
         },
         {
          "fillcolor": "red",
          "line": {
           "color": "black"
          },
          "opacity": 0.6,
          "type": "rect",
          "x0": 3.0154752337143336,
          "x1": 8.9859891354035,
          "y0": 17.994192111111623,
          "y1": 17.994192111111623
         },
         {
          "fillcolor": "white",
          "line": {
           "color": "black"
          },
          "opacity": 0.6,
          "type": "rect",
          "x0": 6.000732184558917,
          "x1": 8.9859891354035,
          "y0": 14.996080814245364,
          "y1": 17.994192111111623
         },
         {
          "fillcolor": "white",
          "line": {
           "color": "black"
          },
          "opacity": 0.6,
          "type": "rect",
          "x0": 6.000732184558917,
          "x1": 8.9859891354035,
          "y0": 17.994192111111623,
          "y1": 20.992303407977886
         },
         {
          "fillcolor": "white",
          "line": {
           "color": "black"
          },
          "opacity": 0.6,
          "type": "rect",
          "x0": 6.000732184558917,
          "x1": 8.9859891354035,
          "y0": 19.493247759544754,
          "y1": 19.493247759544754
         },
         {
          "fillcolor": "white",
          "line": {
           "color": "black"
          },
          "opacity": 0.6,
          "type": "rect",
          "x0": 7.493360659981208,
          "x1": 7.493360659981208,
          "y0": 17.994192111111623,
          "y1": 20.992303407977886
         },
         {
          "fillcolor": "white",
          "line": {
           "color": "black"
          },
          "opacity": 0.6,
          "type": "rect",
          "x0": 7.493360659981208,
          "x1": 7.493360659981208,
          "y0": 19.493247759544754,
          "y1": 19.493247759544754
         },
         {
          "fillcolor": "white",
          "line": {
           "color": "black"
          },
          "opacity": 0.6,
          "type": "rect",
          "x0": 3.0154752337143336,
          "x1": 8.9859891354035,
          "y0": 20.992303407977886,
          "y1": 26.988526001710408
         },
         {
          "fillcolor": "red",
          "line": {
           "color": "black"
          },
          "opacity": 0.6,
          "type": "rect",
          "x0": 8.9859891354035,
          "x1": 14.956503037092666,
          "y0": 14.996080814245364,
          "y1": 20.992303407977886
         },
         {
          "fillcolor": "red",
          "line": {
           "color": "black"
          },
          "opacity": 0.6,
          "type": "rect",
          "x0": 8.9859891354035,
          "x1": 11.971246086248083,
          "y0": 17.994192111111623,
          "y1": 17.994192111111623
         },
         {
          "fillcolor": "white",
          "line": {
           "color": "black"
          },
          "opacity": 0.6,
          "type": "rect",
          "x0": 11.971246086248083,
          "x1": 14.956503037092666,
          "y0": 14.996080814245364,
          "y1": 17.994192111111623
         },
         {
          "fillcolor": "white",
          "line": {
           "color": "black"
          },
          "opacity": 0.6,
          "type": "rect",
          "x0": 11.971246086248083,
          "x1": 14.956503037092666,
          "y0": 17.994192111111623,
          "y1": 20.992303407977886
         },
         {
          "fillcolor": "white",
          "line": {
           "color": "black"
          },
          "opacity": 0.6,
          "type": "rect",
          "x0": 8.9859891354035,
          "x1": 11.971246086248083,
          "y0": 20.992303407977886,
          "y1": 23.99041470484415
         },
         {
          "fillcolor": "red",
          "line": {
           "color": "black"
          },
          "opacity": 0.6,
          "type": "rect",
          "x0": 8.9859891354035,
          "x1": 11.971246086248083,
          "y0": 23.99041470484415,
          "y1": 23.99041470484415
         },
         {
          "fillcolor": "red",
          "line": {
           "color": "black"
          },
          "opacity": 0.6,
          "type": "rect",
          "x0": 11.971246086248083,
          "x1": 11.971246086248083,
          "y0": 20.992303407977886,
          "y1": 23.99041470484415
         },
         {
          "fillcolor": "red",
          "line": {
           "color": "black"
          },
          "opacity": 0.6,
          "type": "rect",
          "x0": 11.971246086248083,
          "x1": 11.971246086248083,
          "y0": 23.99041470484415,
          "y1": 23.99041470484415
         },
         {
          "fillcolor": "red",
          "line": {
           "color": "black"
          },
          "opacity": 0.6,
          "type": "rect",
          "x0": 14.956503037092666,
          "x1": 20.927016938781833,
          "y0": 3.003635626780322,
          "y1": 8.999858220512841
         },
         {
          "fillcolor": "white",
          "line": {
           "color": "black"
          },
          "opacity": 0.6,
          "type": "rect",
          "x0": 14.956503037092666,
          "x1": 17.94175998793725,
          "y0": 6.001746923646582,
          "y1": 8.999858220512841
         },
         {
          "fillcolor": "white",
          "line": {
           "color": "black"
          },
          "opacity": 0.6,
          "type": "rect",
          "x0": 17.94175998793725,
          "x1": 17.94175998793725,
          "y0": 3.003635626780322,
          "y1": 8.999858220512841
         },
         {
          "fillcolor": "red",
          "line": {
           "color": "black"
          },
          "opacity": 0.6,
          "type": "rect",
          "x0": 17.94175998793725,
          "x1": 17.94175998793725,
          "y0": 6.001746923646582,
          "y1": 6.001746923646582
         },
         {
          "fillcolor": "red",
          "line": {
           "color": "black"
          },
          "opacity": 0.6,
          "type": "rect",
          "x0": 14.956503037092666,
          "x1": 20.927016938781833,
          "y0": 8.999858220512841,
          "y1": 14.996080814245364
         },
         {
          "fillcolor": "red",
          "line": {
           "color": "black"
          },
          "opacity": 0.6,
          "type": "rect",
          "x0": 14.956503037092666,
          "x1": 17.94175998793725,
          "y0": 11.997969517379103,
          "y1": 11.997969517379103
         },
         {
          "fillcolor": "white",
          "line": {
           "color": "black"
          },
          "opacity": 0.6,
          "type": "rect",
          "x0": 17.94175998793725,
          "x1": 20.927016938781833,
          "y0": 8.999858220512841,
          "y1": 11.997969517379103
         },
         {
          "fillcolor": "red",
          "line": {
           "color": "black"
          },
          "opacity": 0.6,
          "type": "rect",
          "x0": 17.94175998793725,
          "x1": 17.94175998793725,
          "y0": 11.997969517379103,
          "y1": 11.997969517379103
         },
         {
          "fillcolor": "red",
          "line": {
           "color": "black"
          },
          "opacity": 0.6,
          "type": "rect",
          "x0": 20.927016938781833,
          "x1": 26.897530840471,
          "y0": 3.003635626780322,
          "y1": 8.999858220512841
         },
         {
          "fillcolor": "white",
          "line": {
           "color": "black"
          },
          "opacity": 0.6,
          "type": "rect",
          "x0": 20.927016938781833,
          "x1": 23.912273889626416,
          "y0": 6.001746923646582,
          "y1": 8.999858220512841
         },
         {
          "fillcolor": "white",
          "line": {
           "color": "black"
          },
          "opacity": 0.6,
          "type": "rect",
          "x0": 23.912273889626416,
          "x1": 23.912273889626416,
          "y0": 3.003635626780322,
          "y1": 8.999858220512841
         },
         {
          "fillcolor": "red",
          "line": {
           "color": "black"
          },
          "opacity": 0.6,
          "type": "rect",
          "x0": 23.912273889626416,
          "x1": 23.912273889626416,
          "y0": 6.001746923646582,
          "y1": 6.001746923646582
         },
         {
          "fillcolor": "white",
          "line": {
           "color": "black"
          },
          "opacity": 0.6,
          "type": "rect",
          "x0": 20.927016938781833,
          "x1": 23.912273889626416,
          "y0": 8.999858220512841,
          "y1": 11.997969517379103
         },
         {
          "fillcolor": "white",
          "line": {
           "color": "black"
          },
          "opacity": 0.6,
          "type": "rect",
          "x0": 20.927016938781833,
          "x1": 23.912273889626416,
          "y0": 11.997969517379103,
          "y1": 14.996080814245364
         },
         {
          "fillcolor": "red",
          "line": {
           "color": "black"
          },
          "opacity": 0.6,
          "type": "rect",
          "x0": 23.912273889626416,
          "x1": 23.912273889626416,
          "y0": 8.999858220512841,
          "y1": 11.997969517379103
         },
         {
          "fillcolor": "red",
          "line": {
           "color": "black"
          },
          "opacity": 0.6,
          "type": "rect",
          "x0": 23.912273889626416,
          "x1": 23.912273889626416,
          "y0": 11.997969517379103,
          "y1": 11.997969517379103
         },
         {
          "fillcolor": "white",
          "line": {
           "color": "black"
          },
          "opacity": 0.6,
          "type": "rect",
          "x0": 14.956503037092666,
          "x1": 17.94175998793725,
          "y0": 14.996080814245364,
          "y1": 17.994192111111623
         },
         {
          "fillcolor": "red",
          "line": {
           "color": "black"
          },
          "opacity": 0.6,
          "type": "rect",
          "x0": 14.956503037092666,
          "x1": 17.94175998793725,
          "y0": 17.994192111111623,
          "y1": 17.994192111111623
         },
         {
          "fillcolor": "white",
          "line": {
           "color": "black"
          },
          "opacity": 0.6,
          "type": "rect",
          "x0": 17.94175998793725,
          "x1": 20.927016938781833,
          "y0": 14.996080814245364,
          "y1": 17.994192111111623
         },
         {
          "fillcolor": "white",
          "line": {
           "color": "black"
          },
          "opacity": 0.6,
          "type": "rect",
          "x0": 17.94175998793725,
          "x1": 20.927016938781833,
          "y0": 17.994192111111623,
          "y1": 20.992303407977886
         },
         {
          "fillcolor": "red",
          "line": {
           "color": "black"
          },
          "opacity": 0.6,
          "type": "rect",
          "x0": 14.956503037092666,
          "x1": 20.927016938781833,
          "y0": 20.992303407977886,
          "y1": 26.988526001710408
         },
         {
          "fillcolor": "white",
          "line": {
           "color": "black"
          },
          "opacity": 0.6,
          "type": "rect",
          "x0": 14.956503037092666,
          "x1": 17.94175998793725,
          "y0": 23.99041470484415,
          "y1": 23.99041470484415
         },
         {
          "fillcolor": "white",
          "line": {
           "color": "black"
          },
          "opacity": 0.6,
          "type": "rect",
          "x0": 17.94175998793725,
          "x1": 20.927016938781833,
          "y0": 20.992303407977886,
          "y1": 23.99041470484415
         },
         {
          "fillcolor": "red",
          "line": {
           "color": "black"
          },
          "opacity": 0.6,
          "type": "rect",
          "x0": 17.94175998793725,
          "x1": 17.94175998793725,
          "y0": 23.99041470484415,
          "y1": 23.99041470484415
         },
         {
          "fillcolor": "white",
          "line": {
           "color": "black"
          },
          "opacity": 0.6,
          "type": "rect",
          "x0": 20.927016938781833,
          "x1": 23.912273889626416,
          "y0": 14.996080814245364,
          "y1": 17.994192111111623
         },
         {
          "fillcolor": "white",
          "line": {
           "color": "black"
          },
          "opacity": 0.6,
          "type": "rect",
          "x0": 20.927016938781833,
          "x1": 23.912273889626416,
          "y0": 17.994192111111623,
          "y1": 20.992303407977886
         },
         {
          "fillcolor": "red",
          "line": {
           "color": "black"
          },
          "opacity": 0.6,
          "type": "rect",
          "x0": 23.912273889626416,
          "x1": 23.912273889626416,
          "y0": 14.996080814245364,
          "y1": 17.994192111111623
         },
         {
          "fillcolor": "red",
          "line": {
           "color": "black"
          },
          "opacity": 0.6,
          "type": "rect",
          "x0": 23.912273889626416,
          "x1": 23.912273889626416,
          "y0": 17.994192111111623,
          "y1": 17.994192111111623
         },
         {
          "fillcolor": "white",
          "line": {
           "color": "black"
          },
          "opacity": 0.6,
          "type": "rect",
          "x0": 20.927016938781833,
          "x1": 23.912273889626416,
          "y0": 20.992303407977886,
          "y1": 23.99041470484415
         },
         {
          "fillcolor": "white",
          "line": {
           "color": "black"
          },
          "opacity": 0.6,
          "type": "rect",
          "x0": 20.927016938781833,
          "x1": 23.912273889626416,
          "y0": 23.99041470484415,
          "y1": 23.99041470484415
         },
         {
          "fillcolor": "red",
          "line": {
           "color": "black"
          },
          "opacity": 0.6,
          "type": "rect",
          "x0": 23.912273889626416,
          "x1": 23.912273889626416,
          "y0": 20.992303407977886,
          "y1": 23.99041470484415
         },
         {
          "fillcolor": "blue",
          "line": {
           "color": "black"
          },
          "opacity": 0.6,
          "type": "rect",
          "x0": 23.912273889626416,
          "x1": 23.912273889626416,
          "y0": 23.99041470484415,
          "y1": 23.99041470484415
         }
        ],
        "showlegend": false,
        "template": {
         "data": {
          "bar": [
           {
            "error_x": {
             "color": "#2a3f5f"
            },
            "error_y": {
             "color": "#2a3f5f"
            },
            "marker": {
             "line": {
              "color": "#E5ECF6",
              "width": 0.5
             },
             "pattern": {
              "fillmode": "overlay",
              "size": 10,
              "solidity": 0.2
             }
            },
            "type": "bar"
           }
          ],
          "barpolar": [
           {
            "marker": {
             "line": {
              "color": "#E5ECF6",
              "width": 0.5
             },
             "pattern": {
              "fillmode": "overlay",
              "size": 10,
              "solidity": 0.2
             }
            },
            "type": "barpolar"
           }
          ],
          "carpet": [
           {
            "aaxis": {
             "endlinecolor": "#2a3f5f",
             "gridcolor": "white",
             "linecolor": "white",
             "minorgridcolor": "white",
             "startlinecolor": "#2a3f5f"
            },
            "baxis": {
             "endlinecolor": "#2a3f5f",
             "gridcolor": "white",
             "linecolor": "white",
             "minorgridcolor": "white",
             "startlinecolor": "#2a3f5f"
            },
            "type": "carpet"
           }
          ],
          "choropleth": [
           {
            "colorbar": {
             "outlinewidth": 0,
             "ticks": ""
            },
            "type": "choropleth"
           }
          ],
          "contour": [
           {
            "colorbar": {
             "outlinewidth": 0,
             "ticks": ""
            },
            "colorscale": [
             [
              0,
              "#0d0887"
             ],
             [
              0.1111111111111111,
              "#46039f"
             ],
             [
              0.2222222222222222,
              "#7201a8"
             ],
             [
              0.3333333333333333,
              "#9c179e"
             ],
             [
              0.4444444444444444,
              "#bd3786"
             ],
             [
              0.5555555555555556,
              "#d8576b"
             ],
             [
              0.6666666666666666,
              "#ed7953"
             ],
             [
              0.7777777777777778,
              "#fb9f3a"
             ],
             [
              0.8888888888888888,
              "#fdca26"
             ],
             [
              1,
              "#f0f921"
             ]
            ],
            "type": "contour"
           }
          ],
          "contourcarpet": [
           {
            "colorbar": {
             "outlinewidth": 0,
             "ticks": ""
            },
            "type": "contourcarpet"
           }
          ],
          "heatmap": [
           {
            "colorbar": {
             "outlinewidth": 0,
             "ticks": ""
            },
            "colorscale": [
             [
              0,
              "#0d0887"
             ],
             [
              0.1111111111111111,
              "#46039f"
             ],
             [
              0.2222222222222222,
              "#7201a8"
             ],
             [
              0.3333333333333333,
              "#9c179e"
             ],
             [
              0.4444444444444444,
              "#bd3786"
             ],
             [
              0.5555555555555556,
              "#d8576b"
             ],
             [
              0.6666666666666666,
              "#ed7953"
             ],
             [
              0.7777777777777778,
              "#fb9f3a"
             ],
             [
              0.8888888888888888,
              "#fdca26"
             ],
             [
              1,
              "#f0f921"
             ]
            ],
            "type": "heatmap"
           }
          ],
          "heatmapgl": [
           {
            "colorbar": {
             "outlinewidth": 0,
             "ticks": ""
            },
            "colorscale": [
             [
              0,
              "#0d0887"
             ],
             [
              0.1111111111111111,
              "#46039f"
             ],
             [
              0.2222222222222222,
              "#7201a8"
             ],
             [
              0.3333333333333333,
              "#9c179e"
             ],
             [
              0.4444444444444444,
              "#bd3786"
             ],
             [
              0.5555555555555556,
              "#d8576b"
             ],
             [
              0.6666666666666666,
              "#ed7953"
             ],
             [
              0.7777777777777778,
              "#fb9f3a"
             ],
             [
              0.8888888888888888,
              "#fdca26"
             ],
             [
              1,
              "#f0f921"
             ]
            ],
            "type": "heatmapgl"
           }
          ],
          "histogram": [
           {
            "marker": {
             "pattern": {
              "fillmode": "overlay",
              "size": 10,
              "solidity": 0.2
             }
            },
            "type": "histogram"
           }
          ],
          "histogram2d": [
           {
            "colorbar": {
             "outlinewidth": 0,
             "ticks": ""
            },
            "colorscale": [
             [
              0,
              "#0d0887"
             ],
             [
              0.1111111111111111,
              "#46039f"
             ],
             [
              0.2222222222222222,
              "#7201a8"
             ],
             [
              0.3333333333333333,
              "#9c179e"
             ],
             [
              0.4444444444444444,
              "#bd3786"
             ],
             [
              0.5555555555555556,
              "#d8576b"
             ],
             [
              0.6666666666666666,
              "#ed7953"
             ],
             [
              0.7777777777777778,
              "#fb9f3a"
             ],
             [
              0.8888888888888888,
              "#fdca26"
             ],
             [
              1,
              "#f0f921"
             ]
            ],
            "type": "histogram2d"
           }
          ],
          "histogram2dcontour": [
           {
            "colorbar": {
             "outlinewidth": 0,
             "ticks": ""
            },
            "colorscale": [
             [
              0,
              "#0d0887"
             ],
             [
              0.1111111111111111,
              "#46039f"
             ],
             [
              0.2222222222222222,
              "#7201a8"
             ],
             [
              0.3333333333333333,
              "#9c179e"
             ],
             [
              0.4444444444444444,
              "#bd3786"
             ],
             [
              0.5555555555555556,
              "#d8576b"
             ],
             [
              0.6666666666666666,
              "#ed7953"
             ],
             [
              0.7777777777777778,
              "#fb9f3a"
             ],
             [
              0.8888888888888888,
              "#fdca26"
             ],
             [
              1,
              "#f0f921"
             ]
            ],
            "type": "histogram2dcontour"
           }
          ],
          "mesh3d": [
           {
            "colorbar": {
             "outlinewidth": 0,
             "ticks": ""
            },
            "type": "mesh3d"
           }
          ],
          "parcoords": [
           {
            "line": {
             "colorbar": {
              "outlinewidth": 0,
              "ticks": ""
             }
            },
            "type": "parcoords"
           }
          ],
          "pie": [
           {
            "automargin": true,
            "type": "pie"
           }
          ],
          "scatter": [
           {
            "fillpattern": {
             "fillmode": "overlay",
             "size": 10,
             "solidity": 0.2
            },
            "type": "scatter"
           }
          ],
          "scatter3d": [
           {
            "line": {
             "colorbar": {
              "outlinewidth": 0,
              "ticks": ""
             }
            },
            "marker": {
             "colorbar": {
              "outlinewidth": 0,
              "ticks": ""
             }
            },
            "type": "scatter3d"
           }
          ],
          "scattercarpet": [
           {
            "marker": {
             "colorbar": {
              "outlinewidth": 0,
              "ticks": ""
             }
            },
            "type": "scattercarpet"
           }
          ],
          "scattergeo": [
           {
            "marker": {
             "colorbar": {
              "outlinewidth": 0,
              "ticks": ""
             }
            },
            "type": "scattergeo"
           }
          ],
          "scattergl": [
           {
            "marker": {
             "colorbar": {
              "outlinewidth": 0,
              "ticks": ""
             }
            },
            "type": "scattergl"
           }
          ],
          "scattermapbox": [
           {
            "marker": {
             "colorbar": {
              "outlinewidth": 0,
              "ticks": ""
             }
            },
            "type": "scattermapbox"
           }
          ],
          "scatterpolar": [
           {
            "marker": {
             "colorbar": {
              "outlinewidth": 0,
              "ticks": ""
             }
            },
            "type": "scatterpolar"
           }
          ],
          "scatterpolargl": [
           {
            "marker": {
             "colorbar": {
              "outlinewidth": 0,
              "ticks": ""
             }
            },
            "type": "scatterpolargl"
           }
          ],
          "scatterternary": [
           {
            "marker": {
             "colorbar": {
              "outlinewidth": 0,
              "ticks": ""
             }
            },
            "type": "scatterternary"
           }
          ],
          "surface": [
           {
            "colorbar": {
             "outlinewidth": 0,
             "ticks": ""
            },
            "colorscale": [
             [
              0,
              "#0d0887"
             ],
             [
              0.1111111111111111,
              "#46039f"
             ],
             [
              0.2222222222222222,
              "#7201a8"
             ],
             [
              0.3333333333333333,
              "#9c179e"
             ],
             [
              0.4444444444444444,
              "#bd3786"
             ],
             [
              0.5555555555555556,
              "#d8576b"
             ],
             [
              0.6666666666666666,
              "#ed7953"
             ],
             [
              0.7777777777777778,
              "#fb9f3a"
             ],
             [
              0.8888888888888888,
              "#fdca26"
             ],
             [
              1,
              "#f0f921"
             ]
            ],
            "type": "surface"
           }
          ],
          "table": [
           {
            "cells": {
             "fill": {
              "color": "#EBF0F8"
             },
             "line": {
              "color": "white"
             }
            },
            "header": {
             "fill": {
              "color": "#C8D4E3"
             },
             "line": {
              "color": "white"
             }
            },
            "type": "table"
           }
          ]
         },
         "layout": {
          "annotationdefaults": {
           "arrowcolor": "#2a3f5f",
           "arrowhead": 0,
           "arrowwidth": 1
          },
          "autotypenumbers": "strict",
          "coloraxis": {
           "colorbar": {
            "outlinewidth": 0,
            "ticks": ""
           }
          },
          "colorscale": {
           "diverging": [
            [
             0,
             "#8e0152"
            ],
            [
             0.1,
             "#c51b7d"
            ],
            [
             0.2,
             "#de77ae"
            ],
            [
             0.3,
             "#f1b6da"
            ],
            [
             0.4,
             "#fde0ef"
            ],
            [
             0.5,
             "#f7f7f7"
            ],
            [
             0.6,
             "#e6f5d0"
            ],
            [
             0.7,
             "#b8e186"
            ],
            [
             0.8,
             "#7fbc41"
            ],
            [
             0.9,
             "#4d9221"
            ],
            [
             1,
             "#276419"
            ]
           ],
           "sequential": [
            [
             0,
             "#0d0887"
            ],
            [
             0.1111111111111111,
             "#46039f"
            ],
            [
             0.2222222222222222,
             "#7201a8"
            ],
            [
             0.3333333333333333,
             "#9c179e"
            ],
            [
             0.4444444444444444,
             "#bd3786"
            ],
            [
             0.5555555555555556,
             "#d8576b"
            ],
            [
             0.6666666666666666,
             "#ed7953"
            ],
            [
             0.7777777777777778,
             "#fb9f3a"
            ],
            [
             0.8888888888888888,
             "#fdca26"
            ],
            [
             1,
             "#f0f921"
            ]
           ],
           "sequentialminus": [
            [
             0,
             "#0d0887"
            ],
            [
             0.1111111111111111,
             "#46039f"
            ],
            [
             0.2222222222222222,
             "#7201a8"
            ],
            [
             0.3333333333333333,
             "#9c179e"
            ],
            [
             0.4444444444444444,
             "#bd3786"
            ],
            [
             0.5555555555555556,
             "#d8576b"
            ],
            [
             0.6666666666666666,
             "#ed7953"
            ],
            [
             0.7777777777777778,
             "#fb9f3a"
            ],
            [
             0.8888888888888888,
             "#fdca26"
            ],
            [
             1,
             "#f0f921"
            ]
           ]
          },
          "colorway": [
           "#636efa",
           "#EF553B",
           "#00cc96",
           "#ab63fa",
           "#FFA15A",
           "#19d3f3",
           "#FF6692",
           "#B6E880",
           "#FF97FF",
           "#FECB52"
          ],
          "font": {
           "color": "#2a3f5f"
          },
          "geo": {
           "bgcolor": "white",
           "lakecolor": "white",
           "landcolor": "#E5ECF6",
           "showlakes": true,
           "showland": true,
           "subunitcolor": "white"
          },
          "hoverlabel": {
           "align": "left"
          },
          "hovermode": "closest",
          "mapbox": {
           "style": "light"
          },
          "paper_bgcolor": "white",
          "plot_bgcolor": "#E5ECF6",
          "polar": {
           "angularaxis": {
            "gridcolor": "white",
            "linecolor": "white",
            "ticks": ""
           },
           "bgcolor": "#E5ECF6",
           "radialaxis": {
            "gridcolor": "white",
            "linecolor": "white",
            "ticks": ""
           }
          },
          "scene": {
           "xaxis": {
            "backgroundcolor": "#E5ECF6",
            "gridcolor": "white",
            "gridwidth": 2,
            "linecolor": "white",
            "showbackground": true,
            "ticks": "",
            "zerolinecolor": "white"
           },
           "yaxis": {
            "backgroundcolor": "#E5ECF6",
            "gridcolor": "white",
            "gridwidth": 2,
            "linecolor": "white",
            "showbackground": true,
            "ticks": "",
            "zerolinecolor": "white"
           },
           "zaxis": {
            "backgroundcolor": "#E5ECF6",
            "gridcolor": "white",
            "gridwidth": 2,
            "linecolor": "white",
            "showbackground": true,
            "ticks": "",
            "zerolinecolor": "white"
           }
          },
          "shapedefaults": {
           "line": {
            "color": "#2a3f5f"
           }
          },
          "ternary": {
           "aaxis": {
            "gridcolor": "white",
            "linecolor": "white",
            "ticks": ""
           },
           "baxis": {
            "gridcolor": "white",
            "linecolor": "white",
            "ticks": ""
           },
           "bgcolor": "#E5ECF6",
           "caxis": {
            "gridcolor": "white",
            "linecolor": "white",
            "ticks": ""
           }
          },
          "title": {
           "x": 0.05
          },
          "xaxis": {
           "automargin": true,
           "gridcolor": "white",
           "linecolor": "white",
           "ticks": "",
           "title": {
            "standoff": 15
           },
           "zerolinecolor": "white",
           "zerolinewidth": 2
          },
          "yaxis": {
           "automargin": true,
           "gridcolor": "white",
           "linecolor": "white",
           "ticks": "",
           "title": {
            "standoff": 15
           },
           "zerolinecolor": "white",
           "zerolinewidth": 2
          }
         }
        },
        "title": {
         "text": "Adaptive 2D Histogram with Color Coding and Count Annotations"
        },
        "xaxis": {
         "range": [
          5.005646534277389,
          24.907359539907944
         ],
         "title": {
          "text": "X-axis"
         }
        },
        "yaxis": {
         "range": [
          5.002376491357829,
          24.989785137132902
         ],
         "title": {
          "text": "Y-axis"
         }
        }
       }
      },
      "text/html": [
       "<div>                            <div id=\"131766ad-2827-418b-8137-de3c959c4e63\" class=\"plotly-graph-div\" style=\"height:525px; width:100%;\"></div>            <script type=\"text/javascript\">                require([\"plotly\"], function(Plotly) {                    window.PLOTLYENV=window.PLOTLYENV || {};                                    if (document.getElementById(\"131766ad-2827-418b-8137-de3c959c4e63\")) {                    Plotly.newPlot(                        \"131766ad-2827-418b-8137-de3c959c4e63\",                        [],                        {\"template\":{\"data\":{\"histogram2dcontour\":[{\"type\":\"histogram2dcontour\",\"colorbar\":{\"outlinewidth\":0,\"ticks\":\"\"},\"colorscale\":[[0.0,\"#0d0887\"],[0.1111111111111111,\"#46039f\"],[0.2222222222222222,\"#7201a8\"],[0.3333333333333333,\"#9c179e\"],[0.4444444444444444,\"#bd3786\"],[0.5555555555555556,\"#d8576b\"],[0.6666666666666666,\"#ed7953\"],[0.7777777777777778,\"#fb9f3a\"],[0.8888888888888888,\"#fdca26\"],[1.0,\"#f0f921\"]]}],\"choropleth\":[{\"type\":\"choropleth\",\"colorbar\":{\"outlinewidth\":0,\"ticks\":\"\"}}],\"histogram2d\":[{\"type\":\"histogram2d\",\"colorbar\":{\"outlinewidth\":0,\"ticks\":\"\"},\"colorscale\":[[0.0,\"#0d0887\"],[0.1111111111111111,\"#46039f\"],[0.2222222222222222,\"#7201a8\"],[0.3333333333333333,\"#9c179e\"],[0.4444444444444444,\"#bd3786\"],[0.5555555555555556,\"#d8576b\"],[0.6666666666666666,\"#ed7953\"],[0.7777777777777778,\"#fb9f3a\"],[0.8888888888888888,\"#fdca26\"],[1.0,\"#f0f921\"]]}],\"heatmap\":[{\"type\":\"heatmap\",\"colorbar\":{\"outlinewidth\":0,\"ticks\":\"\"},\"colorscale\":[[0.0,\"#0d0887\"],[0.1111111111111111,\"#46039f\"],[0.2222222222222222,\"#7201a8\"],[0.3333333333333333,\"#9c179e\"],[0.4444444444444444,\"#bd3786\"],[0.5555555555555556,\"#d8576b\"],[0.6666666666666666,\"#ed7953\"],[0.7777777777777778,\"#fb9f3a\"],[0.8888888888888888,\"#fdca26\"],[1.0,\"#f0f921\"]]}],\"heatmapgl\":[{\"type\":\"heatmapgl\",\"colorbar\":{\"outlinewidth\":0,\"ticks\":\"\"},\"colorscale\":[[0.0,\"#0d0887\"],[0.1111111111111111,\"#46039f\"],[0.2222222222222222,\"#7201a8\"],[0.3333333333333333,\"#9c179e\"],[0.4444444444444444,\"#bd3786\"],[0.5555555555555556,\"#d8576b\"],[0.6666666666666666,\"#ed7953\"],[0.7777777777777778,\"#fb9f3a\"],[0.8888888888888888,\"#fdca26\"],[1.0,\"#f0f921\"]]}],\"contourcarpet\":[{\"type\":\"contourcarpet\",\"colorbar\":{\"outlinewidth\":0,\"ticks\":\"\"}}],\"contour\":[{\"type\":\"contour\",\"colorbar\":{\"outlinewidth\":0,\"ticks\":\"\"},\"colorscale\":[[0.0,\"#0d0887\"],[0.1111111111111111,\"#46039f\"],[0.2222222222222222,\"#7201a8\"],[0.3333333333333333,\"#9c179e\"],[0.4444444444444444,\"#bd3786\"],[0.5555555555555556,\"#d8576b\"],[0.6666666666666666,\"#ed7953\"],[0.7777777777777778,\"#fb9f3a\"],[0.8888888888888888,\"#fdca26\"],[1.0,\"#f0f921\"]]}],\"surface\":[{\"type\":\"surface\",\"colorbar\":{\"outlinewidth\":0,\"ticks\":\"\"},\"colorscale\":[[0.0,\"#0d0887\"],[0.1111111111111111,\"#46039f\"],[0.2222222222222222,\"#7201a8\"],[0.3333333333333333,\"#9c179e\"],[0.4444444444444444,\"#bd3786\"],[0.5555555555555556,\"#d8576b\"],[0.6666666666666666,\"#ed7953\"],[0.7777777777777778,\"#fb9f3a\"],[0.8888888888888888,\"#fdca26\"],[1.0,\"#f0f921\"]]}],\"mesh3d\":[{\"type\":\"mesh3d\",\"colorbar\":{\"outlinewidth\":0,\"ticks\":\"\"}}],\"scatter\":[{\"fillpattern\":{\"fillmode\":\"overlay\",\"size\":10,\"solidity\":0.2},\"type\":\"scatter\"}],\"parcoords\":[{\"type\":\"parcoords\",\"line\":{\"colorbar\":{\"outlinewidth\":0,\"ticks\":\"\"}}}],\"scatterpolargl\":[{\"type\":\"scatterpolargl\",\"marker\":{\"colorbar\":{\"outlinewidth\":0,\"ticks\":\"\"}}}],\"bar\":[{\"error_x\":{\"color\":\"#2a3f5f\"},\"error_y\":{\"color\":\"#2a3f5f\"},\"marker\":{\"line\":{\"color\":\"#E5ECF6\",\"width\":0.5},\"pattern\":{\"fillmode\":\"overlay\",\"size\":10,\"solidity\":0.2}},\"type\":\"bar\"}],\"scattergeo\":[{\"type\":\"scattergeo\",\"marker\":{\"colorbar\":{\"outlinewidth\":0,\"ticks\":\"\"}}}],\"scatterpolar\":[{\"type\":\"scatterpolar\",\"marker\":{\"colorbar\":{\"outlinewidth\":0,\"ticks\":\"\"}}}],\"histogram\":[{\"marker\":{\"pattern\":{\"fillmode\":\"overlay\",\"size\":10,\"solidity\":0.2}},\"type\":\"histogram\"}],\"scattergl\":[{\"type\":\"scattergl\",\"marker\":{\"colorbar\":{\"outlinewidth\":0,\"ticks\":\"\"}}}],\"scatter3d\":[{\"type\":\"scatter3d\",\"line\":{\"colorbar\":{\"outlinewidth\":0,\"ticks\":\"\"}},\"marker\":{\"colorbar\":{\"outlinewidth\":0,\"ticks\":\"\"}}}],\"scattermapbox\":[{\"type\":\"scattermapbox\",\"marker\":{\"colorbar\":{\"outlinewidth\":0,\"ticks\":\"\"}}}],\"scatterternary\":[{\"type\":\"scatterternary\",\"marker\":{\"colorbar\":{\"outlinewidth\":0,\"ticks\":\"\"}}}],\"scattercarpet\":[{\"type\":\"scattercarpet\",\"marker\":{\"colorbar\":{\"outlinewidth\":0,\"ticks\":\"\"}}}],\"carpet\":[{\"aaxis\":{\"endlinecolor\":\"#2a3f5f\",\"gridcolor\":\"white\",\"linecolor\":\"white\",\"minorgridcolor\":\"white\",\"startlinecolor\":\"#2a3f5f\"},\"baxis\":{\"endlinecolor\":\"#2a3f5f\",\"gridcolor\":\"white\",\"linecolor\":\"white\",\"minorgridcolor\":\"white\",\"startlinecolor\":\"#2a3f5f\"},\"type\":\"carpet\"}],\"table\":[{\"cells\":{\"fill\":{\"color\":\"#EBF0F8\"},\"line\":{\"color\":\"white\"}},\"header\":{\"fill\":{\"color\":\"#C8D4E3\"},\"line\":{\"color\":\"white\"}},\"type\":\"table\"}],\"barpolar\":[{\"marker\":{\"line\":{\"color\":\"#E5ECF6\",\"width\":0.5},\"pattern\":{\"fillmode\":\"overlay\",\"size\":10,\"solidity\":0.2}},\"type\":\"barpolar\"}],\"pie\":[{\"automargin\":true,\"type\":\"pie\"}]},\"layout\":{\"autotypenumbers\":\"strict\",\"colorway\":[\"#636efa\",\"#EF553B\",\"#00cc96\",\"#ab63fa\",\"#FFA15A\",\"#19d3f3\",\"#FF6692\",\"#B6E880\",\"#FF97FF\",\"#FECB52\"],\"font\":{\"color\":\"#2a3f5f\"},\"hovermode\":\"closest\",\"hoverlabel\":{\"align\":\"left\"},\"paper_bgcolor\":\"white\",\"plot_bgcolor\":\"#E5ECF6\",\"polar\":{\"bgcolor\":\"#E5ECF6\",\"angularaxis\":{\"gridcolor\":\"white\",\"linecolor\":\"white\",\"ticks\":\"\"},\"radialaxis\":{\"gridcolor\":\"white\",\"linecolor\":\"white\",\"ticks\":\"\"}},\"ternary\":{\"bgcolor\":\"#E5ECF6\",\"aaxis\":{\"gridcolor\":\"white\",\"linecolor\":\"white\",\"ticks\":\"\"},\"baxis\":{\"gridcolor\":\"white\",\"linecolor\":\"white\",\"ticks\":\"\"},\"caxis\":{\"gridcolor\":\"white\",\"linecolor\":\"white\",\"ticks\":\"\"}},\"coloraxis\":{\"colorbar\":{\"outlinewidth\":0,\"ticks\":\"\"}},\"colorscale\":{\"sequential\":[[0.0,\"#0d0887\"],[0.1111111111111111,\"#46039f\"],[0.2222222222222222,\"#7201a8\"],[0.3333333333333333,\"#9c179e\"],[0.4444444444444444,\"#bd3786\"],[0.5555555555555556,\"#d8576b\"],[0.6666666666666666,\"#ed7953\"],[0.7777777777777778,\"#fb9f3a\"],[0.8888888888888888,\"#fdca26\"],[1.0,\"#f0f921\"]],\"sequentialminus\":[[0.0,\"#0d0887\"],[0.1111111111111111,\"#46039f\"],[0.2222222222222222,\"#7201a8\"],[0.3333333333333333,\"#9c179e\"],[0.4444444444444444,\"#bd3786\"],[0.5555555555555556,\"#d8576b\"],[0.6666666666666666,\"#ed7953\"],[0.7777777777777778,\"#fb9f3a\"],[0.8888888888888888,\"#fdca26\"],[1.0,\"#f0f921\"]],\"diverging\":[[0,\"#8e0152\"],[0.1,\"#c51b7d\"],[0.2,\"#de77ae\"],[0.3,\"#f1b6da\"],[0.4,\"#fde0ef\"],[0.5,\"#f7f7f7\"],[0.6,\"#e6f5d0\"],[0.7,\"#b8e186\"],[0.8,\"#7fbc41\"],[0.9,\"#4d9221\"],[1,\"#276419\"]]},\"xaxis\":{\"gridcolor\":\"white\",\"linecolor\":\"white\",\"ticks\":\"\",\"title\":{\"standoff\":15},\"zerolinecolor\":\"white\",\"automargin\":true,\"zerolinewidth\":2},\"yaxis\":{\"gridcolor\":\"white\",\"linecolor\":\"white\",\"ticks\":\"\",\"title\":{\"standoff\":15},\"zerolinecolor\":\"white\",\"automargin\":true,\"zerolinewidth\":2},\"scene\":{\"xaxis\":{\"backgroundcolor\":\"#E5ECF6\",\"gridcolor\":\"white\",\"linecolor\":\"white\",\"showbackground\":true,\"ticks\":\"\",\"zerolinecolor\":\"white\",\"gridwidth\":2},\"yaxis\":{\"backgroundcolor\":\"#E5ECF6\",\"gridcolor\":\"white\",\"linecolor\":\"white\",\"showbackground\":true,\"ticks\":\"\",\"zerolinecolor\":\"white\",\"gridwidth\":2},\"zaxis\":{\"backgroundcolor\":\"#E5ECF6\",\"gridcolor\":\"white\",\"linecolor\":\"white\",\"showbackground\":true,\"ticks\":\"\",\"zerolinecolor\":\"white\",\"gridwidth\":2}},\"shapedefaults\":{\"line\":{\"color\":\"#2a3f5f\"}},\"annotationdefaults\":{\"arrowcolor\":\"#2a3f5f\",\"arrowhead\":0,\"arrowwidth\":1},\"geo\":{\"bgcolor\":\"white\",\"landcolor\":\"#E5ECF6\",\"subunitcolor\":\"white\",\"showland\":true,\"showlakes\":true,\"lakecolor\":\"white\"},\"title\":{\"x\":0.05},\"mapbox\":{\"style\":\"light\"}}},\"shapes\":[{\"fillcolor\":\"blue\",\"line\":{\"color\":\"black\"},\"opacity\":0.6,\"type\":\"rect\",\"x0\":3.0154752337143336,\"x1\":8.9859891354035,\"y0\":3.003635626780322,\"y1\":8.999858220512841},{\"fillcolor\":\"white\",\"line\":{\"color\":\"black\"},\"opacity\":0.6,\"type\":\"rect\",\"x0\":3.0154752337143336,\"x1\":8.9859891354035,\"y0\":6.001746923646582,\"y1\":6.001746923646582},{\"fillcolor\":\"red\",\"line\":{\"color\":\"black\"},\"opacity\":0.6,\"type\":\"rect\",\"x0\":6.000732184558917,\"x1\":6.000732184558917,\"y0\":3.003635626780322,\"y1\":8.999858220512841},{\"fillcolor\":\"white\",\"line\":{\"color\":\"black\"},\"opacity\":0.6,\"type\":\"rect\",\"x0\":6.000732184558917,\"x1\":8.9859891354035,\"y0\":6.001746923646582,\"y1\":8.999858220512841},{\"fillcolor\":\"red\",\"line\":{\"color\":\"black\"},\"opacity\":0.6,\"type\":\"rect\",\"x0\":3.0154752337143336,\"x1\":8.9859891354035,\"y0\":8.999858220512841,\"y1\":14.996080814245364},{\"fillcolor\":\"white\",\"line\":{\"color\":\"black\"},\"opacity\":0.6,\"type\":\"rect\",\"x0\":3.0154752337143336,\"x1\":6.000732184558917,\"y0\":11.997969517379103,\"y1\":11.997969517379103},{\"fillcolor\":\"white\",\"line\":{\"color\":\"black\"},\"opacity\":0.6,\"type\":\"rect\",\"x0\":6.000732184558917,\"x1\":6.000732184558917,\"y0\":8.999858220512841,\"y1\":11.997969517379103},{\"fillcolor\":\"white\",\"line\":{\"color\":\"black\"},\"opacity\":0.6,\"type\":\"rect\",\"x0\":6.000732184558917,\"x1\":8.9859891354035,\"y0\":11.997969517379103,\"y1\":14.996080814245364},{\"fillcolor\":\"red\",\"line\":{\"color\":\"black\"},\"opacity\":0.6,\"type\":\"rect\",\"x0\":8.9859891354035,\"x1\":14.956503037092666,\"y0\":3.003635626780322,\"y1\":8.999858220512841},{\"fillcolor\":\"white\",\"line\":{\"color\":\"black\"},\"opacity\":0.6,\"type\":\"rect\",\"x0\":8.9859891354035,\"x1\":11.971246086248083,\"y0\":6.001746923646582,\"y1\":8.999858220512841},{\"fillcolor\":\"red\",\"line\":{\"color\":\"black\"},\"opacity\":0.6,\"type\":\"rect\",\"x0\":11.971246086248083,\"x1\":11.971246086248083,\"y0\":3.003635626780322,\"y1\":8.999858220512841},{\"fillcolor\":\"white\",\"line\":{\"color\":\"black\"},\"opacity\":0.6,\"type\":\"rect\",\"x0\":11.971246086248083,\"x1\":14.956503037092666,\"y0\":6.001746923646582,\"y1\":8.999858220512841},{\"fillcolor\":\"white\",\"line\":{\"color\":\"black\"},\"opacity\":0.6,\"type\":\"rect\",\"x0\":11.971246086248083,\"x1\":14.956503037092666,\"y0\":7.500802572079712,\"y1\":7.500802572079712},{\"fillcolor\":\"white\",\"line\":{\"color\":\"black\"},\"opacity\":0.6,\"type\":\"rect\",\"x0\":13.463874561670375,\"x1\":13.463874561670375,\"y0\":6.001746923646582,\"y1\":8.999858220512841},{\"fillcolor\":\"white\",\"line\":{\"color\":\"black\"},\"opacity\":0.6,\"type\":\"rect\",\"x0\":13.463874561670375,\"x1\":13.463874561670375,\"y0\":7.500802572079712,\"y1\":7.500802572079712},{\"fillcolor\":\"red\",\"line\":{\"color\":\"black\"},\"opacity\":0.6,\"type\":\"rect\",\"x0\":8.9859891354035,\"x1\":14.956503037092666,\"y0\":8.999858220512841,\"y1\":14.996080814245364},{\"fillcolor\":\"red\",\"line\":{\"color\":\"black\"},\"opacity\":0.6,\"type\":\"rect\",\"x0\":8.9859891354035,\"x1\":11.971246086248083,\"y0\":11.997969517379103,\"y1\":11.997969517379103},{\"fillcolor\":\"white\",\"line\":{\"color\":\"black\"},\"opacity\":0.6,\"type\":\"rect\",\"x0\":11.971246086248083,\"x1\":14.956503037092666,\"y0\":8.999858220512841,\"y1\":11.997969517379103},{\"fillcolor\":\"white\",\"line\":{\"color\":\"black\"},\"opacity\":0.6,\"type\":\"rect\",\"x0\":11.971246086248083,\"x1\":14.956503037092666,\"y0\":10.498913868945973,\"y1\":10.498913868945973},{\"fillcolor\":\"white\",\"line\":{\"color\":\"black\"},\"opacity\":0.6,\"type\":\"rect\",\"x0\":13.463874561670375,\"x1\":13.463874561670375,\"y0\":8.999858220512841,\"y1\":11.997969517379103},{\"fillcolor\":\"white\",\"line\":{\"color\":\"black\"},\"opacity\":0.6,\"type\":\"rect\",\"x0\":13.463874561670375,\"x1\":13.463874561670375,\"y0\":10.498913868945973,\"y1\":10.498913868945973},{\"fillcolor\":\"white\",\"line\":{\"color\":\"black\"},\"opacity\":0.6,\"type\":\"rect\",\"x0\":11.971246086248083,\"x1\":14.956503037092666,\"y0\":11.997969517379103,\"y1\":14.996080814245364},{\"fillcolor\":\"red\",\"line\":{\"color\":\"black\"},\"opacity\":0.6,\"type\":\"rect\",\"x0\":3.0154752337143336,\"x1\":8.9859891354035,\"y0\":14.996080814245364,\"y1\":20.992303407977886},{\"fillcolor\":\"red\",\"line\":{\"color\":\"black\"},\"opacity\":0.6,\"type\":\"rect\",\"x0\":3.0154752337143336,\"x1\":8.9859891354035,\"y0\":17.994192111111623,\"y1\":17.994192111111623},{\"fillcolor\":\"white\",\"line\":{\"color\":\"black\"},\"opacity\":0.6,\"type\":\"rect\",\"x0\":6.000732184558917,\"x1\":8.9859891354035,\"y0\":14.996080814245364,\"y1\":17.994192111111623},{\"fillcolor\":\"white\",\"line\":{\"color\":\"black\"},\"opacity\":0.6,\"type\":\"rect\",\"x0\":6.000732184558917,\"x1\":8.9859891354035,\"y0\":17.994192111111623,\"y1\":20.992303407977886},{\"fillcolor\":\"white\",\"line\":{\"color\":\"black\"},\"opacity\":0.6,\"type\":\"rect\",\"x0\":6.000732184558917,\"x1\":8.9859891354035,\"y0\":19.493247759544754,\"y1\":19.493247759544754},{\"fillcolor\":\"white\",\"line\":{\"color\":\"black\"},\"opacity\":0.6,\"type\":\"rect\",\"x0\":7.493360659981208,\"x1\":7.493360659981208,\"y0\":17.994192111111623,\"y1\":20.992303407977886},{\"fillcolor\":\"white\",\"line\":{\"color\":\"black\"},\"opacity\":0.6,\"type\":\"rect\",\"x0\":7.493360659981208,\"x1\":7.493360659981208,\"y0\":19.493247759544754,\"y1\":19.493247759544754},{\"fillcolor\":\"white\",\"line\":{\"color\":\"black\"},\"opacity\":0.6,\"type\":\"rect\",\"x0\":3.0154752337143336,\"x1\":8.9859891354035,\"y0\":20.992303407977886,\"y1\":26.988526001710408},{\"fillcolor\":\"red\",\"line\":{\"color\":\"black\"},\"opacity\":0.6,\"type\":\"rect\",\"x0\":8.9859891354035,\"x1\":14.956503037092666,\"y0\":14.996080814245364,\"y1\":20.992303407977886},{\"fillcolor\":\"red\",\"line\":{\"color\":\"black\"},\"opacity\":0.6,\"type\":\"rect\",\"x0\":8.9859891354035,\"x1\":11.971246086248083,\"y0\":17.994192111111623,\"y1\":17.994192111111623},{\"fillcolor\":\"white\",\"line\":{\"color\":\"black\"},\"opacity\":0.6,\"type\":\"rect\",\"x0\":11.971246086248083,\"x1\":14.956503037092666,\"y0\":14.996080814245364,\"y1\":17.994192111111623},{\"fillcolor\":\"white\",\"line\":{\"color\":\"black\"},\"opacity\":0.6,\"type\":\"rect\",\"x0\":11.971246086248083,\"x1\":14.956503037092666,\"y0\":17.994192111111623,\"y1\":20.992303407977886},{\"fillcolor\":\"white\",\"line\":{\"color\":\"black\"},\"opacity\":0.6,\"type\":\"rect\",\"x0\":8.9859891354035,\"x1\":11.971246086248083,\"y0\":20.992303407977886,\"y1\":23.99041470484415},{\"fillcolor\":\"red\",\"line\":{\"color\":\"black\"},\"opacity\":0.6,\"type\":\"rect\",\"x0\":8.9859891354035,\"x1\":11.971246086248083,\"y0\":23.99041470484415,\"y1\":23.99041470484415},{\"fillcolor\":\"red\",\"line\":{\"color\":\"black\"},\"opacity\":0.6,\"type\":\"rect\",\"x0\":11.971246086248083,\"x1\":11.971246086248083,\"y0\":20.992303407977886,\"y1\":23.99041470484415},{\"fillcolor\":\"red\",\"line\":{\"color\":\"black\"},\"opacity\":0.6,\"type\":\"rect\",\"x0\":11.971246086248083,\"x1\":11.971246086248083,\"y0\":23.99041470484415,\"y1\":23.99041470484415},{\"fillcolor\":\"red\",\"line\":{\"color\":\"black\"},\"opacity\":0.6,\"type\":\"rect\",\"x0\":14.956503037092666,\"x1\":20.927016938781833,\"y0\":3.003635626780322,\"y1\":8.999858220512841},{\"fillcolor\":\"white\",\"line\":{\"color\":\"black\"},\"opacity\":0.6,\"type\":\"rect\",\"x0\":14.956503037092666,\"x1\":17.94175998793725,\"y0\":6.001746923646582,\"y1\":8.999858220512841},{\"fillcolor\":\"white\",\"line\":{\"color\":\"black\"},\"opacity\":0.6,\"type\":\"rect\",\"x0\":17.94175998793725,\"x1\":17.94175998793725,\"y0\":3.003635626780322,\"y1\":8.999858220512841},{\"fillcolor\":\"red\",\"line\":{\"color\":\"black\"},\"opacity\":0.6,\"type\":\"rect\",\"x0\":17.94175998793725,\"x1\":17.94175998793725,\"y0\":6.001746923646582,\"y1\":6.001746923646582},{\"fillcolor\":\"red\",\"line\":{\"color\":\"black\"},\"opacity\":0.6,\"type\":\"rect\",\"x0\":14.956503037092666,\"x1\":20.927016938781833,\"y0\":8.999858220512841,\"y1\":14.996080814245364},{\"fillcolor\":\"red\",\"line\":{\"color\":\"black\"},\"opacity\":0.6,\"type\":\"rect\",\"x0\":14.956503037092666,\"x1\":17.94175998793725,\"y0\":11.997969517379103,\"y1\":11.997969517379103},{\"fillcolor\":\"white\",\"line\":{\"color\":\"black\"},\"opacity\":0.6,\"type\":\"rect\",\"x0\":17.94175998793725,\"x1\":20.927016938781833,\"y0\":8.999858220512841,\"y1\":11.997969517379103},{\"fillcolor\":\"red\",\"line\":{\"color\":\"black\"},\"opacity\":0.6,\"type\":\"rect\",\"x0\":17.94175998793725,\"x1\":17.94175998793725,\"y0\":11.997969517379103,\"y1\":11.997969517379103},{\"fillcolor\":\"red\",\"line\":{\"color\":\"black\"},\"opacity\":0.6,\"type\":\"rect\",\"x0\":20.927016938781833,\"x1\":26.897530840471,\"y0\":3.003635626780322,\"y1\":8.999858220512841},{\"fillcolor\":\"white\",\"line\":{\"color\":\"black\"},\"opacity\":0.6,\"type\":\"rect\",\"x0\":20.927016938781833,\"x1\":23.912273889626416,\"y0\":6.001746923646582,\"y1\":8.999858220512841},{\"fillcolor\":\"white\",\"line\":{\"color\":\"black\"},\"opacity\":0.6,\"type\":\"rect\",\"x0\":23.912273889626416,\"x1\":23.912273889626416,\"y0\":3.003635626780322,\"y1\":8.999858220512841},{\"fillcolor\":\"red\",\"line\":{\"color\":\"black\"},\"opacity\":0.6,\"type\":\"rect\",\"x0\":23.912273889626416,\"x1\":23.912273889626416,\"y0\":6.001746923646582,\"y1\":6.001746923646582},{\"fillcolor\":\"white\",\"line\":{\"color\":\"black\"},\"opacity\":0.6,\"type\":\"rect\",\"x0\":20.927016938781833,\"x1\":23.912273889626416,\"y0\":8.999858220512841,\"y1\":11.997969517379103},{\"fillcolor\":\"white\",\"line\":{\"color\":\"black\"},\"opacity\":0.6,\"type\":\"rect\",\"x0\":20.927016938781833,\"x1\":23.912273889626416,\"y0\":11.997969517379103,\"y1\":14.996080814245364},{\"fillcolor\":\"red\",\"line\":{\"color\":\"black\"},\"opacity\":0.6,\"type\":\"rect\",\"x0\":23.912273889626416,\"x1\":23.912273889626416,\"y0\":8.999858220512841,\"y1\":11.997969517379103},{\"fillcolor\":\"red\",\"line\":{\"color\":\"black\"},\"opacity\":0.6,\"type\":\"rect\",\"x0\":23.912273889626416,\"x1\":23.912273889626416,\"y0\":11.997969517379103,\"y1\":11.997969517379103},{\"fillcolor\":\"white\",\"line\":{\"color\":\"black\"},\"opacity\":0.6,\"type\":\"rect\",\"x0\":14.956503037092666,\"x1\":17.94175998793725,\"y0\":14.996080814245364,\"y1\":17.994192111111623},{\"fillcolor\":\"red\",\"line\":{\"color\":\"black\"},\"opacity\":0.6,\"type\":\"rect\",\"x0\":14.956503037092666,\"x1\":17.94175998793725,\"y0\":17.994192111111623,\"y1\":17.994192111111623},{\"fillcolor\":\"white\",\"line\":{\"color\":\"black\"},\"opacity\":0.6,\"type\":\"rect\",\"x0\":17.94175998793725,\"x1\":20.927016938781833,\"y0\":14.996080814245364,\"y1\":17.994192111111623},{\"fillcolor\":\"white\",\"line\":{\"color\":\"black\"},\"opacity\":0.6,\"type\":\"rect\",\"x0\":17.94175998793725,\"x1\":20.927016938781833,\"y0\":17.994192111111623,\"y1\":20.992303407977886},{\"fillcolor\":\"red\",\"line\":{\"color\":\"black\"},\"opacity\":0.6,\"type\":\"rect\",\"x0\":14.956503037092666,\"x1\":20.927016938781833,\"y0\":20.992303407977886,\"y1\":26.988526001710408},{\"fillcolor\":\"white\",\"line\":{\"color\":\"black\"},\"opacity\":0.6,\"type\":\"rect\",\"x0\":14.956503037092666,\"x1\":17.94175998793725,\"y0\":23.99041470484415,\"y1\":23.99041470484415},{\"fillcolor\":\"white\",\"line\":{\"color\":\"black\"},\"opacity\":0.6,\"type\":\"rect\",\"x0\":17.94175998793725,\"x1\":20.927016938781833,\"y0\":20.992303407977886,\"y1\":23.99041470484415},{\"fillcolor\":\"red\",\"line\":{\"color\":\"black\"},\"opacity\":0.6,\"type\":\"rect\",\"x0\":17.94175998793725,\"x1\":17.94175998793725,\"y0\":23.99041470484415,\"y1\":23.99041470484415},{\"fillcolor\":\"white\",\"line\":{\"color\":\"black\"},\"opacity\":0.6,\"type\":\"rect\",\"x0\":20.927016938781833,\"x1\":23.912273889626416,\"y0\":14.996080814245364,\"y1\":17.994192111111623},{\"fillcolor\":\"white\",\"line\":{\"color\":\"black\"},\"opacity\":0.6,\"type\":\"rect\",\"x0\":20.927016938781833,\"x1\":23.912273889626416,\"y0\":17.994192111111623,\"y1\":20.992303407977886},{\"fillcolor\":\"red\",\"line\":{\"color\":\"black\"},\"opacity\":0.6,\"type\":\"rect\",\"x0\":23.912273889626416,\"x1\":23.912273889626416,\"y0\":14.996080814245364,\"y1\":17.994192111111623},{\"fillcolor\":\"red\",\"line\":{\"color\":\"black\"},\"opacity\":0.6,\"type\":\"rect\",\"x0\":23.912273889626416,\"x1\":23.912273889626416,\"y0\":17.994192111111623,\"y1\":17.994192111111623},{\"fillcolor\":\"white\",\"line\":{\"color\":\"black\"},\"opacity\":0.6,\"type\":\"rect\",\"x0\":20.927016938781833,\"x1\":23.912273889626416,\"y0\":20.992303407977886,\"y1\":23.99041470484415},{\"fillcolor\":\"white\",\"line\":{\"color\":\"black\"},\"opacity\":0.6,\"type\":\"rect\",\"x0\":20.927016938781833,\"x1\":23.912273889626416,\"y0\":23.99041470484415,\"y1\":23.99041470484415},{\"fillcolor\":\"red\",\"line\":{\"color\":\"black\"},\"opacity\":0.6,\"type\":\"rect\",\"x0\":23.912273889626416,\"x1\":23.912273889626416,\"y0\":20.992303407977886,\"y1\":23.99041470484415},{\"fillcolor\":\"blue\",\"line\":{\"color\":\"black\"},\"opacity\":0.6,\"type\":\"rect\",\"x0\":23.912273889626416,\"x1\":23.912273889626416,\"y0\":23.99041470484415,\"y1\":23.99041470484415}],\"annotations\":[{\"font\":{\"color\":\"black\",\"size\":10},\"showarrow\":false,\"text\":\"13\",\"x\":6.000732184558917,\"y\":6.001746923646582},{\"font\":{\"color\":\"black\",\"size\":10},\"showarrow\":false,\"text\":\"29\",\"x\":6.000732184558917,\"y\":6.001746923646582},{\"font\":{\"color\":\"black\",\"size\":10},\"showarrow\":false,\"text\":\"32\",\"x\":6.000732184558917,\"y\":6.001746923646582},{\"font\":{\"color\":\"black\",\"size\":10},\"showarrow\":false,\"text\":\"23\",\"x\":7.493360659981208,\"y\":7.500802572079712},{\"font\":{\"color\":\"black\",\"size\":10},\"showarrow\":false,\"text\":\"41\",\"x\":6.000732184558917,\"y\":11.997969517379103},{\"font\":{\"color\":\"black\",\"size\":10},\"showarrow\":false,\"text\":\"23\",\"x\":4.508103709136625,\"y\":11.997969517379103},{\"font\":{\"color\":\"black\",\"size\":10},\"showarrow\":false,\"text\":\"29\",\"x\":6.000732184558917,\"y\":10.498913868945973},{\"font\":{\"color\":\"black\",\"size\":10},\"showarrow\":false,\"text\":\"25\",\"x\":7.493360659981208,\"y\":13.497025165812232},{\"font\":{\"color\":\"black\",\"size\":10},\"showarrow\":false,\"text\":\"42\",\"x\":11.971246086248083,\"y\":6.001746923646582},{\"font\":{\"color\":\"black\",\"size\":10},\"showarrow\":false,\"text\":\"23\",\"x\":10.478617610825792,\"y\":7.500802572079712},{\"font\":{\"color\":\"black\",\"size\":10},\"showarrow\":false,\"text\":\"50\",\"x\":11.971246086248083,\"y\":6.001746923646582},{\"font\":{\"color\":\"black\",\"size\":10},\"showarrow\":false,\"text\":\"23\",\"x\":13.463874561670375,\"y\":7.500802572079712},{\"font\":{\"color\":\"black\",\"size\":10},\"showarrow\":false,\"text\":\"20\",\"x\":13.463874561670375,\"y\":7.500802572079712},{\"font\":{\"color\":\"black\",\"size\":10},\"showarrow\":false,\"text\":\"26\",\"x\":13.463874561670375,\"y\":7.500802572079712},{\"font\":{\"color\":\"black\",\"size\":10},\"showarrow\":false,\"text\":\"24\",\"x\":13.463874561670375,\"y\":7.500802572079712},{\"font\":{\"color\":\"black\",\"size\":10},\"showarrow\":false,\"text\":\"63\",\"x\":11.971246086248083,\"y\":11.997969517379103},{\"font\":{\"color\":\"black\",\"size\":10},\"showarrow\":false,\"text\":\"31\",\"x\":10.478617610825792,\"y\":11.997969517379103},{\"font\":{\"color\":\"black\",\"size\":10},\"showarrow\":false,\"text\":\"23\",\"x\":13.463874561670375,\"y\":10.498913868945973},{\"font\":{\"color\":\"black\",\"size\":10},\"showarrow\":false,\"text\":\"27\",\"x\":13.463874561670375,\"y\":10.498913868945973},{\"font\":{\"color\":\"black\",\"size\":10},\"showarrow\":false,\"text\":\"21\",\"x\":13.463874561670375,\"y\":10.498913868945973},{\"font\":{\"color\":\"black\",\"size\":10},\"showarrow\":false,\"text\":\"25\",\"x\":13.463874561670375,\"y\":10.498913868945973},{\"font\":{\"color\":\"black\",\"size\":10},\"showarrow\":false,\"text\":\"28\",\"x\":13.463874561670375,\"y\":13.497025165812232},{\"font\":{\"color\":\"black\",\"size\":10},\"showarrow\":false,\"text\":\"37\",\"x\":6.000732184558917,\"y\":17.994192111111623},{\"font\":{\"color\":\"black\",\"size\":10},\"showarrow\":false,\"text\":\"43\",\"x\":6.000732184558917,\"y\":17.994192111111623},{\"font\":{\"color\":\"black\",\"size\":10},\"showarrow\":false,\"text\":\"29\",\"x\":7.493360659981208,\"y\":16.495136462678495},{\"font\":{\"color\":\"black\",\"size\":10},\"showarrow\":false,\"text\":\"27\",\"x\":7.493360659981208,\"y\":19.493247759544754},{\"font\":{\"color\":\"black\",\"size\":10},\"showarrow\":false,\"text\":\"25\",\"x\":7.493360659981208,\"y\":19.493247759544754},{\"font\":{\"color\":\"black\",\"size\":10},\"showarrow\":false,\"text\":\"25\",\"x\":7.493360659981208,\"y\":19.493247759544754},{\"font\":{\"color\":\"black\",\"size\":10},\"showarrow\":false,\"text\":\"28\",\"x\":7.493360659981208,\"y\":19.493247759544754},{\"font\":{\"color\":\"black\",\"size\":10},\"showarrow\":false,\"text\":\"25\",\"x\":6.000732184558917,\"y\":23.99041470484415},{\"font\":{\"color\":\"black\",\"size\":10},\"showarrow\":false,\"text\":\"53\",\"x\":11.971246086248083,\"y\":17.994192111111623},{\"font\":{\"color\":\"black\",\"size\":10},\"showarrow\":false,\"text\":\"33\",\"x\":10.478617610825792,\"y\":17.994192111111623},{\"font\":{\"color\":\"black\",\"size\":10},\"showarrow\":false,\"text\":\"20\",\"x\":13.463874561670375,\"y\":16.495136462678495},{\"font\":{\"color\":\"black\",\"size\":10},\"showarrow\":false,\"text\":\"21\",\"x\":13.463874561670375,\"y\":19.493247759544754},{\"font\":{\"color\":\"black\",\"size\":10},\"showarrow\":false,\"text\":\"20\",\"x\":10.478617610825792,\"y\":22.491359056411017},{\"font\":{\"color\":\"black\",\"size\":10},\"showarrow\":false,\"text\":\"31\",\"x\":10.478617610825792,\"y\":23.99041470484415},{\"font\":{\"color\":\"black\",\"size\":10},\"showarrow\":false,\"text\":\"39\",\"x\":11.971246086248083,\"y\":22.491359056411017},{\"font\":{\"color\":\"black\",\"size\":10},\"showarrow\":false,\"text\":\"39\",\"x\":11.971246086248083,\"y\":23.99041470484415},{\"font\":{\"color\":\"black\",\"size\":10},\"showarrow\":false,\"text\":\"36\",\"x\":17.94175998793725,\"y\":6.001746923646582},{\"font\":{\"color\":\"black\",\"size\":10},\"showarrow\":false,\"text\":\"26\",\"x\":16.44913151251496,\"y\":7.500802572079712},{\"font\":{\"color\":\"black\",\"size\":10},\"showarrow\":false,\"text\":\"29\",\"x\":17.94175998793725,\"y\":6.001746923646582},{\"font\":{\"color\":\"black\",\"size\":10},\"showarrow\":false,\"text\":\"49\",\"x\":17.94175998793725,\"y\":6.001746923646582},{\"font\":{\"color\":\"black\",\"size\":10},\"showarrow\":false,\"text\":\"55\",\"x\":17.94175998793725,\"y\":11.997969517379103},{\"font\":{\"color\":\"black\",\"size\":10},\"showarrow\":false,\"text\":\"33\",\"x\":16.44913151251496,\"y\":11.997969517379103},{\"font\":{\"color\":\"black\",\"size\":10},\"showarrow\":false,\"text\":\"22\",\"x\":19.43438846335954,\"y\":10.498913868945973},{\"font\":{\"color\":\"black\",\"size\":10},\"showarrow\":false,\"text\":\"58\",\"x\":17.94175998793725,\"y\":11.997969517379103},{\"font\":{\"color\":\"black\",\"size\":10},\"showarrow\":false,\"text\":\"41\",\"x\":23.912273889626416,\"y\":6.001746923646582},{\"font\":{\"color\":\"black\",\"size\":10},\"showarrow\":false,\"text\":\"27\",\"x\":22.419645414204126,\"y\":7.500802572079712},{\"font\":{\"color\":\"black\",\"size\":10},\"showarrow\":false,\"text\":\"23\",\"x\":23.912273889626416,\"y\":6.001746923646582},{\"font\":{\"color\":\"black\",\"size\":10},\"showarrow\":false,\"text\":\"38\",\"x\":23.912273889626416,\"y\":6.001746923646582},{\"font\":{\"color\":\"black\",\"size\":10},\"showarrow\":false,\"text\":\"25\",\"x\":22.419645414204126,\"y\":10.498913868945973},{\"font\":{\"color\":\"black\",\"size\":10},\"showarrow\":false,\"text\":\"25\",\"x\":22.419645414204126,\"y\":13.497025165812232},{\"font\":{\"color\":\"black\",\"size\":10},\"showarrow\":false,\"text\":\"34\",\"x\":23.912273889626416,\"y\":10.498913868945973},{\"font\":{\"color\":\"black\",\"size\":10},\"showarrow\":false,\"text\":\"45\",\"x\":23.912273889626416,\"y\":11.997969517379103},{\"font\":{\"color\":\"black\",\"size\":10},\"showarrow\":false,\"text\":\"30\",\"x\":16.44913151251496,\"y\":16.495136462678495},{\"font\":{\"color\":\"black\",\"size\":10},\"showarrow\":false,\"text\":\"46\",\"x\":16.44913151251496,\"y\":17.994192111111623},{\"font\":{\"color\":\"black\",\"size\":10},\"showarrow\":false,\"text\":\"24\",\"x\":19.43438846335954,\"y\":16.495136462678495},{\"font\":{\"color\":\"black\",\"size\":10},\"showarrow\":false,\"text\":\"29\",\"x\":19.43438846335954,\"y\":19.493247759544754},{\"font\":{\"color\":\"black\",\"size\":10},\"showarrow\":false,\"text\":\"50\",\"x\":17.94175998793725,\"y\":23.99041470484415},{\"font\":{\"color\":\"black\",\"size\":10},\"showarrow\":false,\"text\":\"26\",\"x\":16.44913151251496,\"y\":23.99041470484415},{\"font\":{\"color\":\"black\",\"size\":10},\"showarrow\":false,\"text\":\"24\",\"x\":19.43438846335954,\"y\":22.491359056411017},{\"font\":{\"color\":\"black\",\"size\":10},\"showarrow\":false,\"text\":\"33\",\"x\":17.94175998793725,\"y\":23.99041470484415},{\"font\":{\"color\":\"black\",\"size\":10},\"showarrow\":false,\"text\":\"27\",\"x\":22.419645414204126,\"y\":16.495136462678495},{\"font\":{\"color\":\"black\",\"size\":10},\"showarrow\":false,\"text\":\"22\",\"x\":22.419645414204126,\"y\":19.493247759544754},{\"font\":{\"color\":\"black\",\"size\":10},\"showarrow\":false,\"text\":\"37\",\"x\":23.912273889626416,\"y\":16.495136462678495},{\"font\":{\"color\":\"black\",\"size\":10},\"showarrow\":false,\"text\":\"41\",\"x\":23.912273889626416,\"y\":17.994192111111623},{\"font\":{\"color\":\"black\",\"size\":10},\"showarrow\":false,\"text\":\"26\",\"x\":22.419645414204126,\"y\":22.491359056411017},{\"font\":{\"color\":\"black\",\"size\":10},\"showarrow\":false,\"text\":\"30\",\"x\":22.419645414204126,\"y\":23.99041470484415},{\"font\":{\"color\":\"black\",\"size\":10},\"showarrow\":false,\"text\":\"33\",\"x\":23.912273889626416,\"y\":22.491359056411017},{\"font\":{\"color\":\"black\",\"size\":10},\"showarrow\":false,\"text\":\"12\",\"x\":23.912273889626416,\"y\":23.99041470484415}],\"xaxis\":{\"title\":{\"text\":\"X-axis\"},\"range\":[5.005646534277389,24.907359539907944]},\"yaxis\":{\"title\":{\"text\":\"Y-axis\"},\"range\":[5.002376491357829,24.989785137132902]},\"title\":{\"text\":\"Adaptive 2D Histogram with Color Coding and Count Annotations\"},\"showlegend\":false,\"hovermode\":\"closest\"},                        {\"responsive\": true}                    ).then(function(){\n",
       "                            \n",
       "var gd = document.getElementById('131766ad-2827-418b-8137-de3c959c4e63');\n",
       "var x = new MutationObserver(function (mutations, observer) {{\n",
       "        var display = window.getComputedStyle(gd).display;\n",
       "        if (!display || display === 'none') {{\n",
       "            console.log([gd, 'removed!']);\n",
       "            Plotly.purge(gd);\n",
       "            observer.disconnect();\n",
       "        }}\n",
       "}});\n",
       "\n",
       "// Listen for the removal of the full notebook cells\n",
       "var notebookContainer = gd.closest('#notebook-container');\n",
       "if (notebookContainer) {{\n",
       "    x.observe(notebookContainer, {childList: true});\n",
       "}}\n",
       "\n",
       "// Listen for the clearing of the current output cell\n",
       "var outputEl = gd.closest('.output');\n",
       "if (outputEl) {{\n",
       "    x.observe(outputEl, {childList: true});\n",
       "}}\n",
       "\n",
       "                        })                };                });            </script>        </div>"
      ]
     },
     "metadata": {},
     "output_type": "display_data"
    }
   ],
   "source": [
    "import numpy as np\n",
    "import plotly.graph_objects as go\n",
    "\n",
    "# Define the adaptive histogram function with recursive splitting and merging\n",
    "def adaptive_qthist(x, y, N=5, min_count=1, max_count=50, density=False):\n",
    "    num = []\n",
    "    xmin = []\n",
    "    xmax = []\n",
    "    ymin = []\n",
    "    ymax = []\n",
    "\n",
    "    x_range = [np.nanmin(x), np.nanmax(x)]\n",
    "    y_range = [np.nanmin(y), np.nanmax(y)]\n",
    "    buffer_x = (x_range[1] - x_range[0]) * 0.1\n",
    "    buffer_y = (y_range[1] - y_range[0]) * 0.1\n",
    "    x_range = [x_range[0] - buffer_x, x_range[1] + buffer_x]\n",
    "    y_range = [y_range[0] - buffer_y, y_range[1] + buffer_y]\n",
    "\n",
    "    def divide_and_count(x_range, y_range, level=1):\n",
    "        if level > N:\n",
    "            return\n",
    "        bins_x = np.linspace(x_range[0], x_range[1], 3)\n",
    "        bins_y = np.linspace(y_range[0], y_range[1], 3)\n",
    "        H, xedges, yedges = np.histogram2d(x, y, bins=[bins_x, bins_y])\n",
    "\n",
    "        for i in range(2):\n",
    "            for j in range(2):\n",
    "                count = H[i, j]\n",
    "                x_min, x_max = xedges[i], xedges[i + 1]\n",
    "                y_min, y_max = yedges[j], yedges[j + 1]\n",
    "\n",
    "                if min_count <= count <= max_count:\n",
    "                    num.append(count)\n",
    "                    xmin.append(x_min)\n",
    "                    xmax.append(x_max)\n",
    "                    ymin.append(y_min)\n",
    "                    ymax.append(y_max)\n",
    "                elif count > max_count:\n",
    "                    divide_and_count([x_min, x_max], [y_min, y_max], level + 1)\n",
    "                elif 0 < count < min_count:\n",
    "                    adjacent_count = count\n",
    "                    combined_x_min, combined_x_max = x_min, x_max\n",
    "                    combined_y_min, combined_y_max = y_min, y_max\n",
    "\n",
    "                    for k in range(2):\n",
    "                        adj_count_x = H[k, j] if k != i else 0\n",
    "                        adj_count_y = H[i, k] if k != j else 0\n",
    "                        if adj_count_x > 0:\n",
    "                            adjacent_count += adj_count_x\n",
    "                            combined_x_max = xedges[k + 1]\n",
    "                        if adj_count_y > 0:\n",
    "                            adjacent_count += adj_count_y\n",
    "                            combined_y_max = yedges[k + 1]\n",
    "                        if adjacent_count >= min_count:\n",
    "                            break\n",
    "\n",
    "                    num.append(adjacent_count)\n",
    "                    xmin.append(combined_x_min)\n",
    "                    xmax.append(combined_x_max)\n",
    "                    ymin.append(combined_y_min)\n",
    "                    ymax.append(combined_y_max)\n",
    "                else:\n",
    "                    num.append(count)\n",
    "                    xmin.append(x_min)\n",
    "                    xmax.append(x_max)\n",
    "                    ymin.append(y_min)\n",
    "                    ymax.append(y_max)\n",
    "\n",
    "    divide_and_count(x_range, y_range)\n",
    "    num = np.array(num)\n",
    "    xmin = np.array(xmin)\n",
    "    xmax = np.array(xmax)\n",
    "    ymin = np.array(ymin)\n",
    "    ymax = np.array(ymax)\n",
    "\n",
    "\n",
    "    return num, xmin, xmax, ymin, ymax\n",
    "\n",
    "# Example usage\n",
    "np.random.seed(42)\n",
    "x = np.random.uniform(25, 5, 1000)\n",
    "np.random.seed(39)\n",
    "y = np.random.uniform(25, 5, 1000)\n",
    "counts, xmin_edges, xmax_edges, ymin_edges, ymax_edges = adaptive_qthist(x, y, N=5, min_count=20, max_count=30, density=True)\n",
    "\n",
    "# Plot with Plotly\n",
    "fig = go.Figure()\n",
    "\n",
    "# Add each bin as a rectangle\n",
    "for xmin, xmax, ymin, ymax, count in zip(xmin_edges, xmax_edges, ymin_edges, ymax_edges, counts):\n",
    "    # Color coding based on count thresholds\n",
    "    if count == 0:\n",
    "        color = 'yellow'\n",
    "    elif count < 20:\n",
    "        color = 'blue'\n",
    "    elif count > 30:\n",
    "        color = 'red'\n",
    "    else:\n",
    "        color = 'white'\n",
    "    \n",
    "    # Add rectangle for each bin\n",
    "    fig.add_shape(\n",
    "        type=\"rect\",\n",
    "        x0=xmin, y0=ymin, x1=xmax, y1=ymax,\n",
    "        line=dict(color=\"black\"),\n",
    "        fillcolor=color,\n",
    "        opacity=0.6\n",
    "    )\n",
    "\n",
    "    # Add annotation for each bin count\n",
    "    fig.add_annotation(\n",
    "        x=(xmin + xmax) / 2,\n",
    "        y=(ymin + ymax) / 2,\n",
    "        text=str(int(count)),\n",
    "        showarrow=False,\n",
    "        font=dict(color=\"black\", size=10)\n",
    "    )\n",
    "\n",
    "# Set up the layout\n",
    "fig.update_layout(\n",
    "    title=\"Adaptive 2D Histogram with Color Coding and Count Annotations\",\n",
    "    xaxis_title=\"X-axis\",\n",
    "    yaxis_title=\"Y-axis\",\n",
    "    xaxis=dict(range=[x.min(), x.max()]),\n",
    "    yaxis=dict(range=[y.min(), y.max()]),\n",
    "    showlegend=False,\n",
    "    hovermode=\"closest\"\n",
    ")\n",
    "\n",
    "# Show the plot\n",
    "fig.show()\n"
   ]
  },
  {
   "cell_type": "code",
   "execution_count": 41,
   "id": "3f3678cd",
   "metadata": {},
   "outputs": [
    {
     "data": {
      "text/plain": [
       "array([13., 29., 32., 23., 41., 23., 29., 25., 42., 23., 50., 23., 20.,\n",
       "       26., 24., 63., 31., 23., 27., 21., 25., 28., 37., 43., 29., 27.,\n",
       "       25., 25., 28., 25., 53., 33., 20., 21., 20., 31., 39., 39., 36.,\n",
       "       26., 29., 49., 55., 33., 22., 58., 41., 27., 23., 38., 25., 25.,\n",
       "       34., 45., 30., 46., 24., 29., 50., 26., 24., 33., 27., 22., 37.,\n",
       "       41., 26., 30., 33., 12.])"
      ]
     },
     "execution_count": 41,
     "metadata": {},
     "output_type": "execute_result"
    }
   ],
   "source": [
    "counts"
   ]
  },
  {
   "cell_type": "code",
   "execution_count": 42,
   "id": "876422f0",
   "metadata": {},
   "outputs": [
    {
     "data": {
      "application/vnd.plotly.v1+json": {
       "config": {
        "plotlyServerURL": "https://plot.ly"
       },
       "data": [],
       "layout": {
        "annotations": [
         {
          "font": {
           "color": "black",
           "size": 10
          },
          "showarrow": false,
          "text": "13",
          "x": 6.000732184558917,
          "y": 6.001746923646582
         },
         {
          "font": {
           "color": "black",
           "size": 10
          },
          "showarrow": false,
          "text": "29",
          "x": 6.000732184558917,
          "y": 6.001746923646582
         },
         {
          "font": {
           "color": "black",
           "size": 10
          },
          "showarrow": false,
          "text": "32",
          "x": 6.000732184558917,
          "y": 6.001746923646582
         },
         {
          "font": {
           "color": "black",
           "size": 10
          },
          "showarrow": false,
          "text": "23",
          "x": 7.493360659981208,
          "y": 7.500802572079712
         },
         {
          "font": {
           "color": "black",
           "size": 10
          },
          "showarrow": false,
          "text": "41",
          "x": 6.000732184558917,
          "y": 11.997969517379103
         },
         {
          "font": {
           "color": "black",
           "size": 10
          },
          "showarrow": false,
          "text": "23",
          "x": 4.508103709136625,
          "y": 11.997969517379103
         },
         {
          "font": {
           "color": "black",
           "size": 10
          },
          "showarrow": false,
          "text": "18",
          "x": 7.493360659981208,
          "y": 10.498913868945973
         },
         {
          "font": {
           "color": "black",
           "size": 10
          },
          "showarrow": false,
          "text": "25",
          "x": 7.493360659981208,
          "y": 13.497025165812232
         },
         {
          "font": {
           "color": "black",
           "size": 10
          },
          "showarrow": false,
          "text": "42",
          "x": 11.971246086248083,
          "y": 6.001746923646582
         },
         {
          "font": {
           "color": "black",
           "size": 10
          },
          "showarrow": false,
          "text": "23",
          "x": 10.478617610825792,
          "y": 7.500802572079712
         },
         {
          "font": {
           "color": "black",
           "size": 10
          },
          "showarrow": false,
          "text": "19",
          "x": 11.971246086248083,
          "y": 4.5026912752134525
         },
         {
          "font": {
           "color": "black",
           "size": 10
          },
          "showarrow": false,
          "text": "31",
          "x": 13.463874561670375,
          "y": 7.500802572079712
         },
         {
          "font": {
           "color": "black",
           "size": 10
          },
          "showarrow": false,
          "text": "63",
          "x": 11.971246086248083,
          "y": 11.997969517379103
         },
         {
          "font": {
           "color": "black",
           "size": 10
          },
          "showarrow": false,
          "text": "17",
          "x": 10.478617610825792,
          "y": 13.497025165812232
         },
         {
          "font": {
           "color": "black",
           "size": 10
          },
          "showarrow": false,
          "text": "32",
          "x": 13.463874561670375,
          "y": 10.498913868945973
         },
         {
          "font": {
           "color": "black",
           "size": 10
          },
          "showarrow": false,
          "text": "28",
          "x": 13.463874561670375,
          "y": 13.497025165812232
         },
         {
          "font": {
           "color": "black",
           "size": 10
          },
          "showarrow": false,
          "text": "37",
          "x": 6.000732184558917,
          "y": 17.994192111111623
         },
         {
          "font": {
           "color": "black",
           "size": 10
          },
          "showarrow": false,
          "text": "43",
          "x": 6.000732184558917,
          "y": 17.994192111111623
         },
         {
          "font": {
           "color": "black",
           "size": 10
          },
          "showarrow": false,
          "text": "29",
          "x": 7.493360659981208,
          "y": 16.495136462678495
         },
         {
          "font": {
           "color": "black",
           "size": 10
          },
          "showarrow": false,
          "text": "35",
          "x": 7.493360659981208,
          "y": 19.493247759544754
         },
         {
          "font": {
           "color": "black",
           "size": 10
          },
          "showarrow": false,
          "text": "25",
          "x": 6.000732184558917,
          "y": 23.99041470484415
         },
         {
          "font": {
           "color": "black",
           "size": 10
          },
          "showarrow": false,
          "text": "53",
          "x": 11.971246086248083,
          "y": 17.994192111111623
         },
         {
          "font": {
           "color": "black",
           "size": 10
          },
          "showarrow": false,
          "text": "19",
          "x": 10.478617610825792,
          "y": 19.493247759544754
         },
         {
          "font": {
           "color": "black",
           "size": 10
          },
          "showarrow": false,
          "text": "20",
          "x": 13.463874561670375,
          "y": 16.495136462678495
         },
         {
          "font": {
           "color": "black",
           "size": 10
          },
          "showarrow": false,
          "text": "21",
          "x": 13.463874561670375,
          "y": 19.493247759544754
         },
         {
          "font": {
           "color": "black",
           "size": 10
          },
          "showarrow": false,
          "text": "20",
          "x": 10.478617610825792,
          "y": 22.491359056411017
         },
         {
          "font": {
           "color": "black",
           "size": 10
          },
          "showarrow": false,
          "text": "31",
          "x": 10.478617610825792,
          "y": 23.99041470484415
         },
         {
          "font": {
           "color": "black",
           "size": 10
          },
          "showarrow": false,
          "text": "19",
          "x": 13.463874561670375,
          "y": 22.491359056411017
         },
         {
          "font": {
           "color": "black",
           "size": 10
          },
          "showarrow": false,
          "text": "39",
          "x": 11.971246086248083,
          "y": 23.99041470484415
         },
         {
          "font": {
           "color": "black",
           "size": 10
          },
          "showarrow": false,
          "text": "36",
          "x": 17.94175998793725,
          "y": 6.001746923646582
         },
         {
          "font": {
           "color": "black",
           "size": 10
          },
          "showarrow": false,
          "text": "26",
          "x": 16.44913151251496,
          "y": 7.500802572079712
         },
         {
          "font": {
           "color": "black",
           "size": 10
          },
          "showarrow": false,
          "text": "29",
          "x": 17.94175998793725,
          "y": 6.001746923646582
         },
         {
          "font": {
           "color": "black",
           "size": 10
          },
          "showarrow": false,
          "text": "19",
          "x": 19.43438846335954,
          "y": 7.500802572079712
         },
         {
          "font": {
           "color": "black",
           "size": 10
          },
          "showarrow": false,
          "text": "55",
          "x": 17.94175998793725,
          "y": 11.997969517379103
         },
         {
          "font": {
           "color": "black",
           "size": 10
          },
          "showarrow": false,
          "text": "19",
          "x": 16.44913151251496,
          "y": 13.497025165812232
         },
         {
          "font": {
           "color": "black",
           "size": 10
          },
          "showarrow": false,
          "text": "22",
          "x": 19.43438846335954,
          "y": 10.498913868945973
         },
         {
          "font": {
           "color": "black",
           "size": 10
          },
          "showarrow": false,
          "text": "17",
          "x": 19.43438846335954,
          "y": 13.497025165812232
         },
         {
          "font": {
           "color": "black",
           "size": 10
          },
          "showarrow": false,
          "text": "41",
          "x": 23.912273889626416,
          "y": 6.001746923646582
         },
         {
          "font": {
           "color": "black",
           "size": 10
          },
          "showarrow": false,
          "text": "27",
          "x": 22.419645414204126,
          "y": 7.500802572079712
         },
         {
          "font": {
           "color": "black",
           "size": 10
          },
          "showarrow": false,
          "text": "23",
          "x": 23.912273889626416,
          "y": 6.001746923646582
         },
         {
          "font": {
           "color": "black",
           "size": 10
          },
          "showarrow": false,
          "text": "38",
          "x": 23.912273889626416,
          "y": 6.001746923646582
         },
         {
          "font": {
           "color": "black",
           "size": 10
          },
          "showarrow": false,
          "text": "25",
          "x": 22.419645414204126,
          "y": 10.498913868945973
         },
         {
          "font": {
           "color": "black",
           "size": 10
          },
          "showarrow": false,
          "text": "25",
          "x": 22.419645414204126,
          "y": 13.497025165812232
         },
         {
          "font": {
           "color": "black",
           "size": 10
          },
          "showarrow": false,
          "text": "34",
          "x": 23.912273889626416,
          "y": 10.498913868945973
         },
         {
          "font": {
           "color": "black",
           "size": 10
          },
          "showarrow": false,
          "text": "45",
          "x": 23.912273889626416,
          "y": 11.997969517379103
         },
         {
          "font": {
           "color": "black",
           "size": 10
          },
          "showarrow": false,
          "text": "30",
          "x": 16.44913151251496,
          "y": 16.495136462678495
         },
         {
          "font": {
           "color": "black",
           "size": 10
          },
          "showarrow": false,
          "text": "16",
          "x": 16.44913151251496,
          "y": 19.493247759544754
         },
         {
          "font": {
           "color": "black",
           "size": 10
          },
          "showarrow": false,
          "text": "24",
          "x": 19.43438846335954,
          "y": 16.495136462678495
         },
         {
          "font": {
           "color": "black",
           "size": 10
          },
          "showarrow": false,
          "text": "29",
          "x": 19.43438846335954,
          "y": 19.493247759544754
         },
         {
          "font": {
           "color": "black",
           "size": 10
          },
          "showarrow": false,
          "text": "19",
          "x": 16.44913151251496,
          "y": 22.491359056411017
         },
         {
          "font": {
           "color": "black",
           "size": 10
          },
          "showarrow": false,
          "text": "26",
          "x": 16.44913151251496,
          "y": 23.99041470484415
         },
         {
          "font": {
           "color": "black",
           "size": 10
          },
          "showarrow": false,
          "text": "24",
          "x": 19.43438846335954,
          "y": 22.491359056411017
         },
         {
          "font": {
           "color": "black",
           "size": 10
          },
          "showarrow": false,
          "text": "33",
          "x": 17.94175998793725,
          "y": 23.99041470484415
         },
         {
          "font": {
           "color": "black",
           "size": 10
          },
          "showarrow": false,
          "text": "27",
          "x": 22.419645414204126,
          "y": 16.495136462678495
         },
         {
          "font": {
           "color": "black",
           "size": 10
          },
          "showarrow": false,
          "text": "22",
          "x": 22.419645414204126,
          "y": 19.493247759544754
         },
         {
          "font": {
           "color": "black",
           "size": 10
          },
          "showarrow": false,
          "text": "37",
          "x": 23.912273889626416,
          "y": 16.495136462678495
         },
         {
          "font": {
           "color": "black",
           "size": 10
          },
          "showarrow": false,
          "text": "41",
          "x": 23.912273889626416,
          "y": 17.994192111111623
         },
         {
          "font": {
           "color": "black",
           "size": 10
          },
          "showarrow": false,
          "text": "26",
          "x": 22.419645414204126,
          "y": 22.491359056411017
         },
         {
          "font": {
           "color": "black",
           "size": 10
          },
          "showarrow": false,
          "text": "30",
          "x": 22.419645414204126,
          "y": 23.99041470484415
         },
         {
          "font": {
           "color": "black",
           "size": 10
          },
          "showarrow": false,
          "text": "33",
          "x": 23.912273889626416,
          "y": 22.491359056411017
         },
         {
          "font": {
           "color": "black",
           "size": 10
          },
          "showarrow": false,
          "text": "12",
          "x": 23.912273889626416,
          "y": 23.99041470484415
         }
        ],
        "hovermode": "closest",
        "shapes": [
         {
          "fillcolor": "blue",
          "line": {
           "color": "black"
          },
          "opacity": 0.6,
          "type": "rect",
          "x0": 3.0154752337143336,
          "x1": 8.9859891354035,
          "y0": 3.003635626780322,
          "y1": 8.999858220512841
         },
         {
          "fillcolor": "white",
          "line": {
           "color": "black"
          },
          "opacity": 0.6,
          "type": "rect",
          "x0": 3.0154752337143336,
          "x1": 8.9859891354035,
          "y0": 6.001746923646582,
          "y1": 6.001746923646582
         },
         {
          "fillcolor": "red",
          "line": {
           "color": "black"
          },
          "opacity": 0.6,
          "type": "rect",
          "x0": 6.000732184558917,
          "x1": 6.000732184558917,
          "y0": 3.003635626780322,
          "y1": 8.999858220512841
         },
         {
          "fillcolor": "white",
          "line": {
           "color": "black"
          },
          "opacity": 0.6,
          "type": "rect",
          "x0": 6.000732184558917,
          "x1": 8.9859891354035,
          "y0": 6.001746923646582,
          "y1": 8.999858220512841
         },
         {
          "fillcolor": "red",
          "line": {
           "color": "black"
          },
          "opacity": 0.6,
          "type": "rect",
          "x0": 3.0154752337143336,
          "x1": 8.9859891354035,
          "y0": 8.999858220512841,
          "y1": 14.996080814245364
         },
         {
          "fillcolor": "white",
          "line": {
           "color": "black"
          },
          "opacity": 0.6,
          "type": "rect",
          "x0": 3.0154752337143336,
          "x1": 6.000732184558917,
          "y0": 11.997969517379103,
          "y1": 11.997969517379103
         },
         {
          "fillcolor": "blue",
          "line": {
           "color": "black"
          },
          "opacity": 0.6,
          "type": "rect",
          "x0": 6.000732184558917,
          "x1": 8.9859891354035,
          "y0": 8.999858220512841,
          "y1": 11.997969517379103
         },
         {
          "fillcolor": "white",
          "line": {
           "color": "black"
          },
          "opacity": 0.6,
          "type": "rect",
          "x0": 6.000732184558917,
          "x1": 8.9859891354035,
          "y0": 11.997969517379103,
          "y1": 14.996080814245364
         },
         {
          "fillcolor": "red",
          "line": {
           "color": "black"
          },
          "opacity": 0.6,
          "type": "rect",
          "x0": 8.9859891354035,
          "x1": 14.956503037092666,
          "y0": 3.003635626780322,
          "y1": 8.999858220512841
         },
         {
          "fillcolor": "white",
          "line": {
           "color": "black"
          },
          "opacity": 0.6,
          "type": "rect",
          "x0": 8.9859891354035,
          "x1": 11.971246086248083,
          "y0": 6.001746923646582,
          "y1": 8.999858220512841
         },
         {
          "fillcolor": "blue",
          "line": {
           "color": "black"
          },
          "opacity": 0.6,
          "type": "rect",
          "x0": 11.971246086248083,
          "x1": 11.971246086248083,
          "y0": 3.003635626780322,
          "y1": 6.001746923646582
         },
         {
          "fillcolor": "red",
          "line": {
           "color": "black"
          },
          "opacity": 0.6,
          "type": "rect",
          "x0": 11.971246086248083,
          "x1": 14.956503037092666,
          "y0": 6.001746923646582,
          "y1": 8.999858220512841
         },
         {
          "fillcolor": "red",
          "line": {
           "color": "black"
          },
          "opacity": 0.6,
          "type": "rect",
          "x0": 8.9859891354035,
          "x1": 14.956503037092666,
          "y0": 8.999858220512841,
          "y1": 14.996080814245364
         },
         {
          "fillcolor": "blue",
          "line": {
           "color": "black"
          },
          "opacity": 0.6,
          "type": "rect",
          "x0": 8.9859891354035,
          "x1": 11.971246086248083,
          "y0": 11.997969517379103,
          "y1": 14.996080814245364
         },
         {
          "fillcolor": "red",
          "line": {
           "color": "black"
          },
          "opacity": 0.6,
          "type": "rect",
          "x0": 11.971246086248083,
          "x1": 14.956503037092666,
          "y0": 8.999858220512841,
          "y1": 11.997969517379103
         },
         {
          "fillcolor": "white",
          "line": {
           "color": "black"
          },
          "opacity": 0.6,
          "type": "rect",
          "x0": 11.971246086248083,
          "x1": 14.956503037092666,
          "y0": 11.997969517379103,
          "y1": 14.996080814245364
         },
         {
          "fillcolor": "red",
          "line": {
           "color": "black"
          },
          "opacity": 0.6,
          "type": "rect",
          "x0": 3.0154752337143336,
          "x1": 8.9859891354035,
          "y0": 14.996080814245364,
          "y1": 20.992303407977886
         },
         {
          "fillcolor": "red",
          "line": {
           "color": "black"
          },
          "opacity": 0.6,
          "type": "rect",
          "x0": 3.0154752337143336,
          "x1": 8.9859891354035,
          "y0": 17.994192111111623,
          "y1": 17.994192111111623
         },
         {
          "fillcolor": "white",
          "line": {
           "color": "black"
          },
          "opacity": 0.6,
          "type": "rect",
          "x0": 6.000732184558917,
          "x1": 8.9859891354035,
          "y0": 14.996080814245364,
          "y1": 17.994192111111623
         },
         {
          "fillcolor": "red",
          "line": {
           "color": "black"
          },
          "opacity": 0.6,
          "type": "rect",
          "x0": 6.000732184558917,
          "x1": 8.9859891354035,
          "y0": 17.994192111111623,
          "y1": 20.992303407977886
         },
         {
          "fillcolor": "white",
          "line": {
           "color": "black"
          },
          "opacity": 0.6,
          "type": "rect",
          "x0": 3.0154752337143336,
          "x1": 8.9859891354035,
          "y0": 20.992303407977886,
          "y1": 26.988526001710408
         },
         {
          "fillcolor": "red",
          "line": {
           "color": "black"
          },
          "opacity": 0.6,
          "type": "rect",
          "x0": 8.9859891354035,
          "x1": 14.956503037092666,
          "y0": 14.996080814245364,
          "y1": 20.992303407977886
         },
         {
          "fillcolor": "blue",
          "line": {
           "color": "black"
          },
          "opacity": 0.6,
          "type": "rect",
          "x0": 8.9859891354035,
          "x1": 11.971246086248083,
          "y0": 17.994192111111623,
          "y1": 20.992303407977886
         },
         {
          "fillcolor": "white",
          "line": {
           "color": "black"
          },
          "opacity": 0.6,
          "type": "rect",
          "x0": 11.971246086248083,
          "x1": 14.956503037092666,
          "y0": 14.996080814245364,
          "y1": 17.994192111111623
         },
         {
          "fillcolor": "white",
          "line": {
           "color": "black"
          },
          "opacity": 0.6,
          "type": "rect",
          "x0": 11.971246086248083,
          "x1": 14.956503037092666,
          "y0": 17.994192111111623,
          "y1": 20.992303407977886
         },
         {
          "fillcolor": "white",
          "line": {
           "color": "black"
          },
          "opacity": 0.6,
          "type": "rect",
          "x0": 8.9859891354035,
          "x1": 11.971246086248083,
          "y0": 20.992303407977886,
          "y1": 23.99041470484415
         },
         {
          "fillcolor": "red",
          "line": {
           "color": "black"
          },
          "opacity": 0.6,
          "type": "rect",
          "x0": 8.9859891354035,
          "x1": 11.971246086248083,
          "y0": 23.99041470484415,
          "y1": 23.99041470484415
         },
         {
          "fillcolor": "blue",
          "line": {
           "color": "black"
          },
          "opacity": 0.6,
          "type": "rect",
          "x0": 11.971246086248083,
          "x1": 14.956503037092666,
          "y0": 20.992303407977886,
          "y1": 23.99041470484415
         },
         {
          "fillcolor": "red",
          "line": {
           "color": "black"
          },
          "opacity": 0.6,
          "type": "rect",
          "x0": 11.971246086248083,
          "x1": 11.971246086248083,
          "y0": 23.99041470484415,
          "y1": 23.99041470484415
         },
         {
          "fillcolor": "red",
          "line": {
           "color": "black"
          },
          "opacity": 0.6,
          "type": "rect",
          "x0": 14.956503037092666,
          "x1": 20.927016938781833,
          "y0": 3.003635626780322,
          "y1": 8.999858220512841
         },
         {
          "fillcolor": "white",
          "line": {
           "color": "black"
          },
          "opacity": 0.6,
          "type": "rect",
          "x0": 14.956503037092666,
          "x1": 17.94175998793725,
          "y0": 6.001746923646582,
          "y1": 8.999858220512841
         },
         {
          "fillcolor": "white",
          "line": {
           "color": "black"
          },
          "opacity": 0.6,
          "type": "rect",
          "x0": 17.94175998793725,
          "x1": 17.94175998793725,
          "y0": 3.003635626780322,
          "y1": 8.999858220512841
         },
         {
          "fillcolor": "blue",
          "line": {
           "color": "black"
          },
          "opacity": 0.6,
          "type": "rect",
          "x0": 17.94175998793725,
          "x1": 20.927016938781833,
          "y0": 6.001746923646582,
          "y1": 8.999858220512841
         },
         {
          "fillcolor": "red",
          "line": {
           "color": "black"
          },
          "opacity": 0.6,
          "type": "rect",
          "x0": 14.956503037092666,
          "x1": 20.927016938781833,
          "y0": 8.999858220512841,
          "y1": 14.996080814245364
         },
         {
          "fillcolor": "blue",
          "line": {
           "color": "black"
          },
          "opacity": 0.6,
          "type": "rect",
          "x0": 14.956503037092666,
          "x1": 17.94175998793725,
          "y0": 11.997969517379103,
          "y1": 14.996080814245364
         },
         {
          "fillcolor": "white",
          "line": {
           "color": "black"
          },
          "opacity": 0.6,
          "type": "rect",
          "x0": 17.94175998793725,
          "x1": 20.927016938781833,
          "y0": 8.999858220512841,
          "y1": 11.997969517379103
         },
         {
          "fillcolor": "blue",
          "line": {
           "color": "black"
          },
          "opacity": 0.6,
          "type": "rect",
          "x0": 17.94175998793725,
          "x1": 20.927016938781833,
          "y0": 11.997969517379103,
          "y1": 14.996080814245364
         },
         {
          "fillcolor": "red",
          "line": {
           "color": "black"
          },
          "opacity": 0.6,
          "type": "rect",
          "x0": 20.927016938781833,
          "x1": 26.897530840471,
          "y0": 3.003635626780322,
          "y1": 8.999858220512841
         },
         {
          "fillcolor": "white",
          "line": {
           "color": "black"
          },
          "opacity": 0.6,
          "type": "rect",
          "x0": 20.927016938781833,
          "x1": 23.912273889626416,
          "y0": 6.001746923646582,
          "y1": 8.999858220512841
         },
         {
          "fillcolor": "white",
          "line": {
           "color": "black"
          },
          "opacity": 0.6,
          "type": "rect",
          "x0": 23.912273889626416,
          "x1": 23.912273889626416,
          "y0": 3.003635626780322,
          "y1": 8.999858220512841
         },
         {
          "fillcolor": "red",
          "line": {
           "color": "black"
          },
          "opacity": 0.6,
          "type": "rect",
          "x0": 23.912273889626416,
          "x1": 23.912273889626416,
          "y0": 6.001746923646582,
          "y1": 6.001746923646582
         },
         {
          "fillcolor": "white",
          "line": {
           "color": "black"
          },
          "opacity": 0.6,
          "type": "rect",
          "x0": 20.927016938781833,
          "x1": 23.912273889626416,
          "y0": 8.999858220512841,
          "y1": 11.997969517379103
         },
         {
          "fillcolor": "white",
          "line": {
           "color": "black"
          },
          "opacity": 0.6,
          "type": "rect",
          "x0": 20.927016938781833,
          "x1": 23.912273889626416,
          "y0": 11.997969517379103,
          "y1": 14.996080814245364
         },
         {
          "fillcolor": "red",
          "line": {
           "color": "black"
          },
          "opacity": 0.6,
          "type": "rect",
          "x0": 23.912273889626416,
          "x1": 23.912273889626416,
          "y0": 8.999858220512841,
          "y1": 11.997969517379103
         },
         {
          "fillcolor": "red",
          "line": {
           "color": "black"
          },
          "opacity": 0.6,
          "type": "rect",
          "x0": 23.912273889626416,
          "x1": 23.912273889626416,
          "y0": 11.997969517379103,
          "y1": 11.997969517379103
         },
         {
          "fillcolor": "white",
          "line": {
           "color": "black"
          },
          "opacity": 0.6,
          "type": "rect",
          "x0": 14.956503037092666,
          "x1": 17.94175998793725,
          "y0": 14.996080814245364,
          "y1": 17.994192111111623
         },
         {
          "fillcolor": "blue",
          "line": {
           "color": "black"
          },
          "opacity": 0.6,
          "type": "rect",
          "x0": 14.956503037092666,
          "x1": 17.94175998793725,
          "y0": 17.994192111111623,
          "y1": 20.992303407977886
         },
         {
          "fillcolor": "white",
          "line": {
           "color": "black"
          },
          "opacity": 0.6,
          "type": "rect",
          "x0": 17.94175998793725,
          "x1": 20.927016938781833,
          "y0": 14.996080814245364,
          "y1": 17.994192111111623
         },
         {
          "fillcolor": "white",
          "line": {
           "color": "black"
          },
          "opacity": 0.6,
          "type": "rect",
          "x0": 17.94175998793725,
          "x1": 20.927016938781833,
          "y0": 17.994192111111623,
          "y1": 20.992303407977886
         },
         {
          "fillcolor": "blue",
          "line": {
           "color": "black"
          },
          "opacity": 0.6,
          "type": "rect",
          "x0": 14.956503037092666,
          "x1": 17.94175998793725,
          "y0": 20.992303407977886,
          "y1": 23.99041470484415
         },
         {
          "fillcolor": "white",
          "line": {
           "color": "black"
          },
          "opacity": 0.6,
          "type": "rect",
          "x0": 14.956503037092666,
          "x1": 17.94175998793725,
          "y0": 23.99041470484415,
          "y1": 23.99041470484415
         },
         {
          "fillcolor": "white",
          "line": {
           "color": "black"
          },
          "opacity": 0.6,
          "type": "rect",
          "x0": 17.94175998793725,
          "x1": 20.927016938781833,
          "y0": 20.992303407977886,
          "y1": 23.99041470484415
         },
         {
          "fillcolor": "red",
          "line": {
           "color": "black"
          },
          "opacity": 0.6,
          "type": "rect",
          "x0": 17.94175998793725,
          "x1": 17.94175998793725,
          "y0": 23.99041470484415,
          "y1": 23.99041470484415
         },
         {
          "fillcolor": "white",
          "line": {
           "color": "black"
          },
          "opacity": 0.6,
          "type": "rect",
          "x0": 20.927016938781833,
          "x1": 23.912273889626416,
          "y0": 14.996080814245364,
          "y1": 17.994192111111623
         },
         {
          "fillcolor": "white",
          "line": {
           "color": "black"
          },
          "opacity": 0.6,
          "type": "rect",
          "x0": 20.927016938781833,
          "x1": 23.912273889626416,
          "y0": 17.994192111111623,
          "y1": 20.992303407977886
         },
         {
          "fillcolor": "red",
          "line": {
           "color": "black"
          },
          "opacity": 0.6,
          "type": "rect",
          "x0": 23.912273889626416,
          "x1": 23.912273889626416,
          "y0": 14.996080814245364,
          "y1": 17.994192111111623
         },
         {
          "fillcolor": "red",
          "line": {
           "color": "black"
          },
          "opacity": 0.6,
          "type": "rect",
          "x0": 23.912273889626416,
          "x1": 23.912273889626416,
          "y0": 17.994192111111623,
          "y1": 17.994192111111623
         },
         {
          "fillcolor": "white",
          "line": {
           "color": "black"
          },
          "opacity": 0.6,
          "type": "rect",
          "x0": 20.927016938781833,
          "x1": 23.912273889626416,
          "y0": 20.992303407977886,
          "y1": 23.99041470484415
         },
         {
          "fillcolor": "white",
          "line": {
           "color": "black"
          },
          "opacity": 0.6,
          "type": "rect",
          "x0": 20.927016938781833,
          "x1": 23.912273889626416,
          "y0": 23.99041470484415,
          "y1": 23.99041470484415
         },
         {
          "fillcolor": "red",
          "line": {
           "color": "black"
          },
          "opacity": 0.6,
          "type": "rect",
          "x0": 23.912273889626416,
          "x1": 23.912273889626416,
          "y0": 20.992303407977886,
          "y1": 23.99041470484415
         },
         {
          "fillcolor": "blue",
          "line": {
           "color": "black"
          },
          "opacity": 0.6,
          "type": "rect",
          "x0": 23.912273889626416,
          "x1": 23.912273889626416,
          "y0": 23.99041470484415,
          "y1": 23.99041470484415
         }
        ],
        "showlegend": false,
        "template": {
         "data": {
          "bar": [
           {
            "error_x": {
             "color": "#2a3f5f"
            },
            "error_y": {
             "color": "#2a3f5f"
            },
            "marker": {
             "line": {
              "color": "#E5ECF6",
              "width": 0.5
             },
             "pattern": {
              "fillmode": "overlay",
              "size": 10,
              "solidity": 0.2
             }
            },
            "type": "bar"
           }
          ],
          "barpolar": [
           {
            "marker": {
             "line": {
              "color": "#E5ECF6",
              "width": 0.5
             },
             "pattern": {
              "fillmode": "overlay",
              "size": 10,
              "solidity": 0.2
             }
            },
            "type": "barpolar"
           }
          ],
          "carpet": [
           {
            "aaxis": {
             "endlinecolor": "#2a3f5f",
             "gridcolor": "white",
             "linecolor": "white",
             "minorgridcolor": "white",
             "startlinecolor": "#2a3f5f"
            },
            "baxis": {
             "endlinecolor": "#2a3f5f",
             "gridcolor": "white",
             "linecolor": "white",
             "minorgridcolor": "white",
             "startlinecolor": "#2a3f5f"
            },
            "type": "carpet"
           }
          ],
          "choropleth": [
           {
            "colorbar": {
             "outlinewidth": 0,
             "ticks": ""
            },
            "type": "choropleth"
           }
          ],
          "contour": [
           {
            "colorbar": {
             "outlinewidth": 0,
             "ticks": ""
            },
            "colorscale": [
             [
              0,
              "#0d0887"
             ],
             [
              0.1111111111111111,
              "#46039f"
             ],
             [
              0.2222222222222222,
              "#7201a8"
             ],
             [
              0.3333333333333333,
              "#9c179e"
             ],
             [
              0.4444444444444444,
              "#bd3786"
             ],
             [
              0.5555555555555556,
              "#d8576b"
             ],
             [
              0.6666666666666666,
              "#ed7953"
             ],
             [
              0.7777777777777778,
              "#fb9f3a"
             ],
             [
              0.8888888888888888,
              "#fdca26"
             ],
             [
              1,
              "#f0f921"
             ]
            ],
            "type": "contour"
           }
          ],
          "contourcarpet": [
           {
            "colorbar": {
             "outlinewidth": 0,
             "ticks": ""
            },
            "type": "contourcarpet"
           }
          ],
          "heatmap": [
           {
            "colorbar": {
             "outlinewidth": 0,
             "ticks": ""
            },
            "colorscale": [
             [
              0,
              "#0d0887"
             ],
             [
              0.1111111111111111,
              "#46039f"
             ],
             [
              0.2222222222222222,
              "#7201a8"
             ],
             [
              0.3333333333333333,
              "#9c179e"
             ],
             [
              0.4444444444444444,
              "#bd3786"
             ],
             [
              0.5555555555555556,
              "#d8576b"
             ],
             [
              0.6666666666666666,
              "#ed7953"
             ],
             [
              0.7777777777777778,
              "#fb9f3a"
             ],
             [
              0.8888888888888888,
              "#fdca26"
             ],
             [
              1,
              "#f0f921"
             ]
            ],
            "type": "heatmap"
           }
          ],
          "heatmapgl": [
           {
            "colorbar": {
             "outlinewidth": 0,
             "ticks": ""
            },
            "colorscale": [
             [
              0,
              "#0d0887"
             ],
             [
              0.1111111111111111,
              "#46039f"
             ],
             [
              0.2222222222222222,
              "#7201a8"
             ],
             [
              0.3333333333333333,
              "#9c179e"
             ],
             [
              0.4444444444444444,
              "#bd3786"
             ],
             [
              0.5555555555555556,
              "#d8576b"
             ],
             [
              0.6666666666666666,
              "#ed7953"
             ],
             [
              0.7777777777777778,
              "#fb9f3a"
             ],
             [
              0.8888888888888888,
              "#fdca26"
             ],
             [
              1,
              "#f0f921"
             ]
            ],
            "type": "heatmapgl"
           }
          ],
          "histogram": [
           {
            "marker": {
             "pattern": {
              "fillmode": "overlay",
              "size": 10,
              "solidity": 0.2
             }
            },
            "type": "histogram"
           }
          ],
          "histogram2d": [
           {
            "colorbar": {
             "outlinewidth": 0,
             "ticks": ""
            },
            "colorscale": [
             [
              0,
              "#0d0887"
             ],
             [
              0.1111111111111111,
              "#46039f"
             ],
             [
              0.2222222222222222,
              "#7201a8"
             ],
             [
              0.3333333333333333,
              "#9c179e"
             ],
             [
              0.4444444444444444,
              "#bd3786"
             ],
             [
              0.5555555555555556,
              "#d8576b"
             ],
             [
              0.6666666666666666,
              "#ed7953"
             ],
             [
              0.7777777777777778,
              "#fb9f3a"
             ],
             [
              0.8888888888888888,
              "#fdca26"
             ],
             [
              1,
              "#f0f921"
             ]
            ],
            "type": "histogram2d"
           }
          ],
          "histogram2dcontour": [
           {
            "colorbar": {
             "outlinewidth": 0,
             "ticks": ""
            },
            "colorscale": [
             [
              0,
              "#0d0887"
             ],
             [
              0.1111111111111111,
              "#46039f"
             ],
             [
              0.2222222222222222,
              "#7201a8"
             ],
             [
              0.3333333333333333,
              "#9c179e"
             ],
             [
              0.4444444444444444,
              "#bd3786"
             ],
             [
              0.5555555555555556,
              "#d8576b"
             ],
             [
              0.6666666666666666,
              "#ed7953"
             ],
             [
              0.7777777777777778,
              "#fb9f3a"
             ],
             [
              0.8888888888888888,
              "#fdca26"
             ],
             [
              1,
              "#f0f921"
             ]
            ],
            "type": "histogram2dcontour"
           }
          ],
          "mesh3d": [
           {
            "colorbar": {
             "outlinewidth": 0,
             "ticks": ""
            },
            "type": "mesh3d"
           }
          ],
          "parcoords": [
           {
            "line": {
             "colorbar": {
              "outlinewidth": 0,
              "ticks": ""
             }
            },
            "type": "parcoords"
           }
          ],
          "pie": [
           {
            "automargin": true,
            "type": "pie"
           }
          ],
          "scatter": [
           {
            "fillpattern": {
             "fillmode": "overlay",
             "size": 10,
             "solidity": 0.2
            },
            "type": "scatter"
           }
          ],
          "scatter3d": [
           {
            "line": {
             "colorbar": {
              "outlinewidth": 0,
              "ticks": ""
             }
            },
            "marker": {
             "colorbar": {
              "outlinewidth": 0,
              "ticks": ""
             }
            },
            "type": "scatter3d"
           }
          ],
          "scattercarpet": [
           {
            "marker": {
             "colorbar": {
              "outlinewidth": 0,
              "ticks": ""
             }
            },
            "type": "scattercarpet"
           }
          ],
          "scattergeo": [
           {
            "marker": {
             "colorbar": {
              "outlinewidth": 0,
              "ticks": ""
             }
            },
            "type": "scattergeo"
           }
          ],
          "scattergl": [
           {
            "marker": {
             "colorbar": {
              "outlinewidth": 0,
              "ticks": ""
             }
            },
            "type": "scattergl"
           }
          ],
          "scattermapbox": [
           {
            "marker": {
             "colorbar": {
              "outlinewidth": 0,
              "ticks": ""
             }
            },
            "type": "scattermapbox"
           }
          ],
          "scatterpolar": [
           {
            "marker": {
             "colorbar": {
              "outlinewidth": 0,
              "ticks": ""
             }
            },
            "type": "scatterpolar"
           }
          ],
          "scatterpolargl": [
           {
            "marker": {
             "colorbar": {
              "outlinewidth": 0,
              "ticks": ""
             }
            },
            "type": "scatterpolargl"
           }
          ],
          "scatterternary": [
           {
            "marker": {
             "colorbar": {
              "outlinewidth": 0,
              "ticks": ""
             }
            },
            "type": "scatterternary"
           }
          ],
          "surface": [
           {
            "colorbar": {
             "outlinewidth": 0,
             "ticks": ""
            },
            "colorscale": [
             [
              0,
              "#0d0887"
             ],
             [
              0.1111111111111111,
              "#46039f"
             ],
             [
              0.2222222222222222,
              "#7201a8"
             ],
             [
              0.3333333333333333,
              "#9c179e"
             ],
             [
              0.4444444444444444,
              "#bd3786"
             ],
             [
              0.5555555555555556,
              "#d8576b"
             ],
             [
              0.6666666666666666,
              "#ed7953"
             ],
             [
              0.7777777777777778,
              "#fb9f3a"
             ],
             [
              0.8888888888888888,
              "#fdca26"
             ],
             [
              1,
              "#f0f921"
             ]
            ],
            "type": "surface"
           }
          ],
          "table": [
           {
            "cells": {
             "fill": {
              "color": "#EBF0F8"
             },
             "line": {
              "color": "white"
             }
            },
            "header": {
             "fill": {
              "color": "#C8D4E3"
             },
             "line": {
              "color": "white"
             }
            },
            "type": "table"
           }
          ]
         },
         "layout": {
          "annotationdefaults": {
           "arrowcolor": "#2a3f5f",
           "arrowhead": 0,
           "arrowwidth": 1
          },
          "autotypenumbers": "strict",
          "coloraxis": {
           "colorbar": {
            "outlinewidth": 0,
            "ticks": ""
           }
          },
          "colorscale": {
           "diverging": [
            [
             0,
             "#8e0152"
            ],
            [
             0.1,
             "#c51b7d"
            ],
            [
             0.2,
             "#de77ae"
            ],
            [
             0.3,
             "#f1b6da"
            ],
            [
             0.4,
             "#fde0ef"
            ],
            [
             0.5,
             "#f7f7f7"
            ],
            [
             0.6,
             "#e6f5d0"
            ],
            [
             0.7,
             "#b8e186"
            ],
            [
             0.8,
             "#7fbc41"
            ],
            [
             0.9,
             "#4d9221"
            ],
            [
             1,
             "#276419"
            ]
           ],
           "sequential": [
            [
             0,
             "#0d0887"
            ],
            [
             0.1111111111111111,
             "#46039f"
            ],
            [
             0.2222222222222222,
             "#7201a8"
            ],
            [
             0.3333333333333333,
             "#9c179e"
            ],
            [
             0.4444444444444444,
             "#bd3786"
            ],
            [
             0.5555555555555556,
             "#d8576b"
            ],
            [
             0.6666666666666666,
             "#ed7953"
            ],
            [
             0.7777777777777778,
             "#fb9f3a"
            ],
            [
             0.8888888888888888,
             "#fdca26"
            ],
            [
             1,
             "#f0f921"
            ]
           ],
           "sequentialminus": [
            [
             0,
             "#0d0887"
            ],
            [
             0.1111111111111111,
             "#46039f"
            ],
            [
             0.2222222222222222,
             "#7201a8"
            ],
            [
             0.3333333333333333,
             "#9c179e"
            ],
            [
             0.4444444444444444,
             "#bd3786"
            ],
            [
             0.5555555555555556,
             "#d8576b"
            ],
            [
             0.6666666666666666,
             "#ed7953"
            ],
            [
             0.7777777777777778,
             "#fb9f3a"
            ],
            [
             0.8888888888888888,
             "#fdca26"
            ],
            [
             1,
             "#f0f921"
            ]
           ]
          },
          "colorway": [
           "#636efa",
           "#EF553B",
           "#00cc96",
           "#ab63fa",
           "#FFA15A",
           "#19d3f3",
           "#FF6692",
           "#B6E880",
           "#FF97FF",
           "#FECB52"
          ],
          "font": {
           "color": "#2a3f5f"
          },
          "geo": {
           "bgcolor": "white",
           "lakecolor": "white",
           "landcolor": "#E5ECF6",
           "showlakes": true,
           "showland": true,
           "subunitcolor": "white"
          },
          "hoverlabel": {
           "align": "left"
          },
          "hovermode": "closest",
          "mapbox": {
           "style": "light"
          },
          "paper_bgcolor": "white",
          "plot_bgcolor": "#E5ECF6",
          "polar": {
           "angularaxis": {
            "gridcolor": "white",
            "linecolor": "white",
            "ticks": ""
           },
           "bgcolor": "#E5ECF6",
           "radialaxis": {
            "gridcolor": "white",
            "linecolor": "white",
            "ticks": ""
           }
          },
          "scene": {
           "xaxis": {
            "backgroundcolor": "#E5ECF6",
            "gridcolor": "white",
            "gridwidth": 2,
            "linecolor": "white",
            "showbackground": true,
            "ticks": "",
            "zerolinecolor": "white"
           },
           "yaxis": {
            "backgroundcolor": "#E5ECF6",
            "gridcolor": "white",
            "gridwidth": 2,
            "linecolor": "white",
            "showbackground": true,
            "ticks": "",
            "zerolinecolor": "white"
           },
           "zaxis": {
            "backgroundcolor": "#E5ECF6",
            "gridcolor": "white",
            "gridwidth": 2,
            "linecolor": "white",
            "showbackground": true,
            "ticks": "",
            "zerolinecolor": "white"
           }
          },
          "shapedefaults": {
           "line": {
            "color": "#2a3f5f"
           }
          },
          "ternary": {
           "aaxis": {
            "gridcolor": "white",
            "linecolor": "white",
            "ticks": ""
           },
           "baxis": {
            "gridcolor": "white",
            "linecolor": "white",
            "ticks": ""
           },
           "bgcolor": "#E5ECF6",
           "caxis": {
            "gridcolor": "white",
            "linecolor": "white",
            "ticks": ""
           }
          },
          "title": {
           "x": 0.05
          },
          "xaxis": {
           "automargin": true,
           "gridcolor": "white",
           "linecolor": "white",
           "ticks": "",
           "title": {
            "standoff": 15
           },
           "zerolinecolor": "white",
           "zerolinewidth": 2
          },
          "yaxis": {
           "automargin": true,
           "gridcolor": "white",
           "linecolor": "white",
           "ticks": "",
           "title": {
            "standoff": 15
           },
           "zerolinecolor": "white",
           "zerolinewidth": 2
          }
         }
        },
        "title": {
         "text": "Adaptive 2D Histogram with Color Coding and Count Annotations"
        },
        "xaxis": {
         "range": [
          5.005646534277389,
          24.907359539907944
         ],
         "title": {
          "text": "X-axis"
         }
        },
        "yaxis": {
         "range": [
          5.002376491357829,
          24.989785137132902
         ],
         "title": {
          "text": "Y-axis"
         }
        }
       }
      },
      "text/html": [
       "<div>                            <div id=\"17312b6b-3380-4831-a9d5-cea81929e0c0\" class=\"plotly-graph-div\" style=\"height:525px; width:100%;\"></div>            <script type=\"text/javascript\">                require([\"plotly\"], function(Plotly) {                    window.PLOTLYENV=window.PLOTLYENV || {};                                    if (document.getElementById(\"17312b6b-3380-4831-a9d5-cea81929e0c0\")) {                    Plotly.newPlot(                        \"17312b6b-3380-4831-a9d5-cea81929e0c0\",                        [],                        {\"template\":{\"data\":{\"histogram2dcontour\":[{\"type\":\"histogram2dcontour\",\"colorbar\":{\"outlinewidth\":0,\"ticks\":\"\"},\"colorscale\":[[0.0,\"#0d0887\"],[0.1111111111111111,\"#46039f\"],[0.2222222222222222,\"#7201a8\"],[0.3333333333333333,\"#9c179e\"],[0.4444444444444444,\"#bd3786\"],[0.5555555555555556,\"#d8576b\"],[0.6666666666666666,\"#ed7953\"],[0.7777777777777778,\"#fb9f3a\"],[0.8888888888888888,\"#fdca26\"],[1.0,\"#f0f921\"]]}],\"choropleth\":[{\"type\":\"choropleth\",\"colorbar\":{\"outlinewidth\":0,\"ticks\":\"\"}}],\"histogram2d\":[{\"type\":\"histogram2d\",\"colorbar\":{\"outlinewidth\":0,\"ticks\":\"\"},\"colorscale\":[[0.0,\"#0d0887\"],[0.1111111111111111,\"#46039f\"],[0.2222222222222222,\"#7201a8\"],[0.3333333333333333,\"#9c179e\"],[0.4444444444444444,\"#bd3786\"],[0.5555555555555556,\"#d8576b\"],[0.6666666666666666,\"#ed7953\"],[0.7777777777777778,\"#fb9f3a\"],[0.8888888888888888,\"#fdca26\"],[1.0,\"#f0f921\"]]}],\"heatmap\":[{\"type\":\"heatmap\",\"colorbar\":{\"outlinewidth\":0,\"ticks\":\"\"},\"colorscale\":[[0.0,\"#0d0887\"],[0.1111111111111111,\"#46039f\"],[0.2222222222222222,\"#7201a8\"],[0.3333333333333333,\"#9c179e\"],[0.4444444444444444,\"#bd3786\"],[0.5555555555555556,\"#d8576b\"],[0.6666666666666666,\"#ed7953\"],[0.7777777777777778,\"#fb9f3a\"],[0.8888888888888888,\"#fdca26\"],[1.0,\"#f0f921\"]]}],\"heatmapgl\":[{\"type\":\"heatmapgl\",\"colorbar\":{\"outlinewidth\":0,\"ticks\":\"\"},\"colorscale\":[[0.0,\"#0d0887\"],[0.1111111111111111,\"#46039f\"],[0.2222222222222222,\"#7201a8\"],[0.3333333333333333,\"#9c179e\"],[0.4444444444444444,\"#bd3786\"],[0.5555555555555556,\"#d8576b\"],[0.6666666666666666,\"#ed7953\"],[0.7777777777777778,\"#fb9f3a\"],[0.8888888888888888,\"#fdca26\"],[1.0,\"#f0f921\"]]}],\"contourcarpet\":[{\"type\":\"contourcarpet\",\"colorbar\":{\"outlinewidth\":0,\"ticks\":\"\"}}],\"contour\":[{\"type\":\"contour\",\"colorbar\":{\"outlinewidth\":0,\"ticks\":\"\"},\"colorscale\":[[0.0,\"#0d0887\"],[0.1111111111111111,\"#46039f\"],[0.2222222222222222,\"#7201a8\"],[0.3333333333333333,\"#9c179e\"],[0.4444444444444444,\"#bd3786\"],[0.5555555555555556,\"#d8576b\"],[0.6666666666666666,\"#ed7953\"],[0.7777777777777778,\"#fb9f3a\"],[0.8888888888888888,\"#fdca26\"],[1.0,\"#f0f921\"]]}],\"surface\":[{\"type\":\"surface\",\"colorbar\":{\"outlinewidth\":0,\"ticks\":\"\"},\"colorscale\":[[0.0,\"#0d0887\"],[0.1111111111111111,\"#46039f\"],[0.2222222222222222,\"#7201a8\"],[0.3333333333333333,\"#9c179e\"],[0.4444444444444444,\"#bd3786\"],[0.5555555555555556,\"#d8576b\"],[0.6666666666666666,\"#ed7953\"],[0.7777777777777778,\"#fb9f3a\"],[0.8888888888888888,\"#fdca26\"],[1.0,\"#f0f921\"]]}],\"mesh3d\":[{\"type\":\"mesh3d\",\"colorbar\":{\"outlinewidth\":0,\"ticks\":\"\"}}],\"scatter\":[{\"fillpattern\":{\"fillmode\":\"overlay\",\"size\":10,\"solidity\":0.2},\"type\":\"scatter\"}],\"parcoords\":[{\"type\":\"parcoords\",\"line\":{\"colorbar\":{\"outlinewidth\":0,\"ticks\":\"\"}}}],\"scatterpolargl\":[{\"type\":\"scatterpolargl\",\"marker\":{\"colorbar\":{\"outlinewidth\":0,\"ticks\":\"\"}}}],\"bar\":[{\"error_x\":{\"color\":\"#2a3f5f\"},\"error_y\":{\"color\":\"#2a3f5f\"},\"marker\":{\"line\":{\"color\":\"#E5ECF6\",\"width\":0.5},\"pattern\":{\"fillmode\":\"overlay\",\"size\":10,\"solidity\":0.2}},\"type\":\"bar\"}],\"scattergeo\":[{\"type\":\"scattergeo\",\"marker\":{\"colorbar\":{\"outlinewidth\":0,\"ticks\":\"\"}}}],\"scatterpolar\":[{\"type\":\"scatterpolar\",\"marker\":{\"colorbar\":{\"outlinewidth\":0,\"ticks\":\"\"}}}],\"histogram\":[{\"marker\":{\"pattern\":{\"fillmode\":\"overlay\",\"size\":10,\"solidity\":0.2}},\"type\":\"histogram\"}],\"scattergl\":[{\"type\":\"scattergl\",\"marker\":{\"colorbar\":{\"outlinewidth\":0,\"ticks\":\"\"}}}],\"scatter3d\":[{\"type\":\"scatter3d\",\"line\":{\"colorbar\":{\"outlinewidth\":0,\"ticks\":\"\"}},\"marker\":{\"colorbar\":{\"outlinewidth\":0,\"ticks\":\"\"}}}],\"scattermapbox\":[{\"type\":\"scattermapbox\",\"marker\":{\"colorbar\":{\"outlinewidth\":0,\"ticks\":\"\"}}}],\"scatterternary\":[{\"type\":\"scatterternary\",\"marker\":{\"colorbar\":{\"outlinewidth\":0,\"ticks\":\"\"}}}],\"scattercarpet\":[{\"type\":\"scattercarpet\",\"marker\":{\"colorbar\":{\"outlinewidth\":0,\"ticks\":\"\"}}}],\"carpet\":[{\"aaxis\":{\"endlinecolor\":\"#2a3f5f\",\"gridcolor\":\"white\",\"linecolor\":\"white\",\"minorgridcolor\":\"white\",\"startlinecolor\":\"#2a3f5f\"},\"baxis\":{\"endlinecolor\":\"#2a3f5f\",\"gridcolor\":\"white\",\"linecolor\":\"white\",\"minorgridcolor\":\"white\",\"startlinecolor\":\"#2a3f5f\"},\"type\":\"carpet\"}],\"table\":[{\"cells\":{\"fill\":{\"color\":\"#EBF0F8\"},\"line\":{\"color\":\"white\"}},\"header\":{\"fill\":{\"color\":\"#C8D4E3\"},\"line\":{\"color\":\"white\"}},\"type\":\"table\"}],\"barpolar\":[{\"marker\":{\"line\":{\"color\":\"#E5ECF6\",\"width\":0.5},\"pattern\":{\"fillmode\":\"overlay\",\"size\":10,\"solidity\":0.2}},\"type\":\"barpolar\"}],\"pie\":[{\"automargin\":true,\"type\":\"pie\"}]},\"layout\":{\"autotypenumbers\":\"strict\",\"colorway\":[\"#636efa\",\"#EF553B\",\"#00cc96\",\"#ab63fa\",\"#FFA15A\",\"#19d3f3\",\"#FF6692\",\"#B6E880\",\"#FF97FF\",\"#FECB52\"],\"font\":{\"color\":\"#2a3f5f\"},\"hovermode\":\"closest\",\"hoverlabel\":{\"align\":\"left\"},\"paper_bgcolor\":\"white\",\"plot_bgcolor\":\"#E5ECF6\",\"polar\":{\"bgcolor\":\"#E5ECF6\",\"angularaxis\":{\"gridcolor\":\"white\",\"linecolor\":\"white\",\"ticks\":\"\"},\"radialaxis\":{\"gridcolor\":\"white\",\"linecolor\":\"white\",\"ticks\":\"\"}},\"ternary\":{\"bgcolor\":\"#E5ECF6\",\"aaxis\":{\"gridcolor\":\"white\",\"linecolor\":\"white\",\"ticks\":\"\"},\"baxis\":{\"gridcolor\":\"white\",\"linecolor\":\"white\",\"ticks\":\"\"},\"caxis\":{\"gridcolor\":\"white\",\"linecolor\":\"white\",\"ticks\":\"\"}},\"coloraxis\":{\"colorbar\":{\"outlinewidth\":0,\"ticks\":\"\"}},\"colorscale\":{\"sequential\":[[0.0,\"#0d0887\"],[0.1111111111111111,\"#46039f\"],[0.2222222222222222,\"#7201a8\"],[0.3333333333333333,\"#9c179e\"],[0.4444444444444444,\"#bd3786\"],[0.5555555555555556,\"#d8576b\"],[0.6666666666666666,\"#ed7953\"],[0.7777777777777778,\"#fb9f3a\"],[0.8888888888888888,\"#fdca26\"],[1.0,\"#f0f921\"]],\"sequentialminus\":[[0.0,\"#0d0887\"],[0.1111111111111111,\"#46039f\"],[0.2222222222222222,\"#7201a8\"],[0.3333333333333333,\"#9c179e\"],[0.4444444444444444,\"#bd3786\"],[0.5555555555555556,\"#d8576b\"],[0.6666666666666666,\"#ed7953\"],[0.7777777777777778,\"#fb9f3a\"],[0.8888888888888888,\"#fdca26\"],[1.0,\"#f0f921\"]],\"diverging\":[[0,\"#8e0152\"],[0.1,\"#c51b7d\"],[0.2,\"#de77ae\"],[0.3,\"#f1b6da\"],[0.4,\"#fde0ef\"],[0.5,\"#f7f7f7\"],[0.6,\"#e6f5d0\"],[0.7,\"#b8e186\"],[0.8,\"#7fbc41\"],[0.9,\"#4d9221\"],[1,\"#276419\"]]},\"xaxis\":{\"gridcolor\":\"white\",\"linecolor\":\"white\",\"ticks\":\"\",\"title\":{\"standoff\":15},\"zerolinecolor\":\"white\",\"automargin\":true,\"zerolinewidth\":2},\"yaxis\":{\"gridcolor\":\"white\",\"linecolor\":\"white\",\"ticks\":\"\",\"title\":{\"standoff\":15},\"zerolinecolor\":\"white\",\"automargin\":true,\"zerolinewidth\":2},\"scene\":{\"xaxis\":{\"backgroundcolor\":\"#E5ECF6\",\"gridcolor\":\"white\",\"linecolor\":\"white\",\"showbackground\":true,\"ticks\":\"\",\"zerolinecolor\":\"white\",\"gridwidth\":2},\"yaxis\":{\"backgroundcolor\":\"#E5ECF6\",\"gridcolor\":\"white\",\"linecolor\":\"white\",\"showbackground\":true,\"ticks\":\"\",\"zerolinecolor\":\"white\",\"gridwidth\":2},\"zaxis\":{\"backgroundcolor\":\"#E5ECF6\",\"gridcolor\":\"white\",\"linecolor\":\"white\",\"showbackground\":true,\"ticks\":\"\",\"zerolinecolor\":\"white\",\"gridwidth\":2}},\"shapedefaults\":{\"line\":{\"color\":\"#2a3f5f\"}},\"annotationdefaults\":{\"arrowcolor\":\"#2a3f5f\",\"arrowhead\":0,\"arrowwidth\":1},\"geo\":{\"bgcolor\":\"white\",\"landcolor\":\"#E5ECF6\",\"subunitcolor\":\"white\",\"showland\":true,\"showlakes\":true,\"lakecolor\":\"white\"},\"title\":{\"x\":0.05},\"mapbox\":{\"style\":\"light\"}}},\"shapes\":[{\"fillcolor\":\"blue\",\"line\":{\"color\":\"black\"},\"opacity\":0.6,\"type\":\"rect\",\"x0\":3.0154752337143336,\"x1\":8.9859891354035,\"y0\":3.003635626780322,\"y1\":8.999858220512841},{\"fillcolor\":\"white\",\"line\":{\"color\":\"black\"},\"opacity\":0.6,\"type\":\"rect\",\"x0\":3.0154752337143336,\"x1\":8.9859891354035,\"y0\":6.001746923646582,\"y1\":6.001746923646582},{\"fillcolor\":\"red\",\"line\":{\"color\":\"black\"},\"opacity\":0.6,\"type\":\"rect\",\"x0\":6.000732184558917,\"x1\":6.000732184558917,\"y0\":3.003635626780322,\"y1\":8.999858220512841},{\"fillcolor\":\"white\",\"line\":{\"color\":\"black\"},\"opacity\":0.6,\"type\":\"rect\",\"x0\":6.000732184558917,\"x1\":8.9859891354035,\"y0\":6.001746923646582,\"y1\":8.999858220512841},{\"fillcolor\":\"red\",\"line\":{\"color\":\"black\"},\"opacity\":0.6,\"type\":\"rect\",\"x0\":3.0154752337143336,\"x1\":8.9859891354035,\"y0\":8.999858220512841,\"y1\":14.996080814245364},{\"fillcolor\":\"white\",\"line\":{\"color\":\"black\"},\"opacity\":0.6,\"type\":\"rect\",\"x0\":3.0154752337143336,\"x1\":6.000732184558917,\"y0\":11.997969517379103,\"y1\":11.997969517379103},{\"fillcolor\":\"blue\",\"line\":{\"color\":\"black\"},\"opacity\":0.6,\"type\":\"rect\",\"x0\":6.000732184558917,\"x1\":8.9859891354035,\"y0\":8.999858220512841,\"y1\":11.997969517379103},{\"fillcolor\":\"white\",\"line\":{\"color\":\"black\"},\"opacity\":0.6,\"type\":\"rect\",\"x0\":6.000732184558917,\"x1\":8.9859891354035,\"y0\":11.997969517379103,\"y1\":14.996080814245364},{\"fillcolor\":\"red\",\"line\":{\"color\":\"black\"},\"opacity\":0.6,\"type\":\"rect\",\"x0\":8.9859891354035,\"x1\":14.956503037092666,\"y0\":3.003635626780322,\"y1\":8.999858220512841},{\"fillcolor\":\"white\",\"line\":{\"color\":\"black\"},\"opacity\":0.6,\"type\":\"rect\",\"x0\":8.9859891354035,\"x1\":11.971246086248083,\"y0\":6.001746923646582,\"y1\":8.999858220512841},{\"fillcolor\":\"blue\",\"line\":{\"color\":\"black\"},\"opacity\":0.6,\"type\":\"rect\",\"x0\":11.971246086248083,\"x1\":11.971246086248083,\"y0\":3.003635626780322,\"y1\":6.001746923646582},{\"fillcolor\":\"red\",\"line\":{\"color\":\"black\"},\"opacity\":0.6,\"type\":\"rect\",\"x0\":11.971246086248083,\"x1\":14.956503037092666,\"y0\":6.001746923646582,\"y1\":8.999858220512841},{\"fillcolor\":\"red\",\"line\":{\"color\":\"black\"},\"opacity\":0.6,\"type\":\"rect\",\"x0\":8.9859891354035,\"x1\":14.956503037092666,\"y0\":8.999858220512841,\"y1\":14.996080814245364},{\"fillcolor\":\"blue\",\"line\":{\"color\":\"black\"},\"opacity\":0.6,\"type\":\"rect\",\"x0\":8.9859891354035,\"x1\":11.971246086248083,\"y0\":11.997969517379103,\"y1\":14.996080814245364},{\"fillcolor\":\"red\",\"line\":{\"color\":\"black\"},\"opacity\":0.6,\"type\":\"rect\",\"x0\":11.971246086248083,\"x1\":14.956503037092666,\"y0\":8.999858220512841,\"y1\":11.997969517379103},{\"fillcolor\":\"white\",\"line\":{\"color\":\"black\"},\"opacity\":0.6,\"type\":\"rect\",\"x0\":11.971246086248083,\"x1\":14.956503037092666,\"y0\":11.997969517379103,\"y1\":14.996080814245364},{\"fillcolor\":\"red\",\"line\":{\"color\":\"black\"},\"opacity\":0.6,\"type\":\"rect\",\"x0\":3.0154752337143336,\"x1\":8.9859891354035,\"y0\":14.996080814245364,\"y1\":20.992303407977886},{\"fillcolor\":\"red\",\"line\":{\"color\":\"black\"},\"opacity\":0.6,\"type\":\"rect\",\"x0\":3.0154752337143336,\"x1\":8.9859891354035,\"y0\":17.994192111111623,\"y1\":17.994192111111623},{\"fillcolor\":\"white\",\"line\":{\"color\":\"black\"},\"opacity\":0.6,\"type\":\"rect\",\"x0\":6.000732184558917,\"x1\":8.9859891354035,\"y0\":14.996080814245364,\"y1\":17.994192111111623},{\"fillcolor\":\"red\",\"line\":{\"color\":\"black\"},\"opacity\":0.6,\"type\":\"rect\",\"x0\":6.000732184558917,\"x1\":8.9859891354035,\"y0\":17.994192111111623,\"y1\":20.992303407977886},{\"fillcolor\":\"white\",\"line\":{\"color\":\"black\"},\"opacity\":0.6,\"type\":\"rect\",\"x0\":3.0154752337143336,\"x1\":8.9859891354035,\"y0\":20.992303407977886,\"y1\":26.988526001710408},{\"fillcolor\":\"red\",\"line\":{\"color\":\"black\"},\"opacity\":0.6,\"type\":\"rect\",\"x0\":8.9859891354035,\"x1\":14.956503037092666,\"y0\":14.996080814245364,\"y1\":20.992303407977886},{\"fillcolor\":\"blue\",\"line\":{\"color\":\"black\"},\"opacity\":0.6,\"type\":\"rect\",\"x0\":8.9859891354035,\"x1\":11.971246086248083,\"y0\":17.994192111111623,\"y1\":20.992303407977886},{\"fillcolor\":\"white\",\"line\":{\"color\":\"black\"},\"opacity\":0.6,\"type\":\"rect\",\"x0\":11.971246086248083,\"x1\":14.956503037092666,\"y0\":14.996080814245364,\"y1\":17.994192111111623},{\"fillcolor\":\"white\",\"line\":{\"color\":\"black\"},\"opacity\":0.6,\"type\":\"rect\",\"x0\":11.971246086248083,\"x1\":14.956503037092666,\"y0\":17.994192111111623,\"y1\":20.992303407977886},{\"fillcolor\":\"white\",\"line\":{\"color\":\"black\"},\"opacity\":0.6,\"type\":\"rect\",\"x0\":8.9859891354035,\"x1\":11.971246086248083,\"y0\":20.992303407977886,\"y1\":23.99041470484415},{\"fillcolor\":\"red\",\"line\":{\"color\":\"black\"},\"opacity\":0.6,\"type\":\"rect\",\"x0\":8.9859891354035,\"x1\":11.971246086248083,\"y0\":23.99041470484415,\"y1\":23.99041470484415},{\"fillcolor\":\"blue\",\"line\":{\"color\":\"black\"},\"opacity\":0.6,\"type\":\"rect\",\"x0\":11.971246086248083,\"x1\":14.956503037092666,\"y0\":20.992303407977886,\"y1\":23.99041470484415},{\"fillcolor\":\"red\",\"line\":{\"color\":\"black\"},\"opacity\":0.6,\"type\":\"rect\",\"x0\":11.971246086248083,\"x1\":11.971246086248083,\"y0\":23.99041470484415,\"y1\":23.99041470484415},{\"fillcolor\":\"red\",\"line\":{\"color\":\"black\"},\"opacity\":0.6,\"type\":\"rect\",\"x0\":14.956503037092666,\"x1\":20.927016938781833,\"y0\":3.003635626780322,\"y1\":8.999858220512841},{\"fillcolor\":\"white\",\"line\":{\"color\":\"black\"},\"opacity\":0.6,\"type\":\"rect\",\"x0\":14.956503037092666,\"x1\":17.94175998793725,\"y0\":6.001746923646582,\"y1\":8.999858220512841},{\"fillcolor\":\"white\",\"line\":{\"color\":\"black\"},\"opacity\":0.6,\"type\":\"rect\",\"x0\":17.94175998793725,\"x1\":17.94175998793725,\"y0\":3.003635626780322,\"y1\":8.999858220512841},{\"fillcolor\":\"blue\",\"line\":{\"color\":\"black\"},\"opacity\":0.6,\"type\":\"rect\",\"x0\":17.94175998793725,\"x1\":20.927016938781833,\"y0\":6.001746923646582,\"y1\":8.999858220512841},{\"fillcolor\":\"red\",\"line\":{\"color\":\"black\"},\"opacity\":0.6,\"type\":\"rect\",\"x0\":14.956503037092666,\"x1\":20.927016938781833,\"y0\":8.999858220512841,\"y1\":14.996080814245364},{\"fillcolor\":\"blue\",\"line\":{\"color\":\"black\"},\"opacity\":0.6,\"type\":\"rect\",\"x0\":14.956503037092666,\"x1\":17.94175998793725,\"y0\":11.997969517379103,\"y1\":14.996080814245364},{\"fillcolor\":\"white\",\"line\":{\"color\":\"black\"},\"opacity\":0.6,\"type\":\"rect\",\"x0\":17.94175998793725,\"x1\":20.927016938781833,\"y0\":8.999858220512841,\"y1\":11.997969517379103},{\"fillcolor\":\"blue\",\"line\":{\"color\":\"black\"},\"opacity\":0.6,\"type\":\"rect\",\"x0\":17.94175998793725,\"x1\":20.927016938781833,\"y0\":11.997969517379103,\"y1\":14.996080814245364},{\"fillcolor\":\"red\",\"line\":{\"color\":\"black\"},\"opacity\":0.6,\"type\":\"rect\",\"x0\":20.927016938781833,\"x1\":26.897530840471,\"y0\":3.003635626780322,\"y1\":8.999858220512841},{\"fillcolor\":\"white\",\"line\":{\"color\":\"black\"},\"opacity\":0.6,\"type\":\"rect\",\"x0\":20.927016938781833,\"x1\":23.912273889626416,\"y0\":6.001746923646582,\"y1\":8.999858220512841},{\"fillcolor\":\"white\",\"line\":{\"color\":\"black\"},\"opacity\":0.6,\"type\":\"rect\",\"x0\":23.912273889626416,\"x1\":23.912273889626416,\"y0\":3.003635626780322,\"y1\":8.999858220512841},{\"fillcolor\":\"red\",\"line\":{\"color\":\"black\"},\"opacity\":0.6,\"type\":\"rect\",\"x0\":23.912273889626416,\"x1\":23.912273889626416,\"y0\":6.001746923646582,\"y1\":6.001746923646582},{\"fillcolor\":\"white\",\"line\":{\"color\":\"black\"},\"opacity\":0.6,\"type\":\"rect\",\"x0\":20.927016938781833,\"x1\":23.912273889626416,\"y0\":8.999858220512841,\"y1\":11.997969517379103},{\"fillcolor\":\"white\",\"line\":{\"color\":\"black\"},\"opacity\":0.6,\"type\":\"rect\",\"x0\":20.927016938781833,\"x1\":23.912273889626416,\"y0\":11.997969517379103,\"y1\":14.996080814245364},{\"fillcolor\":\"red\",\"line\":{\"color\":\"black\"},\"opacity\":0.6,\"type\":\"rect\",\"x0\":23.912273889626416,\"x1\":23.912273889626416,\"y0\":8.999858220512841,\"y1\":11.997969517379103},{\"fillcolor\":\"red\",\"line\":{\"color\":\"black\"},\"opacity\":0.6,\"type\":\"rect\",\"x0\":23.912273889626416,\"x1\":23.912273889626416,\"y0\":11.997969517379103,\"y1\":11.997969517379103},{\"fillcolor\":\"white\",\"line\":{\"color\":\"black\"},\"opacity\":0.6,\"type\":\"rect\",\"x0\":14.956503037092666,\"x1\":17.94175998793725,\"y0\":14.996080814245364,\"y1\":17.994192111111623},{\"fillcolor\":\"blue\",\"line\":{\"color\":\"black\"},\"opacity\":0.6,\"type\":\"rect\",\"x0\":14.956503037092666,\"x1\":17.94175998793725,\"y0\":17.994192111111623,\"y1\":20.992303407977886},{\"fillcolor\":\"white\",\"line\":{\"color\":\"black\"},\"opacity\":0.6,\"type\":\"rect\",\"x0\":17.94175998793725,\"x1\":20.927016938781833,\"y0\":14.996080814245364,\"y1\":17.994192111111623},{\"fillcolor\":\"white\",\"line\":{\"color\":\"black\"},\"opacity\":0.6,\"type\":\"rect\",\"x0\":17.94175998793725,\"x1\":20.927016938781833,\"y0\":17.994192111111623,\"y1\":20.992303407977886},{\"fillcolor\":\"blue\",\"line\":{\"color\":\"black\"},\"opacity\":0.6,\"type\":\"rect\",\"x0\":14.956503037092666,\"x1\":17.94175998793725,\"y0\":20.992303407977886,\"y1\":23.99041470484415},{\"fillcolor\":\"white\",\"line\":{\"color\":\"black\"},\"opacity\":0.6,\"type\":\"rect\",\"x0\":14.956503037092666,\"x1\":17.94175998793725,\"y0\":23.99041470484415,\"y1\":23.99041470484415},{\"fillcolor\":\"white\",\"line\":{\"color\":\"black\"},\"opacity\":0.6,\"type\":\"rect\",\"x0\":17.94175998793725,\"x1\":20.927016938781833,\"y0\":20.992303407977886,\"y1\":23.99041470484415},{\"fillcolor\":\"red\",\"line\":{\"color\":\"black\"},\"opacity\":0.6,\"type\":\"rect\",\"x0\":17.94175998793725,\"x1\":17.94175998793725,\"y0\":23.99041470484415,\"y1\":23.99041470484415},{\"fillcolor\":\"white\",\"line\":{\"color\":\"black\"},\"opacity\":0.6,\"type\":\"rect\",\"x0\":20.927016938781833,\"x1\":23.912273889626416,\"y0\":14.996080814245364,\"y1\":17.994192111111623},{\"fillcolor\":\"white\",\"line\":{\"color\":\"black\"},\"opacity\":0.6,\"type\":\"rect\",\"x0\":20.927016938781833,\"x1\":23.912273889626416,\"y0\":17.994192111111623,\"y1\":20.992303407977886},{\"fillcolor\":\"red\",\"line\":{\"color\":\"black\"},\"opacity\":0.6,\"type\":\"rect\",\"x0\":23.912273889626416,\"x1\":23.912273889626416,\"y0\":14.996080814245364,\"y1\":17.994192111111623},{\"fillcolor\":\"red\",\"line\":{\"color\":\"black\"},\"opacity\":0.6,\"type\":\"rect\",\"x0\":23.912273889626416,\"x1\":23.912273889626416,\"y0\":17.994192111111623,\"y1\":17.994192111111623},{\"fillcolor\":\"white\",\"line\":{\"color\":\"black\"},\"opacity\":0.6,\"type\":\"rect\",\"x0\":20.927016938781833,\"x1\":23.912273889626416,\"y0\":20.992303407977886,\"y1\":23.99041470484415},{\"fillcolor\":\"white\",\"line\":{\"color\":\"black\"},\"opacity\":0.6,\"type\":\"rect\",\"x0\":20.927016938781833,\"x1\":23.912273889626416,\"y0\":23.99041470484415,\"y1\":23.99041470484415},{\"fillcolor\":\"red\",\"line\":{\"color\":\"black\"},\"opacity\":0.6,\"type\":\"rect\",\"x0\":23.912273889626416,\"x1\":23.912273889626416,\"y0\":20.992303407977886,\"y1\":23.99041470484415},{\"fillcolor\":\"blue\",\"line\":{\"color\":\"black\"},\"opacity\":0.6,\"type\":\"rect\",\"x0\":23.912273889626416,\"x1\":23.912273889626416,\"y0\":23.99041470484415,\"y1\":23.99041470484415}],\"annotations\":[{\"font\":{\"color\":\"black\",\"size\":10},\"showarrow\":false,\"text\":\"13\",\"x\":6.000732184558917,\"y\":6.001746923646582},{\"font\":{\"color\":\"black\",\"size\":10},\"showarrow\":false,\"text\":\"29\",\"x\":6.000732184558917,\"y\":6.001746923646582},{\"font\":{\"color\":\"black\",\"size\":10},\"showarrow\":false,\"text\":\"32\",\"x\":6.000732184558917,\"y\":6.001746923646582},{\"font\":{\"color\":\"black\",\"size\":10},\"showarrow\":false,\"text\":\"23\",\"x\":7.493360659981208,\"y\":7.500802572079712},{\"font\":{\"color\":\"black\",\"size\":10},\"showarrow\":false,\"text\":\"41\",\"x\":6.000732184558917,\"y\":11.997969517379103},{\"font\":{\"color\":\"black\",\"size\":10},\"showarrow\":false,\"text\":\"23\",\"x\":4.508103709136625,\"y\":11.997969517379103},{\"font\":{\"color\":\"black\",\"size\":10},\"showarrow\":false,\"text\":\"18\",\"x\":7.493360659981208,\"y\":10.498913868945973},{\"font\":{\"color\":\"black\",\"size\":10},\"showarrow\":false,\"text\":\"25\",\"x\":7.493360659981208,\"y\":13.497025165812232},{\"font\":{\"color\":\"black\",\"size\":10},\"showarrow\":false,\"text\":\"42\",\"x\":11.971246086248083,\"y\":6.001746923646582},{\"font\":{\"color\":\"black\",\"size\":10},\"showarrow\":false,\"text\":\"23\",\"x\":10.478617610825792,\"y\":7.500802572079712},{\"font\":{\"color\":\"black\",\"size\":10},\"showarrow\":false,\"text\":\"19\",\"x\":11.971246086248083,\"y\":4.5026912752134525},{\"font\":{\"color\":\"black\",\"size\":10},\"showarrow\":false,\"text\":\"31\",\"x\":13.463874561670375,\"y\":7.500802572079712},{\"font\":{\"color\":\"black\",\"size\":10},\"showarrow\":false,\"text\":\"63\",\"x\":11.971246086248083,\"y\":11.997969517379103},{\"font\":{\"color\":\"black\",\"size\":10},\"showarrow\":false,\"text\":\"17\",\"x\":10.478617610825792,\"y\":13.497025165812232},{\"font\":{\"color\":\"black\",\"size\":10},\"showarrow\":false,\"text\":\"32\",\"x\":13.463874561670375,\"y\":10.498913868945973},{\"font\":{\"color\":\"black\",\"size\":10},\"showarrow\":false,\"text\":\"28\",\"x\":13.463874561670375,\"y\":13.497025165812232},{\"font\":{\"color\":\"black\",\"size\":10},\"showarrow\":false,\"text\":\"37\",\"x\":6.000732184558917,\"y\":17.994192111111623},{\"font\":{\"color\":\"black\",\"size\":10},\"showarrow\":false,\"text\":\"43\",\"x\":6.000732184558917,\"y\":17.994192111111623},{\"font\":{\"color\":\"black\",\"size\":10},\"showarrow\":false,\"text\":\"29\",\"x\":7.493360659981208,\"y\":16.495136462678495},{\"font\":{\"color\":\"black\",\"size\":10},\"showarrow\":false,\"text\":\"35\",\"x\":7.493360659981208,\"y\":19.493247759544754},{\"font\":{\"color\":\"black\",\"size\":10},\"showarrow\":false,\"text\":\"25\",\"x\":6.000732184558917,\"y\":23.99041470484415},{\"font\":{\"color\":\"black\",\"size\":10},\"showarrow\":false,\"text\":\"53\",\"x\":11.971246086248083,\"y\":17.994192111111623},{\"font\":{\"color\":\"black\",\"size\":10},\"showarrow\":false,\"text\":\"19\",\"x\":10.478617610825792,\"y\":19.493247759544754},{\"font\":{\"color\":\"black\",\"size\":10},\"showarrow\":false,\"text\":\"20\",\"x\":13.463874561670375,\"y\":16.495136462678495},{\"font\":{\"color\":\"black\",\"size\":10},\"showarrow\":false,\"text\":\"21\",\"x\":13.463874561670375,\"y\":19.493247759544754},{\"font\":{\"color\":\"black\",\"size\":10},\"showarrow\":false,\"text\":\"20\",\"x\":10.478617610825792,\"y\":22.491359056411017},{\"font\":{\"color\":\"black\",\"size\":10},\"showarrow\":false,\"text\":\"31\",\"x\":10.478617610825792,\"y\":23.99041470484415},{\"font\":{\"color\":\"black\",\"size\":10},\"showarrow\":false,\"text\":\"19\",\"x\":13.463874561670375,\"y\":22.491359056411017},{\"font\":{\"color\":\"black\",\"size\":10},\"showarrow\":false,\"text\":\"39\",\"x\":11.971246086248083,\"y\":23.99041470484415},{\"font\":{\"color\":\"black\",\"size\":10},\"showarrow\":false,\"text\":\"36\",\"x\":17.94175998793725,\"y\":6.001746923646582},{\"font\":{\"color\":\"black\",\"size\":10},\"showarrow\":false,\"text\":\"26\",\"x\":16.44913151251496,\"y\":7.500802572079712},{\"font\":{\"color\":\"black\",\"size\":10},\"showarrow\":false,\"text\":\"29\",\"x\":17.94175998793725,\"y\":6.001746923646582},{\"font\":{\"color\":\"black\",\"size\":10},\"showarrow\":false,\"text\":\"19\",\"x\":19.43438846335954,\"y\":7.500802572079712},{\"font\":{\"color\":\"black\",\"size\":10},\"showarrow\":false,\"text\":\"55\",\"x\":17.94175998793725,\"y\":11.997969517379103},{\"font\":{\"color\":\"black\",\"size\":10},\"showarrow\":false,\"text\":\"19\",\"x\":16.44913151251496,\"y\":13.497025165812232},{\"font\":{\"color\":\"black\",\"size\":10},\"showarrow\":false,\"text\":\"22\",\"x\":19.43438846335954,\"y\":10.498913868945973},{\"font\":{\"color\":\"black\",\"size\":10},\"showarrow\":false,\"text\":\"17\",\"x\":19.43438846335954,\"y\":13.497025165812232},{\"font\":{\"color\":\"black\",\"size\":10},\"showarrow\":false,\"text\":\"41\",\"x\":23.912273889626416,\"y\":6.001746923646582},{\"font\":{\"color\":\"black\",\"size\":10},\"showarrow\":false,\"text\":\"27\",\"x\":22.419645414204126,\"y\":7.500802572079712},{\"font\":{\"color\":\"black\",\"size\":10},\"showarrow\":false,\"text\":\"23\",\"x\":23.912273889626416,\"y\":6.001746923646582},{\"font\":{\"color\":\"black\",\"size\":10},\"showarrow\":false,\"text\":\"38\",\"x\":23.912273889626416,\"y\":6.001746923646582},{\"font\":{\"color\":\"black\",\"size\":10},\"showarrow\":false,\"text\":\"25\",\"x\":22.419645414204126,\"y\":10.498913868945973},{\"font\":{\"color\":\"black\",\"size\":10},\"showarrow\":false,\"text\":\"25\",\"x\":22.419645414204126,\"y\":13.497025165812232},{\"font\":{\"color\":\"black\",\"size\":10},\"showarrow\":false,\"text\":\"34\",\"x\":23.912273889626416,\"y\":10.498913868945973},{\"font\":{\"color\":\"black\",\"size\":10},\"showarrow\":false,\"text\":\"45\",\"x\":23.912273889626416,\"y\":11.997969517379103},{\"font\":{\"color\":\"black\",\"size\":10},\"showarrow\":false,\"text\":\"30\",\"x\":16.44913151251496,\"y\":16.495136462678495},{\"font\":{\"color\":\"black\",\"size\":10},\"showarrow\":false,\"text\":\"16\",\"x\":16.44913151251496,\"y\":19.493247759544754},{\"font\":{\"color\":\"black\",\"size\":10},\"showarrow\":false,\"text\":\"24\",\"x\":19.43438846335954,\"y\":16.495136462678495},{\"font\":{\"color\":\"black\",\"size\":10},\"showarrow\":false,\"text\":\"29\",\"x\":19.43438846335954,\"y\":19.493247759544754},{\"font\":{\"color\":\"black\",\"size\":10},\"showarrow\":false,\"text\":\"19\",\"x\":16.44913151251496,\"y\":22.491359056411017},{\"font\":{\"color\":\"black\",\"size\":10},\"showarrow\":false,\"text\":\"26\",\"x\":16.44913151251496,\"y\":23.99041470484415},{\"font\":{\"color\":\"black\",\"size\":10},\"showarrow\":false,\"text\":\"24\",\"x\":19.43438846335954,\"y\":22.491359056411017},{\"font\":{\"color\":\"black\",\"size\":10},\"showarrow\":false,\"text\":\"33\",\"x\":17.94175998793725,\"y\":23.99041470484415},{\"font\":{\"color\":\"black\",\"size\":10},\"showarrow\":false,\"text\":\"27\",\"x\":22.419645414204126,\"y\":16.495136462678495},{\"font\":{\"color\":\"black\",\"size\":10},\"showarrow\":false,\"text\":\"22\",\"x\":22.419645414204126,\"y\":19.493247759544754},{\"font\":{\"color\":\"black\",\"size\":10},\"showarrow\":false,\"text\":\"37\",\"x\":23.912273889626416,\"y\":16.495136462678495},{\"font\":{\"color\":\"black\",\"size\":10},\"showarrow\":false,\"text\":\"41\",\"x\":23.912273889626416,\"y\":17.994192111111623},{\"font\":{\"color\":\"black\",\"size\":10},\"showarrow\":false,\"text\":\"26\",\"x\":22.419645414204126,\"y\":22.491359056411017},{\"font\":{\"color\":\"black\",\"size\":10},\"showarrow\":false,\"text\":\"30\",\"x\":22.419645414204126,\"y\":23.99041470484415},{\"font\":{\"color\":\"black\",\"size\":10},\"showarrow\":false,\"text\":\"33\",\"x\":23.912273889626416,\"y\":22.491359056411017},{\"font\":{\"color\":\"black\",\"size\":10},\"showarrow\":false,\"text\":\"12\",\"x\":23.912273889626416,\"y\":23.99041470484415}],\"xaxis\":{\"title\":{\"text\":\"X-axis\"},\"range\":[5.005646534277389,24.907359539907944]},\"yaxis\":{\"title\":{\"text\":\"Y-axis\"},\"range\":[5.002376491357829,24.989785137132902]},\"title\":{\"text\":\"Adaptive 2D Histogram with Color Coding and Count Annotations\"},\"showlegend\":false,\"hovermode\":\"closest\"},                        {\"responsive\": true}                    ).then(function(){\n",
       "                            \n",
       "var gd = document.getElementById('17312b6b-3380-4831-a9d5-cea81929e0c0');\n",
       "var x = new MutationObserver(function (mutations, observer) {{\n",
       "        var display = window.getComputedStyle(gd).display;\n",
       "        if (!display || display === 'none') {{\n",
       "            console.log([gd, 'removed!']);\n",
       "            Plotly.purge(gd);\n",
       "            observer.disconnect();\n",
       "        }}\n",
       "}});\n",
       "\n",
       "// Listen for the removal of the full notebook cells\n",
       "var notebookContainer = gd.closest('#notebook-container');\n",
       "if (notebookContainer) {{\n",
       "    x.observe(notebookContainer, {childList: true});\n",
       "}}\n",
       "\n",
       "// Listen for the clearing of the current output cell\n",
       "var outputEl = gd.closest('.output');\n",
       "if (outputEl) {{\n",
       "    x.observe(outputEl, {childList: true});\n",
       "}}\n",
       "\n",
       "                        })                };                });            </script>        </div>"
      ]
     },
     "metadata": {},
     "output_type": "display_data"
    }
   ],
   "source": [
    "import numpy as np\n",
    "import plotly.graph_objects as go\n",
    "\n",
    "# Define the adaptive histogram function with recursive splitting and merging\n",
    "def adaptive_qthist(x, y, N=5, min_count=1, max_count=50):\n",
    "    num = []\n",
    "    xmin = []\n",
    "    xmax = []\n",
    "    ymin = []\n",
    "    ymax = []\n",
    "\n",
    "    x_range = [np.nanmin(x), np.nanmax(x)]\n",
    "    y_range = [np.nanmin(y), np.nanmax(y)]\n",
    "    buffer_x = (x_range[1] - x_range[0]) * 0.1\n",
    "    buffer_y = (y_range[1] - y_range[0]) * 0.1\n",
    "    x_range = [x_range[0] - buffer_x, x_range[1] + buffer_x]\n",
    "    y_range = [y_range[0] - buffer_y, y_range[1] + buffer_y]\n",
    "\n",
    "    def divide_and_count(x_range, y_range, level=1):\n",
    "        if level > N:\n",
    "            return\n",
    "        bins_x = np.linspace(x_range[0], x_range[1], 3)\n",
    "        bins_y = np.linspace(y_range[0], y_range[1], 3)\n",
    "        H, xedges, yedges = np.histogram2d(x, y, bins=[bins_x, bins_y])\n",
    "\n",
    "        for i in range(2):\n",
    "            for j in range(2):\n",
    "                count = H[i, j]\n",
    "                x_min, x_max = xedges[i], xedges[i + 1]\n",
    "                y_min, y_max = yedges[j], yedges[j + 1]\n",
    "\n",
    "                if min_count <= count <= max_count:\n",
    "                    num.append(count)\n",
    "                    xmin.append(x_min)\n",
    "                    xmax.append(x_max)\n",
    "                    ymin.append(y_min)\n",
    "                    ymax.append(y_max)\n",
    "                elif count > max_count:\n",
    "                    divide_and_count([x_min, x_max], [y_min, y_max], level + 1)\n",
    "                elif 0 < count < min_count:\n",
    "                    adjacent_count = count\n",
    "                    combined_x_min, combined_x_max = x_min, x_max\n",
    "                    combined_y_min, combined_y_max = y_min, y_max\n",
    "\n",
    "                    for k in range(2):\n",
    "                        adj_count_x = H[k, j] if k != i else 0\n",
    "                        adj_count_y = H[i, k] if k != j else 0\n",
    "                        if adj_count_x > 0:\n",
    "                            adjacent_count += adj_count_x\n",
    "                            combined_x_max = xedges[k + 1]\n",
    "                        if adj_count_y > 0:\n",
    "                            adjacent_count += adj_count_y\n",
    "                            combined_y_max = yedges[k + 1]\n",
    "                        if adjacent_count >= min_count:\n",
    "                            break\n",
    "\n",
    "                    num.append(adjacent_count)\n",
    "                    xmin.append(combined_x_min)\n",
    "                    xmax.append(combined_x_max)\n",
    "                    ymin.append(combined_y_min)\n",
    "                    ymax.append(combined_y_max)\n",
    "                else:\n",
    "                    num.append(count)\n",
    "                    xmin.append(x_min)\n",
    "                    xmax.append(x_max)\n",
    "                    ymin.append(y_min)\n",
    "                    ymax.append(y_max)\n",
    "\n",
    "    divide_and_count(x_range, y_range)\n",
    "    return np.array(num), np.array(xmin), np.array(xmax), np.array(ymin), np.array(ymax)\n",
    "\n",
    "# Example usage\n",
    "np.random.seed(42)\n",
    "x = np.random.uniform(25, 5, 1000)\n",
    "np.random.seed(39)\n",
    "y = np.random.uniform(25, 5, 1000)\n",
    "counts, xmin_edges, xmax_edges, ymin_edges, ymax_edges = adaptive_qthist(x, y, N=5, min_count=15, max_count=35)\n",
    "\n",
    "# Plot with Plotly\n",
    "fig = go.Figure()\n",
    "\n",
    "# Add each bin as a rectangle\n",
    "for xmin, xmax, ymin, ymax, count in zip(xmin_edges, xmax_edges, ymin_edges, ymax_edges, counts):\n",
    "    # Color coding based on count thresholds\n",
    "    if count == 0:\n",
    "        color = 'yellow'\n",
    "    elif count < 20:\n",
    "        color = 'blue'\n",
    "    elif count > 30:\n",
    "        color = 'red'\n",
    "    else:\n",
    "        color = 'white'\n",
    "    \n",
    "    # Add rectangle for each bin\n",
    "    fig.add_shape(\n",
    "        type=\"rect\",\n",
    "        x0=xmin, y0=ymin, x1=xmax, y1=ymax,\n",
    "        line=dict(color=\"black\"),\n",
    "        fillcolor=color,\n",
    "        opacity=0.6\n",
    "    )\n",
    "\n",
    "    # Add annotation for each bin count at the center\n",
    "    fig.add_annotation(\n",
    "        x=(xmin + xmax) / 2,\n",
    "        y=(ymin + ymax) / 2,\n",
    "        text=str(int(count)),\n",
    "        showarrow=False,\n",
    "        font=dict(color=\"black\", size=10)\n",
    "    )\n",
    "\n",
    "# Set up the layout\n",
    "fig.update_layout(\n",
    "    title=\"Adaptive 2D Histogram with Color Coding and Count Annotations\",\n",
    "    xaxis_title=\"X-axis\",\n",
    "    yaxis_title=\"Y-axis\",\n",
    "    xaxis=dict(range=[x.min(), x.max()]),\n",
    "    yaxis=dict(range=[y.min(), y.max()]),\n",
    "    showlegend=False,\n",
    "    hovermode=\"closest\"\n",
    ")\n",
    "\n",
    "# Show the plot\n",
    "fig.show()\n"
   ]
  },
  {
   "cell_type": "code",
   "execution_count": 43,
   "id": "df614d81",
   "metadata": {},
   "outputs": [
    {
     "data": {
      "application/vnd.plotly.v1+json": {
       "config": {
        "plotlyServerURL": "https://plot.ly"
       },
       "data": [],
       "layout": {
        "annotations": [
         {
          "font": {
           "color": "black",
           "size": 10
          },
          "showarrow": false,
          "text": "22",
          "x": 6.249503597129299,
          "y": 13.746867773884425
         },
         {
          "font": {
           "color": "black",
           "size": 10
          },
          "showarrow": false,
          "text": "24",
          "x": 11.224931848536936,
          "y": 6.251589531718771
         },
         {
          "font": {
           "color": "black",
           "size": 10
          },
          "showarrow": false,
          "text": "23",
          "x": 13.712645974240758,
          "y": 6.251589531718771
         },
         {
          "font": {
           "color": "black",
           "size": 10
          },
          "showarrow": false,
          "text": "26",
          "x": 13.712645974240758,
          "y": 11.24844169316254
         },
         {
          "font": {
           "color": "black",
           "size": 10
          },
          "showarrow": false,
          "text": "23",
          "x": 8.737217722833119,
          "y": 18.74371993532819
         },
         {
          "font": {
           "color": "black",
           "size": 10
          },
          "showarrow": false,
          "text": "22",
          "x": 21.175788351352217,
          "y": 8.750015612440656
         },
         {
          "font": {
           "color": "black",
           "size": 10
          },
          "showarrow": false,
          "text": "22",
          "x": 23.663502477056035,
          "y": 8.750015612440656
         },
         {
          "font": {
           "color": "black",
           "size": 10
          },
          "showarrow": false,
          "text": "21",
          "x": 23.663502477056035,
          "y": 11.24844169316254
         },
         {
          "font": {
           "color": "black",
           "size": 10
          },
          "showarrow": false,
          "text": "21",
          "x": 16.200360099944575,
          "y": 16.245293854606306
         },
         {
          "font": {
           "color": "black",
           "size": 10
          },
          "showarrow": false,
          "text": "20",
          "x": 18.688074225648393,
          "y": 23.74057209677196
         },
         {
          "font": {
           "color": "black",
           "size": 10
          },
          "showarrow": false,
          "text": "21",
          "x": 21.175788351352217,
          "y": 18.74371993532819
         },
         {
          "font": {
           "color": "black",
           "size": 10
          },
          "showarrow": false,
          "text": "22",
          "x": 23.663502477056035,
          "y": 16.245293854606306
         },
         {
          "font": {
           "color": "black",
           "size": 10
          },
          "showarrow": false,
          "text": "20",
          "x": 23.663502477056035,
          "y": 21.242146016050075
         }
        ],
        "hovermode": "closest",
        "shapes": [
         {
          "fillcolor": "white",
          "line": {
           "color": "black"
          },
          "opacity": 0.6,
          "type": "rect",
          "x0": 5.005646534277389,
          "x1": 7.493360659981208,
          "y0": 12.497654733523483,
          "y1": 14.996080814245365
         },
         {
          "fillcolor": "white",
          "line": {
           "color": "black"
          },
          "opacity": 0.6,
          "type": "rect",
          "x0": 9.981074785685028,
          "x1": 12.468788911388847,
          "y0": 5.002376491357829,
          "y1": 7.500802572079714
         },
         {
          "fillcolor": "white",
          "line": {
           "color": "black"
          },
          "opacity": 0.6,
          "type": "rect",
          "x0": 12.468788911388847,
          "x1": 14.956503037092666,
          "y0": 5.002376491357829,
          "y1": 7.500802572079714
         },
         {
          "fillcolor": "white",
          "line": {
           "color": "black"
          },
          "opacity": 0.6,
          "type": "rect",
          "x0": 12.468788911388847,
          "x1": 14.956503037092666,
          "y0": 9.999228652801598,
          "y1": 12.497654733523483
         },
         {
          "fillcolor": "white",
          "line": {
           "color": "black"
          },
          "opacity": 0.6,
          "type": "rect",
          "x0": 7.493360659981208,
          "x1": 9.981074785685028,
          "y0": 17.494506894967248,
          "y1": 19.992932975689133
         },
         {
          "fillcolor": "white",
          "line": {
           "color": "black"
          },
          "opacity": 0.6,
          "type": "rect",
          "x0": 19.931931288500305,
          "x1": 22.419645414204126,
          "y0": 7.500802572079714,
          "y1": 9.999228652801598
         },
         {
          "fillcolor": "white",
          "line": {
           "color": "black"
          },
          "opacity": 0.6,
          "type": "rect",
          "x0": 22.419645414204126,
          "x1": 24.907359539907944,
          "y0": 7.500802572079714,
          "y1": 9.999228652801598
         },
         {
          "fillcolor": "white",
          "line": {
           "color": "black"
          },
          "opacity": 0.6,
          "type": "rect",
          "x0": 22.419645414204126,
          "x1": 24.907359539907944,
          "y0": 9.999228652801598,
          "y1": 12.497654733523483
         },
         {
          "fillcolor": "white",
          "line": {
           "color": "black"
          },
          "opacity": 0.6,
          "type": "rect",
          "x0": 14.956503037092666,
          "x1": 17.444217162796484,
          "y0": 14.996080814245365,
          "y1": 17.494506894967248
         },
         {
          "fillcolor": "white",
          "line": {
           "color": "black"
          },
          "opacity": 0.6,
          "type": "rect",
          "x0": 17.444217162796484,
          "x1": 19.931931288500305,
          "y0": 22.491359056411017,
          "y1": 24.989785137132902
         },
         {
          "fillcolor": "white",
          "line": {
           "color": "black"
          },
          "opacity": 0.6,
          "type": "rect",
          "x0": 19.931931288500305,
          "x1": 22.419645414204126,
          "y0": 17.494506894967248,
          "y1": 19.992932975689133
         },
         {
          "fillcolor": "white",
          "line": {
           "color": "black"
          },
          "opacity": 0.6,
          "type": "rect",
          "x0": 22.419645414204126,
          "x1": 24.907359539907944,
          "y0": 14.996080814245365,
          "y1": 17.494506894967248
         },
         {
          "fillcolor": "white",
          "line": {
           "color": "black"
          },
          "opacity": 0.6,
          "type": "rect",
          "x0": 22.419645414204126,
          "x1": 24.907359539907944,
          "y0": 19.992932975689133,
          "y1": 22.491359056411017
         }
        ],
        "showlegend": false,
        "template": {
         "data": {
          "bar": [
           {
            "error_x": {
             "color": "#2a3f5f"
            },
            "error_y": {
             "color": "#2a3f5f"
            },
            "marker": {
             "line": {
              "color": "#E5ECF6",
              "width": 0.5
             },
             "pattern": {
              "fillmode": "overlay",
              "size": 10,
              "solidity": 0.2
             }
            },
            "type": "bar"
           }
          ],
          "barpolar": [
           {
            "marker": {
             "line": {
              "color": "#E5ECF6",
              "width": 0.5
             },
             "pattern": {
              "fillmode": "overlay",
              "size": 10,
              "solidity": 0.2
             }
            },
            "type": "barpolar"
           }
          ],
          "carpet": [
           {
            "aaxis": {
             "endlinecolor": "#2a3f5f",
             "gridcolor": "white",
             "linecolor": "white",
             "minorgridcolor": "white",
             "startlinecolor": "#2a3f5f"
            },
            "baxis": {
             "endlinecolor": "#2a3f5f",
             "gridcolor": "white",
             "linecolor": "white",
             "minorgridcolor": "white",
             "startlinecolor": "#2a3f5f"
            },
            "type": "carpet"
           }
          ],
          "choropleth": [
           {
            "colorbar": {
             "outlinewidth": 0,
             "ticks": ""
            },
            "type": "choropleth"
           }
          ],
          "contour": [
           {
            "colorbar": {
             "outlinewidth": 0,
             "ticks": ""
            },
            "colorscale": [
             [
              0,
              "#0d0887"
             ],
             [
              0.1111111111111111,
              "#46039f"
             ],
             [
              0.2222222222222222,
              "#7201a8"
             ],
             [
              0.3333333333333333,
              "#9c179e"
             ],
             [
              0.4444444444444444,
              "#bd3786"
             ],
             [
              0.5555555555555556,
              "#d8576b"
             ],
             [
              0.6666666666666666,
              "#ed7953"
             ],
             [
              0.7777777777777778,
              "#fb9f3a"
             ],
             [
              0.8888888888888888,
              "#fdca26"
             ],
             [
              1,
              "#f0f921"
             ]
            ],
            "type": "contour"
           }
          ],
          "contourcarpet": [
           {
            "colorbar": {
             "outlinewidth": 0,
             "ticks": ""
            },
            "type": "contourcarpet"
           }
          ],
          "heatmap": [
           {
            "colorbar": {
             "outlinewidth": 0,
             "ticks": ""
            },
            "colorscale": [
             [
              0,
              "#0d0887"
             ],
             [
              0.1111111111111111,
              "#46039f"
             ],
             [
              0.2222222222222222,
              "#7201a8"
             ],
             [
              0.3333333333333333,
              "#9c179e"
             ],
             [
              0.4444444444444444,
              "#bd3786"
             ],
             [
              0.5555555555555556,
              "#d8576b"
             ],
             [
              0.6666666666666666,
              "#ed7953"
             ],
             [
              0.7777777777777778,
              "#fb9f3a"
             ],
             [
              0.8888888888888888,
              "#fdca26"
             ],
             [
              1,
              "#f0f921"
             ]
            ],
            "type": "heatmap"
           }
          ],
          "heatmapgl": [
           {
            "colorbar": {
             "outlinewidth": 0,
             "ticks": ""
            },
            "colorscale": [
             [
              0,
              "#0d0887"
             ],
             [
              0.1111111111111111,
              "#46039f"
             ],
             [
              0.2222222222222222,
              "#7201a8"
             ],
             [
              0.3333333333333333,
              "#9c179e"
             ],
             [
              0.4444444444444444,
              "#bd3786"
             ],
             [
              0.5555555555555556,
              "#d8576b"
             ],
             [
              0.6666666666666666,
              "#ed7953"
             ],
             [
              0.7777777777777778,
              "#fb9f3a"
             ],
             [
              0.8888888888888888,
              "#fdca26"
             ],
             [
              1,
              "#f0f921"
             ]
            ],
            "type": "heatmapgl"
           }
          ],
          "histogram": [
           {
            "marker": {
             "pattern": {
              "fillmode": "overlay",
              "size": 10,
              "solidity": 0.2
             }
            },
            "type": "histogram"
           }
          ],
          "histogram2d": [
           {
            "colorbar": {
             "outlinewidth": 0,
             "ticks": ""
            },
            "colorscale": [
             [
              0,
              "#0d0887"
             ],
             [
              0.1111111111111111,
              "#46039f"
             ],
             [
              0.2222222222222222,
              "#7201a8"
             ],
             [
              0.3333333333333333,
              "#9c179e"
             ],
             [
              0.4444444444444444,
              "#bd3786"
             ],
             [
              0.5555555555555556,
              "#d8576b"
             ],
             [
              0.6666666666666666,
              "#ed7953"
             ],
             [
              0.7777777777777778,
              "#fb9f3a"
             ],
             [
              0.8888888888888888,
              "#fdca26"
             ],
             [
              1,
              "#f0f921"
             ]
            ],
            "type": "histogram2d"
           }
          ],
          "histogram2dcontour": [
           {
            "colorbar": {
             "outlinewidth": 0,
             "ticks": ""
            },
            "colorscale": [
             [
              0,
              "#0d0887"
             ],
             [
              0.1111111111111111,
              "#46039f"
             ],
             [
              0.2222222222222222,
              "#7201a8"
             ],
             [
              0.3333333333333333,
              "#9c179e"
             ],
             [
              0.4444444444444444,
              "#bd3786"
             ],
             [
              0.5555555555555556,
              "#d8576b"
             ],
             [
              0.6666666666666666,
              "#ed7953"
             ],
             [
              0.7777777777777778,
              "#fb9f3a"
             ],
             [
              0.8888888888888888,
              "#fdca26"
             ],
             [
              1,
              "#f0f921"
             ]
            ],
            "type": "histogram2dcontour"
           }
          ],
          "mesh3d": [
           {
            "colorbar": {
             "outlinewidth": 0,
             "ticks": ""
            },
            "type": "mesh3d"
           }
          ],
          "parcoords": [
           {
            "line": {
             "colorbar": {
              "outlinewidth": 0,
              "ticks": ""
             }
            },
            "type": "parcoords"
           }
          ],
          "pie": [
           {
            "automargin": true,
            "type": "pie"
           }
          ],
          "scatter": [
           {
            "fillpattern": {
             "fillmode": "overlay",
             "size": 10,
             "solidity": 0.2
            },
            "type": "scatter"
           }
          ],
          "scatter3d": [
           {
            "line": {
             "colorbar": {
              "outlinewidth": 0,
              "ticks": ""
             }
            },
            "marker": {
             "colorbar": {
              "outlinewidth": 0,
              "ticks": ""
             }
            },
            "type": "scatter3d"
           }
          ],
          "scattercarpet": [
           {
            "marker": {
             "colorbar": {
              "outlinewidth": 0,
              "ticks": ""
             }
            },
            "type": "scattercarpet"
           }
          ],
          "scattergeo": [
           {
            "marker": {
             "colorbar": {
              "outlinewidth": 0,
              "ticks": ""
             }
            },
            "type": "scattergeo"
           }
          ],
          "scattergl": [
           {
            "marker": {
             "colorbar": {
              "outlinewidth": 0,
              "ticks": ""
             }
            },
            "type": "scattergl"
           }
          ],
          "scattermapbox": [
           {
            "marker": {
             "colorbar": {
              "outlinewidth": 0,
              "ticks": ""
             }
            },
            "type": "scattermapbox"
           }
          ],
          "scatterpolar": [
           {
            "marker": {
             "colorbar": {
              "outlinewidth": 0,
              "ticks": ""
             }
            },
            "type": "scatterpolar"
           }
          ],
          "scatterpolargl": [
           {
            "marker": {
             "colorbar": {
              "outlinewidth": 0,
              "ticks": ""
             }
            },
            "type": "scatterpolargl"
           }
          ],
          "scatterternary": [
           {
            "marker": {
             "colorbar": {
              "outlinewidth": 0,
              "ticks": ""
             }
            },
            "type": "scatterternary"
           }
          ],
          "surface": [
           {
            "colorbar": {
             "outlinewidth": 0,
             "ticks": ""
            },
            "colorscale": [
             [
              0,
              "#0d0887"
             ],
             [
              0.1111111111111111,
              "#46039f"
             ],
             [
              0.2222222222222222,
              "#7201a8"
             ],
             [
              0.3333333333333333,
              "#9c179e"
             ],
             [
              0.4444444444444444,
              "#bd3786"
             ],
             [
              0.5555555555555556,
              "#d8576b"
             ],
             [
              0.6666666666666666,
              "#ed7953"
             ],
             [
              0.7777777777777778,
              "#fb9f3a"
             ],
             [
              0.8888888888888888,
              "#fdca26"
             ],
             [
              1,
              "#f0f921"
             ]
            ],
            "type": "surface"
           }
          ],
          "table": [
           {
            "cells": {
             "fill": {
              "color": "#EBF0F8"
             },
             "line": {
              "color": "white"
             }
            },
            "header": {
             "fill": {
              "color": "#C8D4E3"
             },
             "line": {
              "color": "white"
             }
            },
            "type": "table"
           }
          ]
         },
         "layout": {
          "annotationdefaults": {
           "arrowcolor": "#2a3f5f",
           "arrowhead": 0,
           "arrowwidth": 1
          },
          "autotypenumbers": "strict",
          "coloraxis": {
           "colorbar": {
            "outlinewidth": 0,
            "ticks": ""
           }
          },
          "colorscale": {
           "diverging": [
            [
             0,
             "#8e0152"
            ],
            [
             0.1,
             "#c51b7d"
            ],
            [
             0.2,
             "#de77ae"
            ],
            [
             0.3,
             "#f1b6da"
            ],
            [
             0.4,
             "#fde0ef"
            ],
            [
             0.5,
             "#f7f7f7"
            ],
            [
             0.6,
             "#e6f5d0"
            ],
            [
             0.7,
             "#b8e186"
            ],
            [
             0.8,
             "#7fbc41"
            ],
            [
             0.9,
             "#4d9221"
            ],
            [
             1,
             "#276419"
            ]
           ],
           "sequential": [
            [
             0,
             "#0d0887"
            ],
            [
             0.1111111111111111,
             "#46039f"
            ],
            [
             0.2222222222222222,
             "#7201a8"
            ],
            [
             0.3333333333333333,
             "#9c179e"
            ],
            [
             0.4444444444444444,
             "#bd3786"
            ],
            [
             0.5555555555555556,
             "#d8576b"
            ],
            [
             0.6666666666666666,
             "#ed7953"
            ],
            [
             0.7777777777777778,
             "#fb9f3a"
            ],
            [
             0.8888888888888888,
             "#fdca26"
            ],
            [
             1,
             "#f0f921"
            ]
           ],
           "sequentialminus": [
            [
             0,
             "#0d0887"
            ],
            [
             0.1111111111111111,
             "#46039f"
            ],
            [
             0.2222222222222222,
             "#7201a8"
            ],
            [
             0.3333333333333333,
             "#9c179e"
            ],
            [
             0.4444444444444444,
             "#bd3786"
            ],
            [
             0.5555555555555556,
             "#d8576b"
            ],
            [
             0.6666666666666666,
             "#ed7953"
            ],
            [
             0.7777777777777778,
             "#fb9f3a"
            ],
            [
             0.8888888888888888,
             "#fdca26"
            ],
            [
             1,
             "#f0f921"
            ]
           ]
          },
          "colorway": [
           "#636efa",
           "#EF553B",
           "#00cc96",
           "#ab63fa",
           "#FFA15A",
           "#19d3f3",
           "#FF6692",
           "#B6E880",
           "#FF97FF",
           "#FECB52"
          ],
          "font": {
           "color": "#2a3f5f"
          },
          "geo": {
           "bgcolor": "white",
           "lakecolor": "white",
           "landcolor": "#E5ECF6",
           "showlakes": true,
           "showland": true,
           "subunitcolor": "white"
          },
          "hoverlabel": {
           "align": "left"
          },
          "hovermode": "closest",
          "mapbox": {
           "style": "light"
          },
          "paper_bgcolor": "white",
          "plot_bgcolor": "#E5ECF6",
          "polar": {
           "angularaxis": {
            "gridcolor": "white",
            "linecolor": "white",
            "ticks": ""
           },
           "bgcolor": "#E5ECF6",
           "radialaxis": {
            "gridcolor": "white",
            "linecolor": "white",
            "ticks": ""
           }
          },
          "scene": {
           "xaxis": {
            "backgroundcolor": "#E5ECF6",
            "gridcolor": "white",
            "gridwidth": 2,
            "linecolor": "white",
            "showbackground": true,
            "ticks": "",
            "zerolinecolor": "white"
           },
           "yaxis": {
            "backgroundcolor": "#E5ECF6",
            "gridcolor": "white",
            "gridwidth": 2,
            "linecolor": "white",
            "showbackground": true,
            "ticks": "",
            "zerolinecolor": "white"
           },
           "zaxis": {
            "backgroundcolor": "#E5ECF6",
            "gridcolor": "white",
            "gridwidth": 2,
            "linecolor": "white",
            "showbackground": true,
            "ticks": "",
            "zerolinecolor": "white"
           }
          },
          "shapedefaults": {
           "line": {
            "color": "#2a3f5f"
           }
          },
          "ternary": {
           "aaxis": {
            "gridcolor": "white",
            "linecolor": "white",
            "ticks": ""
           },
           "baxis": {
            "gridcolor": "white",
            "linecolor": "white",
            "ticks": ""
           },
           "bgcolor": "#E5ECF6",
           "caxis": {
            "gridcolor": "white",
            "linecolor": "white",
            "ticks": ""
           }
          },
          "title": {
           "x": 0.05
          },
          "xaxis": {
           "automargin": true,
           "gridcolor": "white",
           "linecolor": "white",
           "ticks": "",
           "title": {
            "standoff": 15
           },
           "zerolinecolor": "white",
           "zerolinewidth": 2
          },
          "yaxis": {
           "automargin": true,
           "gridcolor": "white",
           "linecolor": "white",
           "ticks": "",
           "title": {
            "standoff": 15
           },
           "zerolinecolor": "white",
           "zerolinewidth": 2
          }
         }
        },
        "title": {
         "text": "Adaptive 2D Histogram with Color Coding and Count Annotations"
        },
        "xaxis": {
         "range": [
          5.005646534277389,
          24.907359539907944
         ],
         "title": {
          "text": "X-axis"
         }
        },
        "yaxis": {
         "range": [
          5.002376491357829,
          24.989785137132902
         ],
         "title": {
          "text": "Y-axis"
         }
        }
       }
      },
      "text/html": [
       "<div>                            <div id=\"849e1434-9c61-446a-8955-9b498ee413a4\" class=\"plotly-graph-div\" style=\"height:525px; width:100%;\"></div>            <script type=\"text/javascript\">                require([\"plotly\"], function(Plotly) {                    window.PLOTLYENV=window.PLOTLYENV || {};                                    if (document.getElementById(\"849e1434-9c61-446a-8955-9b498ee413a4\")) {                    Plotly.newPlot(                        \"849e1434-9c61-446a-8955-9b498ee413a4\",                        [],                        {\"template\":{\"data\":{\"histogram2dcontour\":[{\"type\":\"histogram2dcontour\",\"colorbar\":{\"outlinewidth\":0,\"ticks\":\"\"},\"colorscale\":[[0.0,\"#0d0887\"],[0.1111111111111111,\"#46039f\"],[0.2222222222222222,\"#7201a8\"],[0.3333333333333333,\"#9c179e\"],[0.4444444444444444,\"#bd3786\"],[0.5555555555555556,\"#d8576b\"],[0.6666666666666666,\"#ed7953\"],[0.7777777777777778,\"#fb9f3a\"],[0.8888888888888888,\"#fdca26\"],[1.0,\"#f0f921\"]]}],\"choropleth\":[{\"type\":\"choropleth\",\"colorbar\":{\"outlinewidth\":0,\"ticks\":\"\"}}],\"histogram2d\":[{\"type\":\"histogram2d\",\"colorbar\":{\"outlinewidth\":0,\"ticks\":\"\"},\"colorscale\":[[0.0,\"#0d0887\"],[0.1111111111111111,\"#46039f\"],[0.2222222222222222,\"#7201a8\"],[0.3333333333333333,\"#9c179e\"],[0.4444444444444444,\"#bd3786\"],[0.5555555555555556,\"#d8576b\"],[0.6666666666666666,\"#ed7953\"],[0.7777777777777778,\"#fb9f3a\"],[0.8888888888888888,\"#fdca26\"],[1.0,\"#f0f921\"]]}],\"heatmap\":[{\"type\":\"heatmap\",\"colorbar\":{\"outlinewidth\":0,\"ticks\":\"\"},\"colorscale\":[[0.0,\"#0d0887\"],[0.1111111111111111,\"#46039f\"],[0.2222222222222222,\"#7201a8\"],[0.3333333333333333,\"#9c179e\"],[0.4444444444444444,\"#bd3786\"],[0.5555555555555556,\"#d8576b\"],[0.6666666666666666,\"#ed7953\"],[0.7777777777777778,\"#fb9f3a\"],[0.8888888888888888,\"#fdca26\"],[1.0,\"#f0f921\"]]}],\"heatmapgl\":[{\"type\":\"heatmapgl\",\"colorbar\":{\"outlinewidth\":0,\"ticks\":\"\"},\"colorscale\":[[0.0,\"#0d0887\"],[0.1111111111111111,\"#46039f\"],[0.2222222222222222,\"#7201a8\"],[0.3333333333333333,\"#9c179e\"],[0.4444444444444444,\"#bd3786\"],[0.5555555555555556,\"#d8576b\"],[0.6666666666666666,\"#ed7953\"],[0.7777777777777778,\"#fb9f3a\"],[0.8888888888888888,\"#fdca26\"],[1.0,\"#f0f921\"]]}],\"contourcarpet\":[{\"type\":\"contourcarpet\",\"colorbar\":{\"outlinewidth\":0,\"ticks\":\"\"}}],\"contour\":[{\"type\":\"contour\",\"colorbar\":{\"outlinewidth\":0,\"ticks\":\"\"},\"colorscale\":[[0.0,\"#0d0887\"],[0.1111111111111111,\"#46039f\"],[0.2222222222222222,\"#7201a8\"],[0.3333333333333333,\"#9c179e\"],[0.4444444444444444,\"#bd3786\"],[0.5555555555555556,\"#d8576b\"],[0.6666666666666666,\"#ed7953\"],[0.7777777777777778,\"#fb9f3a\"],[0.8888888888888888,\"#fdca26\"],[1.0,\"#f0f921\"]]}],\"surface\":[{\"type\":\"surface\",\"colorbar\":{\"outlinewidth\":0,\"ticks\":\"\"},\"colorscale\":[[0.0,\"#0d0887\"],[0.1111111111111111,\"#46039f\"],[0.2222222222222222,\"#7201a8\"],[0.3333333333333333,\"#9c179e\"],[0.4444444444444444,\"#bd3786\"],[0.5555555555555556,\"#d8576b\"],[0.6666666666666666,\"#ed7953\"],[0.7777777777777778,\"#fb9f3a\"],[0.8888888888888888,\"#fdca26\"],[1.0,\"#f0f921\"]]}],\"mesh3d\":[{\"type\":\"mesh3d\",\"colorbar\":{\"outlinewidth\":0,\"ticks\":\"\"}}],\"scatter\":[{\"fillpattern\":{\"fillmode\":\"overlay\",\"size\":10,\"solidity\":0.2},\"type\":\"scatter\"}],\"parcoords\":[{\"type\":\"parcoords\",\"line\":{\"colorbar\":{\"outlinewidth\":0,\"ticks\":\"\"}}}],\"scatterpolargl\":[{\"type\":\"scatterpolargl\",\"marker\":{\"colorbar\":{\"outlinewidth\":0,\"ticks\":\"\"}}}],\"bar\":[{\"error_x\":{\"color\":\"#2a3f5f\"},\"error_y\":{\"color\":\"#2a3f5f\"},\"marker\":{\"line\":{\"color\":\"#E5ECF6\",\"width\":0.5},\"pattern\":{\"fillmode\":\"overlay\",\"size\":10,\"solidity\":0.2}},\"type\":\"bar\"}],\"scattergeo\":[{\"type\":\"scattergeo\",\"marker\":{\"colorbar\":{\"outlinewidth\":0,\"ticks\":\"\"}}}],\"scatterpolar\":[{\"type\":\"scatterpolar\",\"marker\":{\"colorbar\":{\"outlinewidth\":0,\"ticks\":\"\"}}}],\"histogram\":[{\"marker\":{\"pattern\":{\"fillmode\":\"overlay\",\"size\":10,\"solidity\":0.2}},\"type\":\"histogram\"}],\"scattergl\":[{\"type\":\"scattergl\",\"marker\":{\"colorbar\":{\"outlinewidth\":0,\"ticks\":\"\"}}}],\"scatter3d\":[{\"type\":\"scatter3d\",\"line\":{\"colorbar\":{\"outlinewidth\":0,\"ticks\":\"\"}},\"marker\":{\"colorbar\":{\"outlinewidth\":0,\"ticks\":\"\"}}}],\"scattermapbox\":[{\"type\":\"scattermapbox\",\"marker\":{\"colorbar\":{\"outlinewidth\":0,\"ticks\":\"\"}}}],\"scatterternary\":[{\"type\":\"scatterternary\",\"marker\":{\"colorbar\":{\"outlinewidth\":0,\"ticks\":\"\"}}}],\"scattercarpet\":[{\"type\":\"scattercarpet\",\"marker\":{\"colorbar\":{\"outlinewidth\":0,\"ticks\":\"\"}}}],\"carpet\":[{\"aaxis\":{\"endlinecolor\":\"#2a3f5f\",\"gridcolor\":\"white\",\"linecolor\":\"white\",\"minorgridcolor\":\"white\",\"startlinecolor\":\"#2a3f5f\"},\"baxis\":{\"endlinecolor\":\"#2a3f5f\",\"gridcolor\":\"white\",\"linecolor\":\"white\",\"minorgridcolor\":\"white\",\"startlinecolor\":\"#2a3f5f\"},\"type\":\"carpet\"}],\"table\":[{\"cells\":{\"fill\":{\"color\":\"#EBF0F8\"},\"line\":{\"color\":\"white\"}},\"header\":{\"fill\":{\"color\":\"#C8D4E3\"},\"line\":{\"color\":\"white\"}},\"type\":\"table\"}],\"barpolar\":[{\"marker\":{\"line\":{\"color\":\"#E5ECF6\",\"width\":0.5},\"pattern\":{\"fillmode\":\"overlay\",\"size\":10,\"solidity\":0.2}},\"type\":\"barpolar\"}],\"pie\":[{\"automargin\":true,\"type\":\"pie\"}]},\"layout\":{\"autotypenumbers\":\"strict\",\"colorway\":[\"#636efa\",\"#EF553B\",\"#00cc96\",\"#ab63fa\",\"#FFA15A\",\"#19d3f3\",\"#FF6692\",\"#B6E880\",\"#FF97FF\",\"#FECB52\"],\"font\":{\"color\":\"#2a3f5f\"},\"hovermode\":\"closest\",\"hoverlabel\":{\"align\":\"left\"},\"paper_bgcolor\":\"white\",\"plot_bgcolor\":\"#E5ECF6\",\"polar\":{\"bgcolor\":\"#E5ECF6\",\"angularaxis\":{\"gridcolor\":\"white\",\"linecolor\":\"white\",\"ticks\":\"\"},\"radialaxis\":{\"gridcolor\":\"white\",\"linecolor\":\"white\",\"ticks\":\"\"}},\"ternary\":{\"bgcolor\":\"#E5ECF6\",\"aaxis\":{\"gridcolor\":\"white\",\"linecolor\":\"white\",\"ticks\":\"\"},\"baxis\":{\"gridcolor\":\"white\",\"linecolor\":\"white\",\"ticks\":\"\"},\"caxis\":{\"gridcolor\":\"white\",\"linecolor\":\"white\",\"ticks\":\"\"}},\"coloraxis\":{\"colorbar\":{\"outlinewidth\":0,\"ticks\":\"\"}},\"colorscale\":{\"sequential\":[[0.0,\"#0d0887\"],[0.1111111111111111,\"#46039f\"],[0.2222222222222222,\"#7201a8\"],[0.3333333333333333,\"#9c179e\"],[0.4444444444444444,\"#bd3786\"],[0.5555555555555556,\"#d8576b\"],[0.6666666666666666,\"#ed7953\"],[0.7777777777777778,\"#fb9f3a\"],[0.8888888888888888,\"#fdca26\"],[1.0,\"#f0f921\"]],\"sequentialminus\":[[0.0,\"#0d0887\"],[0.1111111111111111,\"#46039f\"],[0.2222222222222222,\"#7201a8\"],[0.3333333333333333,\"#9c179e\"],[0.4444444444444444,\"#bd3786\"],[0.5555555555555556,\"#d8576b\"],[0.6666666666666666,\"#ed7953\"],[0.7777777777777778,\"#fb9f3a\"],[0.8888888888888888,\"#fdca26\"],[1.0,\"#f0f921\"]],\"diverging\":[[0,\"#8e0152\"],[0.1,\"#c51b7d\"],[0.2,\"#de77ae\"],[0.3,\"#f1b6da\"],[0.4,\"#fde0ef\"],[0.5,\"#f7f7f7\"],[0.6,\"#e6f5d0\"],[0.7,\"#b8e186\"],[0.8,\"#7fbc41\"],[0.9,\"#4d9221\"],[1,\"#276419\"]]},\"xaxis\":{\"gridcolor\":\"white\",\"linecolor\":\"white\",\"ticks\":\"\",\"title\":{\"standoff\":15},\"zerolinecolor\":\"white\",\"automargin\":true,\"zerolinewidth\":2},\"yaxis\":{\"gridcolor\":\"white\",\"linecolor\":\"white\",\"ticks\":\"\",\"title\":{\"standoff\":15},\"zerolinecolor\":\"white\",\"automargin\":true,\"zerolinewidth\":2},\"scene\":{\"xaxis\":{\"backgroundcolor\":\"#E5ECF6\",\"gridcolor\":\"white\",\"linecolor\":\"white\",\"showbackground\":true,\"ticks\":\"\",\"zerolinecolor\":\"white\",\"gridwidth\":2},\"yaxis\":{\"backgroundcolor\":\"#E5ECF6\",\"gridcolor\":\"white\",\"linecolor\":\"white\",\"showbackground\":true,\"ticks\":\"\",\"zerolinecolor\":\"white\",\"gridwidth\":2},\"zaxis\":{\"backgroundcolor\":\"#E5ECF6\",\"gridcolor\":\"white\",\"linecolor\":\"white\",\"showbackground\":true,\"ticks\":\"\",\"zerolinecolor\":\"white\",\"gridwidth\":2}},\"shapedefaults\":{\"line\":{\"color\":\"#2a3f5f\"}},\"annotationdefaults\":{\"arrowcolor\":\"#2a3f5f\",\"arrowhead\":0,\"arrowwidth\":1},\"geo\":{\"bgcolor\":\"white\",\"landcolor\":\"#E5ECF6\",\"subunitcolor\":\"white\",\"showland\":true,\"showlakes\":true,\"lakecolor\":\"white\"},\"title\":{\"x\":0.05},\"mapbox\":{\"style\":\"light\"}}},\"shapes\":[{\"fillcolor\":\"white\",\"line\":{\"color\":\"black\"},\"opacity\":0.6,\"type\":\"rect\",\"x0\":5.005646534277389,\"x1\":7.493360659981208,\"y0\":12.497654733523483,\"y1\":14.996080814245365},{\"fillcolor\":\"white\",\"line\":{\"color\":\"black\"},\"opacity\":0.6,\"type\":\"rect\",\"x0\":9.981074785685028,\"x1\":12.468788911388847,\"y0\":5.002376491357829,\"y1\":7.500802572079714},{\"fillcolor\":\"white\",\"line\":{\"color\":\"black\"},\"opacity\":0.6,\"type\":\"rect\",\"x0\":12.468788911388847,\"x1\":14.956503037092666,\"y0\":5.002376491357829,\"y1\":7.500802572079714},{\"fillcolor\":\"white\",\"line\":{\"color\":\"black\"},\"opacity\":0.6,\"type\":\"rect\",\"x0\":12.468788911388847,\"x1\":14.956503037092666,\"y0\":9.999228652801598,\"y1\":12.497654733523483},{\"fillcolor\":\"white\",\"line\":{\"color\":\"black\"},\"opacity\":0.6,\"type\":\"rect\",\"x0\":7.493360659981208,\"x1\":9.981074785685028,\"y0\":17.494506894967248,\"y1\":19.992932975689133},{\"fillcolor\":\"white\",\"line\":{\"color\":\"black\"},\"opacity\":0.6,\"type\":\"rect\",\"x0\":19.931931288500305,\"x1\":22.419645414204126,\"y0\":7.500802572079714,\"y1\":9.999228652801598},{\"fillcolor\":\"white\",\"line\":{\"color\":\"black\"},\"opacity\":0.6,\"type\":\"rect\",\"x0\":22.419645414204126,\"x1\":24.907359539907944,\"y0\":7.500802572079714,\"y1\":9.999228652801598},{\"fillcolor\":\"white\",\"line\":{\"color\":\"black\"},\"opacity\":0.6,\"type\":\"rect\",\"x0\":22.419645414204126,\"x1\":24.907359539907944,\"y0\":9.999228652801598,\"y1\":12.497654733523483},{\"fillcolor\":\"white\",\"line\":{\"color\":\"black\"},\"opacity\":0.6,\"type\":\"rect\",\"x0\":14.956503037092666,\"x1\":17.444217162796484,\"y0\":14.996080814245365,\"y1\":17.494506894967248},{\"fillcolor\":\"white\",\"line\":{\"color\":\"black\"},\"opacity\":0.6,\"type\":\"rect\",\"x0\":17.444217162796484,\"x1\":19.931931288500305,\"y0\":22.491359056411017,\"y1\":24.989785137132902},{\"fillcolor\":\"white\",\"line\":{\"color\":\"black\"},\"opacity\":0.6,\"type\":\"rect\",\"x0\":19.931931288500305,\"x1\":22.419645414204126,\"y0\":17.494506894967248,\"y1\":19.992932975689133},{\"fillcolor\":\"white\",\"line\":{\"color\":\"black\"},\"opacity\":0.6,\"type\":\"rect\",\"x0\":22.419645414204126,\"x1\":24.907359539907944,\"y0\":14.996080814245365,\"y1\":17.494506894967248},{\"fillcolor\":\"white\",\"line\":{\"color\":\"black\"},\"opacity\":0.6,\"type\":\"rect\",\"x0\":22.419645414204126,\"x1\":24.907359539907944,\"y0\":19.992932975689133,\"y1\":22.491359056411017}],\"annotations\":[{\"font\":{\"color\":\"black\",\"size\":10},\"showarrow\":false,\"text\":\"22\",\"x\":6.249503597129299,\"y\":13.746867773884425},{\"font\":{\"color\":\"black\",\"size\":10},\"showarrow\":false,\"text\":\"24\",\"x\":11.224931848536936,\"y\":6.251589531718771},{\"font\":{\"color\":\"black\",\"size\":10},\"showarrow\":false,\"text\":\"23\",\"x\":13.712645974240758,\"y\":6.251589531718771},{\"font\":{\"color\":\"black\",\"size\":10},\"showarrow\":false,\"text\":\"26\",\"x\":13.712645974240758,\"y\":11.24844169316254},{\"font\":{\"color\":\"black\",\"size\":10},\"showarrow\":false,\"text\":\"23\",\"x\":8.737217722833119,\"y\":18.74371993532819},{\"font\":{\"color\":\"black\",\"size\":10},\"showarrow\":false,\"text\":\"22\",\"x\":21.175788351352217,\"y\":8.750015612440656},{\"font\":{\"color\":\"black\",\"size\":10},\"showarrow\":false,\"text\":\"22\",\"x\":23.663502477056035,\"y\":8.750015612440656},{\"font\":{\"color\":\"black\",\"size\":10},\"showarrow\":false,\"text\":\"21\",\"x\":23.663502477056035,\"y\":11.24844169316254},{\"font\":{\"color\":\"black\",\"size\":10},\"showarrow\":false,\"text\":\"21\",\"x\":16.200360099944575,\"y\":16.245293854606306},{\"font\":{\"color\":\"black\",\"size\":10},\"showarrow\":false,\"text\":\"20\",\"x\":18.688074225648393,\"y\":23.74057209677196},{\"font\":{\"color\":\"black\",\"size\":10},\"showarrow\":false,\"text\":\"21\",\"x\":21.175788351352217,\"y\":18.74371993532819},{\"font\":{\"color\":\"black\",\"size\":10},\"showarrow\":false,\"text\":\"22\",\"x\":23.663502477056035,\"y\":16.245293854606306},{\"font\":{\"color\":\"black\",\"size\":10},\"showarrow\":false,\"text\":\"20\",\"x\":23.663502477056035,\"y\":21.242146016050075}],\"xaxis\":{\"title\":{\"text\":\"X-axis\"},\"range\":[5.005646534277389,24.907359539907944]},\"yaxis\":{\"title\":{\"text\":\"Y-axis\"},\"range\":[5.002376491357829,24.989785137132902]},\"title\":{\"text\":\"Adaptive 2D Histogram with Color Coding and Count Annotations\"},\"showlegend\":false,\"hovermode\":\"closest\"},                        {\"responsive\": true}                    ).then(function(){\n",
       "                            \n",
       "var gd = document.getElementById('849e1434-9c61-446a-8955-9b498ee413a4');\n",
       "var x = new MutationObserver(function (mutations, observer) {{\n",
       "        var display = window.getComputedStyle(gd).display;\n",
       "        if (!display || display === 'none') {{\n",
       "            console.log([gd, 'removed!']);\n",
       "            Plotly.purge(gd);\n",
       "            observer.disconnect();\n",
       "        }}\n",
       "}});\n",
       "\n",
       "// Listen for the removal of the full notebook cells\n",
       "var notebookContainer = gd.closest('#notebook-container');\n",
       "if (notebookContainer) {{\n",
       "    x.observe(notebookContainer, {childList: true});\n",
       "}}\n",
       "\n",
       "// Listen for the clearing of the current output cell\n",
       "var outputEl = gd.closest('.output');\n",
       "if (outputEl) {{\n",
       "    x.observe(outputEl, {childList: true});\n",
       "}}\n",
       "\n",
       "                        })                };                });            </script>        </div>"
      ]
     },
     "metadata": {},
     "output_type": "display_data"
    }
   ],
   "source": [
    "import numpy as np\n",
    "import plotly.graph_objects as go\n",
    "\n",
    "# Define the adaptive histogram function with recursive splitting and merging\n",
    "def adaptive_qthist(x, y, N=5, min_count=20, max_count=30):\n",
    "    # Initialize lists to store counts and edges\n",
    "    counts = []\n",
    "    edges = []\n",
    "\n",
    "    # Define the range with padding\n",
    "    x_range = [x.min(), x.max()]\n",
    "    y_range = [y.min(), y.max()]\n",
    "\n",
    "    # Recursive division of space into bins\n",
    "    def divide_and_count(x_range, y_range, depth=1):\n",
    "        if depth > N:\n",
    "            return\n",
    "        bins_x = np.linspace(x_range[0], x_range[1], 3)\n",
    "        bins_y = np.linspace(y_range[0], y_range[1], 3)\n",
    "        H, xedges, yedges = np.histogram2d(x, y, bins=[bins_x, bins_y])\n",
    "\n",
    "        for i in range(len(xedges) - 1):\n",
    "            for j in range(len(yedges) - 1):\n",
    "                count = H[i, j]\n",
    "                x_min, x_max = xedges[i], xedges[i + 1]\n",
    "                y_min, y_max = yedges[j], yedges[j + 1]\n",
    "\n",
    "                if min_count <= count <= max_count:\n",
    "                    counts.append(count)\n",
    "                    edges.append((x_min, x_max, y_min, y_max))\n",
    "                elif count > max_count:\n",
    "                    divide_and_count([x_min, x_max], [y_min, y_max], depth + 1)\n",
    "\n",
    "    # Initial recursive call\n",
    "    divide_and_count(x_range, y_range)\n",
    "\n",
    "    return counts, edges\n",
    "\n",
    "# Example usage\n",
    "np.random.seed(42)\n",
    "x = np.random.uniform(25, 5, 1000)\n",
    "np.random.seed(39)\n",
    "y = np.random.uniform(25, 5, 1000)\n",
    "counts, edges = adaptive_qthist(x, y, N=5, min_count=20, max_count=30)\n",
    "\n",
    "# Plotting with Plotly\n",
    "fig = go.Figure()\n",
    "\n",
    "# Add each bin as a rectangle and annotate counts\n",
    "for (xmin, xmax, ymin, ymax), count in zip(edges, counts):\n",
    "    color = 'yellow' if count == 0 else 'blue' if count < 20 else 'red' if count > 30 else 'white'\n",
    "\n",
    "    # Add rectangle for each bin\n",
    "    fig.add_shape(\n",
    "        type=\"rect\",\n",
    "        x0=xmin, y0=ymin, x1=xmax, y1=ymax,\n",
    "        line=dict(color=\"black\"),\n",
    "        fillcolor=color,\n",
    "        opacity=0.6\n",
    "    )\n",
    "\n",
    "    # Add annotation for each bin count at the center\n",
    "    fig.add_annotation(\n",
    "        x=(xmin + xmax) / 2,\n",
    "        y=(ymin + ymax) / 2,\n",
    "        text=str(int(count)),\n",
    "        showarrow=False,\n",
    "        font=dict(color=\"black\", size=10)\n",
    "    )\n",
    "\n",
    "# Set up the layout\n",
    "fig.update_layout(\n",
    "    title=\"Adaptive 2D Histogram with Color Coding and Count Annotations\",\n",
    "    xaxis_title=\"X-axis\",\n",
    "    yaxis_title=\"Y-axis\",\n",
    "    xaxis=dict(range=[x.min(), x.max()]),\n",
    "    yaxis=dict(range=[y.min(), y.max()]),\n",
    "    showlegend=False,\n",
    "    hovermode=\"closest\"\n",
    ")\n",
    "\n",
    "# Show the plot\n",
    "fig.show()\n"
   ]
  },
  {
   "cell_type": "code",
   "execution_count": 44,
   "id": "95e1b15d",
   "metadata": {},
   "outputs": [
    {
     "data": {
      "application/vnd.plotly.v1+json": {
       "config": {
        "plotlyServerURL": "https://plot.ly"
       },
       "data": [],
       "layout": {
        "annotations": [
         {
          "font": {
           "color": "black",
           "size": 10
          },
          "showarrow": false,
          "text": "1",
          "x": 4.595097634951292,
          "y": 4.510529646722721
         },
         {
          "font": {
           "color": "black",
           "size": 10
          },
          "showarrow": false,
          "text": "7",
          "x": 4.595097634951292,
          "y": 7.508640943588982
         },
         {
          "font": {
           "color": "black",
           "size": 10
          },
          "showarrow": false,
          "text": "4",
          "x": 7.580354585795876,
          "y": 4.510529646722721
         },
         {
          "font": {
           "color": "black",
           "size": 10
          },
          "showarrow": false,
          "text": "26",
          "x": 7.580354585795876,
          "y": 7.508640943588982
         },
         {
          "font": {
           "color": "black",
           "size": 10
          },
          "showarrow": false,
          "text": "9",
          "x": 4.595097634951292,
          "y": 10.506752240455242
         },
         {
          "font": {
           "color": "black",
           "size": 10
          },
          "showarrow": false,
          "text": "10",
          "x": 4.595097634951292,
          "y": 13.504863537321505
         },
         {
          "font": {
           "color": "black",
           "size": 10
          },
          "showarrow": false,
          "text": "22",
          "x": 7.580354585795876,
          "y": 10.506752240455242
         },
         {
          "font": {
           "color": "black",
           "size": 10
          },
          "showarrow": false,
          "text": "27",
          "x": 7.580354585795876,
          "y": 13.504863537321505
         },
         {
          "font": {
           "color": "black",
           "size": 10
          },
          "showarrow": false,
          "text": "2",
          "x": 10.565611536640459,
          "y": 4.510529646722721
         },
         {
          "font": {
           "color": "black",
           "size": 10
          },
          "showarrow": false,
          "text": "24",
          "x": 10.565611536640459,
          "y": 7.508640943588982
         },
         {
          "font": {
           "color": "black",
           "size": 10
          },
          "showarrow": false,
          "text": "7",
          "x": 13.550868487485042,
          "y": 4.510529646722721
         },
         {
          "font": {
           "color": "black",
           "size": 10
          },
          "showarrow": false,
          "text": "19",
          "x": 13.550868487485042,
          "y": 7.508640943588982
         },
         {
          "font": {
           "color": "black",
           "size": 10
          },
          "showarrow": false,
          "text": "29",
          "x": 10.565611536640459,
          "y": 10.506752240455242
         },
         {
          "font": {
           "color": "black",
           "size": 10
          },
          "showarrow": false,
          "text": "24",
          "x": 10.565611536640459,
          "y": 13.504863537321505
         },
         {
          "font": {
           "color": "black",
           "size": 10
          },
          "showarrow": false,
          "text": "16",
          "x": 13.550868487485042,
          "y": 10.506752240455242
         },
         {
          "font": {
           "color": "black",
           "size": 10
          },
          "showarrow": false,
          "text": "30",
          "x": 13.550868487485042,
          "y": 13.504863537321505
         },
         {
          "font": {
           "color": "black",
           "size": 10
          },
          "showarrow": false,
          "text": "11",
          "x": 4.595097634951292,
          "y": 16.502974834187764
         },
         {
          "font": {
           "color": "black",
           "size": 10
          },
          "showarrow": false,
          "text": "9",
          "x": 4.595097634951292,
          "y": 19.501086131054024
         },
         {
          "font": {
           "color": "black",
           "size": 10
          },
          "showarrow": false,
          "text": "25",
          "x": 7.580354585795876,
          "y": 16.502974834187764
         },
         {
          "font": {
           "color": "black",
           "size": 10
          },
          "showarrow": false,
          "text": "25",
          "x": 7.580354585795876,
          "y": 19.501086131054024
         },
         {
          "font": {
           "color": "black",
           "size": 10
          },
          "showarrow": false,
          "text": "9",
          "x": 4.595097634951292,
          "y": 22.499197427920286
         },
         {
          "font": {
           "color": "black",
           "size": 10
          },
          "showarrow": false,
          "text": "2",
          "x": 4.595097634951292,
          "y": 25.497308724786546
         },
         {
          "font": {
           "color": "black",
           "size": 10
          },
          "showarrow": false,
          "text": "27",
          "x": 7.580354585795876,
          "y": 22.499197427920286
         },
         {
          "font": {
           "color": "black",
           "size": 10
          },
          "showarrow": false,
          "text": "12",
          "x": 7.580354585795876,
          "y": 25.497308724786546
         },
         {
          "font": {
           "color": "black",
           "size": 10
          },
          "showarrow": false,
          "text": "17",
          "x": 10.565611536640459,
          "y": 16.502974834187764
         },
         {
          "font": {
           "color": "black",
           "size": 10
          },
          "showarrow": false,
          "text": "22",
          "x": 10.565611536640459,
          "y": 19.501086131054024
         },
         {
          "font": {
           "color": "black",
           "size": 10
          },
          "showarrow": false,
          "text": "19",
          "x": 13.550868487485042,
          "y": 16.502974834187764
         },
         {
          "font": {
           "color": "black",
           "size": 10
          },
          "showarrow": false,
          "text": "14",
          "x": 13.550868487485042,
          "y": 19.501086131054024
         },
         {
          "font": {
           "color": "black",
           "size": 10
          },
          "showarrow": false,
          "text": "19",
          "x": 10.565611536640459,
          "y": 22.499197427920286
         },
         {
          "font": {
           "color": "black",
           "size": 10
          },
          "showarrow": false,
          "text": "4",
          "x": 10.565611536640459,
          "y": 25.497308724786546
         },
         {
          "font": {
           "color": "black",
           "size": 10
          },
          "showarrow": false,
          "text": "26",
          "x": 13.550868487485042,
          "y": 22.499197427920286
         },
         {
          "font": {
           "color": "black",
           "size": 10
          },
          "showarrow": false,
          "text": "6",
          "x": 13.550868487485042,
          "y": 25.497308724786546
         },
         {
          "font": {
           "color": "black",
           "size": 10
          },
          "showarrow": false,
          "text": "9",
          "x": 16.536125438329627,
          "y": 4.510529646722721
         },
         {
          "font": {
           "color": "black",
           "size": 10
          },
          "showarrow": false,
          "text": "19",
          "x": 16.536125438329627,
          "y": 7.508640943588982
         },
         {
          "font": {
           "color": "black",
           "size": 10
          },
          "showarrow": false,
          "text": "11",
          "x": 19.521382389174207,
          "y": 4.510529646722721
         },
         {
          "font": {
           "color": "black",
           "size": 10
          },
          "showarrow": false,
          "text": "20",
          "x": 19.521382389174207,
          "y": 7.508640943588982
         },
         {
          "font": {
           "color": "black",
           "size": 10
          },
          "showarrow": false,
          "text": "21",
          "x": 16.536125438329627,
          "y": 10.506752240455242
         },
         {
          "font": {
           "color": "black",
           "size": 10
          },
          "showarrow": false,
          "text": "20",
          "x": 16.536125438329627,
          "y": 13.504863537321505
         },
         {
          "font": {
           "color": "black",
           "size": 10
          },
          "showarrow": false,
          "text": "19",
          "x": 19.521382389174207,
          "y": 10.506752240455242
         },
         {
          "font": {
           "color": "black",
           "size": 10
          },
          "showarrow": false,
          "text": "14",
          "x": 19.521382389174207,
          "y": 13.504863537321505
         },
         {
          "font": {
           "color": "black",
           "size": 10
          },
          "showarrow": false,
          "text": "25",
          "x": 23.999267815441083,
          "y": 6.009585295155851
         },
         {
          "font": {
           "color": "black",
           "size": 10
          },
          "showarrow": false,
          "text": "8",
          "x": 21.760325102307647,
          "y": 9.757224416238678
         },
         {
          "font": {
           "color": "black",
           "size": 10
          },
          "showarrow": false,
          "text": "10",
          "x": 21.760325102307647,
          "y": 11.256280064671808
         },
         {
          "font": {
           "color": "black",
           "size": 10
          },
          "showarrow": false,
          "text": "10",
          "x": 23.25295357772994,
          "y": 9.757224416238678
         },
         {
          "font": {
           "color": "black",
           "size": 10
          },
          "showarrow": false,
          "text": "7",
          "x": 23.25295357772994,
          "y": 11.256280064671808
         },
         {
          "font": {
           "color": "black",
           "size": 10
          },
          "showarrow": false,
          "text": "29",
          "x": 22.506639340018793,
          "y": 13.504863537321505
         },
         {
          "font": {
           "color": "black",
           "size": 10
          },
          "showarrow": false,
          "text": "4",
          "x": 25.491896290863373,
          "y": 10.506752240455242
         },
         {
          "font": {
           "color": "black",
           "size": 10
          },
          "showarrow": false,
          "text": "4",
          "x": 25.491896290863373,
          "y": 13.504863537321505
         },
         {
          "font": {
           "color": "black",
           "size": 10
          },
          "showarrow": false,
          "text": "28",
          "x": 16.536125438329627,
          "y": 16.502974834187764
         },
         {
          "font": {
           "color": "black",
           "size": 10
          },
          "showarrow": false,
          "text": "9",
          "x": 15.78981120061848,
          "y": 18.75155830683746
         },
         {
          "font": {
           "color": "black",
           "size": 10
          },
          "showarrow": false,
          "text": "5",
          "x": 15.78981120061848,
          "y": 20.250613955270587
         },
         {
          "font": {
           "color": "black",
           "size": 10
          },
          "showarrow": false,
          "text": "11",
          "x": 17.282439676040774,
          "y": 18.75155830683746
         },
         {
          "font": {
           "color": "black",
           "size": 10
          },
          "showarrow": false,
          "text": "7",
          "x": 17.282439676040774,
          "y": 20.250613955270587
         },
         {
          "font": {
           "color": "black",
           "size": 10
          },
          "showarrow": false,
          "text": "17",
          "x": 19.521382389174207,
          "y": 16.502974834187764
         },
         {
          "font": {
           "color": "black",
           "size": 10
          },
          "showarrow": false,
          "text": "14",
          "x": 19.521382389174207,
          "y": 19.501086131054024
         },
         {
          "font": {
           "color": "black",
           "size": 10
          },
          "showarrow": false,
          "text": "8",
          "x": 15.78981120061848,
          "y": 21.749669603703722
         },
         {
          "font": {
           "color": "black",
           "size": 10
          },
          "showarrow": false,
          "text": "11",
          "x": 15.78981120061848,
          "y": 23.24872525213685
         },
         {
          "font": {
           "color": "black",
           "size": 10
          },
          "showarrow": false,
          "text": "5",
          "x": 17.282439676040774,
          "y": 21.749669603703722
         },
         {
          "font": {
           "color": "black",
           "size": 10
          },
          "showarrow": false,
          "text": "7",
          "x": 17.282439676040774,
          "y": 23.24872525213685
         },
         {
          "font": {
           "color": "black",
           "size": 10
          },
          "showarrow": false,
          "text": "8",
          "x": 16.536125438329627,
          "y": 25.497308724786546
         },
         {
          "font": {
           "color": "black",
           "size": 10
          },
          "showarrow": false,
          "text": "23",
          "x": 19.521382389174207,
          "y": 22.499197427920286
         },
         {
          "font": {
           "color": "black",
           "size": 10
          },
          "showarrow": false,
          "text": "11",
          "x": 19.521382389174207,
          "y": 25.497308724786546
         },
         {
          "font": {
           "color": "black",
           "size": 10
          },
          "showarrow": false,
          "text": "25",
          "x": 22.506639340018793,
          "y": 16.502974834187764
         },
         {
          "font": {
           "color": "black",
           "size": 10
          },
          "showarrow": false,
          "text": "18",
          "x": 22.506639340018793,
          "y": 19.501086131054024
         },
         {
          "font": {
           "color": "black",
           "size": 10
          },
          "showarrow": false,
          "text": "12",
          "x": 25.491896290863373,
          "y": 16.502974834187764
         },
         {
          "font": {
           "color": "black",
           "size": 10
          },
          "showarrow": false,
          "text": "11",
          "x": 25.491896290863373,
          "y": 19.501086131054024
         },
         {
          "font": {
           "color": "black",
           "size": 10
          },
          "showarrow": false,
          "text": "23",
          "x": 22.506639340018793,
          "y": 22.499197427920286
         },
         {
          "font": {
           "color": "black",
           "size": 10
          },
          "showarrow": false,
          "text": "7",
          "x": 22.506639340018793,
          "y": 25.497308724786546
         },
         {
          "font": {
           "color": "black",
           "size": 10
          },
          "showarrow": false,
          "text": "4",
          "x": 25.491896290863373,
          "y": 22.499197427920286
         },
         {
          "font": {
           "color": "black",
           "size": 10
          },
          "showarrow": false,
          "text": "2",
          "x": 25.491896290863373,
          "y": 25.497308724786546
         }
        ],
        "hovermode": "closest",
        "shapes": [
         {
          "fillcolor": "blue",
          "line": {
           "color": "black"
          },
          "opacity": 0.6,
          "type": "rect",
          "x0": 3.1024691595290017,
          "x1": 6.087726110373584,
          "y0": 3.01147399828959,
          "y1": 6.009585295155851
         },
         {
          "fillcolor": "blue",
          "line": {
           "color": "black"
          },
          "opacity": 0.6,
          "type": "rect",
          "x0": 3.1024691595290017,
          "x1": 6.087726110373584,
          "y0": 6.009585295155851,
          "y1": 9.007696592022112
         },
         {
          "fillcolor": "blue",
          "line": {
           "color": "black"
          },
          "opacity": 0.6,
          "type": "rect",
          "x0": 6.087726110373584,
          "x1": 9.072983061218167,
          "y0": 3.01147399828959,
          "y1": 6.009585295155851
         },
         {
          "fillcolor": "white",
          "line": {
           "color": "black"
          },
          "opacity": 0.6,
          "type": "rect",
          "x0": 6.087726110373584,
          "x1": 9.072983061218167,
          "y0": 6.009585295155851,
          "y1": 9.007696592022112
         },
         {
          "fillcolor": "blue",
          "line": {
           "color": "black"
          },
          "opacity": 0.6,
          "type": "rect",
          "x0": 3.1024691595290017,
          "x1": 6.087726110373584,
          "y0": 9.007696592022112,
          "y1": 12.005807888888373
         },
         {
          "fillcolor": "blue",
          "line": {
           "color": "black"
          },
          "opacity": 0.6,
          "type": "rect",
          "x0": 3.1024691595290017,
          "x1": 6.087726110373584,
          "y0": 12.005807888888373,
          "y1": 15.003919185754635
         },
         {
          "fillcolor": "white",
          "line": {
           "color": "black"
          },
          "opacity": 0.6,
          "type": "rect",
          "x0": 6.087726110373584,
          "x1": 9.072983061218167,
          "y0": 9.007696592022112,
          "y1": 12.005807888888373
         },
         {
          "fillcolor": "white",
          "line": {
           "color": "black"
          },
          "opacity": 0.6,
          "type": "rect",
          "x0": 6.087726110373584,
          "x1": 9.072983061218167,
          "y0": 12.005807888888373,
          "y1": 15.003919185754635
         },
         {
          "fillcolor": "blue",
          "line": {
           "color": "black"
          },
          "opacity": 0.6,
          "type": "rect",
          "x0": 9.072983061218167,
          "x1": 12.05824001206275,
          "y0": 3.01147399828959,
          "y1": 6.009585295155851
         },
         {
          "fillcolor": "white",
          "line": {
           "color": "black"
          },
          "opacity": 0.6,
          "type": "rect",
          "x0": 9.072983061218167,
          "x1": 12.05824001206275,
          "y0": 6.009585295155851,
          "y1": 9.007696592022112
         },
         {
          "fillcolor": "blue",
          "line": {
           "color": "black"
          },
          "opacity": 0.6,
          "type": "rect",
          "x0": 12.05824001206275,
          "x1": 15.043496962907334,
          "y0": 3.01147399828959,
          "y1": 6.009585295155851
         },
         {
          "fillcolor": "blue",
          "line": {
           "color": "black"
          },
          "opacity": 0.6,
          "type": "rect",
          "x0": 12.05824001206275,
          "x1": 15.043496962907334,
          "y0": 6.009585295155851,
          "y1": 9.007696592022112
         },
         {
          "fillcolor": "white",
          "line": {
           "color": "black"
          },
          "opacity": 0.6,
          "type": "rect",
          "x0": 9.072983061218167,
          "x1": 12.05824001206275,
          "y0": 9.007696592022112,
          "y1": 12.005807888888373
         },
         {
          "fillcolor": "white",
          "line": {
           "color": "black"
          },
          "opacity": 0.6,
          "type": "rect",
          "x0": 9.072983061218167,
          "x1": 12.05824001206275,
          "y0": 12.005807888888373,
          "y1": 15.003919185754635
         },
         {
          "fillcolor": "blue",
          "line": {
           "color": "black"
          },
          "opacity": 0.6,
          "type": "rect",
          "x0": 12.05824001206275,
          "x1": 15.043496962907334,
          "y0": 9.007696592022112,
          "y1": 12.005807888888373
         },
         {
          "fillcolor": "white",
          "line": {
           "color": "black"
          },
          "opacity": 0.6,
          "type": "rect",
          "x0": 12.05824001206275,
          "x1": 15.043496962907334,
          "y0": 12.005807888888373,
          "y1": 15.003919185754635
         },
         {
          "fillcolor": "blue",
          "line": {
           "color": "black"
          },
          "opacity": 0.6,
          "type": "rect",
          "x0": 3.1024691595290017,
          "x1": 6.087726110373584,
          "y0": 15.003919185754635,
          "y1": 18.002030482620896
         },
         {
          "fillcolor": "blue",
          "line": {
           "color": "black"
          },
          "opacity": 0.6,
          "type": "rect",
          "x0": 3.1024691595290017,
          "x1": 6.087726110373584,
          "y0": 18.002030482620896,
          "y1": 21.000141779487155
         },
         {
          "fillcolor": "white",
          "line": {
           "color": "black"
          },
          "opacity": 0.6,
          "type": "rect",
          "x0": 6.087726110373584,
          "x1": 9.072983061218167,
          "y0": 15.003919185754635,
          "y1": 18.002030482620896
         },
         {
          "fillcolor": "white",
          "line": {
           "color": "black"
          },
          "opacity": 0.6,
          "type": "rect",
          "x0": 6.087726110373584,
          "x1": 9.072983061218167,
          "y0": 18.002030482620896,
          "y1": 21.000141779487155
         },
         {
          "fillcolor": "blue",
          "line": {
           "color": "black"
          },
          "opacity": 0.6,
          "type": "rect",
          "x0": 3.1024691595290017,
          "x1": 6.087726110373584,
          "y0": 21.000141779487155,
          "y1": 23.998253076353414
         },
         {
          "fillcolor": "blue",
          "line": {
           "color": "black"
          },
          "opacity": 0.6,
          "type": "rect",
          "x0": 3.1024691595290017,
          "x1": 6.087726110373584,
          "y0": 23.998253076353414,
          "y1": 26.996364373219677
         },
         {
          "fillcolor": "white",
          "line": {
           "color": "black"
          },
          "opacity": 0.6,
          "type": "rect",
          "x0": 6.087726110373584,
          "x1": 9.072983061218167,
          "y0": 21.000141779487155,
          "y1": 23.998253076353414
         },
         {
          "fillcolor": "blue",
          "line": {
           "color": "black"
          },
          "opacity": 0.6,
          "type": "rect",
          "x0": 6.087726110373584,
          "x1": 9.072983061218167,
          "y0": 23.998253076353414,
          "y1": 26.996364373219677
         },
         {
          "fillcolor": "blue",
          "line": {
           "color": "black"
          },
          "opacity": 0.6,
          "type": "rect",
          "x0": 9.072983061218167,
          "x1": 12.05824001206275,
          "y0": 15.003919185754635,
          "y1": 18.002030482620896
         },
         {
          "fillcolor": "white",
          "line": {
           "color": "black"
          },
          "opacity": 0.6,
          "type": "rect",
          "x0": 9.072983061218167,
          "x1": 12.05824001206275,
          "y0": 18.002030482620896,
          "y1": 21.000141779487155
         },
         {
          "fillcolor": "blue",
          "line": {
           "color": "black"
          },
          "opacity": 0.6,
          "type": "rect",
          "x0": 12.05824001206275,
          "x1": 15.043496962907334,
          "y0": 15.003919185754635,
          "y1": 18.002030482620896
         },
         {
          "fillcolor": "blue",
          "line": {
           "color": "black"
          },
          "opacity": 0.6,
          "type": "rect",
          "x0": 12.05824001206275,
          "x1": 15.043496962907334,
          "y0": 18.002030482620896,
          "y1": 21.000141779487155
         },
         {
          "fillcolor": "blue",
          "line": {
           "color": "black"
          },
          "opacity": 0.6,
          "type": "rect",
          "x0": 9.072983061218167,
          "x1": 12.05824001206275,
          "y0": 21.000141779487155,
          "y1": 23.998253076353414
         },
         {
          "fillcolor": "blue",
          "line": {
           "color": "black"
          },
          "opacity": 0.6,
          "type": "rect",
          "x0": 9.072983061218167,
          "x1": 12.05824001206275,
          "y0": 23.998253076353414,
          "y1": 26.996364373219677
         },
         {
          "fillcolor": "white",
          "line": {
           "color": "black"
          },
          "opacity": 0.6,
          "type": "rect",
          "x0": 12.05824001206275,
          "x1": 15.043496962907334,
          "y0": 21.000141779487155,
          "y1": 23.998253076353414
         },
         {
          "fillcolor": "blue",
          "line": {
           "color": "black"
          },
          "opacity": 0.6,
          "type": "rect",
          "x0": 12.05824001206275,
          "x1": 15.043496962907334,
          "y0": 23.998253076353414,
          "y1": 26.996364373219677
         },
         {
          "fillcolor": "blue",
          "line": {
           "color": "black"
          },
          "opacity": 0.6,
          "type": "rect",
          "x0": 15.043496962907334,
          "x1": 18.028753913751917,
          "y0": 3.01147399828959,
          "y1": 6.009585295155851
         },
         {
          "fillcolor": "blue",
          "line": {
           "color": "black"
          },
          "opacity": 0.6,
          "type": "rect",
          "x0": 15.043496962907334,
          "x1": 18.028753913751917,
          "y0": 6.009585295155851,
          "y1": 9.007696592022112
         },
         {
          "fillcolor": "blue",
          "line": {
           "color": "black"
          },
          "opacity": 0.6,
          "type": "rect",
          "x0": 18.028753913751917,
          "x1": 21.0140108645965,
          "y0": 3.01147399828959,
          "y1": 6.009585295155851
         },
         {
          "fillcolor": "white",
          "line": {
           "color": "black"
          },
          "opacity": 0.6,
          "type": "rect",
          "x0": 18.028753913751917,
          "x1": 21.0140108645965,
          "y0": 6.009585295155851,
          "y1": 9.007696592022112
         },
         {
          "fillcolor": "white",
          "line": {
           "color": "black"
          },
          "opacity": 0.6,
          "type": "rect",
          "x0": 15.043496962907334,
          "x1": 18.028753913751917,
          "y0": 9.007696592022112,
          "y1": 12.005807888888373
         },
         {
          "fillcolor": "white",
          "line": {
           "color": "black"
          },
          "opacity": 0.6,
          "type": "rect",
          "x0": 15.043496962907334,
          "x1": 18.028753913751917,
          "y0": 12.005807888888373,
          "y1": 15.003919185754635
         },
         {
          "fillcolor": "blue",
          "line": {
           "color": "black"
          },
          "opacity": 0.6,
          "type": "rect",
          "x0": 18.028753913751917,
          "x1": 21.0140108645965,
          "y0": 9.007696592022112,
          "y1": 12.005807888888373
         },
         {
          "fillcolor": "blue",
          "line": {
           "color": "black"
          },
          "opacity": 0.6,
          "type": "rect",
          "x0": 18.028753913751917,
          "x1": 21.0140108645965,
          "y0": 12.005807888888373,
          "y1": 15.003919185754635
         },
         {
          "fillcolor": "white",
          "line": {
           "color": "black"
          },
          "opacity": 0.6,
          "type": "rect",
          "x0": 21.0140108645965,
          "x1": 26.984524766285666,
          "y0": 3.01147399828959,
          "y1": 9.007696592022112
         },
         {
          "fillcolor": "blue",
          "line": {
           "color": "black"
          },
          "opacity": 0.6,
          "type": "rect",
          "x0": 21.0140108645965,
          "x1": 22.506639340018793,
          "y0": 9.007696592022112,
          "y1": 10.506752240455242
         },
         {
          "fillcolor": "blue",
          "line": {
           "color": "black"
          },
          "opacity": 0.6,
          "type": "rect",
          "x0": 21.0140108645965,
          "x1": 22.506639340018793,
          "y0": 10.506752240455242,
          "y1": 12.005807888888373
         },
         {
          "fillcolor": "blue",
          "line": {
           "color": "black"
          },
          "opacity": 0.6,
          "type": "rect",
          "x0": 22.506639340018793,
          "x1": 23.999267815441083,
          "y0": 9.007696592022112,
          "y1": 10.506752240455242
         },
         {
          "fillcolor": "blue",
          "line": {
           "color": "black"
          },
          "opacity": 0.6,
          "type": "rect",
          "x0": 22.506639340018793,
          "x1": 23.999267815441083,
          "y0": 10.506752240455242,
          "y1": 12.005807888888373
         },
         {
          "fillcolor": "white",
          "line": {
           "color": "black"
          },
          "opacity": 0.6,
          "type": "rect",
          "x0": 21.0140108645965,
          "x1": 23.999267815441083,
          "y0": 12.005807888888373,
          "y1": 15.003919185754635
         },
         {
          "fillcolor": "blue",
          "line": {
           "color": "black"
          },
          "opacity": 0.6,
          "type": "rect",
          "x0": 23.999267815441083,
          "x1": 26.984524766285666,
          "y0": 9.007696592022112,
          "y1": 12.005807888888373
         },
         {
          "fillcolor": "blue",
          "line": {
           "color": "black"
          },
          "opacity": 0.6,
          "type": "rect",
          "x0": 23.999267815441083,
          "x1": 26.984524766285666,
          "y0": 12.005807888888373,
          "y1": 15.003919185754635
         },
         {
          "fillcolor": "white",
          "line": {
           "color": "black"
          },
          "opacity": 0.6,
          "type": "rect",
          "x0": 15.043496962907334,
          "x1": 18.028753913751917,
          "y0": 15.003919185754635,
          "y1": 18.002030482620896
         },
         {
          "fillcolor": "blue",
          "line": {
           "color": "black"
          },
          "opacity": 0.6,
          "type": "rect",
          "x0": 15.043496962907334,
          "x1": 16.536125438329627,
          "y0": 18.002030482620896,
          "y1": 19.501086131054024
         },
         {
          "fillcolor": "blue",
          "line": {
           "color": "black"
          },
          "opacity": 0.6,
          "type": "rect",
          "x0": 15.043496962907334,
          "x1": 16.536125438329627,
          "y0": 19.501086131054024,
          "y1": 21.000141779487155
         },
         {
          "fillcolor": "blue",
          "line": {
           "color": "black"
          },
          "opacity": 0.6,
          "type": "rect",
          "x0": 16.536125438329627,
          "x1": 18.028753913751917,
          "y0": 18.002030482620896,
          "y1": 19.501086131054024
         },
         {
          "fillcolor": "blue",
          "line": {
           "color": "black"
          },
          "opacity": 0.6,
          "type": "rect",
          "x0": 16.536125438329627,
          "x1": 18.028753913751917,
          "y0": 19.501086131054024,
          "y1": 21.000141779487155
         },
         {
          "fillcolor": "blue",
          "line": {
           "color": "black"
          },
          "opacity": 0.6,
          "type": "rect",
          "x0": 18.028753913751917,
          "x1": 21.0140108645965,
          "y0": 15.003919185754635,
          "y1": 18.002030482620896
         },
         {
          "fillcolor": "blue",
          "line": {
           "color": "black"
          },
          "opacity": 0.6,
          "type": "rect",
          "x0": 18.028753913751917,
          "x1": 21.0140108645965,
          "y0": 18.002030482620896,
          "y1": 21.000141779487155
         },
         {
          "fillcolor": "blue",
          "line": {
           "color": "black"
          },
          "opacity": 0.6,
          "type": "rect",
          "x0": 15.043496962907334,
          "x1": 16.536125438329627,
          "y0": 21.000141779487155,
          "y1": 22.499197427920286
         },
         {
          "fillcolor": "blue",
          "line": {
           "color": "black"
          },
          "opacity": 0.6,
          "type": "rect",
          "x0": 15.043496962907334,
          "x1": 16.536125438329627,
          "y0": 22.499197427920286,
          "y1": 23.998253076353414
         },
         {
          "fillcolor": "blue",
          "line": {
           "color": "black"
          },
          "opacity": 0.6,
          "type": "rect",
          "x0": 16.536125438329627,
          "x1": 18.028753913751917,
          "y0": 21.000141779487155,
          "y1": 22.499197427920286
         },
         {
          "fillcolor": "blue",
          "line": {
           "color": "black"
          },
          "opacity": 0.6,
          "type": "rect",
          "x0": 16.536125438329627,
          "x1": 18.028753913751917,
          "y0": 22.499197427920286,
          "y1": 23.998253076353414
         },
         {
          "fillcolor": "blue",
          "line": {
           "color": "black"
          },
          "opacity": 0.6,
          "type": "rect",
          "x0": 15.043496962907334,
          "x1": 18.028753913751917,
          "y0": 23.998253076353414,
          "y1": 26.996364373219677
         },
         {
          "fillcolor": "white",
          "line": {
           "color": "black"
          },
          "opacity": 0.6,
          "type": "rect",
          "x0": 18.028753913751917,
          "x1": 21.0140108645965,
          "y0": 21.000141779487155,
          "y1": 23.998253076353414
         },
         {
          "fillcolor": "blue",
          "line": {
           "color": "black"
          },
          "opacity": 0.6,
          "type": "rect",
          "x0": 18.028753913751917,
          "x1": 21.0140108645965,
          "y0": 23.998253076353414,
          "y1": 26.996364373219677
         },
         {
          "fillcolor": "white",
          "line": {
           "color": "black"
          },
          "opacity": 0.6,
          "type": "rect",
          "x0": 21.0140108645965,
          "x1": 23.999267815441083,
          "y0": 15.003919185754635,
          "y1": 18.002030482620896
         },
         {
          "fillcolor": "blue",
          "line": {
           "color": "black"
          },
          "opacity": 0.6,
          "type": "rect",
          "x0": 21.0140108645965,
          "x1": 23.999267815441083,
          "y0": 18.002030482620896,
          "y1": 21.000141779487155
         },
         {
          "fillcolor": "blue",
          "line": {
           "color": "black"
          },
          "opacity": 0.6,
          "type": "rect",
          "x0": 23.999267815441083,
          "x1": 26.984524766285666,
          "y0": 15.003919185754635,
          "y1": 18.002030482620896
         },
         {
          "fillcolor": "blue",
          "line": {
           "color": "black"
          },
          "opacity": 0.6,
          "type": "rect",
          "x0": 23.999267815441083,
          "x1": 26.984524766285666,
          "y0": 18.002030482620896,
          "y1": 21.000141779487155
         },
         {
          "fillcolor": "white",
          "line": {
           "color": "black"
          },
          "opacity": 0.6,
          "type": "rect",
          "x0": 21.0140108645965,
          "x1": 23.999267815441083,
          "y0": 21.000141779487155,
          "y1": 23.998253076353414
         },
         {
          "fillcolor": "blue",
          "line": {
           "color": "black"
          },
          "opacity": 0.6,
          "type": "rect",
          "x0": 21.0140108645965,
          "x1": 23.999267815441083,
          "y0": 23.998253076353414,
          "y1": 26.996364373219677
         },
         {
          "fillcolor": "blue",
          "line": {
           "color": "black"
          },
          "opacity": 0.6,
          "type": "rect",
          "x0": 23.999267815441083,
          "x1": 26.984524766285666,
          "y0": 21.000141779487155,
          "y1": 23.998253076353414
         },
         {
          "fillcolor": "blue",
          "line": {
           "color": "black"
          },
          "opacity": 0.6,
          "type": "rect",
          "x0": 23.999267815441083,
          "x1": 26.984524766285666,
          "y0": 23.998253076353414,
          "y1": 26.996364373219677
         }
        ],
        "showlegend": false,
        "template": {
         "data": {
          "bar": [
           {
            "error_x": {
             "color": "#2a3f5f"
            },
            "error_y": {
             "color": "#2a3f5f"
            },
            "marker": {
             "line": {
              "color": "#E5ECF6",
              "width": 0.5
             },
             "pattern": {
              "fillmode": "overlay",
              "size": 10,
              "solidity": 0.2
             }
            },
            "type": "bar"
           }
          ],
          "barpolar": [
           {
            "marker": {
             "line": {
              "color": "#E5ECF6",
              "width": 0.5
             },
             "pattern": {
              "fillmode": "overlay",
              "size": 10,
              "solidity": 0.2
             }
            },
            "type": "barpolar"
           }
          ],
          "carpet": [
           {
            "aaxis": {
             "endlinecolor": "#2a3f5f",
             "gridcolor": "white",
             "linecolor": "white",
             "minorgridcolor": "white",
             "startlinecolor": "#2a3f5f"
            },
            "baxis": {
             "endlinecolor": "#2a3f5f",
             "gridcolor": "white",
             "linecolor": "white",
             "minorgridcolor": "white",
             "startlinecolor": "#2a3f5f"
            },
            "type": "carpet"
           }
          ],
          "choropleth": [
           {
            "colorbar": {
             "outlinewidth": 0,
             "ticks": ""
            },
            "type": "choropleth"
           }
          ],
          "contour": [
           {
            "colorbar": {
             "outlinewidth": 0,
             "ticks": ""
            },
            "colorscale": [
             [
              0,
              "#0d0887"
             ],
             [
              0.1111111111111111,
              "#46039f"
             ],
             [
              0.2222222222222222,
              "#7201a8"
             ],
             [
              0.3333333333333333,
              "#9c179e"
             ],
             [
              0.4444444444444444,
              "#bd3786"
             ],
             [
              0.5555555555555556,
              "#d8576b"
             ],
             [
              0.6666666666666666,
              "#ed7953"
             ],
             [
              0.7777777777777778,
              "#fb9f3a"
             ],
             [
              0.8888888888888888,
              "#fdca26"
             ],
             [
              1,
              "#f0f921"
             ]
            ],
            "type": "contour"
           }
          ],
          "contourcarpet": [
           {
            "colorbar": {
             "outlinewidth": 0,
             "ticks": ""
            },
            "type": "contourcarpet"
           }
          ],
          "heatmap": [
           {
            "colorbar": {
             "outlinewidth": 0,
             "ticks": ""
            },
            "colorscale": [
             [
              0,
              "#0d0887"
             ],
             [
              0.1111111111111111,
              "#46039f"
             ],
             [
              0.2222222222222222,
              "#7201a8"
             ],
             [
              0.3333333333333333,
              "#9c179e"
             ],
             [
              0.4444444444444444,
              "#bd3786"
             ],
             [
              0.5555555555555556,
              "#d8576b"
             ],
             [
              0.6666666666666666,
              "#ed7953"
             ],
             [
              0.7777777777777778,
              "#fb9f3a"
             ],
             [
              0.8888888888888888,
              "#fdca26"
             ],
             [
              1,
              "#f0f921"
             ]
            ],
            "type": "heatmap"
           }
          ],
          "heatmapgl": [
           {
            "colorbar": {
             "outlinewidth": 0,
             "ticks": ""
            },
            "colorscale": [
             [
              0,
              "#0d0887"
             ],
             [
              0.1111111111111111,
              "#46039f"
             ],
             [
              0.2222222222222222,
              "#7201a8"
             ],
             [
              0.3333333333333333,
              "#9c179e"
             ],
             [
              0.4444444444444444,
              "#bd3786"
             ],
             [
              0.5555555555555556,
              "#d8576b"
             ],
             [
              0.6666666666666666,
              "#ed7953"
             ],
             [
              0.7777777777777778,
              "#fb9f3a"
             ],
             [
              0.8888888888888888,
              "#fdca26"
             ],
             [
              1,
              "#f0f921"
             ]
            ],
            "type": "heatmapgl"
           }
          ],
          "histogram": [
           {
            "marker": {
             "pattern": {
              "fillmode": "overlay",
              "size": 10,
              "solidity": 0.2
             }
            },
            "type": "histogram"
           }
          ],
          "histogram2d": [
           {
            "colorbar": {
             "outlinewidth": 0,
             "ticks": ""
            },
            "colorscale": [
             [
              0,
              "#0d0887"
             ],
             [
              0.1111111111111111,
              "#46039f"
             ],
             [
              0.2222222222222222,
              "#7201a8"
             ],
             [
              0.3333333333333333,
              "#9c179e"
             ],
             [
              0.4444444444444444,
              "#bd3786"
             ],
             [
              0.5555555555555556,
              "#d8576b"
             ],
             [
              0.6666666666666666,
              "#ed7953"
             ],
             [
              0.7777777777777778,
              "#fb9f3a"
             ],
             [
              0.8888888888888888,
              "#fdca26"
             ],
             [
              1,
              "#f0f921"
             ]
            ],
            "type": "histogram2d"
           }
          ],
          "histogram2dcontour": [
           {
            "colorbar": {
             "outlinewidth": 0,
             "ticks": ""
            },
            "colorscale": [
             [
              0,
              "#0d0887"
             ],
             [
              0.1111111111111111,
              "#46039f"
             ],
             [
              0.2222222222222222,
              "#7201a8"
             ],
             [
              0.3333333333333333,
              "#9c179e"
             ],
             [
              0.4444444444444444,
              "#bd3786"
             ],
             [
              0.5555555555555556,
              "#d8576b"
             ],
             [
              0.6666666666666666,
              "#ed7953"
             ],
             [
              0.7777777777777778,
              "#fb9f3a"
             ],
             [
              0.8888888888888888,
              "#fdca26"
             ],
             [
              1,
              "#f0f921"
             ]
            ],
            "type": "histogram2dcontour"
           }
          ],
          "mesh3d": [
           {
            "colorbar": {
             "outlinewidth": 0,
             "ticks": ""
            },
            "type": "mesh3d"
           }
          ],
          "parcoords": [
           {
            "line": {
             "colorbar": {
              "outlinewidth": 0,
              "ticks": ""
             }
            },
            "type": "parcoords"
           }
          ],
          "pie": [
           {
            "automargin": true,
            "type": "pie"
           }
          ],
          "scatter": [
           {
            "fillpattern": {
             "fillmode": "overlay",
             "size": 10,
             "solidity": 0.2
            },
            "type": "scatter"
           }
          ],
          "scatter3d": [
           {
            "line": {
             "colorbar": {
              "outlinewidth": 0,
              "ticks": ""
             }
            },
            "marker": {
             "colorbar": {
              "outlinewidth": 0,
              "ticks": ""
             }
            },
            "type": "scatter3d"
           }
          ],
          "scattercarpet": [
           {
            "marker": {
             "colorbar": {
              "outlinewidth": 0,
              "ticks": ""
             }
            },
            "type": "scattercarpet"
           }
          ],
          "scattergeo": [
           {
            "marker": {
             "colorbar": {
              "outlinewidth": 0,
              "ticks": ""
             }
            },
            "type": "scattergeo"
           }
          ],
          "scattergl": [
           {
            "marker": {
             "colorbar": {
              "outlinewidth": 0,
              "ticks": ""
             }
            },
            "type": "scattergl"
           }
          ],
          "scattermapbox": [
           {
            "marker": {
             "colorbar": {
              "outlinewidth": 0,
              "ticks": ""
             }
            },
            "type": "scattermapbox"
           }
          ],
          "scatterpolar": [
           {
            "marker": {
             "colorbar": {
              "outlinewidth": 0,
              "ticks": ""
             }
            },
            "type": "scatterpolar"
           }
          ],
          "scatterpolargl": [
           {
            "marker": {
             "colorbar": {
              "outlinewidth": 0,
              "ticks": ""
             }
            },
            "type": "scatterpolargl"
           }
          ],
          "scatterternary": [
           {
            "marker": {
             "colorbar": {
              "outlinewidth": 0,
              "ticks": ""
             }
            },
            "type": "scatterternary"
           }
          ],
          "surface": [
           {
            "colorbar": {
             "outlinewidth": 0,
             "ticks": ""
            },
            "colorscale": [
             [
              0,
              "#0d0887"
             ],
             [
              0.1111111111111111,
              "#46039f"
             ],
             [
              0.2222222222222222,
              "#7201a8"
             ],
             [
              0.3333333333333333,
              "#9c179e"
             ],
             [
              0.4444444444444444,
              "#bd3786"
             ],
             [
              0.5555555555555556,
              "#d8576b"
             ],
             [
              0.6666666666666666,
              "#ed7953"
             ],
             [
              0.7777777777777778,
              "#fb9f3a"
             ],
             [
              0.8888888888888888,
              "#fdca26"
             ],
             [
              1,
              "#f0f921"
             ]
            ],
            "type": "surface"
           }
          ],
          "table": [
           {
            "cells": {
             "fill": {
              "color": "#EBF0F8"
             },
             "line": {
              "color": "white"
             }
            },
            "header": {
             "fill": {
              "color": "#C8D4E3"
             },
             "line": {
              "color": "white"
             }
            },
            "type": "table"
           }
          ]
         },
         "layout": {
          "annotationdefaults": {
           "arrowcolor": "#2a3f5f",
           "arrowhead": 0,
           "arrowwidth": 1
          },
          "autotypenumbers": "strict",
          "coloraxis": {
           "colorbar": {
            "outlinewidth": 0,
            "ticks": ""
           }
          },
          "colorscale": {
           "diverging": [
            [
             0,
             "#8e0152"
            ],
            [
             0.1,
             "#c51b7d"
            ],
            [
             0.2,
             "#de77ae"
            ],
            [
             0.3,
             "#f1b6da"
            ],
            [
             0.4,
             "#fde0ef"
            ],
            [
             0.5,
             "#f7f7f7"
            ],
            [
             0.6,
             "#e6f5d0"
            ],
            [
             0.7,
             "#b8e186"
            ],
            [
             0.8,
             "#7fbc41"
            ],
            [
             0.9,
             "#4d9221"
            ],
            [
             1,
             "#276419"
            ]
           ],
           "sequential": [
            [
             0,
             "#0d0887"
            ],
            [
             0.1111111111111111,
             "#46039f"
            ],
            [
             0.2222222222222222,
             "#7201a8"
            ],
            [
             0.3333333333333333,
             "#9c179e"
            ],
            [
             0.4444444444444444,
             "#bd3786"
            ],
            [
             0.5555555555555556,
             "#d8576b"
            ],
            [
             0.6666666666666666,
             "#ed7953"
            ],
            [
             0.7777777777777778,
             "#fb9f3a"
            ],
            [
             0.8888888888888888,
             "#fdca26"
            ],
            [
             1,
             "#f0f921"
            ]
           ],
           "sequentialminus": [
            [
             0,
             "#0d0887"
            ],
            [
             0.1111111111111111,
             "#46039f"
            ],
            [
             0.2222222222222222,
             "#7201a8"
            ],
            [
             0.3333333333333333,
             "#9c179e"
            ],
            [
             0.4444444444444444,
             "#bd3786"
            ],
            [
             0.5555555555555556,
             "#d8576b"
            ],
            [
             0.6666666666666666,
             "#ed7953"
            ],
            [
             0.7777777777777778,
             "#fb9f3a"
            ],
            [
             0.8888888888888888,
             "#fdca26"
            ],
            [
             1,
             "#f0f921"
            ]
           ]
          },
          "colorway": [
           "#636efa",
           "#EF553B",
           "#00cc96",
           "#ab63fa",
           "#FFA15A",
           "#19d3f3",
           "#FF6692",
           "#B6E880",
           "#FF97FF",
           "#FECB52"
          ],
          "font": {
           "color": "#2a3f5f"
          },
          "geo": {
           "bgcolor": "white",
           "lakecolor": "white",
           "landcolor": "#E5ECF6",
           "showlakes": true,
           "showland": true,
           "subunitcolor": "white"
          },
          "hoverlabel": {
           "align": "left"
          },
          "hovermode": "closest",
          "mapbox": {
           "style": "light"
          },
          "paper_bgcolor": "white",
          "plot_bgcolor": "#E5ECF6",
          "polar": {
           "angularaxis": {
            "gridcolor": "white",
            "linecolor": "white",
            "ticks": ""
           },
           "bgcolor": "#E5ECF6",
           "radialaxis": {
            "gridcolor": "white",
            "linecolor": "white",
            "ticks": ""
           }
          },
          "scene": {
           "xaxis": {
            "backgroundcolor": "#E5ECF6",
            "gridcolor": "white",
            "gridwidth": 2,
            "linecolor": "white",
            "showbackground": true,
            "ticks": "",
            "zerolinecolor": "white"
           },
           "yaxis": {
            "backgroundcolor": "#E5ECF6",
            "gridcolor": "white",
            "gridwidth": 2,
            "linecolor": "white",
            "showbackground": true,
            "ticks": "",
            "zerolinecolor": "white"
           },
           "zaxis": {
            "backgroundcolor": "#E5ECF6",
            "gridcolor": "white",
            "gridwidth": 2,
            "linecolor": "white",
            "showbackground": true,
            "ticks": "",
            "zerolinecolor": "white"
           }
          },
          "shapedefaults": {
           "line": {
            "color": "#2a3f5f"
           }
          },
          "ternary": {
           "aaxis": {
            "gridcolor": "white",
            "linecolor": "white",
            "ticks": ""
           },
           "baxis": {
            "gridcolor": "white",
            "linecolor": "white",
            "ticks": ""
           },
           "bgcolor": "#E5ECF6",
           "caxis": {
            "gridcolor": "white",
            "linecolor": "white",
            "ticks": ""
           }
          },
          "title": {
           "x": 0.05
          },
          "xaxis": {
           "automargin": true,
           "gridcolor": "white",
           "linecolor": "white",
           "ticks": "",
           "title": {
            "standoff": 15
           },
           "zerolinecolor": "white",
           "zerolinewidth": 2
          },
          "yaxis": {
           "automargin": true,
           "gridcolor": "white",
           "linecolor": "white",
           "ticks": "",
           "title": {
            "standoff": 15
           },
           "zerolinecolor": "white",
           "zerolinewidth": 2
          }
         }
        },
        "title": {
         "text": "Adaptive 2D Histogram with Color Coding and Count Annotations"
        },
        "xaxis": {
         "range": [
          5.092640460092057,
          24.99435346572261
         ],
         "title": {
          "text": "X-axis"
         }
        },
        "yaxis": {
         "range": [
          5.010214862867097,
          24.99762350864217
         ],
         "title": {
          "text": "Y-axis"
         }
        }
       }
      },
      "text/html": [
       "<div>                            <div id=\"0b238f03-f022-495c-b7f6-571e62d48a19\" class=\"plotly-graph-div\" style=\"height:525px; width:100%;\"></div>            <script type=\"text/javascript\">                require([\"plotly\"], function(Plotly) {                    window.PLOTLYENV=window.PLOTLYENV || {};                                    if (document.getElementById(\"0b238f03-f022-495c-b7f6-571e62d48a19\")) {                    Plotly.newPlot(                        \"0b238f03-f022-495c-b7f6-571e62d48a19\",                        [],                        {\"template\":{\"data\":{\"histogram2dcontour\":[{\"type\":\"histogram2dcontour\",\"colorbar\":{\"outlinewidth\":0,\"ticks\":\"\"},\"colorscale\":[[0.0,\"#0d0887\"],[0.1111111111111111,\"#46039f\"],[0.2222222222222222,\"#7201a8\"],[0.3333333333333333,\"#9c179e\"],[0.4444444444444444,\"#bd3786\"],[0.5555555555555556,\"#d8576b\"],[0.6666666666666666,\"#ed7953\"],[0.7777777777777778,\"#fb9f3a\"],[0.8888888888888888,\"#fdca26\"],[1.0,\"#f0f921\"]]}],\"choropleth\":[{\"type\":\"choropleth\",\"colorbar\":{\"outlinewidth\":0,\"ticks\":\"\"}}],\"histogram2d\":[{\"type\":\"histogram2d\",\"colorbar\":{\"outlinewidth\":0,\"ticks\":\"\"},\"colorscale\":[[0.0,\"#0d0887\"],[0.1111111111111111,\"#46039f\"],[0.2222222222222222,\"#7201a8\"],[0.3333333333333333,\"#9c179e\"],[0.4444444444444444,\"#bd3786\"],[0.5555555555555556,\"#d8576b\"],[0.6666666666666666,\"#ed7953\"],[0.7777777777777778,\"#fb9f3a\"],[0.8888888888888888,\"#fdca26\"],[1.0,\"#f0f921\"]]}],\"heatmap\":[{\"type\":\"heatmap\",\"colorbar\":{\"outlinewidth\":0,\"ticks\":\"\"},\"colorscale\":[[0.0,\"#0d0887\"],[0.1111111111111111,\"#46039f\"],[0.2222222222222222,\"#7201a8\"],[0.3333333333333333,\"#9c179e\"],[0.4444444444444444,\"#bd3786\"],[0.5555555555555556,\"#d8576b\"],[0.6666666666666666,\"#ed7953\"],[0.7777777777777778,\"#fb9f3a\"],[0.8888888888888888,\"#fdca26\"],[1.0,\"#f0f921\"]]}],\"heatmapgl\":[{\"type\":\"heatmapgl\",\"colorbar\":{\"outlinewidth\":0,\"ticks\":\"\"},\"colorscale\":[[0.0,\"#0d0887\"],[0.1111111111111111,\"#46039f\"],[0.2222222222222222,\"#7201a8\"],[0.3333333333333333,\"#9c179e\"],[0.4444444444444444,\"#bd3786\"],[0.5555555555555556,\"#d8576b\"],[0.6666666666666666,\"#ed7953\"],[0.7777777777777778,\"#fb9f3a\"],[0.8888888888888888,\"#fdca26\"],[1.0,\"#f0f921\"]]}],\"contourcarpet\":[{\"type\":\"contourcarpet\",\"colorbar\":{\"outlinewidth\":0,\"ticks\":\"\"}}],\"contour\":[{\"type\":\"contour\",\"colorbar\":{\"outlinewidth\":0,\"ticks\":\"\"},\"colorscale\":[[0.0,\"#0d0887\"],[0.1111111111111111,\"#46039f\"],[0.2222222222222222,\"#7201a8\"],[0.3333333333333333,\"#9c179e\"],[0.4444444444444444,\"#bd3786\"],[0.5555555555555556,\"#d8576b\"],[0.6666666666666666,\"#ed7953\"],[0.7777777777777778,\"#fb9f3a\"],[0.8888888888888888,\"#fdca26\"],[1.0,\"#f0f921\"]]}],\"surface\":[{\"type\":\"surface\",\"colorbar\":{\"outlinewidth\":0,\"ticks\":\"\"},\"colorscale\":[[0.0,\"#0d0887\"],[0.1111111111111111,\"#46039f\"],[0.2222222222222222,\"#7201a8\"],[0.3333333333333333,\"#9c179e\"],[0.4444444444444444,\"#bd3786\"],[0.5555555555555556,\"#d8576b\"],[0.6666666666666666,\"#ed7953\"],[0.7777777777777778,\"#fb9f3a\"],[0.8888888888888888,\"#fdca26\"],[1.0,\"#f0f921\"]]}],\"mesh3d\":[{\"type\":\"mesh3d\",\"colorbar\":{\"outlinewidth\":0,\"ticks\":\"\"}}],\"scatter\":[{\"fillpattern\":{\"fillmode\":\"overlay\",\"size\":10,\"solidity\":0.2},\"type\":\"scatter\"}],\"parcoords\":[{\"type\":\"parcoords\",\"line\":{\"colorbar\":{\"outlinewidth\":0,\"ticks\":\"\"}}}],\"scatterpolargl\":[{\"type\":\"scatterpolargl\",\"marker\":{\"colorbar\":{\"outlinewidth\":0,\"ticks\":\"\"}}}],\"bar\":[{\"error_x\":{\"color\":\"#2a3f5f\"},\"error_y\":{\"color\":\"#2a3f5f\"},\"marker\":{\"line\":{\"color\":\"#E5ECF6\",\"width\":0.5},\"pattern\":{\"fillmode\":\"overlay\",\"size\":10,\"solidity\":0.2}},\"type\":\"bar\"}],\"scattergeo\":[{\"type\":\"scattergeo\",\"marker\":{\"colorbar\":{\"outlinewidth\":0,\"ticks\":\"\"}}}],\"scatterpolar\":[{\"type\":\"scatterpolar\",\"marker\":{\"colorbar\":{\"outlinewidth\":0,\"ticks\":\"\"}}}],\"histogram\":[{\"marker\":{\"pattern\":{\"fillmode\":\"overlay\",\"size\":10,\"solidity\":0.2}},\"type\":\"histogram\"}],\"scattergl\":[{\"type\":\"scattergl\",\"marker\":{\"colorbar\":{\"outlinewidth\":0,\"ticks\":\"\"}}}],\"scatter3d\":[{\"type\":\"scatter3d\",\"line\":{\"colorbar\":{\"outlinewidth\":0,\"ticks\":\"\"}},\"marker\":{\"colorbar\":{\"outlinewidth\":0,\"ticks\":\"\"}}}],\"scattermapbox\":[{\"type\":\"scattermapbox\",\"marker\":{\"colorbar\":{\"outlinewidth\":0,\"ticks\":\"\"}}}],\"scatterternary\":[{\"type\":\"scatterternary\",\"marker\":{\"colorbar\":{\"outlinewidth\":0,\"ticks\":\"\"}}}],\"scattercarpet\":[{\"type\":\"scattercarpet\",\"marker\":{\"colorbar\":{\"outlinewidth\":0,\"ticks\":\"\"}}}],\"carpet\":[{\"aaxis\":{\"endlinecolor\":\"#2a3f5f\",\"gridcolor\":\"white\",\"linecolor\":\"white\",\"minorgridcolor\":\"white\",\"startlinecolor\":\"#2a3f5f\"},\"baxis\":{\"endlinecolor\":\"#2a3f5f\",\"gridcolor\":\"white\",\"linecolor\":\"white\",\"minorgridcolor\":\"white\",\"startlinecolor\":\"#2a3f5f\"},\"type\":\"carpet\"}],\"table\":[{\"cells\":{\"fill\":{\"color\":\"#EBF0F8\"},\"line\":{\"color\":\"white\"}},\"header\":{\"fill\":{\"color\":\"#C8D4E3\"},\"line\":{\"color\":\"white\"}},\"type\":\"table\"}],\"barpolar\":[{\"marker\":{\"line\":{\"color\":\"#E5ECF6\",\"width\":0.5},\"pattern\":{\"fillmode\":\"overlay\",\"size\":10,\"solidity\":0.2}},\"type\":\"barpolar\"}],\"pie\":[{\"automargin\":true,\"type\":\"pie\"}]},\"layout\":{\"autotypenumbers\":\"strict\",\"colorway\":[\"#636efa\",\"#EF553B\",\"#00cc96\",\"#ab63fa\",\"#FFA15A\",\"#19d3f3\",\"#FF6692\",\"#B6E880\",\"#FF97FF\",\"#FECB52\"],\"font\":{\"color\":\"#2a3f5f\"},\"hovermode\":\"closest\",\"hoverlabel\":{\"align\":\"left\"},\"paper_bgcolor\":\"white\",\"plot_bgcolor\":\"#E5ECF6\",\"polar\":{\"bgcolor\":\"#E5ECF6\",\"angularaxis\":{\"gridcolor\":\"white\",\"linecolor\":\"white\",\"ticks\":\"\"},\"radialaxis\":{\"gridcolor\":\"white\",\"linecolor\":\"white\",\"ticks\":\"\"}},\"ternary\":{\"bgcolor\":\"#E5ECF6\",\"aaxis\":{\"gridcolor\":\"white\",\"linecolor\":\"white\",\"ticks\":\"\"},\"baxis\":{\"gridcolor\":\"white\",\"linecolor\":\"white\",\"ticks\":\"\"},\"caxis\":{\"gridcolor\":\"white\",\"linecolor\":\"white\",\"ticks\":\"\"}},\"coloraxis\":{\"colorbar\":{\"outlinewidth\":0,\"ticks\":\"\"}},\"colorscale\":{\"sequential\":[[0.0,\"#0d0887\"],[0.1111111111111111,\"#46039f\"],[0.2222222222222222,\"#7201a8\"],[0.3333333333333333,\"#9c179e\"],[0.4444444444444444,\"#bd3786\"],[0.5555555555555556,\"#d8576b\"],[0.6666666666666666,\"#ed7953\"],[0.7777777777777778,\"#fb9f3a\"],[0.8888888888888888,\"#fdca26\"],[1.0,\"#f0f921\"]],\"sequentialminus\":[[0.0,\"#0d0887\"],[0.1111111111111111,\"#46039f\"],[0.2222222222222222,\"#7201a8\"],[0.3333333333333333,\"#9c179e\"],[0.4444444444444444,\"#bd3786\"],[0.5555555555555556,\"#d8576b\"],[0.6666666666666666,\"#ed7953\"],[0.7777777777777778,\"#fb9f3a\"],[0.8888888888888888,\"#fdca26\"],[1.0,\"#f0f921\"]],\"diverging\":[[0,\"#8e0152\"],[0.1,\"#c51b7d\"],[0.2,\"#de77ae\"],[0.3,\"#f1b6da\"],[0.4,\"#fde0ef\"],[0.5,\"#f7f7f7\"],[0.6,\"#e6f5d0\"],[0.7,\"#b8e186\"],[0.8,\"#7fbc41\"],[0.9,\"#4d9221\"],[1,\"#276419\"]]},\"xaxis\":{\"gridcolor\":\"white\",\"linecolor\":\"white\",\"ticks\":\"\",\"title\":{\"standoff\":15},\"zerolinecolor\":\"white\",\"automargin\":true,\"zerolinewidth\":2},\"yaxis\":{\"gridcolor\":\"white\",\"linecolor\":\"white\",\"ticks\":\"\",\"title\":{\"standoff\":15},\"zerolinecolor\":\"white\",\"automargin\":true,\"zerolinewidth\":2},\"scene\":{\"xaxis\":{\"backgroundcolor\":\"#E5ECF6\",\"gridcolor\":\"white\",\"linecolor\":\"white\",\"showbackground\":true,\"ticks\":\"\",\"zerolinecolor\":\"white\",\"gridwidth\":2},\"yaxis\":{\"backgroundcolor\":\"#E5ECF6\",\"gridcolor\":\"white\",\"linecolor\":\"white\",\"showbackground\":true,\"ticks\":\"\",\"zerolinecolor\":\"white\",\"gridwidth\":2},\"zaxis\":{\"backgroundcolor\":\"#E5ECF6\",\"gridcolor\":\"white\",\"linecolor\":\"white\",\"showbackground\":true,\"ticks\":\"\",\"zerolinecolor\":\"white\",\"gridwidth\":2}},\"shapedefaults\":{\"line\":{\"color\":\"#2a3f5f\"}},\"annotationdefaults\":{\"arrowcolor\":\"#2a3f5f\",\"arrowhead\":0,\"arrowwidth\":1},\"geo\":{\"bgcolor\":\"white\",\"landcolor\":\"#E5ECF6\",\"subunitcolor\":\"white\",\"showland\":true,\"showlakes\":true,\"lakecolor\":\"white\"},\"title\":{\"x\":0.05},\"mapbox\":{\"style\":\"light\"}}},\"shapes\":[{\"fillcolor\":\"blue\",\"line\":{\"color\":\"black\"},\"opacity\":0.6,\"type\":\"rect\",\"x0\":3.1024691595290017,\"x1\":6.087726110373584,\"y0\":3.01147399828959,\"y1\":6.009585295155851},{\"fillcolor\":\"blue\",\"line\":{\"color\":\"black\"},\"opacity\":0.6,\"type\":\"rect\",\"x0\":3.1024691595290017,\"x1\":6.087726110373584,\"y0\":6.009585295155851,\"y1\":9.007696592022112},{\"fillcolor\":\"blue\",\"line\":{\"color\":\"black\"},\"opacity\":0.6,\"type\":\"rect\",\"x0\":6.087726110373584,\"x1\":9.072983061218167,\"y0\":3.01147399828959,\"y1\":6.009585295155851},{\"fillcolor\":\"white\",\"line\":{\"color\":\"black\"},\"opacity\":0.6,\"type\":\"rect\",\"x0\":6.087726110373584,\"x1\":9.072983061218167,\"y0\":6.009585295155851,\"y1\":9.007696592022112},{\"fillcolor\":\"blue\",\"line\":{\"color\":\"black\"},\"opacity\":0.6,\"type\":\"rect\",\"x0\":3.1024691595290017,\"x1\":6.087726110373584,\"y0\":9.007696592022112,\"y1\":12.005807888888373},{\"fillcolor\":\"blue\",\"line\":{\"color\":\"black\"},\"opacity\":0.6,\"type\":\"rect\",\"x0\":3.1024691595290017,\"x1\":6.087726110373584,\"y0\":12.005807888888373,\"y1\":15.003919185754635},{\"fillcolor\":\"white\",\"line\":{\"color\":\"black\"},\"opacity\":0.6,\"type\":\"rect\",\"x0\":6.087726110373584,\"x1\":9.072983061218167,\"y0\":9.007696592022112,\"y1\":12.005807888888373},{\"fillcolor\":\"white\",\"line\":{\"color\":\"black\"},\"opacity\":0.6,\"type\":\"rect\",\"x0\":6.087726110373584,\"x1\":9.072983061218167,\"y0\":12.005807888888373,\"y1\":15.003919185754635},{\"fillcolor\":\"blue\",\"line\":{\"color\":\"black\"},\"opacity\":0.6,\"type\":\"rect\",\"x0\":9.072983061218167,\"x1\":12.05824001206275,\"y0\":3.01147399828959,\"y1\":6.009585295155851},{\"fillcolor\":\"white\",\"line\":{\"color\":\"black\"},\"opacity\":0.6,\"type\":\"rect\",\"x0\":9.072983061218167,\"x1\":12.05824001206275,\"y0\":6.009585295155851,\"y1\":9.007696592022112},{\"fillcolor\":\"blue\",\"line\":{\"color\":\"black\"},\"opacity\":0.6,\"type\":\"rect\",\"x0\":12.05824001206275,\"x1\":15.043496962907334,\"y0\":3.01147399828959,\"y1\":6.009585295155851},{\"fillcolor\":\"blue\",\"line\":{\"color\":\"black\"},\"opacity\":0.6,\"type\":\"rect\",\"x0\":12.05824001206275,\"x1\":15.043496962907334,\"y0\":6.009585295155851,\"y1\":9.007696592022112},{\"fillcolor\":\"white\",\"line\":{\"color\":\"black\"},\"opacity\":0.6,\"type\":\"rect\",\"x0\":9.072983061218167,\"x1\":12.05824001206275,\"y0\":9.007696592022112,\"y1\":12.005807888888373},{\"fillcolor\":\"white\",\"line\":{\"color\":\"black\"},\"opacity\":0.6,\"type\":\"rect\",\"x0\":9.072983061218167,\"x1\":12.05824001206275,\"y0\":12.005807888888373,\"y1\":15.003919185754635},{\"fillcolor\":\"blue\",\"line\":{\"color\":\"black\"},\"opacity\":0.6,\"type\":\"rect\",\"x0\":12.05824001206275,\"x1\":15.043496962907334,\"y0\":9.007696592022112,\"y1\":12.005807888888373},{\"fillcolor\":\"white\",\"line\":{\"color\":\"black\"},\"opacity\":0.6,\"type\":\"rect\",\"x0\":12.05824001206275,\"x1\":15.043496962907334,\"y0\":12.005807888888373,\"y1\":15.003919185754635},{\"fillcolor\":\"blue\",\"line\":{\"color\":\"black\"},\"opacity\":0.6,\"type\":\"rect\",\"x0\":3.1024691595290017,\"x1\":6.087726110373584,\"y0\":15.003919185754635,\"y1\":18.002030482620896},{\"fillcolor\":\"blue\",\"line\":{\"color\":\"black\"},\"opacity\":0.6,\"type\":\"rect\",\"x0\":3.1024691595290017,\"x1\":6.087726110373584,\"y0\":18.002030482620896,\"y1\":21.000141779487155},{\"fillcolor\":\"white\",\"line\":{\"color\":\"black\"},\"opacity\":0.6,\"type\":\"rect\",\"x0\":6.087726110373584,\"x1\":9.072983061218167,\"y0\":15.003919185754635,\"y1\":18.002030482620896},{\"fillcolor\":\"white\",\"line\":{\"color\":\"black\"},\"opacity\":0.6,\"type\":\"rect\",\"x0\":6.087726110373584,\"x1\":9.072983061218167,\"y0\":18.002030482620896,\"y1\":21.000141779487155},{\"fillcolor\":\"blue\",\"line\":{\"color\":\"black\"},\"opacity\":0.6,\"type\":\"rect\",\"x0\":3.1024691595290017,\"x1\":6.087726110373584,\"y0\":21.000141779487155,\"y1\":23.998253076353414},{\"fillcolor\":\"blue\",\"line\":{\"color\":\"black\"},\"opacity\":0.6,\"type\":\"rect\",\"x0\":3.1024691595290017,\"x1\":6.087726110373584,\"y0\":23.998253076353414,\"y1\":26.996364373219677},{\"fillcolor\":\"white\",\"line\":{\"color\":\"black\"},\"opacity\":0.6,\"type\":\"rect\",\"x0\":6.087726110373584,\"x1\":9.072983061218167,\"y0\":21.000141779487155,\"y1\":23.998253076353414},{\"fillcolor\":\"blue\",\"line\":{\"color\":\"black\"},\"opacity\":0.6,\"type\":\"rect\",\"x0\":6.087726110373584,\"x1\":9.072983061218167,\"y0\":23.998253076353414,\"y1\":26.996364373219677},{\"fillcolor\":\"blue\",\"line\":{\"color\":\"black\"},\"opacity\":0.6,\"type\":\"rect\",\"x0\":9.072983061218167,\"x1\":12.05824001206275,\"y0\":15.003919185754635,\"y1\":18.002030482620896},{\"fillcolor\":\"white\",\"line\":{\"color\":\"black\"},\"opacity\":0.6,\"type\":\"rect\",\"x0\":9.072983061218167,\"x1\":12.05824001206275,\"y0\":18.002030482620896,\"y1\":21.000141779487155},{\"fillcolor\":\"blue\",\"line\":{\"color\":\"black\"},\"opacity\":0.6,\"type\":\"rect\",\"x0\":12.05824001206275,\"x1\":15.043496962907334,\"y0\":15.003919185754635,\"y1\":18.002030482620896},{\"fillcolor\":\"blue\",\"line\":{\"color\":\"black\"},\"opacity\":0.6,\"type\":\"rect\",\"x0\":12.05824001206275,\"x1\":15.043496962907334,\"y0\":18.002030482620896,\"y1\":21.000141779487155},{\"fillcolor\":\"blue\",\"line\":{\"color\":\"black\"},\"opacity\":0.6,\"type\":\"rect\",\"x0\":9.072983061218167,\"x1\":12.05824001206275,\"y0\":21.000141779487155,\"y1\":23.998253076353414},{\"fillcolor\":\"blue\",\"line\":{\"color\":\"black\"},\"opacity\":0.6,\"type\":\"rect\",\"x0\":9.072983061218167,\"x1\":12.05824001206275,\"y0\":23.998253076353414,\"y1\":26.996364373219677},{\"fillcolor\":\"white\",\"line\":{\"color\":\"black\"},\"opacity\":0.6,\"type\":\"rect\",\"x0\":12.05824001206275,\"x1\":15.043496962907334,\"y0\":21.000141779487155,\"y1\":23.998253076353414},{\"fillcolor\":\"blue\",\"line\":{\"color\":\"black\"},\"opacity\":0.6,\"type\":\"rect\",\"x0\":12.05824001206275,\"x1\":15.043496962907334,\"y0\":23.998253076353414,\"y1\":26.996364373219677},{\"fillcolor\":\"blue\",\"line\":{\"color\":\"black\"},\"opacity\":0.6,\"type\":\"rect\",\"x0\":15.043496962907334,\"x1\":18.028753913751917,\"y0\":3.01147399828959,\"y1\":6.009585295155851},{\"fillcolor\":\"blue\",\"line\":{\"color\":\"black\"},\"opacity\":0.6,\"type\":\"rect\",\"x0\":15.043496962907334,\"x1\":18.028753913751917,\"y0\":6.009585295155851,\"y1\":9.007696592022112},{\"fillcolor\":\"blue\",\"line\":{\"color\":\"black\"},\"opacity\":0.6,\"type\":\"rect\",\"x0\":18.028753913751917,\"x1\":21.0140108645965,\"y0\":3.01147399828959,\"y1\":6.009585295155851},{\"fillcolor\":\"white\",\"line\":{\"color\":\"black\"},\"opacity\":0.6,\"type\":\"rect\",\"x0\":18.028753913751917,\"x1\":21.0140108645965,\"y0\":6.009585295155851,\"y1\":9.007696592022112},{\"fillcolor\":\"white\",\"line\":{\"color\":\"black\"},\"opacity\":0.6,\"type\":\"rect\",\"x0\":15.043496962907334,\"x1\":18.028753913751917,\"y0\":9.007696592022112,\"y1\":12.005807888888373},{\"fillcolor\":\"white\",\"line\":{\"color\":\"black\"},\"opacity\":0.6,\"type\":\"rect\",\"x0\":15.043496962907334,\"x1\":18.028753913751917,\"y0\":12.005807888888373,\"y1\":15.003919185754635},{\"fillcolor\":\"blue\",\"line\":{\"color\":\"black\"},\"opacity\":0.6,\"type\":\"rect\",\"x0\":18.028753913751917,\"x1\":21.0140108645965,\"y0\":9.007696592022112,\"y1\":12.005807888888373},{\"fillcolor\":\"blue\",\"line\":{\"color\":\"black\"},\"opacity\":0.6,\"type\":\"rect\",\"x0\":18.028753913751917,\"x1\":21.0140108645965,\"y0\":12.005807888888373,\"y1\":15.003919185754635},{\"fillcolor\":\"white\",\"line\":{\"color\":\"black\"},\"opacity\":0.6,\"type\":\"rect\",\"x0\":21.0140108645965,\"x1\":26.984524766285666,\"y0\":3.01147399828959,\"y1\":9.007696592022112},{\"fillcolor\":\"blue\",\"line\":{\"color\":\"black\"},\"opacity\":0.6,\"type\":\"rect\",\"x0\":21.0140108645965,\"x1\":22.506639340018793,\"y0\":9.007696592022112,\"y1\":10.506752240455242},{\"fillcolor\":\"blue\",\"line\":{\"color\":\"black\"},\"opacity\":0.6,\"type\":\"rect\",\"x0\":21.0140108645965,\"x1\":22.506639340018793,\"y0\":10.506752240455242,\"y1\":12.005807888888373},{\"fillcolor\":\"blue\",\"line\":{\"color\":\"black\"},\"opacity\":0.6,\"type\":\"rect\",\"x0\":22.506639340018793,\"x1\":23.999267815441083,\"y0\":9.007696592022112,\"y1\":10.506752240455242},{\"fillcolor\":\"blue\",\"line\":{\"color\":\"black\"},\"opacity\":0.6,\"type\":\"rect\",\"x0\":22.506639340018793,\"x1\":23.999267815441083,\"y0\":10.506752240455242,\"y1\":12.005807888888373},{\"fillcolor\":\"white\",\"line\":{\"color\":\"black\"},\"opacity\":0.6,\"type\":\"rect\",\"x0\":21.0140108645965,\"x1\":23.999267815441083,\"y0\":12.005807888888373,\"y1\":15.003919185754635},{\"fillcolor\":\"blue\",\"line\":{\"color\":\"black\"},\"opacity\":0.6,\"type\":\"rect\",\"x0\":23.999267815441083,\"x1\":26.984524766285666,\"y0\":9.007696592022112,\"y1\":12.005807888888373},{\"fillcolor\":\"blue\",\"line\":{\"color\":\"black\"},\"opacity\":0.6,\"type\":\"rect\",\"x0\":23.999267815441083,\"x1\":26.984524766285666,\"y0\":12.005807888888373,\"y1\":15.003919185754635},{\"fillcolor\":\"white\",\"line\":{\"color\":\"black\"},\"opacity\":0.6,\"type\":\"rect\",\"x0\":15.043496962907334,\"x1\":18.028753913751917,\"y0\":15.003919185754635,\"y1\":18.002030482620896},{\"fillcolor\":\"blue\",\"line\":{\"color\":\"black\"},\"opacity\":0.6,\"type\":\"rect\",\"x0\":15.043496962907334,\"x1\":16.536125438329627,\"y0\":18.002030482620896,\"y1\":19.501086131054024},{\"fillcolor\":\"blue\",\"line\":{\"color\":\"black\"},\"opacity\":0.6,\"type\":\"rect\",\"x0\":15.043496962907334,\"x1\":16.536125438329627,\"y0\":19.501086131054024,\"y1\":21.000141779487155},{\"fillcolor\":\"blue\",\"line\":{\"color\":\"black\"},\"opacity\":0.6,\"type\":\"rect\",\"x0\":16.536125438329627,\"x1\":18.028753913751917,\"y0\":18.002030482620896,\"y1\":19.501086131054024},{\"fillcolor\":\"blue\",\"line\":{\"color\":\"black\"},\"opacity\":0.6,\"type\":\"rect\",\"x0\":16.536125438329627,\"x1\":18.028753913751917,\"y0\":19.501086131054024,\"y1\":21.000141779487155},{\"fillcolor\":\"blue\",\"line\":{\"color\":\"black\"},\"opacity\":0.6,\"type\":\"rect\",\"x0\":18.028753913751917,\"x1\":21.0140108645965,\"y0\":15.003919185754635,\"y1\":18.002030482620896},{\"fillcolor\":\"blue\",\"line\":{\"color\":\"black\"},\"opacity\":0.6,\"type\":\"rect\",\"x0\":18.028753913751917,\"x1\":21.0140108645965,\"y0\":18.002030482620896,\"y1\":21.000141779487155},{\"fillcolor\":\"blue\",\"line\":{\"color\":\"black\"},\"opacity\":0.6,\"type\":\"rect\",\"x0\":15.043496962907334,\"x1\":16.536125438329627,\"y0\":21.000141779487155,\"y1\":22.499197427920286},{\"fillcolor\":\"blue\",\"line\":{\"color\":\"black\"},\"opacity\":0.6,\"type\":\"rect\",\"x0\":15.043496962907334,\"x1\":16.536125438329627,\"y0\":22.499197427920286,\"y1\":23.998253076353414},{\"fillcolor\":\"blue\",\"line\":{\"color\":\"black\"},\"opacity\":0.6,\"type\":\"rect\",\"x0\":16.536125438329627,\"x1\":18.028753913751917,\"y0\":21.000141779487155,\"y1\":22.499197427920286},{\"fillcolor\":\"blue\",\"line\":{\"color\":\"black\"},\"opacity\":0.6,\"type\":\"rect\",\"x0\":16.536125438329627,\"x1\":18.028753913751917,\"y0\":22.499197427920286,\"y1\":23.998253076353414},{\"fillcolor\":\"blue\",\"line\":{\"color\":\"black\"},\"opacity\":0.6,\"type\":\"rect\",\"x0\":15.043496962907334,\"x1\":18.028753913751917,\"y0\":23.998253076353414,\"y1\":26.996364373219677},{\"fillcolor\":\"white\",\"line\":{\"color\":\"black\"},\"opacity\":0.6,\"type\":\"rect\",\"x0\":18.028753913751917,\"x1\":21.0140108645965,\"y0\":21.000141779487155,\"y1\":23.998253076353414},{\"fillcolor\":\"blue\",\"line\":{\"color\":\"black\"},\"opacity\":0.6,\"type\":\"rect\",\"x0\":18.028753913751917,\"x1\":21.0140108645965,\"y0\":23.998253076353414,\"y1\":26.996364373219677},{\"fillcolor\":\"white\",\"line\":{\"color\":\"black\"},\"opacity\":0.6,\"type\":\"rect\",\"x0\":21.0140108645965,\"x1\":23.999267815441083,\"y0\":15.003919185754635,\"y1\":18.002030482620896},{\"fillcolor\":\"blue\",\"line\":{\"color\":\"black\"},\"opacity\":0.6,\"type\":\"rect\",\"x0\":21.0140108645965,\"x1\":23.999267815441083,\"y0\":18.002030482620896,\"y1\":21.000141779487155},{\"fillcolor\":\"blue\",\"line\":{\"color\":\"black\"},\"opacity\":0.6,\"type\":\"rect\",\"x0\":23.999267815441083,\"x1\":26.984524766285666,\"y0\":15.003919185754635,\"y1\":18.002030482620896},{\"fillcolor\":\"blue\",\"line\":{\"color\":\"black\"},\"opacity\":0.6,\"type\":\"rect\",\"x0\":23.999267815441083,\"x1\":26.984524766285666,\"y0\":18.002030482620896,\"y1\":21.000141779487155},{\"fillcolor\":\"white\",\"line\":{\"color\":\"black\"},\"opacity\":0.6,\"type\":\"rect\",\"x0\":21.0140108645965,\"x1\":23.999267815441083,\"y0\":21.000141779487155,\"y1\":23.998253076353414},{\"fillcolor\":\"blue\",\"line\":{\"color\":\"black\"},\"opacity\":0.6,\"type\":\"rect\",\"x0\":21.0140108645965,\"x1\":23.999267815441083,\"y0\":23.998253076353414,\"y1\":26.996364373219677},{\"fillcolor\":\"blue\",\"line\":{\"color\":\"black\"},\"opacity\":0.6,\"type\":\"rect\",\"x0\":23.999267815441083,\"x1\":26.984524766285666,\"y0\":21.000141779487155,\"y1\":23.998253076353414},{\"fillcolor\":\"blue\",\"line\":{\"color\":\"black\"},\"opacity\":0.6,\"type\":\"rect\",\"x0\":23.999267815441083,\"x1\":26.984524766285666,\"y0\":23.998253076353414,\"y1\":26.996364373219677}],\"annotations\":[{\"font\":{\"color\":\"black\",\"size\":10},\"showarrow\":false,\"text\":\"1\",\"x\":4.595097634951292,\"y\":4.510529646722721},{\"font\":{\"color\":\"black\",\"size\":10},\"showarrow\":false,\"text\":\"7\",\"x\":4.595097634951292,\"y\":7.508640943588982},{\"font\":{\"color\":\"black\",\"size\":10},\"showarrow\":false,\"text\":\"4\",\"x\":7.580354585795876,\"y\":4.510529646722721},{\"font\":{\"color\":\"black\",\"size\":10},\"showarrow\":false,\"text\":\"26\",\"x\":7.580354585795876,\"y\":7.508640943588982},{\"font\":{\"color\":\"black\",\"size\":10},\"showarrow\":false,\"text\":\"9\",\"x\":4.595097634951292,\"y\":10.506752240455242},{\"font\":{\"color\":\"black\",\"size\":10},\"showarrow\":false,\"text\":\"10\",\"x\":4.595097634951292,\"y\":13.504863537321505},{\"font\":{\"color\":\"black\",\"size\":10},\"showarrow\":false,\"text\":\"22\",\"x\":7.580354585795876,\"y\":10.506752240455242},{\"font\":{\"color\":\"black\",\"size\":10},\"showarrow\":false,\"text\":\"27\",\"x\":7.580354585795876,\"y\":13.504863537321505},{\"font\":{\"color\":\"black\",\"size\":10},\"showarrow\":false,\"text\":\"2\",\"x\":10.565611536640459,\"y\":4.510529646722721},{\"font\":{\"color\":\"black\",\"size\":10},\"showarrow\":false,\"text\":\"24\",\"x\":10.565611536640459,\"y\":7.508640943588982},{\"font\":{\"color\":\"black\",\"size\":10},\"showarrow\":false,\"text\":\"7\",\"x\":13.550868487485042,\"y\":4.510529646722721},{\"font\":{\"color\":\"black\",\"size\":10},\"showarrow\":false,\"text\":\"19\",\"x\":13.550868487485042,\"y\":7.508640943588982},{\"font\":{\"color\":\"black\",\"size\":10},\"showarrow\":false,\"text\":\"29\",\"x\":10.565611536640459,\"y\":10.506752240455242},{\"font\":{\"color\":\"black\",\"size\":10},\"showarrow\":false,\"text\":\"24\",\"x\":10.565611536640459,\"y\":13.504863537321505},{\"font\":{\"color\":\"black\",\"size\":10},\"showarrow\":false,\"text\":\"16\",\"x\":13.550868487485042,\"y\":10.506752240455242},{\"font\":{\"color\":\"black\",\"size\":10},\"showarrow\":false,\"text\":\"30\",\"x\":13.550868487485042,\"y\":13.504863537321505},{\"font\":{\"color\":\"black\",\"size\":10},\"showarrow\":false,\"text\":\"11\",\"x\":4.595097634951292,\"y\":16.502974834187764},{\"font\":{\"color\":\"black\",\"size\":10},\"showarrow\":false,\"text\":\"9\",\"x\":4.595097634951292,\"y\":19.501086131054024},{\"font\":{\"color\":\"black\",\"size\":10},\"showarrow\":false,\"text\":\"25\",\"x\":7.580354585795876,\"y\":16.502974834187764},{\"font\":{\"color\":\"black\",\"size\":10},\"showarrow\":false,\"text\":\"25\",\"x\":7.580354585795876,\"y\":19.501086131054024},{\"font\":{\"color\":\"black\",\"size\":10},\"showarrow\":false,\"text\":\"9\",\"x\":4.595097634951292,\"y\":22.499197427920286},{\"font\":{\"color\":\"black\",\"size\":10},\"showarrow\":false,\"text\":\"2\",\"x\":4.595097634951292,\"y\":25.497308724786546},{\"font\":{\"color\":\"black\",\"size\":10},\"showarrow\":false,\"text\":\"27\",\"x\":7.580354585795876,\"y\":22.499197427920286},{\"font\":{\"color\":\"black\",\"size\":10},\"showarrow\":false,\"text\":\"12\",\"x\":7.580354585795876,\"y\":25.497308724786546},{\"font\":{\"color\":\"black\",\"size\":10},\"showarrow\":false,\"text\":\"17\",\"x\":10.565611536640459,\"y\":16.502974834187764},{\"font\":{\"color\":\"black\",\"size\":10},\"showarrow\":false,\"text\":\"22\",\"x\":10.565611536640459,\"y\":19.501086131054024},{\"font\":{\"color\":\"black\",\"size\":10},\"showarrow\":false,\"text\":\"19\",\"x\":13.550868487485042,\"y\":16.502974834187764},{\"font\":{\"color\":\"black\",\"size\":10},\"showarrow\":false,\"text\":\"14\",\"x\":13.550868487485042,\"y\":19.501086131054024},{\"font\":{\"color\":\"black\",\"size\":10},\"showarrow\":false,\"text\":\"19\",\"x\":10.565611536640459,\"y\":22.499197427920286},{\"font\":{\"color\":\"black\",\"size\":10},\"showarrow\":false,\"text\":\"4\",\"x\":10.565611536640459,\"y\":25.497308724786546},{\"font\":{\"color\":\"black\",\"size\":10},\"showarrow\":false,\"text\":\"26\",\"x\":13.550868487485042,\"y\":22.499197427920286},{\"font\":{\"color\":\"black\",\"size\":10},\"showarrow\":false,\"text\":\"6\",\"x\":13.550868487485042,\"y\":25.497308724786546},{\"font\":{\"color\":\"black\",\"size\":10},\"showarrow\":false,\"text\":\"9\",\"x\":16.536125438329627,\"y\":4.510529646722721},{\"font\":{\"color\":\"black\",\"size\":10},\"showarrow\":false,\"text\":\"19\",\"x\":16.536125438329627,\"y\":7.508640943588982},{\"font\":{\"color\":\"black\",\"size\":10},\"showarrow\":false,\"text\":\"11\",\"x\":19.521382389174207,\"y\":4.510529646722721},{\"font\":{\"color\":\"black\",\"size\":10},\"showarrow\":false,\"text\":\"20\",\"x\":19.521382389174207,\"y\":7.508640943588982},{\"font\":{\"color\":\"black\",\"size\":10},\"showarrow\":false,\"text\":\"21\",\"x\":16.536125438329627,\"y\":10.506752240455242},{\"font\":{\"color\":\"black\",\"size\":10},\"showarrow\":false,\"text\":\"20\",\"x\":16.536125438329627,\"y\":13.504863537321505},{\"font\":{\"color\":\"black\",\"size\":10},\"showarrow\":false,\"text\":\"19\",\"x\":19.521382389174207,\"y\":10.506752240455242},{\"font\":{\"color\":\"black\",\"size\":10},\"showarrow\":false,\"text\":\"14\",\"x\":19.521382389174207,\"y\":13.504863537321505},{\"font\":{\"color\":\"black\",\"size\":10},\"showarrow\":false,\"text\":\"25\",\"x\":23.999267815441083,\"y\":6.009585295155851},{\"font\":{\"color\":\"black\",\"size\":10},\"showarrow\":false,\"text\":\"8\",\"x\":21.760325102307647,\"y\":9.757224416238678},{\"font\":{\"color\":\"black\",\"size\":10},\"showarrow\":false,\"text\":\"10\",\"x\":21.760325102307647,\"y\":11.256280064671808},{\"font\":{\"color\":\"black\",\"size\":10},\"showarrow\":false,\"text\":\"10\",\"x\":23.25295357772994,\"y\":9.757224416238678},{\"font\":{\"color\":\"black\",\"size\":10},\"showarrow\":false,\"text\":\"7\",\"x\":23.25295357772994,\"y\":11.256280064671808},{\"font\":{\"color\":\"black\",\"size\":10},\"showarrow\":false,\"text\":\"29\",\"x\":22.506639340018793,\"y\":13.504863537321505},{\"font\":{\"color\":\"black\",\"size\":10},\"showarrow\":false,\"text\":\"4\",\"x\":25.491896290863373,\"y\":10.506752240455242},{\"font\":{\"color\":\"black\",\"size\":10},\"showarrow\":false,\"text\":\"4\",\"x\":25.491896290863373,\"y\":13.504863537321505},{\"font\":{\"color\":\"black\",\"size\":10},\"showarrow\":false,\"text\":\"28\",\"x\":16.536125438329627,\"y\":16.502974834187764},{\"font\":{\"color\":\"black\",\"size\":10},\"showarrow\":false,\"text\":\"9\",\"x\":15.78981120061848,\"y\":18.75155830683746},{\"font\":{\"color\":\"black\",\"size\":10},\"showarrow\":false,\"text\":\"5\",\"x\":15.78981120061848,\"y\":20.250613955270587},{\"font\":{\"color\":\"black\",\"size\":10},\"showarrow\":false,\"text\":\"11\",\"x\":17.282439676040774,\"y\":18.75155830683746},{\"font\":{\"color\":\"black\",\"size\":10},\"showarrow\":false,\"text\":\"7\",\"x\":17.282439676040774,\"y\":20.250613955270587},{\"font\":{\"color\":\"black\",\"size\":10},\"showarrow\":false,\"text\":\"17\",\"x\":19.521382389174207,\"y\":16.502974834187764},{\"font\":{\"color\":\"black\",\"size\":10},\"showarrow\":false,\"text\":\"14\",\"x\":19.521382389174207,\"y\":19.501086131054024},{\"font\":{\"color\":\"black\",\"size\":10},\"showarrow\":false,\"text\":\"8\",\"x\":15.78981120061848,\"y\":21.749669603703722},{\"font\":{\"color\":\"black\",\"size\":10},\"showarrow\":false,\"text\":\"11\",\"x\":15.78981120061848,\"y\":23.24872525213685},{\"font\":{\"color\":\"black\",\"size\":10},\"showarrow\":false,\"text\":\"5\",\"x\":17.282439676040774,\"y\":21.749669603703722},{\"font\":{\"color\":\"black\",\"size\":10},\"showarrow\":false,\"text\":\"7\",\"x\":17.282439676040774,\"y\":23.24872525213685},{\"font\":{\"color\":\"black\",\"size\":10},\"showarrow\":false,\"text\":\"8\",\"x\":16.536125438329627,\"y\":25.497308724786546},{\"font\":{\"color\":\"black\",\"size\":10},\"showarrow\":false,\"text\":\"23\",\"x\":19.521382389174207,\"y\":22.499197427920286},{\"font\":{\"color\":\"black\",\"size\":10},\"showarrow\":false,\"text\":\"11\",\"x\":19.521382389174207,\"y\":25.497308724786546},{\"font\":{\"color\":\"black\",\"size\":10},\"showarrow\":false,\"text\":\"25\",\"x\":22.506639340018793,\"y\":16.502974834187764},{\"font\":{\"color\":\"black\",\"size\":10},\"showarrow\":false,\"text\":\"18\",\"x\":22.506639340018793,\"y\":19.501086131054024},{\"font\":{\"color\":\"black\",\"size\":10},\"showarrow\":false,\"text\":\"12\",\"x\":25.491896290863373,\"y\":16.502974834187764},{\"font\":{\"color\":\"black\",\"size\":10},\"showarrow\":false,\"text\":\"11\",\"x\":25.491896290863373,\"y\":19.501086131054024},{\"font\":{\"color\":\"black\",\"size\":10},\"showarrow\":false,\"text\":\"23\",\"x\":22.506639340018793,\"y\":22.499197427920286},{\"font\":{\"color\":\"black\",\"size\":10},\"showarrow\":false,\"text\":\"7\",\"x\":22.506639340018793,\"y\":25.497308724786546},{\"font\":{\"color\":\"black\",\"size\":10},\"showarrow\":false,\"text\":\"4\",\"x\":25.491896290863373,\"y\":22.499197427920286},{\"font\":{\"color\":\"black\",\"size\":10},\"showarrow\":false,\"text\":\"2\",\"x\":25.491896290863373,\"y\":25.497308724786546}],\"xaxis\":{\"title\":{\"text\":\"X-axis\"},\"range\":[5.092640460092057,24.99435346572261]},\"yaxis\":{\"title\":{\"text\":\"Y-axis\"},\"range\":[5.010214862867097,24.99762350864217]},\"title\":{\"text\":\"Adaptive 2D Histogram with Color Coding and Count Annotations\"},\"showlegend\":false,\"hovermode\":\"closest\"},                        {\"responsive\": true}                    ).then(function(){\n",
       "                            \n",
       "var gd = document.getElementById('0b238f03-f022-495c-b7f6-571e62d48a19');\n",
       "var x = new MutationObserver(function (mutations, observer) {{\n",
       "        var display = window.getComputedStyle(gd).display;\n",
       "        if (!display || display === 'none') {{\n",
       "            console.log([gd, 'removed!']);\n",
       "            Plotly.purge(gd);\n",
       "            observer.disconnect();\n",
       "        }}\n",
       "}});\n",
       "\n",
       "// Listen for the removal of the full notebook cells\n",
       "var notebookContainer = gd.closest('#notebook-container');\n",
       "if (notebookContainer) {{\n",
       "    x.observe(notebookContainer, {childList: true});\n",
       "}}\n",
       "\n",
       "// Listen for the clearing of the current output cell\n",
       "var outputEl = gd.closest('.output');\n",
       "if (outputEl) {{\n",
       "    x.observe(outputEl, {childList: true});\n",
       "}}\n",
       "\n",
       "                        })                };                });            </script>        </div>"
      ]
     },
     "metadata": {},
     "output_type": "display_data"
    }
   ],
   "source": [
    "import numpy as np\n",
    "import plotly.graph_objects as go\n",
    "\n",
    "# Define the adaptive histogram function with recursive splitting and merging\n",
    "def adaptive_qthist(x, y, N=5, min_count=20, max_count=30):\n",
    "    num = []\n",
    "    xmin = []\n",
    "    xmax = []\n",
    "    ymin = []\n",
    "    ymax = []\n",
    "\n",
    "    # Define the initial range with padding for clarity in visualization\n",
    "    x_range = [np.nanmin(x), np.nanmax(x)]\n",
    "    y_range = [np.nanmin(y), np.nanmax(y)]\n",
    "    buffer_x = (x_range[1] - x_range[0]) * 0.1\n",
    "    buffer_y = (y_range[1] - y_range[0]) * 0.1\n",
    "    x_range = [x_range[0] - buffer_x, x_range[1] + buffer_x]\n",
    "    y_range = [y_range[0] - buffer_y, y_range[1] + buffer_y]\n",
    "\n",
    "    # Recursive function to split bins based on count thresholds\n",
    "    def divide_and_count(x_range, y_range, level=1):\n",
    "        if level > N:\n",
    "            return\n",
    "        # Create initial 2x2 bin grid for the current range\n",
    "        bins_x = np.linspace(x_range[0], x_range[1], 3)\n",
    "        bins_y = np.linspace(y_range[0], y_range[1], 3)\n",
    "        H, xedges, yedges = np.histogram2d(x, y, bins=[bins_x, bins_y])\n",
    "\n",
    "        for i in range(2):\n",
    "            for j in range(2):\n",
    "                count = H[i, j]\n",
    "                x_min, x_max = xedges[i], xedges[i + 1]\n",
    "                y_min, y_max = yedges[j], yedges[j + 1]\n",
    "\n",
    "                # Apply count thresholds to determine bin handling\n",
    "                if min_count <= count <= max_count:\n",
    "                    # Save bin details for later plotting\n",
    "                    num.append(count)\n",
    "                    xmin.append(x_min)\n",
    "                    xmax.append(x_max)\n",
    "                    ymin.append(y_min)\n",
    "                    ymax.append(y_max)\n",
    "                elif count > max_count:\n",
    "                    # Further split this bin\n",
    "                    divide_and_count([x_min, x_max], [y_min, y_max], level + 1)\n",
    "                else:\n",
    "                    # Include low-count bins without further splitting\n",
    "                    num.append(count)\n",
    "                    xmin.append(x_min)\n",
    "                    xmax.append(x_max)\n",
    "                    ymin.append(y_min)\n",
    "                    ymax.append(y_max)\n",
    "\n",
    "    # Initial recursive call\n",
    "    divide_and_count(x_range, y_range)\n",
    "    return np.array(num), np.array(xmin), np.array(xmax), np.array(ymin), np.array(ymax)\n",
    "\n",
    "# Sample data\n",
    "np.random.seed(42)\n",
    "x = np.random.uniform(5, 25, 1000)\n",
    "np.random.seed(39)\n",
    "y = np.random.uniform(5, 25, 1000)\n",
    "\n",
    "# Generate adaptive bins and counts\n",
    "counts, xmin_edges, xmax_edges, ymin_edges, ymax_edges = adaptive_qthist(x, y, N=5, min_count=20, max_count=30)\n",
    "\n",
    "# Plot with Plotly\n",
    "fig = go.Figure()\n",
    "\n",
    "# Add each bin as a rectangle with counts annotated at the center\n",
    "for xmin, xmax, ymin, ymax, count in zip(xmin_edges, xmax_edges, ymin_edges, ymax_edges, counts):\n",
    "    # Determine color based on count\n",
    "    if count == 0:\n",
    "        color = 'yellow'\n",
    "    elif count < 20:\n",
    "        color = 'blue'\n",
    "    elif count > 30:\n",
    "        color = 'red'\n",
    "    else:\n",
    "        color = 'white'\n",
    "    \n",
    "    # Add rectangle for each bin\n",
    "    fig.add_shape(\n",
    "        type=\"rect\",\n",
    "        x0=xmin, y0=ymin, x1=xmax, y1=ymax,\n",
    "        line=dict(color=\"black\"),\n",
    "        fillcolor=color,\n",
    "        opacity=0.6\n",
    "    )\n",
    "\n",
    "    # Annotate each bin count at the center of the bin\n",
    "    fig.add_annotation(\n",
    "        x=(xmin + xmax) / 2,\n",
    "        y=(ymin + ymax) / 2,\n",
    "        text=str(int(count)),\n",
    "        showarrow=False,\n",
    "        font=dict(color=\"black\", size=10)\n",
    "    )\n",
    "\n",
    "# Set up the layout\n",
    "fig.update_layout(\n",
    "    title=\"Adaptive 2D Histogram with Color Coding and Count Annotations\",\n",
    "    xaxis_title=\"X-axis\",\n",
    "    yaxis_title=\"Y-axis\",\n",
    "    xaxis=dict(range=[x.min(), x.max()]),\n",
    "    yaxis=dict(range=[y.min(), y.max()]),\n",
    "    showlegend=False,\n",
    "    hovermode=\"closest\"\n",
    ")\n",
    "\n",
    "# Show the plot\n",
    "fig.show()\n"
   ]
  },
  {
   "cell_type": "code",
   "execution_count": null,
   "id": "7a310c5e",
   "metadata": {},
   "outputs": [],
   "source": []
  }
 ],
 "metadata": {
  "kernelspec": {
   "display_name": "Python 3 (ipykernel)",
   "language": "python",
   "name": "python3"
  },
  "language_info": {
   "codemirror_mode": {
    "name": "ipython",
    "version": 3
   },
   "file_extension": ".py",
   "mimetype": "text/x-python",
   "name": "python",
   "nbconvert_exporter": "python",
   "pygments_lexer": "ipython3",
   "version": "3.11.4"
  }
 },
 "nbformat": 4,
 "nbformat_minor": 5
}
